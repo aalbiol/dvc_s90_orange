{
 "cells": [
  {
   "cell_type": "code",
   "execution_count": 1,
   "metadata": {
    "execution": {
     "iopub.execute_input": "2024-12-12T09:13:48.833953Z",
     "iopub.status.busy": "2024-12-12T09:13:48.833356Z",
     "iopub.status.idle": "2024-12-12T09:13:50.384027Z",
     "shell.execute_reply": "2024-12-12T09:13:50.383575Z"
    }
   },
   "outputs": [],
   "source": [
    "#autoreload\n",
    "%load_ext autoreload\n",
    "%autoreload 2\n",
    "\n",
    "import torch\n",
    "from torchmetrics import AUROC\n",
    "import matplotlib.pyplot as plt\n",
    "import numpy as np\n",
    "import pandas as pd\n",
    "import json\n",
    "import os\n",
    "\n",
    "import sys\n",
    "sys.path.append(\"../../src_clasificacion_vistas/common\")\n",
    "\n",
    "import pycimg\n",
    "\n",
    "from pathlib import Path\n",
    "import cv2\n",
    "from tqdm import tqdm\n",
    "import numpy as np\n",
    "import gc\n",
    "np.set_printoptions(precision=3, suppress=True)"
   ]
  },
  {
   "cell_type": "code",
   "execution_count": 2,
   "metadata": {},
   "outputs": [],
   "source": [
    "def crearMosaico(imagenes):\n",
    "    \"\"\"\n",
    "    Crea un mosaico a partir de una lista de imágenes.\n",
    "    \"\"\"\n",
    "\n",
    "    #Convertir las imágenes de tensores c x h x w float32 entre 0 y 1 a uint8 entre 0 y 255 h x w x c\n",
    "    for i in range(len(imagenes)):\n",
    "        imagenes[i] = (imagenes[i].permute(1, 2, 0).numpy() * 255).astype(np.uint8)\n",
    "    \n",
    "    # Obtener el tamaño de la imagen\n",
    "    alto, ancho = imagenes[0].shape[:2]\n",
    "    \n",
    "    # Redimensionar todas las imágenes al tamaño de la primera\n",
    "    # imagenes[0] = cv2.cvtColor(imagenes[0], cv2.COLOR_BGR2RGB)\n",
    "    for i in range(1, len(imagenes)):\n",
    "        imagenes[i] = cv2.resize(imagenes[i], (ancho, alto))\n",
    "    #     imagenes[i] = cv2.cvtColor(imagenes[i], cv2.COLOR_BGR2RGB)\n",
    "\n",
    "    # Calcular el número de filas y columnas\n",
    "    num_imagenes = len(imagenes)\n",
    "    num_columnas = int(np.ceil(np.sqrt(num_imagenes)))\n",
    "    num_filas = int(np.ceil(num_imagenes / num_columnas))\n",
    "    #print(f\"num_imagenes: {num_imagenes}, num_columnas: {num_columnas}, num_filas: {num_filas}\")\n",
    "\n",
    "    # Crear una imagen en blanco para el mosaico\n",
    "    mosaico = np.zeros((alto * num_filas, ancho * num_columnas, 3), dtype=np.uint8)\n",
    "\n",
    "    # Colocar las imágenes en el mosaico\n",
    "    for i, img in enumerate(imagenes):\n",
    "        fila = i // num_columnas\n",
    "        columna = i % num_columnas\n",
    "        mosaico[fila * alto:(fila + 1) * alto, columna * ancho:(columna + 1) * ancho] = img\n",
    "\n",
    "    return mosaico"
   ]
  },
  {
   "cell_type": "code",
   "execution_count": 12,
   "metadata": {
    "execution": {
     "iopub.execute_input": "2024-12-12T09:13:50.388456Z",
     "iopub.status.busy": "2024-12-12T09:13:50.388265Z",
     "iopub.status.idle": "2024-12-12T09:13:50.412172Z",
     "shell.execute_reply": "2024-12-12T09:13:50.411655Z"
    }
   },
   "outputs": [],
   "source": [
    "current_file_dir = os.getcwd()\n",
    "train_results_json=\"../out_evaluate_patch_repasoD/train_scores.json\"\n",
    "val_results_json=\"../out_evaluate_patch_repasoD/val_scores.json\"\n",
    "train_results_json=os.path.join(current_file_dir,train_results_json)    \n",
    "val_results_json=os.path.join(current_file_dir,val_results_json)    \n",
    "out_dir=\"/home/aalbiol/Desktop/repasoE\"\n",
    "\n",
    "Path(out_dir).mkdir(parents=True, exist_ok=True)\n",
    "\n",
    "\n",
    "\n",
    "def create_errores(train_data,clases):\n",
    "\n",
    "    matrices_confusion={}\n",
    "    for clase in clases:\n",
    "        matrices_confusion[clase]=np.zeros((2,2))\n",
    "    k=0\n",
    "    for d in tqdm(train_data):\n",
    "        k+=1\n",
    "        filenamejson=d['filename'].replace(\".npz\",\".json\")\n",
    "        scores=d['scores']\n",
    "        ground_truth=d['ground_truth']\n",
    "        kk=os.path.join(\"..\",filenamejson)\n",
    "        npzfilename=kk.replace(\".json\",\".npz\")\n",
    "        imagenes=pycimg.npzread_torch(npzfilename,kk,channel_list=['R','G','B'])\n",
    "        mosaico=crearMosaico(imagenes)\n",
    "# Analizar todas las etiquetas\n",
    "        gts=[]\n",
    "        preds=[]\n",
    "        defectoss=[]\n",
    "        for m, defecto in enumerate(clases):\n",
    "            if defecto in scores:\n",
    "                gt=ground_truth[defecto]\n",
    "                pred=scores[defecto]\n",
    "                gts.append(gt)\n",
    "                preds.append(pred)\n",
    "                defectoss.append(defecto)\n",
    "        #Generar imágenes de los errores\n",
    "        for m, defecto in enumerate(clases):\n",
    "            if not defecto in scores:\n",
    "                continue\n",
    "            gt=ground_truth[defecto]\n",
    "            pred=scores[defecto]\n",
    "\n",
    "            directorio_clase=os.path.join(out_dir,defecto)\n",
    "            directorio=None\n",
    "            if pred<=0.5:\n",
    "                pred_matriz=0\n",
    "            else:\n",
    "                pred_matriz=1\n",
    "            matrices_confusion[defecto][int(gt)][pred_matriz]+=1\n",
    "                \n",
    "            if gt>0.5 and pred <=0.5:\n",
    "                if np.sum(np.array(gts))>1:\n",
    "                    directorio=os.path.join(directorio_clase,\"falsos_negativos_con_otro_defecto\")                        \n",
    "                else:\n",
    "                    directorio=os.path.join(directorio_clase,\"falsos_negativos_sin_otro_defecto\")                    \n",
    "                \n",
    "            elif gt<0.5 and pred >0.5:\n",
    "                if max(gts)>0.5:\n",
    "                    directorio=os.path.join(directorio_clase,\"falsos_positivos_con_otro_defecto\")    \n",
    "                else:\n",
    "                    directorio=os.path.join(directorio_clase,\"falsos_positivos_sin_ningun_defecto\")\n",
    "                    \n",
    "            bn=os.path.basename(filenamejson)\n",
    "            bn=bn.replace(\".json\",\"\")        \n",
    "            #fig, axes=plt.subplots(1,2,gridspec_kw={'width_ratios': [1, 2]})\n",
    "            fig, axes=plt.subplots(1,2,figsize=(20,10))\n",
    "            axes[0].bar(defectoss,gts)\n",
    "            axes[0].bar(defectoss,preds)\n",
    "    \n",
    "            axes[0].tick_params(axis='x',rotation=90)\n",
    "            axes[0].set_ylim([0,1])\n",
    "            axes[0].set_yticks(np.arange(0, 1.1, 0.1))\n",
    "            axes[0].grid()\n",
    "    \n",
    "\n",
    "\n",
    "            axes[1].imshow(mosaico)\n",
    "            axes[1].axis('off')\n",
    "            axes[1].set_title(f'{bn} - {defecto} :{int(1000*pred)}')                    \n",
    "            if directorio is not None:\n",
    "                Path(directorio).mkdir(parents=True, exist_ok=True)\n",
    "                \n",
    "                bn=f'{bn}_{int(1000*pred)}.jpg'\n",
    "                nombre_fichero=os.path.join(directorio,bn)\n",
    "                #print(f\"Guardando {nombre_fichero}\")\n",
    "                fig.savefig(nombre_fichero, bbox_inches='tight', dpi=300)\n",
    "            plt.close('all')\n",
    "            del fig, axes\n",
    "\n",
    "                \n",
    "                \n",
    "    for defecto in clases:\n",
    "        print(f\">>>>>>>>>>>>>>>> Defecto: {defecto}\")\n",
    "        matriz=matrices_confusion[defecto]\n",
    "        print(matriz)\n",
    "        # print(f\"Verdaderos positivos: {matriz[1][1]}\")\n",
    "        # print(f\"Falsos negativos: {matriz[1][0]}\")\n",
    "        # print(f\"Falsos positivos: {matriz[0][1]}\")\n",
    "        # print(f\"Verdaderos negativos: {matriz[0][0]}\")\n",
    "        # print(f\"Total: {np.sum(matriz)}\")\n",
    "        # print(f\"Precisión: {matriz[1][1]/(matriz[1][1]+matriz[0][1])}\")\n",
    "        # print(f\"Recall: {matriz[1][1]/(matriz[1][1]+matriz[1][0])}\")\n",
    "        # print(f\"F1: {2*matriz[1][1]/(2*matriz[1][1]+matriz[0][1]+matriz[1][0])}\")\n",
    "\n",
    "                \n",
    "        \n",
    "                    \n",
    "\n",
    "\n",
    "\n",
    "\n"
   ]
  },
  {
   "cell_type": "code",
   "execution_count": 4,
   "metadata": {},
   "outputs": [
    {
     "name": "stdout",
     "output_type": "stream",
     "text": [
      "1283\n",
      "343\n",
      "1626\n"
     ]
    }
   ],
   "source": [
    "## Leer los archivos\n",
    "\n",
    "with open(train_results_json, \"r\") as f:\n",
    "    train_dict = json.load(f)\n",
    "\n",
    "with open(val_results_json, \"r\") as f:\n",
    "    val_dict = json.load(f)    \n",
    "\n",
    "train_data=train_dict['train_results']\n",
    "val_data = val_dict['val_results']\n",
    "clases=list(train_dict['train_results'][0]['ground_truth'].keys())\n",
    "\n",
    "all_data=train_data+val_data\n",
    "\n",
    "print(len(train_data))\n",
    "print(len(val_data))\n",
    "print(len(all_data))"
   ]
  },
  {
   "cell_type": "code",
   "execution_count": 6,
   "metadata": {
    "execution": {
     "iopub.execute_input": "2024-12-12T09:13:50.429913Z",
     "iopub.status.busy": "2024-12-12T09:13:50.429762Z",
     "iopub.status.idle": "2024-12-12T09:13:50.442593Z",
     "shell.execute_reply": "2024-12-12T09:13:50.442203Z"
    }
   },
   "outputs": [
    {
     "name": "stderr",
     "output_type": "stream",
     "text": [
      "100%|██████████| 500/500 [04:24<00:00,  1.89it/s]"
     ]
    },
    {
     "name": "stdout",
     "output_type": "stream",
     "text": [
      ">>>>>>>>>>>>>>>> Defecto: cracks\n",
      "[[477.   7.]\n",
      " [  3.  13.]]\n",
      ">>>>>>>>>>>>>>>> Defecto: damage_by_pliers\n",
      "[[448.  19.]\n",
      " [ 12.  21.]]\n",
      ">>>>>>>>>>>>>>>> Defecto: deformed_peduncle\n",
      "[[377.  17.]\n",
      " [  4. 102.]]\n",
      ">>>>>>>>>>>>>>>> Defecto: green\n",
      "[[408.  31.]\n",
      " [  1.  60.]]\n",
      ">>>>>>>>>>>>>>>> Defecto: hollow\n",
      "[[459.  11.]\n",
      " [  2.  28.]]\n",
      ">>>>>>>>>>>>>>>> Defecto: insect\n",
      "[[482.  13.]\n",
      " [  0.   5.]]\n",
      ">>>>>>>>>>>>>>>> Defecto: light_scars\n",
      "[[415.  17.]\n",
      " [ 12.  56.]]\n",
      ">>>>>>>>>>>>>>>> Defecto: mechanical_damage\n",
      "[[492.   6.]\n",
      " [  1.   1.]]\n",
      ">>>>>>>>>>>>>>>> Defecto: oil_spots\n",
      "[[451.   8.]\n",
      " [  6.  35.]]\n",
      ">>>>>>>>>>>>>>>> Defecto: plu_stickers\n",
      "[[500.   0.]\n",
      " [  0.   0.]]\n",
      ">>>>>>>>>>>>>>>> Defecto: reddish\n",
      "[[499.   0.]\n",
      " [  1.   0.]]\n",
      ">>>>>>>>>>>>>>>> Defecto: rotten\n",
      "[[430.  14.]\n",
      " [  7.  49.]]\n",
      ">>>>>>>>>>>>>>>> Defecto: scars\n",
      "[[449.  17.]\n",
      " [  3.  31.]]\n",
      ">>>>>>>>>>>>>>>> Defecto: skin_breakdown\n",
      "[[412.  35.]\n",
      " [  9.  44.]]\n",
      ">>>>>>>>>>>>>>>> Defecto: surface\n",
      "[[387.  28.]\n",
      " [  5.  80.]]\n"
     ]
    },
    {
     "name": "stderr",
     "output_type": "stream",
     "text": [
      "\n"
     ]
    }
   ],
   "source": [
    "create_errores(all_data[:500],clases)"
   ]
  },
  {
   "cell_type": "code",
   "execution_count": 7,
   "metadata": {},
   "outputs": [
    {
     "name": "stderr",
     "output_type": "stream",
     "text": [
      "100%|██████████| 300/300 [02:43<00:00,  1.83it/s]"
     ]
    },
    {
     "name": "stdout",
     "output_type": "stream",
     "text": [
      ">>>>>>>>>>>>>>>> Defecto: cracks\n",
      "[[286.   3.]\n",
      " [  2.   9.]]\n",
      ">>>>>>>>>>>>>>>> Defecto: damage_by_pliers\n",
      "[[285.   4.]\n",
      " [  4.   7.]]\n",
      ">>>>>>>>>>>>>>>> Defecto: deformed_peduncle\n",
      "[[298.   1.]\n",
      " [  0.   1.]]\n",
      ">>>>>>>>>>>>>>>> Defecto: green\n",
      "[[221.  45.]\n",
      " [  0.  34.]]\n",
      ">>>>>>>>>>>>>>>> Defecto: hollow\n",
      "[[289.   5.]\n",
      " [  1.   5.]]\n",
      ">>>>>>>>>>>>>>>> Defecto: insect\n",
      "[[287.   8.]\n",
      " [  0.   5.]]\n",
      ">>>>>>>>>>>>>>>> Defecto: light_scars\n",
      "[[266.   9.]\n",
      " [  1.  24.]]\n",
      ">>>>>>>>>>>>>>>> Defecto: mechanical_damage\n",
      "[[297.   2.]\n",
      " [  0.   1.]]\n",
      ">>>>>>>>>>>>>>>> Defecto: oil_spots\n",
      "[[280.  10.]\n",
      " [  5.   5.]]\n",
      ">>>>>>>>>>>>>>>> Defecto: plu_stickers\n",
      "[[299.   1.]\n",
      " [  0.   0.]]\n",
      ">>>>>>>>>>>>>>>> Defecto: reddish\n",
      "[[298.   0.]\n",
      " [  2.   0.]]\n",
      ">>>>>>>>>>>>>>>> Defecto: rotten\n",
      "[[263.   5.]\n",
      " [  2.  30.]]\n",
      ">>>>>>>>>>>>>>>> Defecto: scars\n",
      "[[242.  19.]\n",
      " [  4.  35.]]\n",
      ">>>>>>>>>>>>>>>> Defecto: skin_breakdown\n",
      "[[259.  17.]\n",
      " [  2.  22.]]\n",
      ">>>>>>>>>>>>>>>> Defecto: surface\n",
      "[[184.  21.]\n",
      " [  3.  92.]]\n"
     ]
    },
    {
     "name": "stderr",
     "output_type": "stream",
     "text": [
      "\n"
     ]
    }
   ],
   "source": [
    "create_errores(all_data[500:800],clases)"
   ]
  },
  {
   "cell_type": "code",
   "execution_count": 10,
   "metadata": {},
   "outputs": [
    {
     "name": "stderr",
     "output_type": "stream",
     "text": [
      "100%|██████████| 300/300 [03:01<00:00,  1.66it/s]"
     ]
    },
    {
     "name": "stdout",
     "output_type": "stream",
     "text": [
      ">>>>>>>>>>>>>>>> Defecto: cracks\n",
      "[[282.   4.]\n",
      " [  1.  13.]]\n",
      ">>>>>>>>>>>>>>>> Defecto: damage_by_pliers\n",
      "[[275.  10.]\n",
      " [  3.  12.]]\n",
      ">>>>>>>>>>>>>>>> Defecto: deformed_peduncle\n",
      "[[295.   3.]\n",
      " [  1.   1.]]\n",
      ">>>>>>>>>>>>>>>> Defecto: green\n",
      "[[263.  24.]\n",
      " [  0.  13.]]\n",
      ">>>>>>>>>>>>>>>> Defecto: hollow\n",
      "[[295.   2.]\n",
      " [  1.   2.]]\n",
      ">>>>>>>>>>>>>>>> Defecto: insect\n",
      "[[282.  17.]\n",
      " [  0.   1.]]\n",
      ">>>>>>>>>>>>>>>> Defecto: light_scars\n",
      "[[244.   6.]\n",
      " [ 17.  33.]]\n",
      ">>>>>>>>>>>>>>>> Defecto: mechanical_damage\n",
      "[[275.  14.]\n",
      " [  3.   8.]]\n",
      ">>>>>>>>>>>>>>>> Defecto: oil_spots\n",
      "[[269.   9.]\n",
      " [  7.  15.]]\n",
      ">>>>>>>>>>>>>>>> Defecto: plu_stickers\n",
      "[[248.   5.]\n",
      " [  1.  46.]]\n",
      ">>>>>>>>>>>>>>>> Defecto: reddish\n",
      "[[290.   5.]\n",
      " [  3.   2.]]\n",
      ">>>>>>>>>>>>>>>> Defecto: rotten\n",
      "[[263.  11.]\n",
      " [  2.  24.]]\n",
      ">>>>>>>>>>>>>>>> Defecto: scars\n",
      "[[198.  56.]\n",
      " [  5.  41.]]\n",
      ">>>>>>>>>>>>>>>> Defecto: skin_breakdown\n",
      "[[229.  19.]\n",
      " [  8.  44.]]\n",
      ">>>>>>>>>>>>>>>> Defecto: surface\n",
      "[[211.  15.]\n",
      " [  7.  67.]]\n"
     ]
    },
    {
     "name": "stderr",
     "output_type": "stream",
     "text": [
      "\n"
     ]
    }
   ],
   "source": [
    "gc.collect()\n",
    "create_errores(all_data[800:1100],clases)"
   ]
  },
  {
   "cell_type": "code",
   "execution_count": null,
   "metadata": {},
   "outputs": [
    {
     "name": "stderr",
     "output_type": "stream",
     "text": [
      "100%|██████████| 250/250 [02:30<00:00,  1.66it/s]"
     ]
    },
    {
     "name": "stdout",
     "output_type": "stream",
     "text": [
      ">>>>>>>>>>>>>>>> Defecto: cracks\n",
      "[[240.   4.]\n",
      " [  1.   5.]]\n",
      ">>>>>>>>>>>>>>>> Defecto: damage_by_pliers\n",
      "[[226.  11.]\n",
      " [  3.  10.]]\n",
      ">>>>>>>>>>>>>>>> Defecto: deformed_peduncle\n",
      "[[189.  12.]\n",
      " [  4.  45.]]\n",
      ">>>>>>>>>>>>>>>> Defecto: green\n",
      "[[244.   1.]\n",
      " [  0.   5.]]\n",
      ">>>>>>>>>>>>>>>> Defecto: hollow\n",
      "[[241.   5.]\n",
      " [  0.   4.]]\n",
      ">>>>>>>>>>>>>>>> Defecto: insect\n",
      "[[233.  11.]\n",
      " [  0.   6.]]\n",
      ">>>>>>>>>>>>>>>> Defecto: light_scars\n",
      "[[163.  14.]\n",
      " [ 10.  63.]]\n",
      ">>>>>>>>>>>>>>>> Defecto: mechanical_damage\n",
      "[[196.  14.]\n",
      " [  4.  36.]]\n",
      ">>>>>>>>>>>>>>>> Defecto: oil_spots\n",
      "[[233.   5.]\n",
      " [  3.   9.]]\n",
      ">>>>>>>>>>>>>>>> Defecto: plu_stickers\n",
      "[[216.   1.]\n",
      " [  0.  33.]]\n",
      ">>>>>>>>>>>>>>>> Defecto: reddish\n",
      "[[214.   3.]\n",
      " [  7.  26.]]\n",
      ">>>>>>>>>>>>>>>> Defecto: rotten\n",
      "[[238.   7.]\n",
      " [  0.   5.]]\n",
      ">>>>>>>>>>>>>>>> Defecto: scars\n",
      "[[164.  24.]\n",
      " [  7.  55.]]\n",
      ">>>>>>>>>>>>>>>> Defecto: skin_breakdown\n",
      "[[194.  26.]\n",
      " [  6.  24.]]\n",
      ">>>>>>>>>>>>>>>> Defecto: surface\n",
      "[[198.  24.]\n",
      " [  1.  27.]]\n"
     ]
    },
    {
     "name": "stderr",
     "output_type": "stream",
     "text": [
      "\n"
     ]
    }
   ],
   "source": [
    "gc.collect()\n",
    "create_errores(all_data[1100:1350],clases)"
   ]
  },
  {
   "cell_type": "code",
   "execution_count": 13,
   "metadata": {},
   "outputs": [
    {
     "name": "stderr",
     "output_type": "stream",
     "text": [
      "100%|██████████| 276/276 [02:51<00:00,  1.61it/s]"
     ]
    },
    {
     "name": "stdout",
     "output_type": "stream",
     "text": [
      ">>>>>>>>>>>>>>>> Defecto: cracks\n",
      "[[260.   4.]\n",
      " [  3.   9.]]\n",
      ">>>>>>>>>>>>>>>> Defecto: damage_by_pliers\n",
      "[[252.  10.]\n",
      " [  3.  11.]]\n",
      ">>>>>>>>>>>>>>>> Defecto: deformed_peduncle\n",
      "[[258.  10.]\n",
      " [  3.   5.]]\n",
      ">>>>>>>>>>>>>>>> Defecto: green\n",
      "[[224.  30.]\n",
      " [  6.  16.]]\n",
      ">>>>>>>>>>>>>>>> Defecto: hollow\n",
      "[[261.   3.]\n",
      " [  2.  10.]]\n",
      ">>>>>>>>>>>>>>>> Defecto: insect\n",
      "[[267.   6.]\n",
      " [  0.   3.]]\n",
      ">>>>>>>>>>>>>>>> Defecto: light_scars\n",
      "[[215.  16.]\n",
      " [  9.  36.]]\n",
      ">>>>>>>>>>>>>>>> Defecto: mechanical_damage\n",
      "[[248.  12.]\n",
      " [  5.  11.]]\n",
      ">>>>>>>>>>>>>>>> Defecto: oil_spots\n",
      "[[252.   9.]\n",
      " [  5.  10.]]\n",
      ">>>>>>>>>>>>>>>> Defecto: plu_stickers\n",
      "[[247.   2.]\n",
      " [  0.  27.]]\n",
      ">>>>>>>>>>>>>>>> Defecto: reddish\n",
      "[[264.   2.]\n",
      " [  5.   5.]]\n",
      ">>>>>>>>>>>>>>>> Defecto: rotten\n",
      "[[232.  18.]\n",
      " [  6.  20.]]\n",
      ">>>>>>>>>>>>>>>> Defecto: scars\n",
      "[[204.  36.]\n",
      " [  2.  34.]]\n",
      ">>>>>>>>>>>>>>>> Defecto: skin_breakdown\n",
      "[[221.  29.]\n",
      " [  4.  22.]]\n",
      ">>>>>>>>>>>>>>>> Defecto: surface\n",
      "[[188.  25.]\n",
      " [  2.  61.]]\n"
     ]
    },
    {
     "name": "stderr",
     "output_type": "stream",
     "text": [
      "\n"
     ]
    }
   ],
   "source": [
    "gc.collect()\n",
    "create_errores(all_data[1350:],clases)"
   ]
  },
  {
   "cell_type": "code",
   "execution_count": 9,
   "metadata": {},
   "outputs": [],
   "source": [
    "current_file_dir = os.getcwd()\n",
    "train_results_json=\"../out_evaluate_patch_repasoD/train_scores.json\"\n",
    "val_results_json=\"../out_evaluate_patch_repasoD/val_scores.json\"\n",
    "train_results_json=os.path.join(current_file_dir,train_results_json)    \n",
    "val_results_json=os.path.join(current_file_dir,val_results_json)    \n",
    "out_dir=\"/home/aalbiol/Desktop/repasoE-val\"\n",
    "\n",
    "Path(out_dir).mkdir(parents=True, exist_ok=True)"
   ]
  },
  {
   "cell_type": "code",
   "execution_count": 10,
   "metadata": {},
   "outputs": [
    {
     "name": "stderr",
     "output_type": "stream",
     "text": [
      "100%|██████████| 343/343 [00:03<00:00, 112.27it/s]"
     ]
    },
    {
     "name": "stdout",
     "output_type": "stream",
     "text": [
      ">>>>>>>>>>>>>>>> Defecto: cracks\n",
      "[[315.  15.   1.]\n",
      " [  2.   2.   8.]]\n",
      ">>>>>>>>>>>>>>>> Defecto: damage_by_pliers\n",
      "[[296.  28.   3.]\n",
      " [  2.   9.   5.]]\n",
      ">>>>>>>>>>>>>>>> Defecto: deformed_peduncle\n",
      "[[283.  23.   2.]\n",
      " [  2.   4.  29.]]\n",
      ">>>>>>>>>>>>>>>> Defecto: green\n",
      "[[266.  39.  11.]\n",
      " [  3.   3.  21.]]\n",
      ">>>>>>>>>>>>>>>> Defecto: hollow\n",
      "[[301.  26.   0.]\n",
      " [  0.   4.  12.]]\n",
      ">>>>>>>>>>>>>>>> Defecto: insect\n",
      "[[323.  14.   3.]\n",
      " [  0.   2.   1.]]\n",
      ">>>>>>>>>>>>>>>> Defecto: light_scars\n",
      "[[257.  30.   6.]\n",
      " [  5.  19.  26.]]\n",
      ">>>>>>>>>>>>>>>> Defecto: mechanical_damage\n",
      "[[298.  25.   4.]\n",
      " [  1.   5.  10.]]\n",
      ">>>>>>>>>>>>>>>> Defecto: oil_spots\n",
      "[[294.  25.   3.]\n",
      " [  3.   7.  11.]]\n",
      ">>>>>>>>>>>>>>>> Defecto: plu_stickers\n",
      "[[309.   7.   0.]\n",
      " [  0.   0.  27.]]\n",
      ">>>>>>>>>>>>>>>> Defecto: reddish\n",
      "[[324.   8.   1.]\n",
      " [  4.   3.   3.]]\n",
      ">>>>>>>>>>>>>>>> Defecto: rotten\n",
      "[[285.  22.   6.]\n",
      " [  3.   8.  19.]]\n",
      ">>>>>>>>>>>>>>>> Defecto: scars\n",
      "[[239.  43.  19.]\n",
      " [  1.  12.  29.]]\n",
      ">>>>>>>>>>>>>>>> Defecto: skin_breakdown\n",
      "[[256.  44.  14.]\n",
      " [  2.  10.  17.]]\n",
      ">>>>>>>>>>>>>>>> Defecto: surface\n",
      "[[208.  52.   8.]\n",
      " [  1.  11.  63.]]\n"
     ]
    },
    {
     "name": "stderr",
     "output_type": "stream",
     "text": [
      "\n"
     ]
    }
   ],
   "source": [
    "create_errores(val_data,clases)"
   ]
  },
  {
   "cell_type": "code",
   "execution_count": null,
   "metadata": {},
   "outputs": [],
   "source": []
  }
 ],
 "metadata": {
  "kernelspec": {
   "display_name": "mscandvc",
   "language": "python",
   "name": "python3"
  },
  "language_info": {
   "codemirror_mode": {
    "name": "ipython",
    "version": 3
   },
   "file_extension": ".py",
   "mimetype": "text/x-python",
   "name": "python",
   "nbconvert_exporter": "python",
   "pygments_lexer": "ipython3",
   "version": "3.12.0"
  }
 },
 "nbformat": 4,
 "nbformat_minor": 2
}

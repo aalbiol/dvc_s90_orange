{
 "cells": [
  {
   "cell_type": "code",
   "execution_count": 1,
   "metadata": {},
   "outputs": [],
   "source": [
    "import sys\n",
    "import os\n",
    "import shutil\n",
    "\n",
    "from glob import glob\n",
    "from tqdm import tqdm"
   ]
  },
  {
   "cell_type": "code",
   "execution_count": 2,
   "metadata": {},
   "outputs": [],
   "source": [
    "srcdir=\"/home/aalbiol/Downloads/jsons\"\n",
    "targetdir=\"../data/\""
   ]
  },
  {
   "cell_type": "code",
   "execution_count": 3,
   "metadata": {},
   "outputs": [
    {
     "name": "stdout",
     "output_type": "stream",
     "text": [
      "163\n"
     ]
    }
   ],
   "source": [
    "sourcejsons=glob(srcdir+\"/*.json\")\n",
    "print(len(sourcejsons))"
   ]
  },
  {
   "cell_type": "code",
   "execution_count": 4,
   "metadata": {},
   "outputs": [
    {
     "name": "stdout",
     "output_type": "stream",
     "text": [
      "1328\n"
     ]
    }
   ],
   "source": [
    "# recursive search of jsons\n",
    "targetjsons=glob(targetdir+\"**/*.json\", recursive=True)\n",
    "print(len(targetjsons))"
   ]
  },
  {
   "cell_type": "code",
   "execution_count": 5,
   "metadata": {},
   "outputs": [
    {
     "name": "stderr",
     "output_type": "stream",
     "text": [
      "100%|██████████| 163/163 [00:00<00:00, 10835.76it/s]"
     ]
    },
    {
     "name": "stdout",
     "output_type": "stream",
     "text": [
      "Copying /home/aalbiol/Downloads/jsons/20250218_1157_000592.json in ../data/mandarins/tango/KDC/20220805_172517_tango_PROD/20250218_1157_000592.json\n",
      "Copying /home/aalbiol/Downloads/jsons/20250220_1240_000143.json in ../data/mandarins/nardocot/manfredi/20250220_1240_000143.json\n",
      "Copying /home/aalbiol/Downloads/jsons/20250218_1203_002527.json in ../data/mandarins/tango/KDC/20220805_180026_tangoPROD/20250218_1203_002527.json\n",
      "Copying /home/aalbiol/Downloads/jsons/20250220_1416_002290.json in ../data/mandarins/nardocot/manfredi/20250220_1416_002290.json\n",
      "Copying /home/aalbiol/Downloads/jsons/20250220_1317_000176.json in ../data/mandarins/nardocot/manfredi/20250220_1317_000176.json\n",
      "Copying /home/aalbiol/Downloads/jsons/20250224_0859_000076.json in ../data/mandarins/nardocot/manfredi/20250224_0859_000076.json\n",
      "Copying /home/aalbiol/Downloads/jsons/20250220_1325_002277.json in ../data/mandarins/nardocot/manfredi/20250220_1325_002277.json\n",
      "Copying /home/aalbiol/Downloads/jsons/20250220_1320_002222.json in ../data/mandarins/nardocot/manfredi/20250220_1320_002222.json\n",
      "Copying /home/aalbiol/Downloads/jsons/20250218_1203_002521.json in ../data/mandarins/tango/KDC/20220805_180026_tangoPROD/20250218_1203_002521.json\n",
      "Copying /home/aalbiol/Downloads/jsons/20250220_1317_002209.json in ../data/mandarins/nardocot/manfredi/20250220_1317_002209.json\n",
      "Copying /home/aalbiol/Downloads/jsons/20250218_1145_002363.json in ../data/mandarins/clementine/KDC/20220808_154209_Img_20220808_154156produccionClementina/20250218_1145_002363.json\n",
      "Copying /home/aalbiol/Downloads/jsons/20250220_1416_002292.json in ../data/mandarins/nardocot/manfredi/20250220_1416_002292.json\n",
      "Copying /home/aalbiol/Downloads/jsons/20250220_1245_002178.json in ../data/mandarins/nardocot/manfredi/20250220_1245_002178.json\n",
      "Copying /home/aalbiol/Downloads/jsons/20250224_1317_000267.json in ../data/oranges/navel/manfredi/20250224_1317_000267.json\n",
      "Copying /home/aalbiol/Downloads/jsons/20250224_1317_000266.json in ../data/oranges/navel/manfredi/20250224_1317_000266.json\n",
      "Copying /home/aalbiol/Downloads/jsons/20250220_1421_002323.json in ../data/mandarins/nardocot/manfredi/20250220_1421_002323.json\n",
      "Copying /home/aalbiol/Downloads/jsons/20250220_1420_000314.json in ../data/mandarins/nardocot/manfredi/20250220_1420_000314.json\n",
      "Copying /home/aalbiol/Downloads/jsons/20250218_1100_000433.json in ../data/oranges/navel/KDC/20220810_022231_Encoder_decay/20250218_1100_000433.json\n",
      "Copying /home/aalbiol/Downloads/jsons/20250218_1106_002308.json in ../data/mandarins/tango/KDC/20220805_231606_TANGO_ENCODER_surface/20250218_1106_002308.json\n",
      "Copying /home/aalbiol/Downloads/jsons/20250224_1414_000283.json in ../data/oranges/navel/manfredi/20250224_1414_000283.json\n",
      "Copying /home/aalbiol/Downloads/jsons/20250218_1000_000338.json in ../data/mandarins/tango/KDC/20220806_185859_tango_ENCODER_ROTAS/20250218_1000_000338.json\n",
      "Copying /home/aalbiol/Downloads/jsons/20250224_0906_002157.json in ../data/oranges/navel/manfredi/20250224_0906_002157.json\n",
      "Copying /home/aalbiol/Downloads/jsons/20250224_0906_002153.json in ../data/oranges/navel/manfredi/20250224_0906_002153.json\n",
      "Copying /home/aalbiol/Downloads/jsons/20250224_0906_000124.json in ../data/oranges/navel/manfredi/20250224_0906_000124.json\n",
      "Copying /home/aalbiol/Downloads/jsons/20250217_1712_002042.json in ../data/mandarins/clementine/KDC/20220803_231126_CLEMENTINE_Encoder_Scar/20250217_1712_002042.json\n",
      "Copying /home/aalbiol/Downloads/jsons/20250218_1153_000573.json in ../data/mandarins/clementine/KDC/20220808_154231_Img_20220808_154156produccionClementina/20250218_1153_000573.json\n",
      "Copying /home/aalbiol/Downloads/jsons/20250218_1005_002238.json in ../data/oranges/navel/KDC/20220829_214322_prod_naranja_plu/20250218_1005_002238.json\n",
      "Copying /home/aalbiol/Downloads/jsons/20250218_1121_000510.json in ../data/mandarins/clementine/KDC/20220803_231323_CLEMENTINE_Encoder_Skin/20250218_1121_000510.json\n",
      "Copying /home/aalbiol/Downloads/jsons/20250220_1421_002319.json in ../data/mandarins/nardocot/manfredi/20250220_1421_002319.json\n",
      "Copying /home/aalbiol/Downloads/jsons/20250218_0954_000298.json in ../data/mandarins/tango/KDC/20220804_230522_TANGO_encoder_SkinDamage/20250218_0954_000298.json\n",
      "Copying /home/aalbiol/Downloads/jsons/20250217_1651_002016.json in ../data/mandarins/clementine/KDC/20220803_230825_CLEMENTINE_Encoder_Geens/20250217_1651_002016.json\n",
      "Copying /home/aalbiol/Downloads/jsons/20250224_1317_000265.json in ../data/oranges/navel/manfredi/20250224_1317_000265.json\n",
      "Copying /home/aalbiol/Downloads/jsons/20250220_1244_000149.json in ../data/mandarins/nardocot/manfredi/20250220_1244_000149.json\n",
      "Copying /home/aalbiol/Downloads/jsons/20250220_1320_000190.json in ../data/mandarins/nardocot/manfredi/20250220_1320_000190.json\n",
      "Copying /home/aalbiol/Downloads/jsons/20250217_1641_000008.json in ../data/mandarins/clementine/KDC/20220803_230703_CLEMENTINE_Encoder_rot/20250217_1641_000008.json\n",
      "Copying /home/aalbiol/Downloads/jsons/20250217_1713_002047.json in ../data/mandarins/clementine/KDC/20220803_231126_CLEMENTINE_Encoder_Scar/20250217_1713_002047.json\n",
      "Copying /home/aalbiol/Downloads/jsons/20250218_1120_000495.json in ../data/mandarins/clementine/KDC/20220803_231323_CLEMENTINE_Encoder_Skin/20250218_1120_000495.json\n",
      "Copying /home/aalbiol/Downloads/jsons/20250224_0857_002052.json in ../data/mandarins/nardocot/manfredi/20250224_0857_002052.json\n",
      "Copying /home/aalbiol/Downloads/jsons/20250220_1421_002321.json in ../data/mandarins/nardocot/manfredi/20250220_1421_002321.json\n",
      "Copying /home/aalbiol/Downloads/jsons/20250217_1716_002075.json in ../data/mandarins/clementine/KDC/20220803_231441_CLEMENTINE_Encoder_Good/20250217_1716_002075.json\n",
      "Copying /home/aalbiol/Downloads/jsons/20250218_1203_002528.json in ../data/mandarins/tango/KDC/20220805_180026_tangoPROD/20250218_1203_002528.json\n",
      "Copying /home/aalbiol/Downloads/jsons/20250218_1156_000580.json in ../data/mandarins/tango/KDC/20220805_172517_tango_PROD/20250218_1156_000580.json\n",
      "Copying /home/aalbiol/Downloads/jsons/20250218_1154_000578.json in ../data/mandarins/clementine/KDC/20220808_154231_Img_20220808_154156produccionClementina/20250218_1154_000578.json\n",
      "Copying /home/aalbiol/Downloads/jsons/20250218_1149_000554.json in ../data/mandarins/clementine/KDC/20220808_154219_Img_20220808_154156produccionClementina/20250218_1149_000554.json\n",
      "Copying /home/aalbiol/Downloads/jsons/20250220_1321_000197.json in ../data/mandarins/nardocot/manfredi/20250220_1321_000197.json\n",
      "Copying /home/aalbiol/Downloads/jsons/20250224_1413_000281.json in ../data/oranges/navel/manfredi/20250224_1413_000281.json\n",
      "Copying /home/aalbiol/Downloads/jsons/20250220_1421_000322.json in ../data/mandarins/nardocot/manfredi/20250220_1421_000322.json\n",
      "Copying /home/aalbiol/Downloads/jsons/20250218_1203_002520.json in ../data/mandarins/tango/KDC/20220805_180026_tangoPROD/20250218_1203_002520.json\n",
      "Copying /home/aalbiol/Downloads/jsons/20250217_1641_002010.json in ../data/mandarins/clementine/KDC/20220803_230703_CLEMENTINE_Encoder_rot/20250217_1641_002010.json\n",
      "Copying /home/aalbiol/Downloads/jsons/20250220_1321_000216.json in ../data/mandarins/nardocot/manfredi/20250220_1321_000216.json\n",
      "Copying /home/aalbiol/Downloads/jsons/20250218_0911_000281.json in ../data/mandarins/tango/KDC/20220805_225459_tango_ENCODER_scars/20250218_0911_000281.json\n",
      "Copying /home/aalbiol/Downloads/jsons/20250224_0900_002107.json in ../data/mandarins/nardocot/manfredi/20250224_0900_002107.json\n",
      "Copying /home/aalbiol/Downloads/jsons/20250218_1202_002510.json in ../data/mandarins/tango/KDC/20220805_180026_tangoPROD/20250218_1202_002510.json\n",
      "Copying /home/aalbiol/Downloads/jsons/20250217_1652_000014.json in ../data/mandarins/clementine/KDC/20220803_230825_CLEMENTINE_Encoder_Geens/20250217_1652_000014.json\n",
      "Copying /home/aalbiol/Downloads/jsons/20250218_0959_002214.json in ../data/mandarins/tango/KDC/20220806_185859_tango_ENCODER_ROTAS/20250218_0959_002214.json\n",
      "Copying /home/aalbiol/Downloads/jsons/20250217_1713_000057.json in ../data/mandarins/clementine/KDC/20220803_231126_CLEMENTINE_Encoder_Scar/20250217_1713_000057.json\n",
      "Copying /home/aalbiol/Downloads/jsons/20250218_1202_000687.json in ../data/mandarins/tango/KDC/20220805_180026_tangoPROD/20250218_1202_000687.json\n",
      "Copying /home/aalbiol/Downloads/jsons/20250218_0954_002187.json in ../data/mandarins/tango/KDC/20220804_230522_TANGO_encoder_SkinDamage/20250218_0954_002187.json\n",
      "Copying /home/aalbiol/Downloads/jsons/20250220_1248_002203.json in ../data/mandarins/nardocot/manfredi/20250220_1248_002203.json\n",
      "Copying /home/aalbiol/Downloads/jsons/20250220_1417_000296.json in ../data/mandarins/nardocot/manfredi/20250220_1417_000296.json\n",
      "Copying /home/aalbiol/Downloads/jsons/20250224_0916_002174.json in ../data/oranges/navel/manfredi/20250224_0916_002174.json\n",
      "Copying /home/aalbiol/Downloads/jsons/20250224_0858_002077.json in ../data/mandarins/nardocot/manfredi/20250224_0858_002077.json\n",
      "Copying /home/aalbiol/Downloads/jsons/20250217_1641_000007.json in ../data/mandarins/clementine/KDC/20220803_230703_CLEMENTINE_Encoder_rot/20250217_1641_000007.json\n",
      "Copying /home/aalbiol/Downloads/jsons/20250220_1325_002272.json in ../data/mandarins/nardocot/manfredi/20250220_1325_002272.json\n",
      "Copying /home/aalbiol/Downloads/jsons/20250220_1325_000244.json in ../data/mandarins/nardocot/manfredi/20250220_1325_000244.json\n",
      "Copying /home/aalbiol/Downloads/jsons/20250224_0948_000242.json in ../data/oranges/navel/manfredi/20250224_0948_000242.json\n",
      "Copying /home/aalbiol/Downloads/jsons/20250218_1144_000522.json in ../data/mandarins/clementine/KDC/20220808_154209_Img_20220808_154156produccionClementina/20250218_1144_000522.json\n",
      "Copying /home/aalbiol/Downloads/jsons/20250220_1239_002144.json in ../data/mandarins/nardocot/manfredi/20250220_1239_002144.json\n",
      "Copying /home/aalbiol/Downloads/jsons/20250220_1112_002036.json in ../data/mandarins/nardocot/manfredi/20250220_1112_002036.json\n",
      "Copying /home/aalbiol/Downloads/jsons/20250220_1417_002307.json in ../data/mandarins/nardocot/manfredi/20250220_1417_002307.json\n",
      "Copying /home/aalbiol/Downloads/jsons/20250224_0910_000137.json in ../data/oranges/navel/manfredi/20250224_0910_000137.json\n",
      "Copying /home/aalbiol/Downloads/jsons/20250220_1321_000191.json in ../data/mandarins/nardocot/manfredi/20250220_1321_000191.json\n",
      "Copying /home/aalbiol/Downloads/jsons/20250218_1148_002376.json in ../data/mandarins/clementine/KDC/20220808_154219_Img_20220808_154156produccionClementina/20250218_1148_002376.json\n",
      "Copying /home/aalbiol/Downloads/jsons/20250220_1239_000137.json in ../data/mandarins/nardocot/manfredi/20250220_1239_000137.json\n",
      "Copying /home/aalbiol/Downloads/jsons/20250218_1202_000686.json in ../data/mandarins/tango/KDC/20220805_180026_tangoPROD/20250218_1202_000686.json\n",
      "Copying /home/aalbiol/Downloads/jsons/20250224_0859_002093.json in ../data/mandarins/nardocot/manfredi/20250224_0859_002093.json\n",
      "Copying /home/aalbiol/Downloads/jsons/20250218_0959_000333.json in ../data/mandarins/tango/KDC/20220806_185859_tango_ENCODER_ROTAS/20250218_0959_000333.json\n",
      "Copying /home/aalbiol/Downloads/jsons/20250217_1713_002054.json in ../data/mandarins/clementine/KDC/20220803_231126_CLEMENTINE_Encoder_Scar/20250217_1713_002054.json\n",
      "Copying /home/aalbiol/Downloads/jsons/20250218_1202_002509.json in ../data/mandarins/tango/KDC/20220805_180026_tangoPROD/20250218_1202_002509.json\n",
      "Copying /home/aalbiol/Downloads/jsons/20250220_1320_002224.json in ../data/mandarins/nardocot/manfredi/20250220_1320_002224.json\n",
      "Copying /home/aalbiol/Downloads/jsons/20250224_0910_002171.json in ../data/oranges/navel/manfredi/20250224_0910_002171.json\n",
      "Copying /home/aalbiol/Downloads/jsons/20250220_1325_002267.json in ../data/mandarins/nardocot/manfredi/20250220_1325_002267.json\n",
      "Copying /home/aalbiol/Downloads/jsons/20250220_1245_000152.json in ../data/mandarins/nardocot/manfredi/20250220_1245_000152.json\n",
      "Copying /home/aalbiol/Downloads/jsons/20250217_1640_002002.json in ../data/mandarins/clementine/KDC/20220803_230703_CLEMENTINE_Encoder_rot/20250217_1640_002002.json\n",
      "Copying /home/aalbiol/Downloads/jsons/20250224_0949_000258.json in ../data/oranges/navel/manfredi/20250224_0949_000258.json\n",
      "Copying /home/aalbiol/Downloads/jsons/20250220_1321_000203.json in ../data/mandarins/nardocot/manfredi/20250220_1321_000203.json\n",
      "Copying /home/aalbiol/Downloads/jsons/20250220_1317_000181.json in ../data/mandarins/nardocot/manfredi/20250220_1317_000181.json\n",
      "Copying /home/aalbiol/Downloads/jsons/20250218_1121_002352.json in ../data/mandarins/clementine/KDC/20220803_231323_CLEMENTINE_Encoder_Skin/20250218_1121_002352.json\n",
      "Copying /home/aalbiol/Downloads/jsons/20250220_1325_000265.json in ../data/mandarins/nardocot/manfredi/20250220_1325_000265.json\n",
      "Copying /home/aalbiol/Downloads/jsons/20250218_1113_000465.json in ../data/mandarins/clementine/KDC/20220804_221439_CLEMENTINE_ENCODER_Hollow/20250218_1113_000465.json\n",
      "Copying /home/aalbiol/Downloads/jsons/20250217_1652_002018.json in ../data/mandarins/clementine/KDC/20220803_230825_CLEMENTINE_Encoder_Geens/20250217_1652_002018.json\n",
      "Copying /home/aalbiol/Downloads/jsons/20250220_1241_002162.json in ../data/mandarins/nardocot/manfredi/20250220_1241_002162.json\n",
      "Copying /home/aalbiol/Downloads/jsons/20250218_1113_000464.json in ../data/mandarins/clementine/KDC/20220804_221439_CLEMENTINE_ENCODER_Hollow/20250218_1113_000464.json\n",
      "Copying /home/aalbiol/Downloads/jsons/20250220_1245_002190.json in ../data/mandarins/nardocot/manfredi/20250220_1245_002190.json\n",
      "Copying /home/aalbiol/Downloads/jsons/20250218_1212_002557.json in ../data/oranges/navel/KDC/20220829_214906_prod_naranja_plu/20250218_1212_002557.json\n",
      "Copying /home/aalbiol/Downloads/jsons/20250220_1112_002040.json in ../data/mandarins/nardocot/manfredi/20250220_1112_002040.json\n",
      "Copying /home/aalbiol/Downloads/jsons/20250217_1713_000053.json in ../data/mandarins/clementine/KDC/20220803_231126_CLEMENTINE_Encoder_Scar/20250217_1713_000053.json\n",
      "Copying /home/aalbiol/Downloads/jsons/20250224_0948_002211.json in ../data/oranges/navel/manfredi/20250224_0948_002211.json\n",
      "Copying /home/aalbiol/Downloads/jsons/20250224_0853_000027.json in ../data/mandarins/nardocot/manfredi/20250224_0853_000027.json\n",
      "Copying /home/aalbiol/Downloads/jsons/20250220_1200_002060.json in ../data/mandarins/nardocot/manfredi/20250220_1200_002060.json\n",
      "Copying /home/aalbiol/Downloads/jsons/20250218_1106_000444.json in ../data/mandarins/tango/KDC/20220805_231606_TANGO_ENCODER_surface/20250218_1106_000444.json\n",
      "Copying /home/aalbiol/Downloads/jsons/20250220_1321_002231.json in ../data/mandarins/nardocot/manfredi/20250220_1321_002231.json\n",
      "Copying /home/aalbiol/Downloads/jsons/20250218_1202_002508.json in ../data/mandarins/tango/KDC/20220805_180026_tangoPROD/20250218_1202_002508.json\n",
      "Copying /home/aalbiol/Downloads/jsons/20250220_1239_000124.json in ../data/mandarins/nardocot/manfredi/20250220_1239_000124.json\n",
      "Copying /home/aalbiol/Downloads/jsons/20250220_1317_000174.json in ../data/mandarins/nardocot/manfredi/20250220_1317_000174.json\n",
      "Copying /home/aalbiol/Downloads/jsons/20250224_1413_002230.json in ../data/oranges/navel/manfredi/20250224_1413_002230.json\n",
      "Copying /home/aalbiol/Downloads/jsons/20250220_1417_000305.json in ../data/mandarins/nardocot/manfredi/20250220_1417_000305.json\n",
      "Copying /home/aalbiol/Downloads/jsons/20250217_1651_002014.json in ../data/mandarins/clementine/KDC/20220803_230825_CLEMENTINE_Encoder_Geens/20250217_1651_002014.json\n",
      "Copying /home/aalbiol/Downloads/jsons/20250220_1416_002295.json in ../data/mandarins/nardocot/manfredi/20250220_1416_002295.json\n",
      "Copying /home/aalbiol/Downloads/jsons/20250217_1712_000052.json in ../data/mandarins/clementine/KDC/20220803_231126_CLEMENTINE_Encoder_Scar/20250217_1712_000052.json\n",
      "Copying /home/aalbiol/Downloads/jsons/20250220_1239_000121.json in ../data/mandarins/nardocot/manfredi/20250220_1239_000121.json\n",
      "Copying /home/aalbiol/Downloads/jsons/20250220_1321_002246.json in ../data/mandarins/nardocot/manfredi/20250220_1321_002246.json\n",
      "Copying /home/aalbiol/Downloads/jsons/20250218_1212_002561.json in ../data/oranges/navel/KDC/20220829_214906_prod_naranja_plu/20250218_1212_002561.json\n",
      "Copying /home/aalbiol/Downloads/jsons/20250224_0948_000243.json in ../data/oranges/navel/manfredi/20250224_0948_000243.json\n",
      "Copying /home/aalbiol/Downloads/jsons/20250217_1713_000059.json in ../data/mandarins/clementine/KDC/20220803_231126_CLEMENTINE_Encoder_Scar/20250217_1713_000059.json\n",
      "Copying /home/aalbiol/Downloads/jsons/20250220_1245_002194.json in ../data/mandarins/nardocot/manfredi/20250220_1245_002194.json\n",
      "Copying /home/aalbiol/Downloads/jsons/20250224_0916_000140.json in ../data/oranges/navel/manfredi/20250224_0916_000140.json\n",
      "Copying /home/aalbiol/Downloads/jsons/20250220_1421_002317.json in ../data/mandarins/nardocot/manfredi/20250220_1421_002317.json\n",
      "Copying /home/aalbiol/Downloads/jsons/20250218_1120_000499.json in ../data/mandarins/clementine/KDC/20220803_231323_CLEMENTINE_Encoder_Skin/20250218_1120_000499.json\n",
      "Copying /home/aalbiol/Downloads/jsons/20250224_1413_000286.json in ../data/oranges/navel/manfredi/20250224_1413_000286.json\n",
      "Copying /home/aalbiol/Downloads/jsons/20250220_1113_000035.json in ../data/mandarins/nardocot/manfredi/20250220_1113_000035.json\n",
      "Copying /home/aalbiol/Downloads/jsons/20250220_1420_000315.json in ../data/mandarins/nardocot/manfredi/20250220_1420_000315.json\n",
      "Copying /home/aalbiol/Downloads/jsons/20250217_1712_002040.json in ../data/mandarins/clementine/KDC/20220803_231126_CLEMENTINE_Encoder_Scar/20250217_1712_002040.json\n",
      "Copying /home/aalbiol/Downloads/jsons/20250218_1213_002567.json in ../data/oranges/navel/KDC/20220829_214906_prod_naranja_plu/20250218_1213_002567.json\n",
      "Copying /home/aalbiol/Downloads/jsons/20250224_0859_000079.json in ../data/mandarins/nardocot/manfredi/20250224_0859_000079.json\n",
      "Copying /home/aalbiol/Downloads/jsons/20250217_1716_000074.json in ../data/mandarins/clementine/KDC/20220803_231441_CLEMENTINE_Encoder_Good/20250217_1716_000074.json\n",
      "Copying /home/aalbiol/Downloads/jsons/20250224_0948_002210.json in ../data/oranges/navel/manfredi/20250224_0948_002210.json\n",
      "Copying /home/aalbiol/Downloads/jsons/20250220_1239_000131.json in ../data/mandarins/nardocot/manfredi/20250220_1239_000131.json\n",
      "Copying /home/aalbiol/Downloads/jsons/20250220_1239_000120.json in ../data/mandarins/nardocot/manfredi/20250220_1239_000120.json\n",
      "Copying /home/aalbiol/Downloads/jsons/20250224_0853_000033.json in ../data/mandarins/nardocot/manfredi/20250224_0853_000033.json\n",
      "Copying /home/aalbiol/Downloads/jsons/20250220_1421_002340.json in ../data/mandarins/nardocot/manfredi/20250220_1421_002340.json\n",
      "Copying /home/aalbiol/Downloads/jsons/20250224_1408_002226.json in ../data/oranges/navel/manfredi/20250224_1408_002226.json\n",
      "Copying /home/aalbiol/Downloads/jsons/20250220_1112_000030.json in ../data/mandarins/nardocot/manfredi/20250220_1112_000030.json\n",
      "Copying /home/aalbiol/Downloads/jsons/20250220_1113_002043.json in ../data/mandarins/nardocot/manfredi/20250220_1113_002043.json\n",
      "Copying /home/aalbiol/Downloads/jsons/20250224_0900_000086.json in ../data/mandarins/nardocot/manfredi/20250224_0900_000086.json\n",
      "Copying /home/aalbiol/Downloads/jsons/20250220_1416_000291.json in ../data/mandarins/nardocot/manfredi/20250220_1416_000291.json\n",
      "Copying /home/aalbiol/Downloads/jsons/20250224_0857_002061.json in ../data/mandarins/nardocot/manfredi/20250224_0857_002061.json\n",
      "Copying /home/aalbiol/Downloads/jsons/20250218_1145_002370.json in ../data/mandarins/clementine/KDC/20220808_154209_Img_20220808_154156produccionClementina/20250218_1145_002370.json\n",
      "Copying /home/aalbiol/Downloads/jsons/20250220_1320_000189.json in ../data/mandarins/nardocot/manfredi/20250220_1320_000189.json\n",
      "Copying /home/aalbiol/Downloads/jsons/20250220_1321_002229.json in ../data/mandarins/nardocot/manfredi/20250220_1321_002229.json\n",
      "Copying /home/aalbiol/Downloads/jsons/20250218_1113_000466.json in ../data/mandarins/clementine/KDC/20220804_221439_CLEMENTINE_ENCODER_Hollow/20250218_1113_000466.json\n",
      "Copying /home/aalbiol/Downloads/jsons/20250217_1713_002044.json in ../data/mandarins/clementine/KDC/20220803_231126_CLEMENTINE_Encoder_Scar/20250217_1713_002044.json\n",
      "Copying /home/aalbiol/Downloads/jsons/20250220_1317_002210.json in ../data/mandarins/nardocot/manfredi/20250220_1317_002210.json\n",
      "Copying /home/aalbiol/Downloads/jsons/20250218_1120_000496.json in ../data/mandarins/clementine/KDC/20220803_231323_CLEMENTINE_Encoder_Skin/20250218_1120_000496.json\n",
      "Copying /home/aalbiol/Downloads/jsons/20250218_1052_000420.json in ../data/oranges/navel/KDC/20220810_021928_Encoder_Buenas/20250218_1052_000420.json\n",
      "Copying /home/aalbiol/Downloads/jsons/20250220_1239_002142.json in ../data/mandarins/nardocot/manfredi/20250220_1239_002142.json\n",
      "Copying /home/aalbiol/Downloads/jsons/20250218_0851_000161.json in ../data/mandarins/clementine/KDC/20220803_230515_CLEMENTINE_Encoder_Creasing1/20250218_0851_000161.json\n",
      "Copying /home/aalbiol/Downloads/jsons/20250220_1321_002236.json in ../data/mandarins/nardocot/manfredi/20250220_1321_002236.json\n",
      "Copying /home/aalbiol/Downloads/jsons/20250224_0906_002160.json in ../data/oranges/navel/manfredi/20250224_0906_002160.json\n",
      "Copying /home/aalbiol/Downloads/jsons/20250220_1317_000184.json in ../data/mandarins/nardocot/manfredi/20250220_1317_000184.json\n",
      "Copying /home/aalbiol/Downloads/jsons/20250224_0917_000146.json in ../data/oranges/navel/manfredi/20250224_0917_000146.json\n",
      "Copying /home/aalbiol/Downloads/jsons/20250220_1240_002158.json in ../data/mandarins/nardocot/manfredi/20250220_1240_002158.json\n",
      "Copying /home/aalbiol/Downloads/jsons/20250224_0917_000147.json in ../data/oranges/navel/manfredi/20250224_0917_000147.json\n",
      "Copying /home/aalbiol/Downloads/jsons/20250220_1245_002187.json in ../data/mandarins/nardocot/manfredi/20250220_1245_002187.json\n",
      "Copying /home/aalbiol/Downloads/jsons/20250220_1421_002326.json in ../data/mandarins/nardocot/manfredi/20250220_1421_002326.json\n",
      "Copying /home/aalbiol/Downloads/jsons/20250218_1149_000553.json in ../data/mandarins/clementine/KDC/20220808_154219_Img_20220808_154156produccionClementina/20250218_1149_000553.json\n",
      "Copying /home/aalbiol/Downloads/jsons/20250220_1321_002241.json in ../data/mandarins/nardocot/manfredi/20250220_1321_002241.json\n",
      "Copying /home/aalbiol/Downloads/jsons/20250220_1240_002151.json in ../data/mandarins/nardocot/manfredi/20250220_1240_002151.json\n",
      "Copying /home/aalbiol/Downloads/jsons/20250218_1149_002385.json in ../data/mandarins/clementine/KDC/20220808_154219_Img_20220808_154156produccionClementina/20250218_1149_002385.json\n",
      "Copying /home/aalbiol/Downloads/jsons/20250218_1201_000651.json in ../data/mandarins/tango/KDC/20220805_180026_tangoPROD/20250218_1201_000651.json\n",
      "Copying /home/aalbiol/Downloads/jsons/20250218_1158_002425.json in ../data/mandarins/tango/KDC/20220805_172517_tango_PROD/20250218_1158_002425.json\n",
      "Copying /home/aalbiol/Downloads/jsons/20250218_1157_002416.json in ../data/mandarins/tango/KDC/20220805_172517_tango_PROD/20250218_1157_002416.json\n",
      "Copying /home/aalbiol/Downloads/jsons/20250220_1200_002056.json in ../data/mandarins/nardocot/manfredi/20250220_1200_002056.json\n"
     ]
    },
    {
     "name": "stderr",
     "output_type": "stream",
     "text": [
      "\n"
     ]
    }
   ],
   "source": [
    "for jsonfile in tqdm(sourcejsons):\n",
    "    jsonname=os.path.basename(jsonfile)\n",
    "    \n",
    "    found=False\n",
    "    for f in targetjsons:\n",
    "        if jsonname in f:\n",
    "            print(\"Copying\", jsonfile , \"in\", f)\n",
    "            found=True\n",
    "            shutil.copy(jsonfile, f)\n",
    "            break\n",
    "    if not found:\n",
    "        print(\"Not found\", jsonname)"
   ]
  },
  {
   "cell_type": "code",
   "execution_count": null,
   "metadata": {},
   "outputs": [],
   "source": []
  }
 ],
 "metadata": {
  "kernelspec": {
   "display_name": "mscandvc",
   "language": "python",
   "name": "python3"
  },
  "language_info": {
   "codemirror_mode": {
    "name": "ipython",
    "version": 3
   },
   "file_extension": ".py",
   "mimetype": "text/x-python",
   "name": "python",
   "nbconvert_exporter": "python",
   "pygments_lexer": "ipython3",
   "version": "3.12.0"
  }
 },
 "nbformat": 4,
 "nbformat_minor": 2
}

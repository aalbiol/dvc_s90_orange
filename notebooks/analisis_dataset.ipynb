{
 "cells": [
  {
   "cell_type": "code",
   "execution_count": 1,
   "metadata": {},
   "outputs": [],
   "source": [
    "# Autoreload\n",
    "%load_ext autoreload\n",
    "%autoreload 2\n",
    "from glob import glob\n",
    "import json\n",
    "import sys\n",
    "import os\n",
    "import numpy as np"
   ]
  },
  {
   "cell_type": "code",
   "execution_count": 2,
   "metadata": {},
   "outputs": [
    {
     "name": "stdout",
     "output_type": "stream",
     "text": [
      "Found 1626 json files\n",
      "Found 1626 npz files\n",
      "Found 1627 png files\n"
     ]
    }
   ],
   "source": [
    "base='../data'\n",
    "# Find all the json files recursively\n",
    "json_files = glob(base + '/**/*.json', recursive=True)\n",
    "npz_files = glob(base + '/**/*.npz', recursive=True)\n",
    "png_files = glob(base + '/**/*.png', recursive=True)\n",
    "print(f'Found {len(json_files)} json files')\n",
    "print(f'Found {len(npz_files)} npz files')\n",
    "print(f'Found {len(png_files)} png files')"
   ]
  },
  {
   "cell_type": "code",
   "execution_count": 3,
   "metadata": {},
   "outputs": [],
   "source": [
    "for json_file in json_files:\n",
    "    a=json_file.replace('.json','.npz')\n",
    "    if a not in npz_files:\n",
    "        print(f'Removing {json_file} not in npz_files')\n",
    "        os.remove(json_file)\n",
    "        \n",
    "json_files = glob(base + '/**/*.json', recursive=True)\n",
    "npz_files = glob(base + '/**/*.npz', recursive=True)\n",
    "png_files = glob(base + '/**/*.png', recursive=True)"
   ]
  },
  {
   "cell_type": "code",
   "execution_count": 4,
   "metadata": {},
   "outputs": [],
   "source": [
    "# json_files = glob(base + '/**/*.json', recursive=True)\n",
    "# npz_files = glob(base + '/**/*.npz', recursive=True)\n",
    "# png_files = glob(base + '/**/*.png', recursive=True)\n",
    "\n",
    "# for file in json_files+npz_files+png_files:   \n",
    "#     if \" \" in file:\n",
    "#         an=os.path.basename(file)\n",
    "#         b=an.replace(\" \",\"_\")\n",
    "#         b=os.path.join(os.path.dirname(file),b)\n",
    "#         print(f'Renaming: {file} --> {b}')\n",
    "#         os.rename(file,b)\n",
    "# json_files = glob(base + '/**/*.json', recursive=True)\n",
    "# npz_files = glob(base + '/**/*.npz', recursive=True)\n",
    "# png_files = glob(base + '/**/*.png', recursive=True)\n"
   ]
  },
  {
   "cell_type": "code",
   "execution_count": 5,
   "metadata": {},
   "outputs": [],
   "source": [
    "# json_files = glob(base + '/**/*.json', recursive=True)\n",
    "# npz_files = glob(base + '/**/*.npz', recursive=True)\n",
    "# png_files = glob(base + '/**/*.png', recursive=True)\n",
    "\n",
    "# for file in json_files+npz_files+png_files:   \n",
    "#     an=os.path.basename(file)\n",
    "#     if \" \" in an:\n",
    "#         b=an.replace(\" \",\"_\")\n",
    "#         b=os.path.join(os.path.dirname(file),b)\n",
    "#         print(f'Renaming: {file} --> {b}')\n",
    "#         os.rename(file,b)\n",
    "# json_files = glob(base + '/**/*.json', recursive=True)\n",
    "# npz_files = glob(base + '/**/*.npz', recursive=True)\n",
    "# png_files = glob(base + '/**/*.png', recursive=True)"
   ]
  },
  {
   "cell_type": "code",
   "execution_count": 6,
   "metadata": {},
   "outputs": [],
   "source": [
    "\n",
    "\n",
    "def rename_directories_recursive(root_dir):\n",
    "    \"\"\"\n",
    "    Recursively renames all directories under root_dir, replacing spaces with underscores.\n",
    "\n",
    "    Args:\n",
    "        root_dir (str): The root directory to start the renaming process.\n",
    "    \"\"\"\n",
    "\n",
    "    changed= True\n",
    "    while changed:\n",
    "        changed=False\n",
    "        for dirpath, dirnames, filenames in os.walk(root_dir):\n",
    "            for dirname in dirnames:\n",
    "                if \" \" in dirname:\n",
    "                    old_path = os.path.join(dirpath, dirname)\n",
    "                    new_dirname = dirname.replace(\" \", \"_\")\n",
    "                    new_path = os.path.join(dirpath, new_dirname)\n",
    "\n",
    "                    try:\n",
    "                        os.rename(old_path, new_path)\n",
    "                        print(f\"Renamed: {old_path} -> {new_path}\")\n",
    "                        changed=True\n",
    "                    except OSError as e:\n",
    "                        print(f\"Error renaming {old_path}: {e}\")\n",
    "                    changed=True\n",
    "            if changed:\n",
    "                break\n",
    "    "
   ]
  },
  {
   "cell_type": "code",
   "execution_count": 7,
   "metadata": {},
   "outputs": [],
   "source": [
    "#rename_directories_recursive(base)"
   ]
  },
  {
   "cell_type": "code",
   "execution_count": 8,
   "metadata": {},
   "outputs": [
    {
     "name": "stdout",
     "output_type": "stream",
     "text": [
      "Found 18 defectos\n",
      "{'bleaching', 'oil_spots', 'plu_stickers', 'rotten', 'deformed_peduncle', 'damage_by_pliers', 'deformed_counterpeduncle', 'surface', 'light_scars', 'scars', 'mechanical_damage', 'green', 'reddish', 'skin_creasing', 'insect', 'skin_breakdown', 'cracks', 'hollow'}\n"
     ]
    }
   ],
   "source": [
    "json_files = glob(base + '/**/*.json', recursive=True)\n",
    "\n",
    "defectos_set=set()\n",
    "for json_file in json_files:\n",
    "    try:\n",
    "        with open(json_file, 'r') as f:\n",
    "            data = json.load(f)\n",
    "            anotaciones=data['annotations']\n",
    "            defectos=list(anotaciones.keys())\n",
    "            defectos_set.update(defectos)\n",
    "            \n",
    "    except:\n",
    "        print(f'Error reading {json_file}')\n",
    "print(f'Found {len(defectos_set)} defectos')\n",
    "print(defectos_set)"
   ]
  },
  {
   "cell_type": "code",
   "execution_count": 9,
   "metadata": {},
   "outputs": [
    {
     "name": "stdout",
     "output_type": "stream",
     "text": [
      "{'bleaching': 0, 'cracks': 0, 'damage_by_pliers': 0, 'deformed_counterpeduncle': 0, 'deformed_peduncle': 0, 'green': 0, 'hollow': 0, 'insect': 0, 'light_scars': 0, 'mechanical_damage': 0, 'oil_spots': 0, 'plu_stickers': 0, 'reddish': 0, 'rotten': 0, 'scars': 0, 'skin_breakdown': 0, 'skin_creasing': 0, 'surface': 0}\n",
      "{'bleaching': 11, 'cracks': 56, 'damage_by_pliers': 62, 'deformed_counterpeduncle': 10, 'deformed_peduncle': 107, 'green': 135, 'hollow': 53, 'insect': 14, 'light_scars': 261, 'mechanical_damage': 57, 'oil_spots': 99, 'plu_stickers': 107, 'reddish': 46, 'rotten': 132, 'scars': 203, 'skin_breakdown': 167, 'skin_creasing': 14, 'surface': 330, 'sin_anot': 399, 'mas_de_una': 501}\n",
      "Total frutos:  1626\n",
      "bleaching: 11\n",
      "cracks: 56\n",
      "damage_by_pliers: 62\n",
      "deformed_counterpeduncle: 10\n",
      "deformed_peduncle: 107\n",
      "green: 135\n",
      "hollow: 53\n",
      "insect: 14\n",
      "light_scars: 261\n",
      "mechanical_damage: 57\n",
      "oil_spots: 99\n",
      "plu_stickers: 107\n",
      "reddish: 46\n",
      "rotten: 132\n",
      "scars: 203\n",
      "skin_breakdown: 167\n",
      "skin_creasing: 14\n",
      "surface: 330\n",
      "sin_anot: 399\n",
      "mas_de_una: 501\n"
     ]
    }
   ],
   "source": [
    "json_files = glob(base + '/**/*.json', recursive=True)\n",
    "\n",
    "cantidad_defectos=np.zeros(len(defectos_set)+1)\n",
    "defectos_set=list(defectos_set)\n",
    "defectos_set.sort()\n",
    "cuenta={ defecto:0 for defecto in defectos_set}\n",
    "print(cuenta)\n",
    "cuenta['sin_anot']=0\n",
    "cuenta['mas_de_una']=0\n",
    "\n",
    "listas_por_defecto={ defecto:[] for defecto in defectos_set}\n",
    "for json_file in json_files:\n",
    "    try:\n",
    "        with open(json_file, 'r') as f:\n",
    "            data = json.load(f)\n",
    "            anotaciones=data['annotations']\n",
    "            suma=0\n",
    "            for k,v in anotaciones.items():\n",
    "                if v=='1' or v==1:\n",
    "                    suma+=1\n",
    "                    listas_por_defecto[k].append(json_file)\n",
    "            cantidad_defectos[suma]+=1\n",
    "            \n",
    "            \n",
    "    except:\n",
    "        print(f'Error reading {json_file}')\n",
    "for json_file in json_files:\n",
    "    try:\n",
    "        with open(json_file, 'r') as f:\n",
    "            data = json.load(f)\n",
    "            anotaciones=data['annotations']\n",
    "            nada=True\n",
    "            c=0\n",
    "            for k,v in anotaciones.items():\n",
    "                if v=='1' or v==1:\n",
    "                    cuenta[k]+=1\n",
    "                    nada=False\n",
    "                    listas_por_defecto[k].append(json_file)\n",
    "                    c+=1\n",
    "            if nada:\n",
    "                cuenta['sin_anot']+=1\n",
    "            if c>1:\n",
    "                cuenta['mas_de_una']+=1\n",
    "            \n",
    "    except:\n",
    "        print(f'Error reading {json_file}')\n",
    "\n",
    "print(cuenta)\n",
    "print(\"Total frutos: \", len(json_files))\n",
    "for d in cuenta:\n",
    "    print(f'{d}: {cuenta[d]}')\n"
   ]
  },
  {
   "cell_type": "code",
   "execution_count": 10,
   "metadata": {},
   "outputs": [
    {
     "name": "stdout",
     "output_type": "stream",
     "text": [
      "Found 0 duplicados\n"
     ]
    }
   ],
   "source": [
    "# Busqueda de basenames duplicados\n",
    "json_files = glob(base + '/**/*.json', recursive=True)\n",
    "basenames=set()\n",
    "duplicados=[]\n",
    "for json_file in json_files:\n",
    "    an=os.path.basename(json_file)\n",
    "    if an in basenames:\n",
    "        duplicados.append(json_file)\n",
    "    else:\n",
    "        basenames.add(an)\n",
    "print(f'Found {len(duplicados)} duplicados')\n",
    "for d in duplicados:\n",
    "    print(d)"
   ]
  },
  {
   "cell_type": "code",
   "execution_count": 11,
   "metadata": {},
   "outputs": [
    {
     "data": {
      "image/png": "[encoded data removed]",
      "text/plain": [
       "<Figure size 640x480 with 1 Axes>"
      ]
     },
     "metadata": {},
     "output_type": "display_data"
    }
   ],
   "source": [
    "import matplotlib.pyplot as plt\n",
    "_=plt.plot(cantidad_defectos)\n",
    "_=plt.xticks(range(len(cantidad_defectos)))\n",
    "_=plt.grid()"
   ]
  },
  {
   "cell_type": "code",
   "execution_count": 12,
   "metadata": {},
   "outputs": [
    {
     "data": {
      "text/plain": [
       "<function matplotlib.pyplot.ylim(*args, **kwargs) -> 'tuple[float, float]'>"
      ]
     },
     "execution_count": 12,
     "metadata": {},
     "output_type": "execute_result"
    },
    {
     "data": {
      "image/png": "[encoded data removed]",
      "text/plain": [
       "<Figure size 640x480 with 1 Axes>"
      ]
     },
     "metadata": {},
     "output_type": "display_data"
    }
   ],
   "source": [
    "_=plt.plot(np.cumsum(cantidad_defectos))\n",
    "_=plt.ylim(0, 1700)\n",
    "_=plt.xticks(range(len(cantidad_defectos)))\n",
    "_=plt.grid()\n",
    "plt.ylim"
   ]
  },
  {
   "cell_type": "code",
   "execution_count": null,
   "metadata": {},
   "outputs": [],
   "source": []
  }
 ],
 "metadata": {
  "kernelspec": {
   "display_name": "mscandvc",
   "language": "python",
   "name": "python3"
  },
  "language_info": {
   "codemirror_mode": {
    "name": "ipython",
    "version": 3
   },
   "file_extension": ".py",
   "mimetype": "text/x-python",
   "name": "python",
   "nbconvert_exporter": "python",
   "pygments_lexer": "ipython3",
   "version": "3.12.0"
  }
 },
 "nbformat": 4,
 "nbformat_minor": 2
}

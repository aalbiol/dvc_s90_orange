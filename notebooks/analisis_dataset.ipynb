{
 "cells": [
  {
   "cell_type": "code",
   "execution_count": 2,
   "metadata": {},
   "outputs": [],
   "source": [
    "# Autoreload\n",
    "%load_ext autoreload\n",
    "%autoreload 2\n",
    "from glob import glob\n",
    "import json\n",
    "import sys\n",
    "import os"
   ]
  },
  {
   "cell_type": "code",
   "execution_count": 3,
   "metadata": {},
   "outputs": [
    {
     "name": "stdout",
     "output_type": "stream",
     "text": [
      "Found 1331 json files\n",
      "Found 1331 npz files\n",
      "Found 1332 png files\n"
     ]
    }
   ],
   "source": [
    "base='../data'\n",
    "# Find all the json files recursively\n",
    "json_files = glob(base + '/**/*.json', recursive=True)\n",
    "npz_files = glob(base + '/**/*.npz', recursive=True)\n",
    "png_files = glob(base + '/**/*.png', recursive=True)\n",
    "print(f'Found {len(json_files)} json files')\n",
    "print(f'Found {len(npz_files)} npz files')\n",
    "print(f'Found {len(png_files)} png files')"
   ]
  },
  {
   "cell_type": "code",
   "execution_count": 4,
   "metadata": {},
   "outputs": [],
   "source": [
    "for json_file in json_files:\n",
    "    a=json_file.replace('.json','.npz')\n",
    "    if a not in npz_files:\n",
    "        print(f'Removing {json_file} not in npz_files')\n",
    "        os.remove(json_file)\n",
    "        \n",
    "json_files = glob(base + '/**/*.json', recursive=True)\n",
    "npz_files = glob(base + '/**/*.npz', recursive=True)\n",
    "png_files = glob(base + '/**/*.png', recursive=True)"
   ]
  },
  {
   "cell_type": "code",
   "execution_count": 5,
   "metadata": {},
   "outputs": [],
   "source": [
    "json_files = glob(base + '/**/*.json', recursive=True)\n",
    "npz_files = glob(base + '/**/*.npz', recursive=True)\n",
    "png_files = glob(base + '/**/*.png', recursive=True)\n",
    "\n",
    "for file in json_files+npz_files+png_files:   \n",
    "    if \" \" in file:\n",
    "        an=os.path.basename(file)\n",
    "        b=an.replace(\" \",\"_\")\n",
    "        b=os.path.join(os.path.dirname(file),b)\n",
    "        print(f'Renaming: {file} --> {b}')\n",
    "        os.rename(file,b)\n",
    "json_files = glob(base + '/**/*.json', recursive=True)\n",
    "npz_files = glob(base + '/**/*.npz', recursive=True)\n",
    "png_files = glob(base + '/**/*.png', recursive=True)\n"
   ]
  },
  {
   "cell_type": "code",
   "execution_count": 6,
   "metadata": {},
   "outputs": [],
   "source": [
    "json_files = glob(base + '/**/*.json', recursive=True)\n",
    "npz_files = glob(base + '/**/*.npz', recursive=True)\n",
    "png_files = glob(base + '/**/*.png', recursive=True)\n",
    "\n",
    "for file in json_files+npz_files+png_files:   \n",
    "    an=os.path.basename(file)\n",
    "    if \" \" in an:\n",
    "        b=an.replace(\" \",\"_\")\n",
    "        b=os.path.join(os.path.dirname(file),b)\n",
    "        print(f'Renaming: {file} --> {b}')\n",
    "        os.rename(file,b)\n",
    "json_files = glob(base + '/**/*.json', recursive=True)\n",
    "npz_files = glob(base + '/**/*.npz', recursive=True)\n",
    "png_files = glob(base + '/**/*.png', recursive=True)"
   ]
  },
  {
   "cell_type": "code",
   "execution_count": 7,
   "metadata": {},
   "outputs": [],
   "source": [
    "\n",
    "\n",
    "def rename_directories_recursive(root_dir):\n",
    "    \"\"\"\n",
    "    Recursively renames all directories under root_dir, replacing spaces with underscores.\n",
    "\n",
    "    Args:\n",
    "        root_dir (str): The root directory to start the renaming process.\n",
    "    \"\"\"\n",
    "\n",
    "    changed= True\n",
    "    while changed:\n",
    "        changed=False\n",
    "        for dirpath, dirnames, filenames in os.walk(root_dir):\n",
    "            for dirname in dirnames:\n",
    "                if \" \" in dirname:\n",
    "                    old_path = os.path.join(dirpath, dirname)\n",
    "                    new_dirname = dirname.replace(\" \", \"_\")\n",
    "                    new_path = os.path.join(dirpath, new_dirname)\n",
    "\n",
    "                    try:\n",
    "                        os.rename(old_path, new_path)\n",
    "                        print(f\"Renamed: {old_path} -> {new_path}\")\n",
    "                        changed=True\n",
    "                    except OSError as e:\n",
    "                        print(f\"Error renaming {old_path}: {e}\")\n",
    "                    changed=True\n",
    "            if changed:\n",
    "                break\n",
    "    "
   ]
  },
  {
   "cell_type": "code",
   "execution_count": 8,
   "metadata": {},
   "outputs": [],
   "source": [
    "rename_directories_recursive(base)"
   ]
  },
  {
   "cell_type": "code",
   "execution_count": 9,
   "metadata": {},
   "outputs": [],
   "source": [
    "rename_directories_recursive(base)"
   ]
  },
  {
   "cell_type": "code",
   "execution_count": 10,
   "metadata": {},
   "outputs": [
    {
     "name": "stdout",
     "output_type": "stream",
     "text": [
      "Found 17 defectos\n",
      "{'scars', 'cracks', 'skin_breakdown', 'skin_creasing', 'hollow', 'plu_stickers', 'deformed_peduncle', 'bleaching', 'green', 'surface', 'mechanical_damage', 'damage_by_pliers', 'deformed_counterpeduncle', 'oil_spots', 'rotten', 'insect', 'light_scars'}\n"
     ]
    }
   ],
   "source": [
    "json_files = glob(base + '/**/*.json', recursive=True)\n",
    "\n",
    "defectos_set=set()\n",
    "for json_file in json_files:\n",
    "    try:\n",
    "        with open(json_file, 'r') as f:\n",
    "            data = json.load(f)\n",
    "            anotaciones=data['annotations']\n",
    "            defectos=list(anotaciones.keys())\n",
    "            defectos_set.update(defectos)\n",
    "            \n",
    "    except:\n",
    "        print(f'Error reading {json_file}')\n",
    "print(f'Found {len(defectos_set)} defectos')\n",
    "print(defectos_set)"
   ]
  },
  {
   "cell_type": "code",
   "execution_count": 11,
   "metadata": {},
   "outputs": [
    {
     "name": "stdout",
     "output_type": "stream",
     "text": [
      "{'bleaching': 0, 'cracks': 0, 'damage_by_pliers': 0, 'deformed_counterpeduncle': 0, 'deformed_peduncle': 0, 'green': 0, 'hollow': 0, 'insect': 0, 'light_scars': 0, 'mechanical_damage': 0, 'oil_spots': 0, 'plu_stickers': 0, 'rotten': 0, 'scars': 0, 'skin_breakdown': 0, 'skin_creasing': 0, 'surface': 0}\n",
      "{'bleaching': 11, 'cracks': 30, 'damage_by_pliers': 28, 'deformed_counterpeduncle': 0, 'deformed_peduncle': 19, 'green': 64, 'hollow': 33, 'insect': 7, 'light_scars': 124, 'mechanical_damage': 4, 'oil_spots': 80, 'plu_stickers': 39, 'rotten': 107, 'scars': 97, 'skin_breakdown': 93, 'skin_creasing': 11, 'surface': 358, 'sin_anot': 496, 'mas_de_una': 240}\n",
      "Total frutos:  1331\n",
      "bleaching: 11\n",
      "cracks: 30\n",
      "damage_by_pliers: 28\n",
      "deformed_counterpeduncle: 0\n",
      "deformed_peduncle: 19\n",
      "green: 64\n",
      "hollow: 33\n",
      "insect: 7\n",
      "light_scars: 124\n",
      "mechanical_damage: 4\n",
      "oil_spots: 80\n",
      "plu_stickers: 39\n",
      "rotten: 107\n",
      "scars: 97\n",
      "skin_breakdown: 93\n",
      "skin_creasing: 11\n",
      "surface: 358\n",
      "sin_anot: 496\n",
      "mas_de_una: 240\n"
     ]
    }
   ],
   "source": [
    "json_files = glob(base + '/**/*.json', recursive=True)\n",
    "\n",
    "defectos_set=list(defectos_set)\n",
    "defectos_set.sort()\n",
    "cuenta={ defecto:0 for defecto in defectos_set}\n",
    "print(cuenta)\n",
    "cuenta['sin_anot']=0\n",
    "cuenta['mas_de_una']=0\n",
    "\n",
    "for json_file in json_files:\n",
    "    try:\n",
    "        with open(json_file, 'r') as f:\n",
    "            data = json.load(f)\n",
    "            anotaciones=data['annotations']\n",
    "            nada=True\n",
    "            c=0\n",
    "            for k,v in anotaciones.items():\n",
    "                if v=='1' or v==1:\n",
    "                    cuenta[k]+=1\n",
    "                    nada=False\n",
    "                    c+=1\n",
    "            if nada:\n",
    "                cuenta['sin_anot']+=1\n",
    "            if c>1:\n",
    "                cuenta['mas_de_una']+=1\n",
    "            \n",
    "    except:\n",
    "        print(f'Error reading {json_file}')\n",
    "\n",
    "print(cuenta)\n",
    "print(\"Total frutos: \", len(json_files))\n",
    "for d in cuenta:\n",
    "    print(f'{d}: {cuenta[d]}')\n"
   ]
  },
  {
   "cell_type": "code",
   "execution_count": null,
   "metadata": {},
   "outputs": [],
   "source": []
  },
  {
   "cell_type": "code",
   "execution_count": 12,
   "metadata": {},
   "outputs": [
    {
     "name": "stdout",
     "output_type": "stream",
     "text": [
      "Found 0 duplicados\n"
     ]
    }
   ],
   "source": [
    "# Busqueda de basenames duplicados\n",
    "json_files = glob(base + '/**/*.json', recursive=True)\n",
    "basenames=set()\n",
    "duplicados=[]\n",
    "for json_file in json_files:\n",
    "    an=os.path.basename(json_file)\n",
    "    if an in basenames:\n",
    "        duplicados.append(json_file)\n",
    "    else:\n",
    "        basenames.add(an)\n",
    "print(f'Found {len(duplicados)} duplicados')\n",
    "for d in duplicados:\n",
    "    print(d)"
   ]
  },
  {
   "cell_type": "code",
   "execution_count": 13,
   "metadata": {},
   "outputs": [
    {
     "ename": "NameError",
     "evalue": "name 'listas' is not defined",
     "output_type": "error",
     "traceback": [
      "\u001b[0;31m---------------------------------------------------------------------------\u001b[0m",
      "\u001b[0;31mNameError\u001b[0m                                 Traceback (most recent call last)",
      "Cell \u001b[0;32mIn[13], line 6\u001b[0m\n\u001b[1;32m      4\u001b[0m \u001b[38;5;28;01mimport\u001b[39;00m \u001b[38;5;21;01mshutil\u001b[39;00m\n\u001b[1;32m      5\u001b[0m base_out\u001b[38;5;241m=\u001b[39m\u001b[38;5;124m'\u001b[39m\u001b[38;5;124m/home/aalbiol/Desktop/S90/anots\u001b[39m\u001b[38;5;124m'\u001b[39m\n\u001b[0;32m----> 6\u001b[0m \u001b[38;5;28;01mfor\u001b[39;00m k,v \u001b[38;5;129;01min\u001b[39;00m \u001b[43mlistas\u001b[49m\u001b[38;5;241m.\u001b[39mitems():\n\u001b[1;32m      7\u001b[0m     \u001b[38;5;28;01mif\u001b[39;00m \u001b[38;5;28mlen\u001b[39m(v)\u001b[38;5;241m>\u001b[39m\u001b[38;5;241m0\u001b[39m:\n\u001b[1;32m      8\u001b[0m         out_dir\u001b[38;5;241m=\u001b[39mos\u001b[38;5;241m.\u001b[39mpath\u001b[38;5;241m.\u001b[39mjoin(base_out,k)\n",
      "\u001b[0;31mNameError\u001b[0m: name 'listas' is not defined"
     ]
    }
   ],
   "source": [
    "# Copiar a carpetas según etiquetas\n",
    "\n",
    "           \n",
    "import shutil\n",
    "base_out='/home/aalbiol/Desktop/S90/anots'\n",
    "for k,v in listas.items():\n",
    "    if len(v)>0:\n",
    "        out_dir=os.path.join(base_out,k)\n",
    "        os.makedirs(out_dir,exist_ok=True)\n",
    "        for f in v:\n",
    "            fpng=f.replace('.json','.png')\n",
    "            an=os.path.basename(fpng)\n",
    "            out_file=os.path.join(out_dir,an)\n",
    "            print(f'Copying {fpng} --> {out_file}')\n",
    "            shutil.copy(fpng,out_file)"
   ]
  },
  {
   "cell_type": "code",
   "execution_count": null,
   "metadata": {},
   "outputs": [],
   "source": []
  }
 ],
 "metadata": {
  "kernelspec": {
   "display_name": "mscandvc",
   "language": "python",
   "name": "python3"
  },
  "language_info": {
   "codemirror_mode": {
    "name": "ipython",
    "version": 3
   },
   "file_extension": ".py",
   "mimetype": "text/x-python",
   "name": "python",
   "nbconvert_exporter": "python",
   "pygments_lexer": "ipython3",
   "version": "3.12.0"
  }
 },
 "nbformat": 4,
 "nbformat_minor": 2
}

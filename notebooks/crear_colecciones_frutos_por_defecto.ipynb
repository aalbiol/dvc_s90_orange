{
 "cells": [
  {
   "cell_type": "code",
   "execution_count": 1,
   "metadata": {
    "execution": {
     "iopub.execute_input": "2024-12-12T09:13:48.833953Z",
     "iopub.status.busy": "2024-12-12T09:13:48.833356Z",
     "iopub.status.idle": "2024-12-12T09:13:50.384027Z",
     "shell.execute_reply": "2024-12-12T09:13:50.383575Z"
    }
   },
   "outputs": [],
   "source": [
    "#autoreload\n",
    "%load_ext autoreload\n",
    "%autoreload 2\n",
    "\n",
    "import torch\n",
    "from torchmetrics import AUROC\n",
    "import matplotlib.pyplot as plt\n",
    "import numpy as np\n",
    "import pandas as pd\n",
    "import json\n",
    "import os\n",
    "\n",
    "import sys\n",
    "sys.path.append(\"../../src_clasificacion_vistas/common\")\n",
    "\n",
    "import pycimg\n",
    "\n",
    "from pathlib import Path\n",
    "import cv2\n",
    "from tqdm import tqdm\n",
    "import numpy as np\n",
    "import gc\n",
    "from matplotlib.backends.backend_pdf import PdfPages\n",
    "np.set_printoptions(precision=3, suppress=True)"
   ]
  },
  {
   "cell_type": "code",
   "execution_count": 2,
   "metadata": {},
   "outputs": [],
   "source": [
    "def crearMosaico(imagenes):\n",
    "    \"\"\"\n",
    "    Crea un mosaico a partir de una lista de imágenes.\n",
    "    \"\"\"\n",
    "\n",
    "    #Convertir las imágenes de tensores c x h x w float32 entre 0 y 1 a uint8 entre 0 y 255 h x w x c\n",
    "    for i in range(len(imagenes)):\n",
    "        imagenes[i] = (imagenes[i].permute(1, 2, 0).numpy() * 255).astype(np.uint8)\n",
    "    \n",
    "    # Obtener el tamaño de la imagen\n",
    "    alto, ancho = imagenes[0].shape[:2]\n",
    "    \n",
    "    # Redimensionar todas las imágenes al tamaño de la primera\n",
    "    # imagenes[0] = cv2.cvtColor(imagenes[0], cv2.COLOR_BGR2RGB)\n",
    "    for i in range(1, len(imagenes)):\n",
    "        imagenes[i] = cv2.resize(imagenes[i], (ancho, alto))\n",
    "    #     imagenes[i] = cv2.cvtColor(imagenes[i], cv2.COLOR_BGR2RGB)\n",
    "\n",
    "    # Calcular el número de filas y columnas\n",
    "    num_imagenes = len(imagenes)\n",
    "    num_columnas = int(np.ceil(np.sqrt(num_imagenes)))\n",
    "    num_filas = int(np.ceil(num_imagenes / num_columnas))\n",
    "    #print(f\"num_imagenes: {num_imagenes}, num_columnas: {num_columnas}, num_filas: {num_filas}\")\n",
    "\n",
    "    # Crear una imagen en blanco para el mosaico\n",
    "    mosaico = np.zeros((alto * num_filas, ancho * num_columnas, 3), dtype=np.uint8)\n",
    "\n",
    "    # Colocar las imágenes en el mosaico\n",
    "    for i, img in enumerate(imagenes):\n",
    "        fila = i // num_columnas\n",
    "        columna = i % num_columnas\n",
    "        mosaico[fila * alto:(fila + 1) * alto, columna * ancho:(columna + 1) * ancho] = img\n",
    "\n",
    "    return mosaico"
   ]
  },
  {
   "cell_type": "code",
   "execution_count": null,
   "metadata": {
    "execution": {
     "iopub.execute_input": "2024-12-12T09:13:50.388456Z",
     "iopub.status.busy": "2024-12-12T09:13:50.388265Z",
     "iopub.status.idle": "2024-12-12T09:13:50.412172Z",
     "shell.execute_reply": "2024-12-12T09:13:50.411655Z"
    }
   },
   "outputs": [],
   "source": [
    "current_file_dir = os.getcwd()\n",
    "train_results_json=\"../out_evaluate_patch_repasoD/train_scores.json\"\n",
    "val_results_json=\"../out_evaluate_patch_repasoD/val_scores.json\"\n",
    "train_results_json=os.path.join(current_file_dir,train_results_json)    \n",
    "val_results_json=os.path.join(current_file_dir,val_results_json)    \n",
    "out_dir=\"../defect_catalog\"\n",
    "\n",
    "Path(out_dir).mkdir(parents=True, exist_ok=True)\n",
    "\n",
    "\n",
    "\n",
    "def create_catalogos(train_data,clases):\n",
    "\n",
    "    matrices_confusion={}\n",
    "    for clase in clases:\n",
    "        matrices_confusion[clase]=np.zeros((2,2))\n",
    "    k=0\n",
    "    for m, defecto in enumerate(clases):\n",
    "        print(f\"Defecto: {defecto}\")\n",
    "        with PdfPages(os.path.join(out_dir,f\"{defecto}.pdf\")) as pdf:\n",
    "            for d in tqdm(train_data):\n",
    "                k+=1\n",
    "                filenamejson=d['filename'].replace(\".npz\",\".json\")\n",
    "                scores=d['scores']\n",
    "                ground_truth=d['ground_truth']\n",
    "                gts=[v for k,v in ground_truth.items() if k in clases]\n",
    "                preds=[v for k,v in scores.items() if k in clases]\n",
    "                defectoss=[k for k,v in scores.items() if k in clases]\n",
    "                \n",
    "                kk=os.path.join(\"..\",filenamejson)\n",
    "                npzfilename=kk.replace(\".json\",\".npz\")\n",
    "\n",
    "                if not defecto in ground_truth:\n",
    "                    continue\n",
    "                if ground_truth[defecto] ==0:\n",
    "                    continue\n",
    "                imagenes=pycimg.npzread_torch(npzfilename,kk,channel_list=['R','G','B'])\n",
    "                mosaico=crearMosaico(imagenes)\n",
    "            #Generar imágenes de los errores\n",
    "    \n",
    "                        \n",
    "                bn=os.path.basename(filenamejson)\n",
    "                bn=bn.replace(\".json\",\"\")        \n",
    "                #fig, axes=plt.subplots(1,2,gridspec_kw={'width_ratios': [1, 2]})\n",
    "                fig, axes=plt.subplots(1,2,figsize=(20,10))\n",
    "                axes[0].bar(defectoss,gts)\n",
    "                axes[0].bar(defectoss,preds)\n",
    "        \n",
    "                axes[0].tick_params(axis='x',rotation=90)\n",
    "                axes[0].set_ylim([0,1])\n",
    "                axes[0].set_yticks(np.arange(0, 1.1, 0.1))\n",
    "                axes[0].grid()\n",
    "        \n",
    "\n",
    "\n",
    "                axes[1].imshow(mosaico)\n",
    "                axes[1].axis('off')\n",
    "                axes[1].set_title(f'{bn}')\n",
    "                pdf.savefig(fig, bbox_inches='tight')\n",
    "                plt.close('all')\n",
    "                del fig, axes\n",
    "                \n",
    "    print(\"Bueno\")\n",
    "    with PdfPages(os.path.join(out_dir,f\"bueno.pdf\")) as pdf:\n",
    "        for d in tqdm(train_data):\n",
    "            k+=1\n",
    "            filenamejson=d['filename'].replace(\".npz\",\".json\")\n",
    "            scores=d['scores']\n",
    "            ground_truth=d['ground_truth']\n",
    "            gts=[v for k,v in ground_truth.items() if k in clases]\n",
    "            preds=[v for k,v in scores.items() if k in clases]\n",
    "            defectoss=[k for k,v in scores.items() if k in clases]\n",
    "            if max(gts)>0:\n",
    "                continue\n",
    "            \n",
    "            kk=os.path.join(\"..\",filenamejson)\n",
    "            npzfilename=kk.replace(\".json\",\".npz\")\n",
    "\n",
    "\n",
    "            imagenes=pycimg.npzread_torch(npzfilename,kk,channel_list=['R','G','B'])\n",
    "            mosaico=crearMosaico(imagenes)\n",
    "        #Generar imágenes de los errores\n",
    "\n",
    "                    \n",
    "            bn=os.path.basename(filenamejson)\n",
    "            bn=bn.replace(\".json\",\"\")        \n",
    "            #fig, axes=plt.subplots(1,2,gridspec_kw={'width_ratios': [1, 2]})\n",
    "            fig, axes=plt.subplots(1,2,figsize=(20,10))\n",
    "            axes[0].bar(defectoss,gts)\n",
    "            axes[0].bar(defectoss,preds)\n",
    "    \n",
    "            axes[0].tick_params(axis='x',rotation=90)\n",
    "            axes[0].set_ylim([0,1])\n",
    "            axes[0].set_yticks(np.arange(0, 1.1, 0.1))\n",
    "            axes[0].grid()\n",
    "    \n",
    "\n",
    "\n",
    "            axes[1].imshow(mosaico)\n",
    "            axes[1].axis('off')\n",
    "            axes[1].set_title(f'{bn} ')\n",
    "            pdf.savefig(fig, bbox_inches='tight')\n",
    "            plt.close('all')\n",
    "            del fig, axes                \n",
    "\n",
    "                \n",
    "                \n",
    "\n",
    "                \n",
    "        \n",
    "                    \n",
    "\n",
    "\n",
    "\n",
    "\n"
   ]
  },
  {
   "cell_type": "code",
   "execution_count": 8,
   "metadata": {},
   "outputs": [
    {
     "name": "stdout",
     "output_type": "stream",
     "text": [
      "1283\n",
      "343\n",
      "1626\n"
     ]
    }
   ],
   "source": [
    "## Leer los archivos\n",
    "\n",
    "with open(train_results_json, \"r\") as f:\n",
    "    train_dict = json.load(f)\n",
    "\n",
    "with open(val_results_json, \"r\") as f:\n",
    "    val_dict = json.load(f)    \n",
    "\n",
    "train_data=train_dict['train_results']\n",
    "val_data = val_dict['val_results']\n",
    "clases=list(train_dict['train_results'][0]['ground_truth'].keys())\n",
    "\n",
    "all_data=train_data+val_data\n",
    "\n",
    "print(len(train_data))\n",
    "print(len(val_data))\n",
    "print(len(all_data))"
   ]
  },
  {
   "cell_type": "code",
   "execution_count": 11,
   "metadata": {
    "execution": {
     "iopub.execute_input": "2024-12-12T09:13:50.429913Z",
     "iopub.status.busy": "2024-12-12T09:13:50.429762Z",
     "iopub.status.idle": "2024-12-12T09:13:50.442593Z",
     "shell.execute_reply": "2024-12-12T09:13:50.442203Z"
    }
   },
   "outputs": [
    {
     "name": "stdout",
     "output_type": "stream",
     "text": [
      "Bueno\n"
     ]
    },
    {
     "name": "stderr",
     "output_type": "stream",
     "text": [
      "  0%|          | 0/1626 [00:00<?, ?it/s]"
     ]
    },
    {
     "name": "stderr",
     "output_type": "stream",
     "text": [
      "100%|██████████| 1626/1626 [00:48<00:00, 33.87it/s] \n"
     ]
    }
   ],
   "source": [
    "create_catalogos(all_data,clases)"
   ]
  },
  {
   "cell_type": "code",
   "execution_count": null,
   "metadata": {},
   "outputs": [],
   "source": []
  }
 ],
 "metadata": {
  "kernelspec": {
   "display_name": "mscandvc",
   "language": "python",
   "name": "python3"
  },
  "language_info": {
   "codemirror_mode": {
    "name": "ipython",
    "version": 3
   },
   "file_extension": ".py",
   "mimetype": "text/x-python",
   "name": "python",
   "nbconvert_exporter": "python",
   "pygments_lexer": "ipython3",
   "version": "3.12.0"
  }
 },
 "nbformat": 4,
 "nbformat_minor": 2
}

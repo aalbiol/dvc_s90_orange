{
 "cells": [
  {
   "cell_type": "code",
   "execution_count": 11,
   "metadata": {
    "execution": {
     "iopub.execute_input": "2024-12-12T09:13:48.833953Z",
     "iopub.status.busy": "2024-12-12T09:13:48.833356Z",
     "iopub.status.idle": "2024-12-12T09:13:50.384027Z",
     "shell.execute_reply": "2024-12-12T09:13:50.383575Z"
    }
   },
   "outputs": [
    {
     "name": "stdout",
     "output_type": "stream",
     "text": [
      "The autoreload extension is already loaded. To reload it, use:\n",
      "  %reload_ext autoreload\n"
     ]
    }
   ],
   "source": [
    "#autoreload\n",
    "%load_ext autoreload\n",
    "%autoreload 2\n",
    "\n",
    "import torch\n",
    "from torchmetrics import AUROC\n",
    "import matplotlib.pyplot as plt\n",
    "import numpy as np\n",
    "import pandas as pd\n",
    "import json\n",
    "import os\n",
    "\n",
    "import sys\n",
    "sys.path.append(\"../../src_clasificacion_vistas/common\")\n",
    "\n",
    "import pycimg\n",
    "\n",
    "from pathlib import Path\n",
    "import cv2\n",
    "from tqdm import tqdm\n",
    "import numpy as np\n",
    "import gc\n",
    "import shutil\n",
    "from matplotlib.backends.backend_pdf import PdfPages\n",
    "np.set_printoptions(precision=3, suppress=True)"
   ]
  },
  {
   "cell_type": "code",
   "execution_count": 12,
   "metadata": {},
   "outputs": [],
   "source": [
    "def crearMosaico(imagenes):\n",
    "    \"\"\"\n",
    "    Crea un mosaico a partir de una lista de imágenes.\n",
    "    \"\"\"\n",
    "\n",
    "    #Convertir las imágenes de tensores c x h x w float32 entre 0 y 1 a uint8 entre 0 y 255 h x w x c\n",
    "    for i in range(len(imagenes)):\n",
    "        imagenes[i] = (imagenes[i].permute(1, 2, 0).numpy() * 255).astype(np.uint8)\n",
    "    \n",
    "    # Obtener el tamaño de la imagen\n",
    "    alto, ancho = imagenes[0].shape[:2]\n",
    "    \n",
    "    # Redimensionar todas las imágenes al tamaño de la primera\n",
    "    # imagenes[0] = cv2.cvtColor(imagenes[0], cv2.COLOR_BGR2RGB)\n",
    "    for i in range(1, len(imagenes)):\n",
    "        imagenes[i] = cv2.resize(imagenes[i], (ancho, alto))\n",
    "    #     imagenes[i] = cv2.cvtColor(imagenes[i], cv2.COLOR_BGR2RGB)\n",
    "\n",
    "    # Calcular el número de filas y columnas\n",
    "    num_imagenes = len(imagenes)\n",
    "    num_columnas = int(np.ceil(np.sqrt(num_imagenes)))\n",
    "    num_filas = int(np.ceil(num_imagenes / num_columnas))\n",
    "    #print(f\"num_imagenes: {num_imagenes}, num_columnas: {num_columnas}, num_filas: {num_filas}\")\n",
    "\n",
    "    # Crear una imagen en blanco para el mosaico\n",
    "    mosaico = np.zeros((alto * num_filas, ancho * num_columnas, 3), dtype=np.uint8)\n",
    "\n",
    "    # Colocar las imágenes en el mosaico\n",
    "    for i, img in enumerate(imagenes):\n",
    "        fila = i // num_columnas\n",
    "        columna = i % num_columnas\n",
    "        mosaico[fila * alto:(fila + 1) * alto, columna * ancho:(columna + 1) * ancho] = img\n",
    "\n",
    "    return mosaico"
   ]
  },
  {
   "cell_type": "code",
   "execution_count": 40,
   "metadata": {
    "execution": {
     "iopub.execute_input": "2024-12-12T09:13:50.388456Z",
     "iopub.status.busy": "2024-12-12T09:13:50.388265Z",
     "iopub.status.idle": "2024-12-12T09:13:50.412172Z",
     "shell.execute_reply": "2024-12-12T09:13:50.411655Z"
    }
   },
   "outputs": [],
   "source": [
    "\n",
    "\n",
    "def create_gold_master(data,clases,out_dir):\n",
    "\n",
    "    fig, axes=plt.subplots(1,2,figsize=(10,5),gridspec_kw={'width_ratios': [1, 2]})\n",
    "    for d in tqdm(data):\n",
    "\n",
    "        filenamenpz=d['filename']\n",
    "        filenamejson=filenamenpz.replace(\".npz\",\".json\")\n",
    "        filenamepng=filenamenpz.replace(\".npz\",\".png\")\n",
    "        \n",
    "        scores=d['scores']\n",
    "        ground_truth=d['ground_truth']\n",
    "        gts=[v for k,v in ground_truth.items() if k in clases]\n",
    "        preds=[v for k,v in scores.items() if k in clases]\n",
    "        defectoss=[k for k,v in scores.items() if k in clases]\n",
    "        \n",
    "        #filenamejson=os.path.join(\"..\",filenamejson)\n",
    "        npzfilename=filenamejson.replace(\".json\",\".npz\")\n",
    "        npzfilename=os.path.join(\"..\",npzfilename)\n",
    "        filenamejson=os.path.join(\"..\",filenamejson)\n",
    "\n",
    "\n",
    "        imagenes=pycimg.npzread_torch(npzfilename,filenamejson,channel_list=['R','G','B'])\n",
    "        mosaico=crearMosaico(imagenes)\n",
    "    #Generar imágenes de los errores\n",
    "\n",
    "                \n",
    "        bn=os.path.basename(filenamejson)\n",
    "        bn=bn.replace(\".json\",\"\")        \n",
    "        #fig, axes=plt.subplots(1,2,gridspec_kw={'width_ratios': [1, 2]})\n",
    "\n",
    "        axes[0].bar(defectoss,gts)\n",
    "        axes[0].bar(defectoss,preds)\n",
    "\n",
    "        axes[0].tick_params(axis='x',rotation=90)\n",
    "        axes[0].set_ylim([0,1])\n",
    "        axes[0].set_yticks(np.arange(0, 1.1, 0.1))\n",
    "        axes[0].grid()\n",
    "\n",
    "\n",
    "\n",
    "        axes[1].imshow(mosaico)\n",
    "        axes[1].axis('off')\n",
    "        axes[1].set_title(f'{bn}')\n",
    "        nombre_fichero=os.path.join(out_dir,f\"{bn}.jpg\")\n",
    "        fig.savefig(nombre_fichero, bbox_inches='tight', dpi=300)\n",
    "        # Copy png npz and json to out_dir\n",
    "        target_png=os.path.join(out_dir,f\"{os.path.basename(filenamepng)}\")\n",
    "        target_json=os.path.join(out_dir,f\"{os.path.basename(filenamejson)}\")\n",
    "        pngname=os.path.join(\"..\",filenamepng)\n",
    "        if os.path.exists(pngname):\n",
    "            shutil.copyfile(pngname, target_png)\n",
    "        else:\n",
    "            print(f\"File {pngname} does not exist\")\n",
    "        shutil.copyfile(os.path.join(\"..\",filenamejson), target_json)\n",
    "        axes[0].clear()\n",
    "        axes[1].clear()\n",
    "\n",
    "\n",
    "def guess_labels(data,clases,out_dir):\n",
    "    '''\n",
    "    Para crear JSONS empleando las predicciones como anotaciones\n",
    "    '''\n",
    "\n",
    "    fig, axes=plt.subplots(1,2,figsize=(10,5),gridspec_kw={'width_ratios': [1, 2]})\n",
    "    for d in tqdm(data):\n",
    "\n",
    "        filenamenpz=d['filename']\n",
    "        filenamejson=filenamenpz.replace(\".npz\",\".json\")\n",
    "        filenamepng=filenamenpz.replace(\".npz\",\".png\")\n",
    "        \n",
    "        scores=d['scores']\n",
    "\n",
    "        preds=[v for k,v in scores.items() if k in clases]\n",
    "        gts=[int(p>0.5) for p in preds] ## IMPPRTANTE: Las etiquetas son las predicciones\n",
    "        \n",
    "        defectoss=[k for k,v in scores.items() if k in clases]\n",
    "        \n",
    "\n",
    "        npzfilename=filenamejson.replace(\".json\",\".npz\")\n",
    "        npzfilename=os.path.join(\"..\",npzfilename)\n",
    "        filenamejson=os.path.join(\"..\",filenamejson)\n",
    "        print(f\"filenamejson: {filenamejson}\")\n",
    "        with open(filenamejson, 'r') as f:\n",
    "            json_data= json.load(f)\n",
    "\n",
    "        #imagenes=pycimg.npzread_torch(npzfilename,filenamejson,channel_list=['R','G','B'])\n",
    "        #mosaico=crearMosaico(imagenes)\n",
    "    #Generar imágenes de los errores\n",
    "\n",
    "                \n",
    "        bn=os.path.basename(filenamejson)\n",
    "        bn=bn.replace(\".json\",\"\")        \n",
    "        #fig, axes=plt.subplots(1,2,gridspec_kw={'width_ratios': [1, 2]})\n",
    "\n",
    "        # axes[0].bar(defectoss,gts)\n",
    "        # axes[0].bar(defectoss,preds)\n",
    "\n",
    "        # axes[0].tick_params(axis='x',rotation=90)\n",
    "        # axes[0].set_ylim([0,1])\n",
    "        # axes[0].set_yticks(np.arange(0, 1.1, 0.1))\n",
    "        # axes[0].grid()\n",
    "\n",
    "\n",
    "\n",
    "        # axes[1].imshow(mosaico)\n",
    "        # axes[1].axis('off')\n",
    "        # axes[1].set_title(f'{bn}')\n",
    "        # nombre_fichero=os.path.join(out_dir,f\"{bn}.jpg\")\n",
    "        # fig.savefig(nombre_fichero, bbox_inches='tight', dpi=300)\n",
    "        # Copy png npz and json to out_dir\n",
    "        target_png=os.path.join(out_dir,f\"{os.path.basename(filenamepng)}\")\n",
    "        target_json=os.path.join(out_dir,f\"{os.path.basename(filenamejson)}\")\n",
    "        pngname=os.path.join(\"..\",filenamepng)\n",
    "        # if os.path.exists(pngname):\n",
    "        #     shutil.copyfile(pngname, target_png)\n",
    "        # else:\n",
    "        #     print(f\"File {pngname} does not exist\")\n",
    "        for k,clase in enumerate(clases):\n",
    "            json_data['annotations'][clase]=str(int(gts[k]))\n",
    "        with open(target_json, 'w') as f:\n",
    "            json.dump(json_data, f, indent=4)\n",
    "        axes[0].clear()\n",
    "        axes[1].clear()\n",
    "    plt.close(fig)\n",
    "\n",
    "def create_gold_master_pdf(data,clases,pdfname):\n",
    "\n",
    "    with PdfPages(pdfname) as pdf:\n",
    "        fig, axes=plt.subplots(1,2,figsize=(10,5),gridspec_kw={'width_ratios': [1, 2]})\n",
    "        for d in tqdm(data):\n",
    "\n",
    "            filenamenpz=d['filename']\n",
    "            filenamejson=filenamenpz.replace(\".npz\",\".json\")\n",
    "            filenamepng=filenamenpz.replace(\".npz\",\".png\")\n",
    "            \n",
    "            scores=d['scores']\n",
    "            ground_truth=d['ground_truth']\n",
    "            gts=[v for k,v in ground_truth.items() if k in clases]\n",
    "            preds=[v for k,v in scores.items() if k in clases]\n",
    "            defectoss=[k for k,v in scores.items() if k in clases]\n",
    "            \n",
    "            kk=os.path.join(\"..\",filenamejson)\n",
    "            npzfilename=kk.replace(\".json\",\".npz\")\n",
    "\n",
    "\n",
    "            imagenes=pycimg.npzread_torch(npzfilename,kk,channel_list=['R','G','B'])\n",
    "            mosaico=crearMosaico(imagenes)\n",
    "        #Generar imágenes de los errores\n",
    "\n",
    "                    \n",
    "            bn=os.path.basename(filenamejson)\n",
    "            bn=bn.replace(\".json\",\"\")        \n",
    "            #fig, axes=plt.subplots(1,2,gridspec_kw={'width_ratios': [1, 2]})\n",
    "\n",
    "            axes[0].bar(defectoss,gts)\n",
    "            axes[0].bar(defectoss,preds)\n",
    "\n",
    "            axes[0].tick_params(axis='x',rotation=90)\n",
    "            axes[0].set_ylim([0,1])\n",
    "            axes[0].set_yticks(np.arange(0, 1.1, 0.1))\n",
    "            axes[0].grid()\n",
    "\n",
    "\n",
    "\n",
    "            axes[1].imshow(mosaico)\n",
    "            axes[1].axis('off')\n",
    "            axes[1].set_title(f'{bn}')\n",
    "            \n",
    "            pdf.savefig(fig, bbox_inches='tight', dpi=300)\n",
    "            \n",
    "            axes[0].clear()\n",
    "            axes[1].clear()        \n",
    "\n",
    "        \n"
   ]
  },
  {
   "cell_type": "code",
   "execution_count": 41,
   "metadata": {},
   "outputs": [],
   "source": [
    "## Leer los archivos\n",
    "test_results_json=\"../out_imagsSara/test_scores.json\"\n",
    "\n",
    "\n",
    "with open(test_results_json, \"r\") as f:\n",
    "    test_dict = json.load(f)    \n",
    "\n",
    "clases=list(test_dict['test_results'][0]['ground_truth'].keys())\n",
    "test_data = test_dict['test_results']\n",
    "\n",
    "\n",
    "# print(len(test_data))\n",
    "# out_dir=\"/home/aalbiol/Desktop/imgs_Sara\"\n",
    "# Path(out_dir).mkdir(parents=True, exist_ok=True)\n",
    "# create_gold_master(test_data,clases,out_dir)\n",
    "\n",
    "\n"
   ]
  },
  {
   "cell_type": "code",
   "execution_count": 43,
   "metadata": {},
   "outputs": [
    {
     "name": "stdout",
     "output_type": "stream",
     "text": [
      "548\n"
     ]
    },
    {
     "name": "stderr",
     "output_type": "stream",
     "text": [
      "  0%|          | 0/548 [00:00<?, ?it/s]"
     ]
    },
    {
     "name": "stderr",
     "output_type": "stream",
     "text": [
      "  2%|▏         | 11/548 [00:00<00:05, 101.53it/s]"
     ]
    },
    {
     "name": "stdout",
     "output_type": "stream",
     "text": [
      "filenamejson: ../data/imgsSara/20250422decay/20250508_1658_000149.json\n",
      "filenamejson: ../data/imgsSara/20250422decay/20250508_1657_000142.json\n",
      "filenamejson: ../data/imgsSara/20250422decay/20250508_1658_000150.json\n",
      "filenamejson: ../data/imgsSara/20250422decay/20250508_1658_002134.json\n",
      "filenamejson: ../data/imgsSara/20250422decay/20250508_1658_000152.json\n",
      "filenamejson: ../data/imgsSara/20250422decay/20250508_1658_000146.json\n",
      "filenamejson: ../data/imgsSara/20250422decay/20250508_1658_000145.json\n",
      "filenamejson: ../data/imgsSara/20250422decay/20250508_1658_000147.json\n",
      "filenamejson: ../data/imgsSara/20250422decay/20250508_1658_000151.json\n",
      "filenamejson: ../data/imgsSara/20250422decay/20250508_1659_000153.json\n",
      "filenamejson: ../data/imgsSara/20250422decay/20250508_1657_002133.json\n",
      "filenamejson: ../data/imgsSara/20250422decay/20250508_1657_000143.json\n",
      "filenamejson: ../data/imgsSara/20250422decay/20250508_1657_000144.json\n",
      "filenamejson: ../data/imgsSara/20250422decay/20250508_1658_000148.json\n",
      "filenamejson: ../data/imgsSara/20250422lightscars/20250508_1723_000204.json\n",
      "filenamejson: ../data/imgsSara/20250422lightscars/20250508_1722_002160.json\n",
      "filenamejson: ../data/imgsSara/20250422lightscars/20250508_1722_002156.json\n",
      "filenamejson: ../data/imgsSara/20250422lightscars/20250508_1721_002149.json\n",
      "filenamejson: ../data/imgsSara/20250422lightscars/20250508_1722_000199.json\n",
      "filenamejson: ../data/imgsSara/20250422lightscars/20250508_1722_000195.json\n",
      "filenamejson: ../data/imgsSara/20250422lightscars/20250508_1722_002155.json\n"
     ]
    },
    {
     "name": "stderr",
     "output_type": "stream",
     "text": [
      "  6%|▌         | 33/548 [00:00<00:05, 101.32it/s]"
     ]
    },
    {
     "name": "stdout",
     "output_type": "stream",
     "text": [
      "filenamejson: ../data/imgsSara/20250422lightscars/20250508_1722_000202.json\n",
      "filenamejson: ../data/imgsSara/20250422lightscars/20250508_1722_000191.json\n",
      "filenamejson: ../data/imgsSara/20250422lightscars/20250508_1722_002154.json\n",
      "filenamejson: ../data/imgsSara/20250422lightscars/20250508_1723_002162.json\n",
      "filenamejson: ../data/imgsSara/20250422lightscars/20250508_1721_000189.json\n",
      "filenamejson: ../data/imgsSara/20250422lightscars/20250508_1721_002150.json\n",
      "filenamejson: ../data/imgsSara/20250422lightscars/20250508_1723_000207.json\n",
      "filenamejson: ../data/imgsSara/20250422lightscars/20250508_1722_000196.json\n",
      "filenamejson: ../data/imgsSara/20250422lightscars/20250508_1721_002147.json\n",
      "filenamejson: ../data/imgsSara/20250422lightscars/20250508_1721_002148.json\n",
      "filenamejson: ../data/imgsSara/20250422lightscars/20250508_1721_002151.json\n",
      "filenamejson: ../data/imgsSara/20250422lightscars/20250508_1722_002157.json\n",
      "filenamejson: ../data/imgsSara/20250422lightscars/20250508_1722_002161.json\n",
      "filenamejson: ../data/imgsSara/20250422lightscars/20250508_1722_000198.json\n",
      "filenamejson: ../data/imgsSara/20250422lightscars/20250508_1721_000188.json\n",
      "filenamejson: ../data/imgsSara/20250422lightscars/20250508_1722_002159.json\n",
      "filenamejson: ../data/imgsSara/20250422lightscars/20250508_1722_000197.json\n",
      "filenamejson: ../data/imgsSara/20250422lightscars/20250508_1722_000203.json\n",
      "filenamejson: ../data/imgsSara/20250422lightscars/20250508_1722_000193.json\n",
      "filenamejson: ../data/imgsSara/20250422lightscars/20250508_1721_000187.json\n",
      "filenamejson: ../data/imgsSara/20250422lightscars/20250508_1723_000205.json\n",
      "filenamejson: ../data/imgsSara/20250422lightscars/20250508_1723_000206.json\n"
     ]
    },
    {
     "name": "stderr",
     "output_type": "stream",
     "text": [
      " 10%|█         | 55/548 [00:00<00:04, 102.16it/s]"
     ]
    },
    {
     "name": "stdout",
     "output_type": "stream",
     "text": [
      "filenamejson: ../data/imgsSara/20250422lightscars/20250508_1722_000192.json\n",
      "filenamejson: ../data/imgsSara/20250422lightscars/20250508_1721_002153.json\n",
      "filenamejson: ../data/imgsSara/20250422lightscars/20250508_1722_002158.json\n",
      "filenamejson: ../data/imgsSara/20250422lightscars/20250508_1722_000201.json\n",
      "filenamejson: ../data/imgsSara/20250422lightscars/20250508_1721_002152.json\n",
      "filenamejson: ../data/imgsSara/20250422lightscars/20250508_1722_000190.json\n",
      "filenamejson: ../data/imgsSara/20250422lightscars/20250508_1722_000194.json\n",
      "filenamejson: ../data/imgsSara/20250422lightscars/20250508_1722_000200.json\n",
      "filenamejson: ../data/imgsSara/20250422surface/20250509_0850_002043.json\n",
      "filenamejson: ../data/imgsSara/20250422surface/20250509_0851_000040.json\n",
      "filenamejson: ../data/imgsSara/20250422surface/20250509_0850_000039.json\n",
      "filenamejson: ../data/imgsSara/20250422surface/20250509_0850_002042.json\n",
      "filenamejson: ../data/imgsSara/20250422surface/20250509_0850_002041.json\n",
      "filenamejson: ../data/imgsSara/20250422surface/20250509_0851_002044.json\n",
      "filenamejson: ../data/imgsSara/20250422whiterotten/20250509_0901_000042.json\n",
      "filenamejson: ../data/imgsSara/20250422whiterotten/20250509_0902_000044.json\n",
      "filenamejson: ../data/imgsSara/20250422whiterotten/20250509_0902_000043.json\n",
      "filenamejson: ../data/imgsSara/20250422whiterotten/20250509_0901_000041.json\n",
      "filenamejson: ../data/imgsSara/20250422whiterotten/20250509_0903_000045.json\n",
      "filenamejson: ../data/imgsSara/20250422whiterotten/20250509_0903_000046.json\n",
      "filenamejson: ../data/imgsSara/20250422whiterotten/20250509_0904_000047.json\n"
     ]
    },
    {
     "name": "stderr",
     "output_type": "stream",
     "text": [
      " 12%|█▏        | 66/548 [00:00<00:04, 101.59it/s]"
     ]
    },
    {
     "name": "stdout",
     "output_type": "stream",
     "text": [
      "filenamejson: ../data/imgsSara/20250422cracks/20250508_1619_000140.json\n",
      "filenamejson: ../data/imgsSara/20250422cracks/20250508_1619_002132.json\n",
      "filenamejson: ../data/imgsSara/20250422cracks/20250508_1619_000141.json\n",
      "filenamejson: ../data/imgsSara/20250422insect/20250508_1714_002141.json\n",
      "filenamejson: ../data/imgsSara/20250422insect/20250508_1715_002145.json\n",
      "filenamejson: ../data/imgsSara/20250422insect/20250508_1714_000168.json\n",
      "filenamejson: ../data/imgsSara/20250422insect/20250508_1714_000169.json\n",
      "filenamejson: ../data/imgsSara/20250422insect/20250508_1714_002142.json\n",
      "filenamejson: ../data/imgsSara/20250422insect/20250508_1715_000181.json\n"
     ]
    },
    {
     "name": "stderr",
     "output_type": "stream",
     "text": [
      " 16%|█▌        | 88/548 [00:00<00:05, 80.01it/s] "
     ]
    },
    {
     "name": "stdout",
     "output_type": "stream",
     "text": [
      "filenamejson: ../data/imgsSara/20250422insect/20250508_1715_000186.json\n",
      "filenamejson: ../data/imgsSara/20250422insect/20250508_1714_002138.json\n",
      "filenamejson: ../data/imgsSara/20250422insect/20250508_1714_000157.json\n",
      "filenamejson: ../data/imgsSara/20250422insect/20250508_1715_000185.json\n",
      "filenamejson: ../data/imgsSara/20250422insect/20250508_1714_000163.json\n",
      "filenamejson: ../data/imgsSara/20250422insect/20250508_1714_000161.json\n",
      "filenamejson: ../data/imgsSara/20250422insect/20250508_1714_000166.json\n",
      "filenamejson: ../data/imgsSara/20250422insect/20250508_1714_000172.json\n",
      "filenamejson: ../data/imgsSara/20250422insect/20250508_1714_002140.json\n",
      "filenamejson: ../data/imgsSara/20250422insect/20250508_1714_000160.json\n",
      "filenamejson: ../data/imgsSara/20250422insect/20250508_1714_000162.json\n",
      "filenamejson: ../data/imgsSara/20250422insect/20250508_1714_002135.json\n",
      "filenamejson: ../data/imgsSara/20250422insect/20250508_1714_002137.json\n",
      "filenamejson: ../data/imgsSara/20250422insect/20250508_1714_000155.json\n",
      "filenamejson: ../data/imgsSara/20250422insect/20250508_1715_002143.json\n",
      "filenamejson: ../data/imgsSara/20250422insect/20250508_1714_000167.json\n",
      "filenamejson: ../data/imgsSara/20250422insect/20250508_1715_002146.json\n",
      "filenamejson: ../data/imgsSara/20250422insect/20250508_1715_000178.json\n",
      "filenamejson: ../data/imgsSara/20250422insect/20250508_1714_000179.json\n",
      "filenamejson: ../data/imgsSara/20250422insect/20250508_1714_000158.json\n",
      "filenamejson: ../data/imgsSara/20250422insect/20250508_1715_000183.json\n",
      "filenamejson: ../data/imgsSara/20250422insect/20250508_1714_000156.json\n",
      "filenamejson: ../data/imgsSara/20250422insect/20250508_1715_000182.json\n"
     ]
    },
    {
     "name": "stderr",
     "output_type": "stream",
     "text": [
      " 20%|██        | 110/548 [00:01<00:04, 91.08it/s]"
     ]
    },
    {
     "name": "stdout",
     "output_type": "stream",
     "text": [
      "filenamejson: ../data/imgsSara/20250422insect/20250508_1714_000175.json\n",
      "filenamejson: ../data/imgsSara/20250422insect/20250508_1714_000174.json\n",
      "filenamejson: ../data/imgsSara/20250422insect/20250508_1714_000171.json\n",
      "filenamejson: ../data/imgsSara/20250422insect/20250508_1714_000177.json\n",
      "filenamejson: ../data/imgsSara/20250422insect/20250508_1714_002136.json\n",
      "filenamejson: ../data/imgsSara/20250422insect/20250508_1714_000165.json\n",
      "filenamejson: ../data/imgsSara/20250422insect/20250508_1714_000176.json\n",
      "filenamejson: ../data/imgsSara/20250422insect/20250508_1714_002139.json\n",
      "filenamejson: ../data/imgsSara/20250422insect/20250508_1715_000184.json\n",
      "filenamejson: ../data/imgsSara/20250422insect/20250508_1714_000173.json\n",
      "filenamejson: ../data/imgsSara/20250422insect/20250508_1714_000170.json\n",
      "filenamejson: ../data/imgsSara/20250422insect/20250508_1714_000164.json\n",
      "filenamejson: ../data/imgsSara/20250422insect/20250508_1714_000159.json\n",
      "filenamejson: ../data/imgsSara/20250422insect/20250508_1715_002144.json\n",
      "filenamejson: ../data/imgsSara/20250422insect/20250508_1714_000180.json\n",
      "filenamejson: ../data/imgsSara/20250422scars/20250509_0840_002031.json\n",
      "filenamejson: ../data/imgsSara/20250422scars/20250509_0845_002038.json\n",
      "filenamejson: ../data/imgsSara/20250422scars/20250509_0840_002035.json\n",
      "filenamejson: ../data/imgsSara/20250422scars/20250509_0846_002039.json\n",
      "filenamejson: ../data/imgsSara/20250422scars/20250509_0846_002040.json\n",
      "filenamejson: ../data/imgsSara/20250422scars/20250509_0840_002036.json\n",
      "filenamejson: ../data/imgsSara/20250422scars/20250509_0840_002037.json\n"
     ]
    },
    {
     "name": "stderr",
     "output_type": "stream",
     "text": [
      " 24%|██▍       | 131/548 [00:01<00:04, 94.12it/s]"
     ]
    },
    {
     "name": "stdout",
     "output_type": "stream",
     "text": [
      "filenamejson: ../data/imgsSara/20250422scars/20250509_0840_002034.json\n",
      "filenamejson: ../data/imgsSara/20250422scars/20250509_0840_002032.json\n",
      "filenamejson: ../data/imgsSara/20250422scars/20250509_0840_002029.json\n",
      "filenamejson: ../data/imgsSara/20250422scars/20250509_0840_000038.json\n",
      "filenamejson: ../data/imgsSara/20250422scars/20250509_0840_002030.json\n",
      "filenamejson: ../data/imgsSara/20250422scars/20250509_0840_002033.json\n",
      "filenamejson: ../data/imgsSara/20250423_121606_produccionnaranja/20250508_1727_000220.json\n",
      "filenamejson: ../data/imgsSara/20250423_121606_produccionnaranja/20250508_1730_002216.json\n",
      "filenamejson: ../data/imgsSara/20250423_121606_produccionnaranja/20250508_1730_000272.json\n",
      "filenamejson: ../data/imgsSara/20250423_121606_produccionnaranja/20250508_1728_000236.json\n",
      "filenamejson: ../data/imgsSara/20250423_121606_produccionnaranja/20250508_1728_002184.json\n",
      "filenamejson: ../data/imgsSara/20250423_121606_produccionnaranja/20250508_1730_000274.json\n",
      "filenamejson: ../data/imgsSara/20250423_121606_produccionnaranja/20250508_1727_002168.json\n",
      "filenamejson: ../data/imgsSara/20250423_121606_produccionnaranja/20250508_1727_000224.json\n",
      "filenamejson: ../data/imgsSara/20250423_121606_produccionnaranja/20250508_1734_002257.json\n",
      "filenamejson: ../data/imgsSara/20250423_121606_produccionnaranja/20250508_1728_000227.json\n",
      "filenamejson: ../data/imgsSara/20250423_121606_produccionnaranja/20250508_1729_000259.json\n",
      "filenamejson: ../data/imgsSara/20250423_121606_produccionnaranja/20250508_1729_002202.json\n",
      "filenamejson: ../data/imgsSara/20250423_121606_produccionnaranja/20250508_1734_002260.json\n",
      "filenamejson: ../data/imgsSara/20250423_121606_produccionnaranja/20250508_1728_000237.json\n",
      "filenamejson: ../data/imgsSara/20250423_121606_produccionnaranja/20250508_1731_000281.json\n"
     ]
    },
    {
     "name": "stderr",
     "output_type": "stream",
     "text": [
      " 28%|██▊       | 151/548 [00:01<00:04, 94.07it/s]"
     ]
    },
    {
     "name": "stdout",
     "output_type": "stream",
     "text": [
      "filenamejson: ../data/imgsSara/20250423_121606_produccionnaranja/20250508_1732_002243.json\n",
      "filenamejson: ../data/imgsSara/20250423_121606_produccionnaranja/20250508_1732_000295.json\n",
      "filenamejson: ../data/imgsSara/20250423_121606_produccionnaranja/20250508_1728_000241.json\n",
      "filenamejson: ../data/imgsSara/20250423_121606_produccionnaranja/20250508_1733_000309.json\n",
      "filenamejson: ../data/imgsSara/20250423_121606_produccionnaranja/20250508_1727_002167.json\n",
      "filenamejson: ../data/imgsSara/20250423_121606_produccionnaranja/20250508_1729_000254.json\n",
      "filenamejson: ../data/imgsSara/20250423_121606_produccionnaranja/20250508_1730_002211.json\n",
      "filenamejson: ../data/imgsSara/20250423_121606_produccionnaranja/20250508_1732_000294.json\n",
      "filenamejson: ../data/imgsSara/20250423_121606_produccionnaranja/20250508_1733_002248.json\n",
      "filenamejson: ../data/imgsSara/20250423_121606_produccionnaranja/20250508_1727_000210.json\n",
      "filenamejson: ../data/imgsSara/20250423_121606_produccionnaranja/20250508_1727_000217.json\n",
      "filenamejson: ../data/imgsSara/20250423_121606_produccionnaranja/20250508_1732_000292.json\n",
      "filenamejson: ../data/imgsSara/20250423_121606_produccionnaranja/20250508_1730_000267.json\n",
      "filenamejson: ../data/imgsSara/20250423_121606_produccionnaranja/20250508_1733_000310.json\n",
      "filenamejson: ../data/imgsSara/20250423_121606_produccionnaranja/20250508_1735_000332.json\n",
      "filenamejson: ../data/imgsSara/20250423_121606_produccionnaranja/20250508_1727_000218.json\n",
      "filenamejson: ../data/imgsSara/20250423_121606_produccionnaranja/20250508_1728_002182.json\n",
      "filenamejson: ../data/imgsSara/20250423_121606_produccionnaranja/20250508_1728_002190.json\n",
      "filenamejson: ../data/imgsSara/20250423_121606_produccionnaranja/20250508_1729_000260.json\n",
      "filenamejson: ../data/imgsSara/20250423_121606_produccionnaranja/20250508_1729_000255.json\n",
      "filenamejson: ../data/imgsSara/20250423_121606_produccionnaranja/20250508_1734_000314.json\n"
     ]
    },
    {
     "name": "stderr",
     "output_type": "stream",
     "text": [
      " 32%|███▏      | 173/548 [00:01<00:03, 95.63it/s]"
     ]
    },
    {
     "name": "stdout",
     "output_type": "stream",
     "text": [
      "filenamejson: ../data/imgsSara/20250423_121606_produccionnaranja/20250508_1729_000248.json\n",
      "filenamejson: ../data/imgsSara/20250423_121606_produccionnaranja/20250508_1729_002193.json\n",
      "filenamejson: ../data/imgsSara/20250423_121606_produccionnaranja/20250508_1732_002239.json\n",
      "filenamejson: ../data/imgsSara/20250423_121606_produccionnaranja/20250508_1730_002217.json\n",
      "filenamejson: ../data/imgsSara/20250423_121606_produccionnaranja/20250508_1734_000320.json\n",
      "filenamejson: ../data/imgsSara/20250423_121606_produccionnaranja/20250508_1735_000324.json\n",
      "filenamejson: ../data/imgsSara/20250423_121606_produccionnaranja/20250508_1727_000208.json\n",
      "filenamejson: ../data/imgsSara/20250423_121606_produccionnaranja/20250508_1730_002214.json\n",
      "filenamejson: ../data/imgsSara/20250423_121606_produccionnaranja/20250508_1734_000318.json\n",
      "filenamejson: ../data/imgsSara/20250423_121606_produccionnaranja/20250508_1728_002176.json\n",
      "filenamejson: ../data/imgsSara/20250423_121606_produccionnaranja/20250508_1731_002226.json\n",
      "filenamejson: ../data/imgsSara/20250423_121606_produccionnaranja/20250508_1734_000317.json\n",
      "filenamejson: ../data/imgsSara/20250423_121606_produccionnaranja/20250508_1732_002236.json\n",
      "filenamejson: ../data/imgsSara/20250423_121606_produccionnaranja/20250508_1728_002177.json\n",
      "filenamejson: ../data/imgsSara/20250423_121606_produccionnaranja/20250508_1729_000252.json\n",
      "filenamejson: ../data/imgsSara/20250423_121606_produccionnaranja/20250508_1730_000275.json\n"
     ]
    },
    {
     "name": "stderr",
     "output_type": "stream",
     "text": [
      " 35%|███▌      | 194/548 [00:02<00:03, 89.10it/s]"
     ]
    },
    {
     "name": "stdout",
     "output_type": "stream",
     "text": [
      "filenamejson: ../data/imgsSara/20250423_121606_produccionnaranja/20250508_1730_002223.json\n",
      "filenamejson: ../data/imgsSara/20250423_121606_produccionnaranja/20250508_1735_000327.json\n",
      "filenamejson: ../data/imgsSara/20250423_121606_produccionnaranja/20250508_1729_002194.json\n",
      "filenamejson: ../data/imgsSara/20250423_121606_produccionnaranja/20250508_1733_002249.json\n",
      "filenamejson: ../data/imgsSara/20250423_121606_produccionnaranja/20250508_1727_000209.json\n",
      "filenamejson: ../data/imgsSara/20250423_121606_produccionnaranja/20250508_1735_000341.json\n",
      "filenamejson: ../data/imgsSara/20250423_121606_produccionnaranja/20250508_1729_002205.json\n",
      "filenamejson: ../data/imgsSara/20250423_121606_produccionnaranja/20250508_1734_000321.json\n",
      "filenamejson: ../data/imgsSara/20250423_121606_produccionnaranja/20250508_1734_000312.json\n",
      "filenamejson: ../data/imgsSara/20250423_121606_produccionnaranja/20250508_1729_002203.json\n",
      "filenamejson: ../data/imgsSara/20250423_121606_produccionnaranja/20250508_1730_002215.json\n",
      "filenamejson: ../data/imgsSara/20250423_121606_produccionnaranja/20250508_1728_000228.json\n",
      "filenamejson: ../data/imgsSara/20250423_121606_produccionnaranja/20250508_1727_000222.json\n",
      "filenamejson: ../data/imgsSara/20250423_121606_produccionnaranja/20250508_1728_002175.json\n",
      "filenamejson: ../data/imgsSara/20250423_121606_produccionnaranja/20250508_1734_000325.json\n",
      "filenamejson: ../data/imgsSara/20250423_121606_produccionnaranja/20250508_1728_002181.json\n",
      "filenamejson: ../data/imgsSara/20250423_121606_produccionnaranja/20250508_1731_000278.json\n",
      "filenamejson: ../data/imgsSara/20250423_121606_produccionnaranja/20250508_1734_002254.json\n",
      "filenamejson: ../data/imgsSara/20250423_121606_produccionnaranja/20250508_1734_000311.json\n",
      "filenamejson: ../data/imgsSara/20250423_121606_produccionnaranja/20250508_1731_000282.json\n",
      "filenamejson: ../data/imgsSara/20250423_121606_produccionnaranja/20250508_1728_000233.json\n",
      "filenamejson: ../data/imgsSara/20250423_121606_produccionnaranja/20250508_1728_002187.json\n"
     ]
    },
    {
     "name": "stderr",
     "output_type": "stream",
     "text": [
      " 37%|███▋      | 205/548 [00:02<00:03, 93.13it/s]"
     ]
    },
    {
     "name": "stdout",
     "output_type": "stream",
     "text": [
      "filenamejson: ../data/imgsSara/20250423_121606_produccionnaranja/20250508_1730_000270.json\n",
      "filenamejson: ../data/imgsSara/20250423_121606_produccionnaranja/20250508_1729_000250.json\n",
      "filenamejson: ../data/imgsSara/20250423_121606_produccionnaranja/20250508_1727_002174.json\n",
      "filenamejson: ../data/imgsSara/20250423_121606_produccionnaranja/20250508_1730_002218.json\n",
      "filenamejson: ../data/imgsSara/20250423_121606_produccionnaranja/20250508_1731_000283.json\n",
      "filenamejson: ../data/imgsSara/20250423_121606_produccionnaranja/20250508_1732_002241.json\n",
      "filenamejson: ../data/imgsSara/20250423_121606_produccionnaranja/20250508_1728_002186.json\n",
      "filenamejson: ../data/imgsSara/20250423_121606_produccionnaranja/20250508_1729_002201.json\n",
      "filenamejson: ../data/imgsSara/20250423_121606_produccionnaranja/20250508_1729_002207.json\n",
      "filenamejson: ../data/imgsSara/20250423_121606_produccionnaranja/20250508_1735_002262.json\n",
      "filenamejson: ../data/imgsSara/20250423_121606_produccionnaranja/20250508_1731_002231.json\n",
      "filenamejson: ../data/imgsSara/20250423_121606_produccionnaranja/20250508_1729_000246.json\n",
      "filenamejson: ../data/imgsSara/20250423_121606_produccionnaranja/20250508_1734_002256.json\n",
      "filenamejson: ../data/imgsSara/20250423_121606_produccionnaranja/20250508_1731_002228.json\n",
      "filenamejson: ../data/imgsSara/20250423_121606_produccionnaranja/20250508_1733_000306.json\n",
      "filenamejson: ../data/imgsSara/20250423_121606_produccionnaranja/20250508_1733_002247.json\n"
     ]
    },
    {
     "name": "stderr",
     "output_type": "stream",
     "text": [
      " 41%|████      | 225/548 [00:02<00:04, 77.04it/s]"
     ]
    },
    {
     "name": "stdout",
     "output_type": "stream",
     "text": [
      "filenamejson: ../data/imgsSara/20250423_121606_produccionnaranja/20250508_1735_000336.json\n",
      "filenamejson: ../data/imgsSara/20250423_121606_produccionnaranja/20250508_1727_002164.json\n",
      "filenamejson: ../data/imgsSara/20250423_121606_produccionnaranja/20250508_1732_002244.json\n",
      "filenamejson: ../data/imgsSara/20250423_121606_produccionnaranja/20250508_1727_000214.json\n",
      "filenamejson: ../data/imgsSara/20250423_121606_produccionnaranja/20250508_1729_002196.json\n",
      "filenamejson: ../data/imgsSara/20250423_121606_produccionnaranja/20250508_1727_000213.json\n",
      "filenamejson: ../data/imgsSara/20250423_121606_produccionnaranja/20250508_1734_000319.json\n",
      "filenamejson: ../data/imgsSara/20250423_121606_produccionnaranja/20250508_1727_000215.json\n",
      "filenamejson: ../data/imgsSara/20250423_121606_produccionnaranja/20250508_1727_002165.json\n",
      "filenamejson: ../data/imgsSara/20250423_121606_produccionnaranja/20250508_1729_002204.json\n",
      "filenamejson: ../data/imgsSara/20250423_121606_produccionnaranja/20250508_1728_000239.json\n",
      "filenamejson: ../data/imgsSara/20250423_121606_produccionnaranja/20250508_1730_000266.json\n",
      "filenamejson: ../data/imgsSara/20250423_121606_produccionnaranja/20250508_1730_000276.json\n",
      "filenamejson: ../data/imgsSara/20250423_121606_produccionnaranja/20250508_1727_002170.json\n",
      "filenamejson: ../data/imgsSara/20250423_121606_produccionnaranja/20250508_1731_002230.json\n",
      "filenamejson: ../data/imgsSara/20250423_121606_produccionnaranja/20250508_1727_002166.json\n",
      "filenamejson: ../data/imgsSara/20250423_121606_produccionnaranja/20250508_1728_002189.json\n",
      "filenamejson: ../data/imgsSara/20250423_121606_produccionnaranja/20250508_1728_002192.json\n",
      "filenamejson: ../data/imgsSara/20250423_121606_produccionnaranja/20250508_1727_000221.json\n",
      "filenamejson: ../data/imgsSara/20250423_121606_produccionnaranja/20250508_1730_002224.json\n",
      "filenamejson: ../data/imgsSara/20250423_121606_produccionnaranja/20250508_1729_002195.json\n"
     ]
    },
    {
     "name": "stderr",
     "output_type": "stream",
     "text": [
      " 45%|████▌     | 247/548 [00:02<00:03, 88.63it/s]"
     ]
    },
    {
     "name": "stdout",
     "output_type": "stream",
     "text": [
      "filenamejson: ../data/imgsSara/20250423_121606_produccionnaranja/20250508_1730_000261.json\n",
      "filenamejson: ../data/imgsSara/20250423_121606_produccionnaranja/20250508_1731_000280.json\n",
      "filenamejson: ../data/imgsSara/20250423_121606_produccionnaranja/20250508_1734_000316.json\n",
      "filenamejson: ../data/imgsSara/20250423_121606_produccionnaranja/20250508_1735_000334.json\n",
      "filenamejson: ../data/imgsSara/20250423_121606_produccionnaranja/20250508_1734_002258.json\n",
      "filenamejson: ../data/imgsSara/20250423_121606_produccionnaranja/20250508_1729_000249.json\n",
      "filenamejson: ../data/imgsSara/20250423_121606_produccionnaranja/20250508_1729_002199.json\n",
      "filenamejson: ../data/imgsSara/20250423_121606_produccionnaranja/20250508_1731_000287.json\n",
      "filenamejson: ../data/imgsSara/20250423_121606_produccionnaranja/20250508_1727_002171.json\n",
      "filenamejson: ../data/imgsSara/20250423_121606_produccionnaranja/20250508_1730_000268.json\n",
      "filenamejson: ../data/imgsSara/20250423_121606_produccionnaranja/20250508_1735_000331.json\n",
      "filenamejson: ../data/imgsSara/20250423_121606_produccionnaranja/20250508_1727_000216.json\n",
      "filenamejson: ../data/imgsSara/20250423_121606_produccionnaranja/20250508_1732_002234.json\n",
      "filenamejson: ../data/imgsSara/20250423_121606_produccionnaranja/20250508_1728_002188.json\n",
      "filenamejson: ../data/imgsSara/20250423_121606_produccionnaranja/20250508_1735_000329.json\n",
      "filenamejson: ../data/imgsSara/20250423_121606_produccionnaranja/20250508_1732_000304.json\n",
      "filenamejson: ../data/imgsSara/20250423_121606_produccionnaranja/20250508_1732_000297.json\n",
      "filenamejson: ../data/imgsSara/20250423_121606_produccionnaranja/20250508_1727_000212.json\n",
      "filenamejson: ../data/imgsSara/20250423_121606_produccionnaranja/20250508_1727_000219.json\n",
      "filenamejson: ../data/imgsSara/20250423_121606_produccionnaranja/20250508_1732_000302.json\n",
      "filenamejson: ../data/imgsSara/20250423_121606_produccionnaranja/20250508_1730_002212.json\n",
      "filenamejson: ../data/imgsSara/20250423_121606_produccionnaranja/20250508_1734_000313.json\n"
     ]
    },
    {
     "name": "stderr",
     "output_type": "stream",
     "text": [
      " 49%|████▉     | 269/548 [00:02<00:02, 96.11it/s]"
     ]
    },
    {
     "name": "stdout",
     "output_type": "stream",
     "text": [
      "filenamejson: ../data/imgsSara/20250423_121606_produccionnaranja/20250508_1729_000257.json\n",
      "filenamejson: ../data/imgsSara/20250423_121606_produccionnaranja/20250508_1727_000223.json\n",
      "filenamejson: ../data/imgsSara/20250423_121606_produccionnaranja/20250508_1729_000256.json\n",
      "filenamejson: ../data/imgsSara/20250423_121606_produccionnaranja/20250508_1732_000296.json\n",
      "filenamejson: ../data/imgsSara/20250423_121606_produccionnaranja/20250508_1732_002238.json\n",
      "filenamejson: ../data/imgsSara/20250423_121606_produccionnaranja/20250508_1728_000229.json\n",
      "filenamejson: ../data/imgsSara/20250423_121606_produccionnaranja/20250508_1732_000303.json\n",
      "filenamejson: ../data/imgsSara/20250423_121606_produccionnaranja/20250508_1732_002237.json\n",
      "filenamejson: ../data/imgsSara/20250423_121606_produccionnaranja/20250508_1729_002197.json\n",
      "filenamejson: ../data/imgsSara/20250423_121606_produccionnaranja/20250508_1731_002232.json\n",
      "filenamejson: ../data/imgsSara/20250423_121606_produccionnaranja/20250508_1728_002179.json\n",
      "filenamejson: ../data/imgsSara/20250423_121606_produccionnaranja/20250508_1728_000243.json\n",
      "filenamejson: ../data/imgsSara/20250423_121606_produccionnaranja/20250508_1735_002259.json\n",
      "filenamejson: ../data/imgsSara/20250423_121606_produccionnaranja/20250508_1734_000315.json\n",
      "filenamejson: ../data/imgsSara/20250423_121606_produccionnaranja/20250508_1729_000253.json\n",
      "filenamejson: ../data/imgsSara/20250423_121606_produccionnaranja/20250508_1734_002255.json\n",
      "filenamejson: ../data/imgsSara/20250423_121606_produccionnaranja/20250508_1730_002208.json\n",
      "filenamejson: ../data/imgsSara/20250423_121606_produccionnaranja/20250508_1732_000293.json\n",
      "filenamejson: ../data/imgsSara/20250423_121606_produccionnaranja/20250508_1735_000330.json\n",
      "filenamejson: ../data/imgsSara/20250423_121606_produccionnaranja/20250508_1728_000242.json\n",
      "filenamejson: ../data/imgsSara/20250423_121606_produccionnaranja/20250508_1729_002198.json\n",
      "filenamejson: ../data/imgsSara/20250423_121606_produccionnaranja/20250508_1730_000262.json\n",
      "filenamejson: ../data/imgsSara/20250423_121606_produccionnaranja/20250508_1734_002253.json\n"
     ]
    },
    {
     "name": "stderr",
     "output_type": "stream",
     "text": [
      " 53%|█████▎    | 291/548 [00:03<00:02, 100.77it/s]"
     ]
    },
    {
     "name": "stdout",
     "output_type": "stream",
     "text": [
      "filenamejson: ../data/imgsSara/20250423_121606_produccionnaranja/20250508_1731_000288.json\n",
      "filenamejson: ../data/imgsSara/20250423_121606_produccionnaranja/20250508_1728_000232.json\n",
      "filenamejson: ../data/imgsSara/20250423_121606_produccionnaranja/20250508_1728_000244.json\n",
      "filenamejson: ../data/imgsSara/20250423_121606_produccionnaranja/20250508_1733_002245.json\n",
      "filenamejson: ../data/imgsSara/20250423_121606_produccionnaranja/20250508_1728_000230.json\n",
      "filenamejson: ../data/imgsSara/20250423_121606_produccionnaranja/20250508_1730_000265.json\n",
      "filenamejson: ../data/imgsSara/20250423_121606_produccionnaranja/20250508_1731_000279.json\n",
      "filenamejson: ../data/imgsSara/20250423_121606_produccionnaranja/20250508_1727_000225.json\n",
      "filenamejson: ../data/imgsSara/20250423_121606_produccionnaranja/20250508_1733_000308.json\n",
      "filenamejson: ../data/imgsSara/20250423_121606_produccionnaranja/20250508_1729_002200.json\n",
      "filenamejson: ../data/imgsSara/20250423_121606_produccionnaranja/20250508_1730_002209.json\n",
      "filenamejson: ../data/imgsSara/20250423_121606_produccionnaranja/20250508_1732_000298.json\n",
      "filenamejson: ../data/imgsSara/20250423_121606_produccionnaranja/20250508_1735_000328.json\n",
      "filenamejson: ../data/imgsSara/20250423_121606_produccionnaranja/20250508_1730_002210.json\n",
      "filenamejson: ../data/imgsSara/20250423_121606_produccionnaranja/20250508_1729_000258.json\n",
      "filenamejson: ../data/imgsSara/20250423_121606_produccionnaranja/20250508_1733_000305.json\n",
      "filenamejson: ../data/imgsSara/20250423_121606_produccionnaranja/20250508_1732_002240.json\n",
      "filenamejson: ../data/imgsSara/20250423_121606_produccionnaranja/20250508_1733_002250.json\n",
      "filenamejson: ../data/imgsSara/20250423_121606_produccionnaranja/20250508_1733_000307.json\n",
      "filenamejson: ../data/imgsSara/20250423_121606_produccionnaranja/20250508_1729_002206.json\n",
      "filenamejson: ../data/imgsSara/20250423_121606_produccionnaranja/20250508_1728_000245.json\n",
      "filenamejson: ../data/imgsSara/20250423_121606_produccionnaranja/20250508_1732_002242.json\n"
     ]
    },
    {
     "name": "stderr",
     "output_type": "stream",
     "text": [
      " 57%|█████▋    | 313/548 [00:03<00:02, 101.06it/s]"
     ]
    },
    {
     "name": "stdout",
     "output_type": "stream",
     "text": [
      "filenamejson: ../data/imgsSara/20250423_121606_produccionnaranja/20250508_1730_000273.json\n",
      "filenamejson: ../data/imgsSara/20250423_121606_produccionnaranja/20250508_1730_000277.json\n",
      "filenamejson: ../data/imgsSara/20250423_121606_produccionnaranja/20250508_1728_000235.json\n",
      "filenamejson: ../data/imgsSara/20250423_121606_produccionnaranja/20250508_1729_000251.json\n",
      "filenamejson: ../data/imgsSara/20250423_121606_produccionnaranja/20250508_1733_002246.json\n",
      "filenamejson: ../data/imgsSara/20250423_121606_produccionnaranja/20250508_1734_000323.json\n",
      "filenamejson: ../data/imgsSara/20250423_121606_produccionnaranja/20250508_1727_002163.json\n",
      "filenamejson: ../data/imgsSara/20250423_121606_produccionnaranja/20250508_1730_002213.json\n",
      "filenamejson: ../data/imgsSara/20250423_121606_produccionnaranja/20250508_1730_000263.json\n",
      "filenamejson: ../data/imgsSara/20250423_121606_produccionnaranja/20250508_1731_002227.json\n",
      "filenamejson: ../data/imgsSara/20250423_121606_produccionnaranja/20250508_1727_002172.json\n",
      "filenamejson: ../data/imgsSara/20250423_121606_produccionnaranja/20250508_1729_000247.json\n",
      "filenamejson: ../data/imgsSara/20250423_121606_produccionnaranja/20250508_1733_002251.json\n",
      "filenamejson: ../data/imgsSara/20250423_121606_produccionnaranja/20250508_1731_000286.json\n",
      "filenamejson: ../data/imgsSara/20250423_121606_produccionnaranja/20250508_1727_000211.json\n",
      "filenamejson: ../data/imgsSara/20250423_121606_produccionnaranja/20250508_1735_000333.json\n",
      "filenamejson: ../data/imgsSara/20250423_121606_produccionnaranja/20250508_1730_002221.json\n",
      "filenamejson: ../data/imgsSara/20250423_121606_produccionnaranja/20250508_1731_000285.json\n",
      "filenamejson: ../data/imgsSara/20250423_121606_produccionnaranja/20250508_1735_000335.json\n",
      "filenamejson: ../data/imgsSara/20250423_121606_produccionnaranja/20250508_1727_000226.json\n",
      "filenamejson: ../data/imgsSara/20250423_121606_produccionnaranja/20250508_1730_002219.json\n"
     ]
    },
    {
     "name": "stderr",
     "output_type": "stream",
     "text": [
      " 61%|██████    | 335/548 [00:03<00:02, 101.62it/s]"
     ]
    },
    {
     "name": "stdout",
     "output_type": "stream",
     "text": [
      "filenamejson: ../data/imgsSara/20250423_121606_produccionnaranja/20250508_1735_002261.json\n",
      "filenamejson: ../data/imgsSara/20250423_121606_produccionnaranja/20250508_1728_000240.json\n",
      "filenamejson: ../data/imgsSara/20250423_121606_produccionnaranja/20250508_1728_000234.json\n",
      "filenamejson: ../data/imgsSara/20250423_121606_produccionnaranja/20250508_1728_000231.json\n",
      "filenamejson: ../data/imgsSara/20250423_121606_produccionnaranja/20250508_1727_002173.json\n",
      "filenamejson: ../data/imgsSara/20250423_121606_produccionnaranja/20250508_1730_002220.json\n",
      "filenamejson: ../data/imgsSara/20250423_121606_produccionnaranja/20250508_1727_002169.json\n",
      "filenamejson: ../data/imgsSara/20250423_121606_produccionnaranja/20250508_1728_002191.json\n",
      "filenamejson: ../data/imgsSara/20250423_121606_produccionnaranja/20250508_1731_000284.json\n",
      "filenamejson: ../data/imgsSara/20250423_121606_produccionnaranja/20250508_1728_002178.json\n",
      "filenamejson: ../data/imgsSara/20250423_121606_produccionnaranja/20250508_1728_002180.json\n",
      "filenamejson: ../data/imgsSara/20250423_121606_produccionnaranja/20250508_1732_000301.json\n",
      "filenamejson: ../data/imgsSara/20250423_121606_produccionnaranja/20250508_1730_002225.json\n",
      "filenamejson: ../data/imgsSara/20250423_121606_produccionnaranja/20250508_1735_000326.json\n",
      "filenamejson: ../data/imgsSara/20250423_121606_produccionnaranja/20250508_1734_002252.json\n",
      "filenamejson: ../data/imgsSara/20250423_121606_produccionnaranja/20250508_1730_000264.json\n",
      "filenamejson: ../data/imgsSara/20250423_121606_produccionnaranja/20250508_1735_000340.json\n",
      "filenamejson: ../data/imgsSara/20250423_121606_produccionnaranja/20250508_1732_002235.json\n",
      "filenamejson: ../data/imgsSara/20250423_121606_produccionnaranja/20250508_1732_000299.json\n",
      "filenamejson: ../data/imgsSara/20250423_121606_produccionnaranja/20250508_1730_000271.json\n",
      "filenamejson: ../data/imgsSara/20250423_121606_produccionnaranja/20250508_1730_000269.json\n",
      "filenamejson: ../data/imgsSara/20250423_121606_produccionnaranja/20250508_1728_002185.json\n"
     ]
    },
    {
     "name": "stderr",
     "output_type": "stream",
     "text": [
      " 63%|██████▎   | 346/548 [00:03<00:01, 102.28it/s]"
     ]
    },
    {
     "name": "stdout",
     "output_type": "stream",
     "text": [
      "filenamejson: ../data/imgsSara/20250423_121606_produccionnaranja/20250508_1732_000300.json\n",
      "filenamejson: ../data/imgsSara/20250423_121606_produccionnaranja/20250508_1728_000238.json\n",
      "filenamejson: ../data/imgsSara/20250423_121606_produccionnaranja/20250508_1728_002183.json\n",
      "filenamejson: ../data/imgsSara/20250423_121606_produccionnaranja/20250508_1730_002222.json\n",
      "filenamejson: ../data/imgsSara/20250423_121606_produccionnaranja/20250508_1734_000322.json\n",
      "filenamejson: ../data/imgsSara/20250422_173710_damagepliers/20250508_1536_000118.json\n",
      "filenamejson: ../data/imgsSara/20250422_173710_damagepliers/20250508_1536_002124.json\n",
      "filenamejson: ../data/imgsSara/20250422_173710_damagepliers/20250508_1536_002125.json\n",
      "filenamejson: ../data/imgsSara/20250422_173710_damagepliers/20250508_1536_000116.json\n",
      "filenamejson: ../data/imgsSara/20250422_173710_damagepliers/20250508_1536_000115.json\n"
     ]
    },
    {
     "name": "stderr",
     "output_type": "stream",
     "text": [
      " 67%|██████▋   | 368/548 [00:04<00:02, 82.04it/s] "
     ]
    },
    {
     "name": "stdout",
     "output_type": "stream",
     "text": [
      "filenamejson: ../data/imgsSara/20250422_173710_damagepliers/20250508_1536_000114.json\n",
      "filenamejson: ../data/imgsSara/20250422_173710_damagepliers/20250508_1536_002126.json\n",
      "filenamejson: ../data/imgsSara/20250422_173710_damagepliers/20250508_1536_000119.json\n",
      "filenamejson: ../data/imgsSara/20250422_173710_damagepliers/20250508_1536_000120.json\n",
      "filenamejson: ../data/imgsSara/20250422_173710_damagepliers/20250508_1536_000113.json\n",
      "filenamejson: ../data/imgsSara/20250422_173710_damagepliers/20250508_1536_000117.json\n",
      "filenamejson: ../data/imgsSara/20250422_173710_damagepliers/20250508_1536_000121.json\n",
      "filenamejson: ../data/imgsSara/20250422_173710_damagepliers/20250508_1536_002127.json\n",
      "filenamejson: ../data/imgsSara/20250422_180310_rot/20250508_1552_000135.json\n",
      "filenamejson: ../data/imgsSara/20250422_180310_rot/20250508_1552_002131.json\n",
      "filenamejson: ../data/imgsSara/20250422_180310_rot/20250508_1552_000134.json\n",
      "filenamejson: ../data/imgsSara/20250422_180310_rot/20250508_1551_000131.json\n",
      "filenamejson: ../data/imgsSara/20250422_180310_rot/20250508_1552_000133.json\n",
      "filenamejson: ../data/imgsSara/20250422_180310_rot/20250508_1551_000132.json\n",
      "filenamejson: ../data/imgsSara/20250422_181615_skinbreakdow/20250508_1608_000136.json\n",
      "filenamejson: ../data/imgsSara/20250422_181615_skinbreakdow/20250508_1608_000137.json\n",
      "filenamejson: ../data/imgsSara/20250422_181615_skinbreakdow/20250508_1610_000139.json\n",
      "filenamejson: ../data/imgsSara/20250422_181615_skinbreakdow/20250508_1609_000138.json\n",
      "filenamejson: ../data/imgsSara/20250422_175409_mechanicaldamage/20250508_1543_002130.json\n",
      "filenamejson: ../data/imgsSara/20250422_175409_mechanicaldamage/20250508_1542_002128.json\n",
      "filenamejson: ../data/imgsSara/20250422_175409_mechanicaldamage/20250508_1542_000128.json\n",
      "filenamejson: ../data/imgsSara/20250422_175409_mechanicaldamage/20250508_1543_000130.json\n",
      "filenamejson: ../data/imgsSara/20250422_175409_mechanicaldamage/20250508_1542_000127.json\n"
     ]
    },
    {
     "name": "stderr",
     "output_type": "stream",
     "text": [
      " 71%|███████   | 390/548 [00:04<00:01, 91.52it/s]"
     ]
    },
    {
     "name": "stdout",
     "output_type": "stream",
     "text": [
      "filenamejson: ../data/imgsSara/20250422_171721_GOOD2/20250508_1521_000079.json\n",
      "filenamejson: ../data/imgsSara/20250422_171721_GOOD2/20250508_1521_002101.json\n",
      "filenamejson: ../data/imgsSara/20250422_171721_GOOD2/20250508_1522_000106.json\n",
      "filenamejson: ../data/imgsSara/20250422_171721_GOOD2/20250508_1521_002099.json\n",
      "filenamejson: ../data/imgsSara/20250422_171721_GOOD2/20250508_1523_000108.json\n",
      "filenamejson: ../data/imgsSara/20250422_171721_GOOD2/20250508_1521_000090.json\n",
      "filenamejson: ../data/imgsSara/20250422_171721_GOOD2/20250508_1521_002088.json\n",
      "filenamejson: ../data/imgsSara/20250422_171721_GOOD2/20250508_1521_002092.json\n",
      "filenamejson: ../data/imgsSara/20250422_171721_GOOD2/20250508_1521_000089.json\n",
      "filenamejson: ../data/imgsSara/20250422_171721_GOOD2/20250508_1521_000085.json\n",
      "filenamejson: ../data/imgsSara/20250422_171721_GOOD2/20250508_1521_002097.json\n",
      "filenamejson: ../data/imgsSara/20250422_171721_GOOD2/20250508_1522_002113.json\n",
      "filenamejson: ../data/imgsSara/20250422_171721_GOOD2/20250508_1522_000097.json\n",
      "filenamejson: ../data/imgsSara/20250422_171721_GOOD2/20250508_1522_000100.json\n",
      "filenamejson: ../data/imgsSara/20250422_171721_GOOD2/20250508_1523_002120.json\n",
      "filenamejson: ../data/imgsSara/20250422_171721_GOOD2/20250508_1522_000096.json\n",
      "filenamejson: ../data/imgsSara/20250422_171721_GOOD2/20250508_1522_002107.json\n",
      "filenamejson: ../data/imgsSara/20250422_171721_GOOD2/20250508_1522_002117.json\n",
      "filenamejson: ../data/imgsSara/20250422_171721_GOOD2/20250508_1521_002095.json\n",
      "filenamejson: ../data/imgsSara/20250422_171721_GOOD2/20250508_1521_000082.json\n",
      "filenamejson: ../data/imgsSara/20250422_171721_GOOD2/20250508_1521_000087.json\n",
      "filenamejson: ../data/imgsSara/20250422_171721_GOOD2/20250508_1521_000083.json\n",
      "filenamejson: ../data/imgsSara/20250422_171721_GOOD2/20250508_1522_000098.json\n"
     ]
    },
    {
     "name": "stderr",
     "output_type": "stream",
     "text": [
      " 75%|███████▌  | 412/548 [00:04<00:01, 96.73it/s]"
     ]
    },
    {
     "name": "stdout",
     "output_type": "stream",
     "text": [
      "filenamejson: ../data/imgsSara/20250422_171721_GOOD2/20250508_1522_000105.json\n",
      "filenamejson: ../data/imgsSara/20250422_171721_GOOD2/20250508_1520_002087.json\n",
      "filenamejson: ../data/imgsSara/20250422_171721_GOOD2/20250508_1521_002100.json\n",
      "filenamejson: ../data/imgsSara/20250422_171721_GOOD2/20250508_1521_002098.json\n",
      "filenamejson: ../data/imgsSara/20250422_171721_GOOD2/20250508_1522_002111.json\n",
      "filenamejson: ../data/imgsSara/20250422_171721_GOOD2/20250508_1521_000084.json\n",
      "filenamejson: ../data/imgsSara/20250422_171721_GOOD2/20250508_1523_000109.json\n",
      "filenamejson: ../data/imgsSara/20250422_171721_GOOD2/20250508_1522_000093.json\n",
      "filenamejson: ../data/imgsSara/20250422_171721_GOOD2/20250508_1522_000101.json\n",
      "filenamejson: ../data/imgsSara/20250422_171721_GOOD2/20250508_1521_002091.json\n",
      "filenamejson: ../data/imgsSara/20250422_171721_GOOD2/20250508_1520_002084.json\n",
      "filenamejson: ../data/imgsSara/20250422_171721_GOOD2/20250508_1521_000081.json\n",
      "filenamejson: ../data/imgsSara/20250422_171721_GOOD2/20250508_1523_002121.json\n",
      "filenamejson: ../data/imgsSara/20250422_171721_GOOD2/20250508_1521_000091.json\n",
      "filenamejson: ../data/imgsSara/20250422_171721_GOOD2/20250508_1522_002118.json\n",
      "filenamejson: ../data/imgsSara/20250422_171721_GOOD2/20250508_1521_000080.json\n",
      "filenamejson: ../data/imgsSara/20250422_171721_GOOD2/20250508_1521_002089.json\n",
      "filenamejson: ../data/imgsSara/20250422_171721_GOOD2/20250508_1521_002103.json\n",
      "filenamejson: ../data/imgsSara/20250422_171721_GOOD2/20250508_1521_000077.json\n",
      "filenamejson: ../data/imgsSara/20250422_171721_GOOD2/20250508_1522_002102.json\n",
      "filenamejson: ../data/imgsSara/20250422_171721_GOOD2/20250508_1522_002115.json\n",
      "filenamejson: ../data/imgsSara/20250422_171721_GOOD2/20250508_1521_002096.json\n"
     ]
    },
    {
     "name": "stderr",
     "output_type": "stream",
     "text": [
      " 79%|███████▉  | 434/548 [00:04<00:01, 99.69it/s]"
     ]
    },
    {
     "name": "stdout",
     "output_type": "stream",
     "text": [
      "filenamejson: ../data/imgsSara/20250422_171721_GOOD2/20250508_1522_002110.json\n",
      "filenamejson: ../data/imgsSara/20250422_171721_GOOD2/20250508_1521_000078.json\n",
      "filenamejson: ../data/imgsSara/20250422_171721_GOOD2/20250508_1522_002112.json\n",
      "filenamejson: ../data/imgsSara/20250422_171721_GOOD2/20250508_1523_000107.json\n",
      "filenamejson: ../data/imgsSara/20250422_171721_GOOD2/20250508_1520_002085.json\n",
      "filenamejson: ../data/imgsSara/20250422_171721_GOOD2/20250508_1521_000088.json\n",
      "filenamejson: ../data/imgsSara/20250422_171721_GOOD2/20250508_1522_000102.json\n",
      "filenamejson: ../data/imgsSara/20250422_171721_GOOD2/20250508_1522_002119.json\n",
      "filenamejson: ../data/imgsSara/20250422_171721_GOOD2/20250508_1522_002114.json\n",
      "filenamejson: ../data/imgsSara/20250422_171721_GOOD2/20250508_1522_002108.json\n",
      "filenamejson: ../data/imgsSara/20250422_171721_GOOD2/20250508_1522_000094.json\n",
      "filenamejson: ../data/imgsSara/20250422_171721_GOOD2/20250508_1520_000076.json\n",
      "filenamejson: ../data/imgsSara/20250422_171721_GOOD2/20250508_1522_002116.json\n",
      "filenamejson: ../data/imgsSara/20250422_171721_GOOD2/20250508_1520_000075.json\n",
      "filenamejson: ../data/imgsSara/20250422_171721_GOOD2/20250508_1522_000099.json\n",
      "filenamejson: ../data/imgsSara/20250422_171721_GOOD2/20250508_1520_002086.json\n",
      "filenamejson: ../data/imgsSara/20250422_171721_GOOD2/20250508_1521_000086.json\n",
      "filenamejson: ../data/imgsSara/20250422_171721_GOOD2/20250508_1521_002094.json\n",
      "filenamejson: ../data/imgsSara/20250422_171721_GOOD2/20250508_1522_000104.json\n",
      "filenamejson: ../data/imgsSara/20250422_171721_GOOD2/20250508_1522_002105.json\n",
      "filenamejson: ../data/imgsSara/20250422_171721_GOOD2/20250508_1522_000103.json\n",
      "filenamejson: ../data/imgsSara/20250422_171721_GOOD2/20250508_1522_002109.json\n"
     ]
    },
    {
     "name": "stderr",
     "output_type": "stream",
     "text": [
      " 83%|████████▎ | 456/548 [00:04<00:00, 100.86it/s]"
     ]
    },
    {
     "name": "stdout",
     "output_type": "stream",
     "text": [
      "filenamejson: ../data/imgsSara/20250422_171721_GOOD2/20250508_1521_002093.json\n",
      "filenamejson: ../data/imgsSara/20250422_171721_GOOD2/20250508_1522_000095.json\n",
      "filenamejson: ../data/imgsSara/20250422_171721_GOOD2/20250508_1521_000092.json\n",
      "filenamejson: ../data/imgsSara/20250422_171721_GOOD2/20250508_1522_002104.json\n",
      "filenamejson: ../data/imgsSara/20250422_171721_GOOD2/20250508_1522_002106.json\n",
      "filenamejson: ../data/imgsSara/20250422_170704_GOOD/20250508_1502_002054.json\n",
      "filenamejson: ../data/imgsSara/20250422_170704_GOOD/20250508_1502_000041.json\n",
      "filenamejson: ../data/imgsSara/20250422_170704_GOOD/20250508_1502_000043.json\n",
      "filenamejson: ../data/imgsSara/20250422_170704_GOOD/20250508_1502_002049.json\n",
      "filenamejson: ../data/imgsSara/20250422_170704_GOOD/20250508_1502_002047.json\n",
      "filenamejson: ../data/imgsSara/20250422_170704_GOOD/20250508_1503_000056.json\n",
      "filenamejson: ../data/imgsSara/20250422_170704_GOOD/20250508_1502_002043.json\n",
      "filenamejson: ../data/imgsSara/20250422_170704_GOOD/20250508_1502_000044.json\n",
      "filenamejson: ../data/imgsSara/20250422_170704_GOOD/20250508_1502_000038.json\n",
      "filenamejson: ../data/imgsSara/20250422_170704_GOOD/20250508_1502_000042.json\n",
      "filenamejson: ../data/imgsSara/20250422_170704_GOOD/20250508_1502_002046.json\n",
      "filenamejson: ../data/imgsSara/20250422_170704_GOOD/20250508_1502_000051.json\n",
      "filenamejson: ../data/imgsSara/20250422_170704_GOOD/20250508_1502_000047.json\n",
      "filenamejson: ../data/imgsSara/20250422_170704_GOOD/20250508_1502_002045.json\n",
      "filenamejson: ../data/imgsSara/20250422_170704_GOOD/20250508_1502_002044.json\n",
      "filenamejson: ../data/imgsSara/20250422_170704_GOOD/20250508_1503_000062.json\n",
      "filenamejson: ../data/imgsSara/20250422_170704_GOOD/20250508_1502_000039.json\n"
     ]
    },
    {
     "name": "stderr",
     "output_type": "stream",
     "text": [
      " 87%|████████▋ | 478/548 [00:05<00:00, 101.11it/s]"
     ]
    },
    {
     "name": "stdout",
     "output_type": "stream",
     "text": [
      "filenamejson: ../data/imgsSara/20250422_170704_GOOD/20250508_1502_000048.json\n",
      "filenamejson: ../data/imgsSara/20250422_170704_GOOD/20250508_1502_002048.json\n",
      "filenamejson: ../data/imgsSara/20250422_170704_GOOD/20250508_1503_000063.json\n",
      "filenamejson: ../data/imgsSara/20250422_170704_GOOD/20250508_1502_000050.json\n",
      "filenamejson: ../data/imgsSara/20250422_170704_GOOD/20250508_1502_000045.json\n",
      "filenamejson: ../data/imgsSara/20250422_170704_GOOD/20250508_1503_000059.json\n",
      "filenamejson: ../data/imgsSara/20250422_170704_GOOD/20250508_1502_000052.json\n",
      "filenamejson: ../data/imgsSara/20250422_170704_GOOD/20250508_1503_000064.json\n",
      "filenamejson: ../data/imgsSara/20250422_170704_GOOD/20250508_1502_000046.json\n",
      "filenamejson: ../data/imgsSara/20250422_170704_GOOD/20250508_1502_002051.json\n",
      "filenamejson: ../data/imgsSara/20250422_170704_GOOD/20250508_1502_000049.json\n",
      "filenamejson: ../data/imgsSara/20250422_170704_GOOD/20250508_1502_002052.json\n",
      "filenamejson: ../data/imgsSara/20250422_170704_GOOD/20250508_1503_000061.json\n",
      "filenamejson: ../data/imgsSara/20250422_170704_GOOD/20250508_1501_000037.json\n",
      "filenamejson: ../data/imgsSara/20250422_170704_GOOD/20250508_1502_002050.json\n",
      "filenamejson: ../data/imgsSara/20250422_170704_GOOD/20250508_1502_002053.json\n",
      "filenamejson: ../data/imgsSara/20250422_170704_GOOD/20250508_1503_000060.json\n",
      "filenamejson: ../data/imgsSara/20250422_170704_GOOD/20250508_1502_000040.json\n",
      "filenamejson: ../data/imgsSara/20250422_170704_GOOD/20250508_1502_002055.json\n",
      "filenamejson: ../data/imgsSara/20250422saltamontes/20250509_0828_000015.json\n"
     ]
    },
    {
     "name": "stderr",
     "output_type": "stream",
     "text": [
      " 89%|████████▉ | 489/548 [00:05<00:00, 99.20it/s] "
     ]
    },
    {
     "name": "stdout",
     "output_type": "stream",
     "text": [
      "filenamejson: ../data/imgsSara/20250422saltamontes/20250509_0828_002009.json\n",
      "filenamejson: ../data/imgsSara/20250422saltamontes/20250509_0830_000035.json\n",
      "filenamejson: ../data/imgsSara/20250422saltamontes/20250509_0828_002008.json\n",
      "filenamejson: ../data/imgsSara/20250422saltamontes/20250509_0830_002023.json\n",
      "filenamejson: ../data/imgsSara/20250422saltamontes/20250509_0828_002007.json\n",
      "filenamejson: ../data/imgsSara/20250422saltamontes/20250509_0828_000026.json\n",
      "filenamejson: ../data/imgsSara/20250422saltamontes/20250509_0829_002018.json\n",
      "filenamejson: ../data/imgsSara/20250422saltamontes/20250509_0829_002013.json\n",
      "filenamejson: ../data/imgsSara/20250422saltamontes/20250509_0828_000016.json\n"
     ]
    },
    {
     "name": "stderr",
     "output_type": "stream",
     "text": [
      " 93%|█████████▎| 510/548 [00:05<00:00, 79.74it/s]"
     ]
    },
    {
     "name": "stdout",
     "output_type": "stream",
     "text": [
      "filenamejson: ../data/imgsSara/20250422saltamontes/20250509_0827_000011.json\n",
      "filenamejson: ../data/imgsSara/20250422saltamontes/20250509_0828_000022.json\n",
      "filenamejson: ../data/imgsSara/20250422saltamontes/20250509_0828_000028.json\n",
      "filenamejson: ../data/imgsSara/20250422saltamontes/20250509_0829_000031.json\n",
      "filenamejson: ../data/imgsSara/20250422saltamontes/20250509_0826_000001.json\n",
      "filenamejson: ../data/imgsSara/20250422saltamontes/20250509_0827_000010.json\n",
      "filenamejson: ../data/imgsSara/20250422saltamontes/20250509_0831_002025.json\n",
      "filenamejson: ../data/imgsSara/20250422saltamontes/20250509_0828_000017.json\n",
      "filenamejson: ../data/imgsSara/20250422saltamontes/20250509_0829_002022.json\n",
      "filenamejson: ../data/imgsSara/20250422saltamontes/20250509_0829_002020.json\n",
      "filenamejson: ../data/imgsSara/20250422saltamontes/20250509_0828_000025.json\n",
      "filenamejson: ../data/imgsSara/20250422saltamontes/20250509_0827_000007.json\n",
      "filenamejson: ../data/imgsSara/20250422saltamontes/20250509_0829_000033.json\n",
      "filenamejson: ../data/imgsSara/20250422saltamontes/20250509_0829_000034.json\n",
      "filenamejson: ../data/imgsSara/20250422saltamontes/20250509_0828_000029.json\n",
      "filenamejson: ../data/imgsSara/20250422saltamontes/20250509_0828_000020.json\n",
      "filenamejson: ../data/imgsSara/20250422saltamontes/20250509_0827_000006.json\n",
      "filenamejson: ../data/imgsSara/20250422saltamontes/20250509_0828_000027.json\n",
      "filenamejson: ../data/imgsSara/20250422saltamontes/20250509_0830_002024.json\n",
      "filenamejson: ../data/imgsSara/20250422saltamontes/20250509_0829_000030.json\n",
      "filenamejson: ../data/imgsSara/20250422saltamontes/20250509_0828_000014.json\n",
      "filenamejson: ../data/imgsSara/20250422saltamontes/20250509_0828_000019.json\n"
     ]
    },
    {
     "name": "stderr",
     "output_type": "stream",
     "text": [
      " 97%|█████████▋| 532/548 [00:05<00:00, 90.06it/s]"
     ]
    },
    {
     "name": "stdout",
     "output_type": "stream",
     "text": [
      "filenamejson: ../data/imgsSara/20250422saltamontes/20250509_0829_002012.json\n",
      "filenamejson: ../data/imgsSara/20250422saltamontes/20250509_0827_002005.json\n",
      "filenamejson: ../data/imgsSara/20250422saltamontes/20250509_0828_000024.json\n",
      "filenamejson: ../data/imgsSara/20250422saltamontes/20250509_0829_000032.json\n",
      "filenamejson: ../data/imgsSara/20250422saltamontes/20250509_0826_002002.json\n",
      "filenamejson: ../data/imgsSara/20250422saltamontes/20250509_0827_000003.json\n",
      "filenamejson: ../data/imgsSara/20250422saltamontes/20250509_0829_002014.json\n",
      "filenamejson: ../data/imgsSara/20250422saltamontes/20250509_0828_000023.json\n",
      "filenamejson: ../data/imgsSara/20250422saltamontes/20250509_0826_000002.json\n",
      "filenamejson: ../data/imgsSara/20250422saltamontes/20250509_0827_002003.json\n",
      "filenamejson: ../data/imgsSara/20250422saltamontes/20250509_0829_002021.json\n",
      "filenamejson: ../data/imgsSara/20250422saltamontes/20250509_0828_000021.json\n",
      "filenamejson: ../data/imgsSara/20250422saltamontes/20250509_0827_000004.json\n",
      "filenamejson: ../data/imgsSara/20250422saltamontes/20250509_0829_002019.json\n",
      "filenamejson: ../data/imgsSara/20250422saltamontes/20250509_0828_002011.json\n",
      "filenamejson: ../data/imgsSara/20250422saltamontes/20250509_0827_002004.json\n",
      "filenamejson: ../data/imgsSara/20250422saltamontes/20250509_0829_002015.json\n",
      "filenamejson: ../data/imgsSara/20250422saltamontes/20250509_0831_000036.json\n",
      "filenamejson: ../data/imgsSara/20250422saltamontes/20250509_0827_000005.json\n",
      "filenamejson: ../data/imgsSara/20250422saltamontes/20250509_0828_002010.json\n",
      "filenamejson: ../data/imgsSara/20250422saltamontes/20250509_0827_000012.json\n",
      "filenamejson: ../data/imgsSara/20250422saltamontes/20250509_0827_000009.json\n"
     ]
    },
    {
     "name": "stderr",
     "output_type": "stream",
     "text": [
      "100%|██████████| 548/548 [00:05<00:00, 91.62it/s]"
     ]
    },
    {
     "name": "stdout",
     "output_type": "stream",
     "text": [
      "filenamejson: ../data/imgsSara/20250422saltamontes/20250509_0827_000008.json\n",
      "filenamejson: ../data/imgsSara/20250422saltamontes/20250509_0831_002027.json\n",
      "filenamejson: ../data/imgsSara/20250422saltamontes/20250509_0829_002017.json\n",
      "filenamejson: ../data/imgsSara/20250422saltamontes/20250509_0831_002026.json\n",
      "filenamejson: ../data/imgsSara/20250422saltamontes/20250509_0829_002016.json\n",
      "filenamejson: ../data/imgsSara/20250422saltamontes/20250509_0828_002006.json\n",
      "filenamejson: ../data/imgsSara/20250422saltamontes/20250509_0827_000013.json\n",
      "filenamejson: ../data/imgsSara/20250422saltamontes/20250509_0828_000018.json\n"
     ]
    },
    {
     "name": "stderr",
     "output_type": "stream",
     "text": [
      "\n"
     ]
    }
   ],
   "source": [
    "print(len(test_data))\n",
    "out_dir=\"/home/aalbiol/Desktop/imgs_Sara_guess\"\n",
    "Path(out_dir).mkdir(parents=True, exist_ok=True)\n",
    "guess_labels(test_data,clases,out_dir)"
   ]
  },
  {
   "cell_type": "code",
   "execution_count": 28,
   "metadata": {},
   "outputs": [
    {
     "name": "stdout",
     "output_type": "stream",
     "text": [
      "731\n"
     ]
    },
    {
     "name": "stderr",
     "output_type": "stream",
     "text": [
      "100%|██████████| 731/731 [02:15<00:00,  5.38it/s]\n"
     ]
    }
   ],
   "source": [
    "## Leer los archivos\n",
    "train_results_json=\"../out_imagsSara/train_scores.json\"\n",
    "\n",
    "\n",
    "with open(train_results_json, \"r\") as f:\n",
    "    train_dict = json.load(f)    \n",
    "\n",
    "clases=list(train_dict['train_results'][0]['ground_truth'].keys())\n",
    "traindata = train_dict['train_results']\n",
    "\n",
    "\n",
    "print(len(traindata))\n",
    "out_dir=\"/home/aalbiol/Desktop/imgs_Alba5\"\n",
    "Path(out_dir).mkdir(parents=True, exist_ok=True)\n",
    "guess_labels(traindata,clases,out_dir)"
   ]
  },
  {
   "cell_type": "code",
   "execution_count": 29,
   "metadata": {},
   "outputs": [
    {
     "name": "stdout",
     "output_type": "stream",
     "text": [
      "815\n"
     ]
    },
    {
     "name": "stderr",
     "output_type": "stream",
     "text": [
      "100%|██████████| 815/815 [02:32<00:00,  5.34it/s]\n"
     ]
    }
   ],
   "source": [
    "## Leer los archivos\n",
    "val_results_json=\"../out_imagsSara/val_scores.json\"\n",
    "\n",
    "\n",
    "with open(val_results_json, \"r\") as f:\n",
    "    val_dict = json.load(f)    \n",
    "\n",
    "clases=list(val_dict['val_results'][0]['ground_truth'].keys())\n",
    "valdata = val_dict['val_results']\n",
    "\n",
    "\n",
    "print(len(valdata))\n",
    "out_dir=\"/home/aalbiol/Desktop/imgs_Alba6\"\n",
    "Path(out_dir).mkdir(parents=True, exist_ok=True)\n",
    "guess_labels(valdata,clases,out_dir)"
   ]
  },
  {
   "cell_type": "code",
   "execution_count": null,
   "metadata": {},
   "outputs": [
    {
     "name": "stderr",
     "output_type": "stream",
     "text": [
      "100%|██████████| 162/162 [00:25<00:00,  6.39it/s]\n"
     ]
    },
    {
     "data": {
      "image/png": "[encoded data removed]",
      "text/plain": [
       "<Figure size 1000x500 with 2 Axes>"
      ]
     },
     "metadata": {},
     "output_type": "display_data"
    }
   ],
   "source": [
    "# Path(out_dir).mkdir(parents=True, exist_ok=True)\n",
    "# pdfname=os.path.join(out_dir,\"gold_master.pdf\")\n",
    "# create_gold_master_pdf(test_data,clases,pdfname)"
   ]
  },
  {
   "cell_type": "code",
   "execution_count": null,
   "metadata": {},
   "outputs": [],
   "source": []
  }
 ],
 "metadata": {
  "kernelspec": {
   "display_name": "mscandvc",
   "language": "python",
   "name": "python3"
  },
  "language_info": {
   "codemirror_mode": {
    "name": "ipython",
    "version": 3
   },
   "file_extension": ".py",
   "mimetype": "text/x-python",
   "name": "python",
   "nbconvert_exporter": "python",
   "pygments_lexer": "ipython3",
   "version": "3.12.0"
  }
 },
 "nbformat": 4,
 "nbformat_minor": 2
}

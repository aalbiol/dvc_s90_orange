{
 "cells": [
  {
   "cell_type": "code",
   "execution_count": 1,
   "metadata": {
    "execution": {
     "iopub.execute_input": "2024-12-12T09:13:48.833953Z",
     "iopub.status.busy": "2024-12-12T09:13:48.833356Z",
     "iopub.status.idle": "2024-12-12T09:13:50.384027Z",
     "shell.execute_reply": "2024-12-12T09:13:50.383575Z"
    }
   },
   "outputs": [],
   "source": [
    "#autoreload\n",
    "%load_ext autoreload\n",
    "%autoreload 2\n",
    "\n",
    "import torch\n",
    "from torchmetrics import AUROC\n",
    "import matplotlib.pyplot as plt\n",
    "import numpy as np\n",
    "import pandas as pd\n",
    "import json\n",
    "import os\n",
    "\n",
    "import sys\n",
    "sys.path.append(\"../../src_clasificacion_vistas/common\")\n",
    "\n",
    "import pycimg\n",
    "\n",
    "from pathlib import Path\n",
    "import cv2\n",
    "from tqdm import tqdm"
   ]
  },
  {
   "cell_type": "code",
   "execution_count": 2,
   "metadata": {
    "execution": {
     "iopub.execute_input": "2024-12-12T09:13:50.388456Z",
     "iopub.status.busy": "2024-12-12T09:13:50.388265Z",
     "iopub.status.idle": "2024-12-12T09:13:50.412172Z",
     "shell.execute_reply": "2024-12-12T09:13:50.411655Z"
    }
   },
   "outputs": [],
   "source": [
    "current_file_dir = os.getcwd()\n",
    "train_results_json=\"../out_evaluate_repaso_insect2_gamma_0/train_scores.json\"\n",
    "val_results_json=\"../out_evaluate_repaso_insect2_gamma_0/val_scores.json\"\n",
    "train_results_json=os.path.join(current_file_dir,train_results_json)    \n",
    "val_results_json=os.path.join(current_file_dir,val_results_json)    \n",
    "out_dir=\"/home/aalbiol/Desktop/repasoC\"\n",
    "\n",
    "Path(out_dir).mkdir(parents=True, exist_ok=True)\n",
    "\n",
    "\n",
    "def create_lists(train_data,clases):\n",
    "    listas_positivos={} # Casos po\n",
    "    listas_negativos={}\n",
    "    for defecto in clases:\n",
    "        listas_positivos[defecto]=[]\n",
    "        listas_negativos[defecto]=[]\n",
    "    for d in tqdm(train_data):\n",
    "\n",
    "        filenamejson=d['filename'].replace(\".npz\",\".json\")\n",
    "        scores=d['probs_vistas']\n",
    "        kk=os.path.join(\"..\",filenamejson)\n",
    "        npzfilename=kk.replace(\".json\",\".npz\")\n",
    "#        imagenes=pycimg.npzread_torch(npzfilename,kk,channel_list=['R','G','B'])\n",
    "        if not os.path.exists(kk):\n",
    "            print(\" does not exist: \",kk)\n",
    "            continue\n",
    "        with open(kk, \"r\") as f:\n",
    "            anot_dict = json.load(f)\n",
    "        if 'views_annotations' not in anot_dict:\n",
    "            continue    \n",
    "        truth_vistas=anot_dict['views_annotations']\n",
    "        \n",
    "        nvistas=len(truth_vistas)\n",
    "        nclases=len(clases)\n",
    "        truths=[]\n",
    "        \n",
    "        for n in range(nvistas):\n",
    "            keyid=\"view_\"+str(n)\n",
    "            truths.append(truth_vistas[keyid])\n",
    "\n",
    "            \n",
    "        gt=torch.zeros((nvistas,nclases))    \n",
    "        \n",
    "        \n",
    "        # truths: lista de vistas. Cada una de ellas es un diccionario con el nombre del defecto como clave\n",
    "        for n in range(nvistas):\n",
    "            for m, defecto in enumerate(clases):\n",
    "                if defecto in truths[n]:\n",
    "                    gt[n,m]=float(truths[n][defecto])\n",
    "                    \n",
    "        preds1=torch.zeros((nvistas,nclases))\n",
    "        for n in range(nvistas):\n",
    "            for m, defecto in enumerate(clases):\n",
    "                if defecto in scores:\n",
    "                    preds1[n,m]=float(scores[defecto][n])\n",
    "                    if gt[n,m]==1:\n",
    "                        listas_positivos[defecto].append((filenamejson,n,preds1[n,m].item()))\n",
    "                    else:\n",
    "                        listas_negativos[defecto].append((filenamejson,n,preds1[n,m].item()))\n",
    "        \n",
    "                    \n",
    "        # gt de este json\n",
    "        # preds1 de este json                    \n",
    "\n",
    "\n",
    "\n",
    "\n",
    "    return listas_positivos,listas_negativos\n",
    "\n",
    "\n",
    "\n"
   ]
  },
  {
   "cell_type": "code",
   "execution_count": 3,
   "metadata": {},
   "outputs": [
    {
     "name": "stdout",
     "output_type": "stream",
     "text": [
      "1318\n",
      "351\n",
      "1669\n"
     ]
    }
   ],
   "source": [
    "## Leer los archivos\n",
    "\n",
    "with open(train_results_json, \"r\") as f:\n",
    "    train_dict = json.load(f)\n",
    "\n",
    "with open(val_results_json, \"r\") as f:\n",
    "    val_dict = json.load(f)    \n",
    "\n",
    "train_data=train_dict['train_results']\n",
    "val_data = val_dict['val_results']\n",
    "clases=list(train_dict['train_results'][0]['ground_truth'].keys())\n",
    "\n",
    "all_data=train_data+val_data\n",
    "\n",
    "print(len(train_data))\n",
    "print(len(val_data))\n",
    "print(len(all_data))"
   ]
  },
  {
   "cell_type": "code",
   "execution_count": 4,
   "metadata": {
    "execution": {
     "iopub.execute_input": "2024-12-12T09:13:50.429913Z",
     "iopub.status.busy": "2024-12-12T09:13:50.429762Z",
     "iopub.status.idle": "2024-12-12T09:13:50.442593Z",
     "shell.execute_reply": "2024-12-12T09:13:50.442203Z"
    }
   },
   "outputs": [
    {
     "name": "stderr",
     "output_type": "stream",
     "text": [
      "  0%|          | 0/1669 [00:00<?, ?it/s]"
     ]
    },
    {
     "name": "stderr",
     "output_type": "stream",
     "text": [
      "100%|██████████| 1669/1669 [00:02<00:00, 625.50it/s]\n"
     ]
    }
   ],
   "source": [
    "listas_positivas_all, listas_negativas_all=create_lists(all_data,clases)"
   ]
  },
  {
   "cell_type": "code",
   "execution_count": 5,
   "metadata": {},
   "outputs": [
    {
     "data": {
      "text/plain": [
       "[('data/mandarins/clementine/KDC/20220808_154231_Img_20220808_154156produccionClementina/20250218_1154_000579.json',\n",
       "  0,\n",
       "  0.012000000104308128),\n",
       " ('data/mandarins/clementine/KDC/20220808_154231_Img_20220808_154156produccionClementina/20250218_1154_000579.json',\n",
       "  1,\n",
       "  0.012000000104308128),\n",
       " ('data/mandarins/clementine/KDC/20220808_154231_Img_20220808_154156produccionClementina/20250218_1154_000579.json',\n",
       "  2,\n",
       "  0.008999999612569809)]"
      ]
     },
     "execution_count": 5,
     "metadata": {},
     "output_type": "execute_result"
    }
   ],
   "source": [
    "listas_negativas_all['cracks'][:3]"
   ]
  },
  {
   "cell_type": "markdown",
   "metadata": {},
   "source": [
    "# Cantidad de Vistas de con cada defecto"
   ]
  },
  {
   "cell_type": "code",
   "execution_count": 6,
   "metadata": {
    "execution": {
     "iopub.execute_input": "2024-12-12T09:13:50.443887Z",
     "iopub.status.busy": "2024-12-12T09:13:50.443748Z",
     "iopub.status.idle": "2024-12-12T09:13:50.447987Z",
     "shell.execute_reply": "2024-12-12T09:13:50.447585Z"
    }
   },
   "outputs": [
    {
     "name": "stdout",
     "output_type": "stream",
     "text": [
      "cracks\n",
      "positivos:  202\n",
      "negativos:  15781\n",
      "total:  15983\n",
      " \n",
      "damage_by_pliers\n",
      "positivos:  159\n",
      "negativos:  15824\n",
      "total:  15983\n",
      " \n",
      "deformed_peduncle\n",
      "positivos:  539\n",
      "negativos:  15444\n",
      "total:  15983\n",
      " \n",
      "green\n",
      "positivos:  733\n",
      "negativos:  15250\n",
      "total:  15983\n",
      " \n",
      "hollow\n",
      "positivos:  357\n",
      "negativos:  15626\n",
      "total:  15983\n",
      " \n",
      "insect\n",
      "positivos:  126\n",
      "negativos:  15857\n",
      "total:  15983\n",
      " \n",
      "light_scars\n",
      "positivos:  833\n",
      "negativos:  15150\n",
      "total:  15983\n",
      " \n",
      "mechanical_damage\n",
      "positivos:  208\n",
      "negativos:  15775\n",
      "total:  15983\n",
      " \n",
      "oil_spots\n",
      "positivos:  327\n",
      "negativos:  15656\n",
      "total:  15983\n",
      " \n",
      "plu_stickers\n",
      "positivos:  564\n",
      "negativos:  15419\n",
      "total:  15983\n",
      " \n",
      "reddish\n",
      "positivos:  280\n",
      "negativos:  15703\n",
      "total:  15983\n",
      " \n",
      "rotten\n",
      "positivos:  660\n",
      "negativos:  15323\n",
      "total:  15983\n",
      " \n",
      "scars\n",
      "positivos:  768\n",
      "negativos:  15215\n",
      "total:  15983\n",
      " \n",
      "skin_breakdown\n",
      "positivos:  507\n",
      "negativos:  15476\n",
      "total:  15983\n",
      " \n",
      "surface\n",
      "positivos:  1730\n",
      "negativos:  14253\n",
      "total:  15983\n",
      " \n"
     ]
    }
   ],
   "source": [
    "for c in clases:\n",
    "    print(c)\n",
    "    print(\"positivos: \",len(listas_positivas_all[c]))\n",
    "    print(\"negativos: \",len(listas_negativas_all[c]))\n",
    "    print(\"total: \",len(listas_positivas_all[c])+len(listas_negativas_all[c]))\n",
    "    print(\" \")"
   ]
  },
  {
   "cell_type": "markdown",
   "metadata": {},
   "source": [
    "# Ordenar listas de por scores\n",
    "Si hay más de 500\n",
    "\n",
    "* Los positivos seleccionamos los 500 de menos score\n",
    "* Los negativos sleccionamos los 500 de más score"
   ]
  },
  {
   "cell_type": "code",
   "execution_count": 7,
   "metadata": {},
   "outputs": [],
   "source": [
    "seleccion_positivos={}\n",
    "seleccion_negativos={}\n",
    "for defecto in clases:\n",
    "    seleccion_positivos[defecto]=[]\n",
    "    seleccion_negativos[defecto]=[]\n",
    "NMAX=200\n",
    "for defecto in clases:\n",
    "    if len(listas_positivas_all[defecto])<NMAX:\n",
    "        \n",
    "        seleccion_positivos[defecto]=listas_positivas_all[defecto]\n",
    "    else:\n",
    "        lp=listas_positivas_all[defecto]\n",
    "\n",
    "        scores=[x[2] for x in lp]\n",
    "        scores=np.array(scores)\n",
    "        idx_sorted = np.argsort(scores)\n",
    "        idx_sorted = idx_sorted[:NMAX]\n",
    "        for idx in idx_sorted:\n",
    "            seleccion_positivos[defecto].append(lp[idx])\n",
    "    ln=listas_negativas_all[defecto]            \n",
    "    scores=[x[2] for x in ln]\n",
    "    scores=np.array(scores)\n",
    "    idx_sorted = np.argsort(scores)[::-1]\n",
    "    idx_sorted = idx_sorted[:NMAX]\n",
    "    for idx in idx_sorted:\n",
    "        seleccion_negativos[defecto].append(ln[idx])\n"
   ]
  },
  {
   "cell_type": "code",
   "execution_count": 8,
   "metadata": {},
   "outputs": [
    {
     "name": "stdout",
     "output_type": "stream",
     "text": [
      "cracks\n",
      "positivos:  200  negativos:  200\n",
      " \n",
      "damage_by_pliers\n",
      "positivos:  159  negativos:  200\n",
      " \n",
      "deformed_peduncle\n",
      "positivos:  200  negativos:  200\n",
      " \n",
      "green\n",
      "positivos:  200  negativos:  200\n",
      " \n",
      "hollow\n",
      "positivos:  200  negativos:  200\n",
      " \n",
      "insect\n",
      "positivos:  126  negativos:  200\n",
      " \n",
      "light_scars\n",
      "positivos:  200  negativos:  200\n",
      " \n",
      "mechanical_damage\n",
      "positivos:  200  negativos:  200\n",
      " \n",
      "oil_spots\n",
      "positivos:  200  negativos:  200\n",
      " \n",
      "plu_stickers\n",
      "positivos:  200  negativos:  200\n",
      " \n",
      "reddish\n",
      "positivos:  200  negativos:  200\n",
      " \n",
      "rotten\n",
      "positivos:  200  negativos:  200\n",
      " \n",
      "scars\n",
      "positivos:  200  negativos:  200\n",
      " \n",
      "skin_breakdown\n",
      "positivos:  200  negativos:  200\n",
      " \n",
      "surface\n",
      "positivos:  200  negativos:  200\n",
      " \n"
     ]
    }
   ],
   "source": [
    "for c in clases:\n",
    "    print(c)\n",
    "    print(\"positivos: \",len(seleccion_positivos[c]), \" negativos: \",len(seleccion_negativos[c]))\n",
    "    #print(\"negativos: \",len(listas_negativas_all[c]))\n",
    "    #print(\"total: \",len(listas_positivas_all[c])+len(listas_negativas_all[c]))\n",
    "    print(\" \")"
   ]
  },
  {
   "cell_type": "markdown",
   "metadata": {},
   "source": [
    "# Crear imágenes de vistas"
   ]
  },
  {
   "cell_type": "code",
   "execution_count": 9,
   "metadata": {},
   "outputs": [
    {
     "name": "stdout",
     "output_type": "stream",
     "text": [
      ">>>>>>>>>>>>>>>>>>>>>>>>>>>>>>>>>>>>>>>>>>>>>>>>>>\n",
      "cracks 200 200\n",
      " >>> Positive\n"
     ]
    },
    {
     "name": "stderr",
     "output_type": "stream",
     "text": [
      "  0%|          | 0/200 [00:00<?, ?it/s]"
     ]
    },
    {
     "name": "stderr",
     "output_type": "stream",
     "text": [
      "100%|██████████| 200/200 [00:01<00:00, 178.18it/s]\n"
     ]
    },
    {
     "name": "stdout",
     "output_type": "stream",
     "text": [
      " >>> Negative\n"
     ]
    },
    {
     "name": "stderr",
     "output_type": "stream",
     "text": [
      "100%|██████████| 200/200 [00:01<00:00, 158.09it/s]\n"
     ]
    },
    {
     "name": "stdout",
     "output_type": "stream",
     "text": [
      ">>>>>>>>>>>>>>>>>>>>>>>>>>>>>>>>>>>>>>>>>>>>>>>>>>\n",
      "damage_by_pliers 159 200\n",
      " >>> Positive\n"
     ]
    },
    {
     "name": "stderr",
     "output_type": "stream",
     "text": [
      "100%|██████████| 159/159 [00:00<00:00, 160.01it/s]\n"
     ]
    },
    {
     "name": "stdout",
     "output_type": "stream",
     "text": [
      " >>> Negative\n"
     ]
    },
    {
     "name": "stderr",
     "output_type": "stream",
     "text": [
      "100%|██████████| 200/200 [00:01<00:00, 152.72it/s]\n"
     ]
    },
    {
     "name": "stdout",
     "output_type": "stream",
     "text": [
      ">>>>>>>>>>>>>>>>>>>>>>>>>>>>>>>>>>>>>>>>>>>>>>>>>>\n",
      "deformed_peduncle 200 200\n",
      " >>> Positive\n"
     ]
    },
    {
     "name": "stderr",
     "output_type": "stream",
     "text": [
      "100%|██████████| 200/200 [00:01<00:00, 165.47it/s]\n"
     ]
    },
    {
     "name": "stdout",
     "output_type": "stream",
     "text": [
      " >>> Negative\n"
     ]
    },
    {
     "name": "stderr",
     "output_type": "stream",
     "text": [
      "100%|██████████| 200/200 [00:01<00:00, 149.25it/s]\n"
     ]
    },
    {
     "name": "stdout",
     "output_type": "stream",
     "text": [
      ">>>>>>>>>>>>>>>>>>>>>>>>>>>>>>>>>>>>>>>>>>>>>>>>>>\n",
      "green 200 200\n",
      " >>> Positive\n"
     ]
    },
    {
     "name": "stderr",
     "output_type": "stream",
     "text": [
      "100%|██████████| 200/200 [00:01<00:00, 170.44it/s]\n"
     ]
    },
    {
     "name": "stdout",
     "output_type": "stream",
     "text": [
      " >>> Negative\n"
     ]
    },
    {
     "name": "stderr",
     "output_type": "stream",
     "text": [
      "100%|██████████| 200/200 [00:01<00:00, 173.51it/s]\n"
     ]
    },
    {
     "name": "stdout",
     "output_type": "stream",
     "text": [
      ">>>>>>>>>>>>>>>>>>>>>>>>>>>>>>>>>>>>>>>>>>>>>>>>>>\n",
      "hollow 200 200\n",
      " >>> Positive\n"
     ]
    },
    {
     "name": "stderr",
     "output_type": "stream",
     "text": [
      "100%|██████████| 200/200 [00:01<00:00, 197.77it/s]\n"
     ]
    },
    {
     "name": "stdout",
     "output_type": "stream",
     "text": [
      " >>> Negative\n"
     ]
    },
    {
     "name": "stderr",
     "output_type": "stream",
     "text": [
      "100%|██████████| 200/200 [00:01<00:00, 192.47it/s]\n"
     ]
    },
    {
     "name": "stdout",
     "output_type": "stream",
     "text": [
      ">>>>>>>>>>>>>>>>>>>>>>>>>>>>>>>>>>>>>>>>>>>>>>>>>>\n",
      "insect 126 200\n",
      " >>> Positive\n"
     ]
    },
    {
     "name": "stderr",
     "output_type": "stream",
     "text": [
      "100%|██████████| 126/126 [00:00<00:00, 131.51it/s]\n"
     ]
    },
    {
     "name": "stdout",
     "output_type": "stream",
     "text": [
      " >>> Negative\n"
     ]
    },
    {
     "name": "stderr",
     "output_type": "stream",
     "text": [
      "100%|██████████| 200/200 [00:01<00:00, 166.23it/s]\n"
     ]
    },
    {
     "name": "stdout",
     "output_type": "stream",
     "text": [
      ">>>>>>>>>>>>>>>>>>>>>>>>>>>>>>>>>>>>>>>>>>>>>>>>>>\n",
      "light_scars 200 200\n",
      " >>> Positive\n"
     ]
    },
    {
     "name": "stderr",
     "output_type": "stream",
     "text": [
      "100%|██████████| 200/200 [00:01<00:00, 143.18it/s]\n"
     ]
    },
    {
     "name": "stdout",
     "output_type": "stream",
     "text": [
      " >>> Negative\n"
     ]
    },
    {
     "name": "stderr",
     "output_type": "stream",
     "text": [
      "100%|██████████| 200/200 [00:01<00:00, 140.97it/s]\n"
     ]
    },
    {
     "name": "stdout",
     "output_type": "stream",
     "text": [
      ">>>>>>>>>>>>>>>>>>>>>>>>>>>>>>>>>>>>>>>>>>>>>>>>>>\n",
      "mechanical_damage 200 200\n",
      " >>> Positive\n"
     ]
    },
    {
     "name": "stderr",
     "output_type": "stream",
     "text": [
      "100%|██████████| 200/200 [00:01<00:00, 104.80it/s]\n"
     ]
    },
    {
     "name": "stdout",
     "output_type": "stream",
     "text": [
      " >>> Negative\n"
     ]
    },
    {
     "name": "stderr",
     "output_type": "stream",
     "text": [
      "100%|██████████| 200/200 [00:01<00:00, 126.40it/s]\n"
     ]
    },
    {
     "name": "stdout",
     "output_type": "stream",
     "text": [
      ">>>>>>>>>>>>>>>>>>>>>>>>>>>>>>>>>>>>>>>>>>>>>>>>>>\n",
      "oil_spots 200 200\n",
      " >>> Positive\n"
     ]
    },
    {
     "name": "stderr",
     "output_type": "stream",
     "text": [
      "100%|██████████| 200/200 [00:01<00:00, 152.43it/s]\n"
     ]
    },
    {
     "name": "stdout",
     "output_type": "stream",
     "text": [
      " >>> Negative\n"
     ]
    },
    {
     "name": "stderr",
     "output_type": "stream",
     "text": [
      "100%|██████████| 200/200 [00:01<00:00, 154.28it/s]\n"
     ]
    },
    {
     "name": "stdout",
     "output_type": "stream",
     "text": [
      ">>>>>>>>>>>>>>>>>>>>>>>>>>>>>>>>>>>>>>>>>>>>>>>>>>\n",
      "plu_stickers 200 200\n",
      " >>> Positive\n"
     ]
    },
    {
     "name": "stderr",
     "output_type": "stream",
     "text": [
      "100%|██████████| 200/200 [00:01<00:00, 105.94it/s]\n"
     ]
    },
    {
     "name": "stdout",
     "output_type": "stream",
     "text": [
      " >>> Negative\n"
     ]
    },
    {
     "name": "stderr",
     "output_type": "stream",
     "text": [
      "100%|██████████| 200/200 [00:01<00:00, 121.42it/s]\n"
     ]
    },
    {
     "name": "stdout",
     "output_type": "stream",
     "text": [
      ">>>>>>>>>>>>>>>>>>>>>>>>>>>>>>>>>>>>>>>>>>>>>>>>>>\n",
      "reddish 200 200\n",
      " >>> Positive\n"
     ]
    },
    {
     "name": "stderr",
     "output_type": "stream",
     "text": [
      "100%|██████████| 200/200 [00:02<00:00, 96.06it/s]\n"
     ]
    },
    {
     "name": "stdout",
     "output_type": "stream",
     "text": [
      " >>> Negative\n"
     ]
    },
    {
     "name": "stderr",
     "output_type": "stream",
     "text": [
      "100%|██████████| 200/200 [00:01<00:00, 106.30it/s]\n"
     ]
    },
    {
     "name": "stdout",
     "output_type": "stream",
     "text": [
      ">>>>>>>>>>>>>>>>>>>>>>>>>>>>>>>>>>>>>>>>>>>>>>>>>>\n",
      "rotten 200 200\n",
      " >>> Positive\n"
     ]
    },
    {
     "name": "stderr",
     "output_type": "stream",
     "text": [
      "100%|██████████| 200/200 [00:01<00:00, 175.03it/s]\n"
     ]
    },
    {
     "name": "stdout",
     "output_type": "stream",
     "text": [
      " >>> Negative\n"
     ]
    },
    {
     "name": "stderr",
     "output_type": "stream",
     "text": [
      "100%|██████████| 200/200 [00:01<00:00, 164.63it/s]\n"
     ]
    },
    {
     "name": "stdout",
     "output_type": "stream",
     "text": [
      ">>>>>>>>>>>>>>>>>>>>>>>>>>>>>>>>>>>>>>>>>>>>>>>>>>\n",
      "scars 200 200\n",
      " >>> Positive\n"
     ]
    },
    {
     "name": "stderr",
     "output_type": "stream",
     "text": [
      "100%|██████████| 200/200 [00:01<00:00, 128.36it/s]\n"
     ]
    },
    {
     "name": "stdout",
     "output_type": "stream",
     "text": [
      " >>> Negative\n"
     ]
    },
    {
     "name": "stderr",
     "output_type": "stream",
     "text": [
      "100%|██████████| 200/200 [00:01<00:00, 136.71it/s]\n"
     ]
    },
    {
     "name": "stdout",
     "output_type": "stream",
     "text": [
      ">>>>>>>>>>>>>>>>>>>>>>>>>>>>>>>>>>>>>>>>>>>>>>>>>>\n",
      "skin_breakdown 200 200\n",
      " >>> Positive\n"
     ]
    },
    {
     "name": "stderr",
     "output_type": "stream",
     "text": [
      "100%|██████████| 200/200 [00:01<00:00, 141.08it/s]\n"
     ]
    },
    {
     "name": "stdout",
     "output_type": "stream",
     "text": [
      " >>> Negative\n"
     ]
    },
    {
     "name": "stderr",
     "output_type": "stream",
     "text": [
      "100%|██████████| 200/200 [00:01<00:00, 160.65it/s]\n"
     ]
    },
    {
     "name": "stdout",
     "output_type": "stream",
     "text": [
      ">>>>>>>>>>>>>>>>>>>>>>>>>>>>>>>>>>>>>>>>>>>>>>>>>>\n",
      "surface 200 200\n",
      " >>> Positive\n"
     ]
    },
    {
     "name": "stderr",
     "output_type": "stream",
     "text": [
      "100%|██████████| 200/200 [00:01<00:00, 137.62it/s]\n"
     ]
    },
    {
     "name": "stdout",
     "output_type": "stream",
     "text": [
      " >>> Negative\n"
     ]
    },
    {
     "name": "stderr",
     "output_type": "stream",
     "text": [
      "100%|██████████| 200/200 [00:01<00:00, 148.01it/s]\n"
     ]
    }
   ],
   "source": [
    "from tqdm import tqdm\n",
    "for defecto in clases:\n",
    "    print(\">>>>>>>>>>>>>>>>>>>>>>>>>>>>>>>>>>>>>>>>>>>>>>>>>>\")\n",
    "    print(defecto,len(seleccion_positivos[defecto]),len(seleccion_negativos[defecto]))\n",
    "    lista_positivos=seleccion_positivos[defecto]\n",
    "    lista_negativos=seleccion_negativos[defecto]\n",
    "    \n",
    "    # Crear un directorio para cada defecto\n",
    "    \n",
    "    positive_dir=out_dir+\"/positive/\"+defecto\n",
    "    negative_dir=out_dir+\"/negative/\"+defecto\n",
    "    Path(positive_dir).mkdir(parents=True, exist_ok=True)\n",
    "    Path(negative_dir).mkdir(parents=True, exist_ok=True)\n",
    "    print(\" >>> Positive\")\n",
    "    for vista in tqdm(lista_positivos):\n",
    "        json_file,view_number,score=vista\n",
    "        npzfilename=json_file.replace(\".json\",\".npz\")\n",
    "        npzfilename=os.path.join(\"..\",npzfilename)\n",
    "        json_file=os.path.join(\"..\",json_file)\n",
    "        imagenes=pycimg.npzread_torch(npzfilename,json_file,channel_list=['R','G','B'])\n",
    "        imagen=imagenes[view_number].numpy()\n",
    "        imagen=imagen.transpose((1,2,0))\n",
    "        imagen=(255*imagen).astype(np.uint8)\n",
    "        imagen_bgr=imagen[:,:,::-1]\n",
    "        imagen_bgr=cv2.resize(imagen_bgr,(224,224))\n",
    "        #print(f'Vista positiva: {json_file} {view_number} {imagen.shape} {imagen.dtype} {imagen.min()} {imagen.max()}')\n",
    "        \n",
    "        basename=os.path.basename(json_file)\n",
    "        basename=basename.replace(\".json\",\"\")\n",
    "        score_int=int(score*1000)\n",
    "        basename=f'{basename}_{view_number:02d}_{score_int:02d}.jpg'\n",
    "        #print(f'Vista positiva: {basename} {view_number} {imagen.shape} {imagen.dtype} {imagen.min()} {imagen.max()}')\n",
    "        outname=os.path.join(positive_dir,basename)\n",
    "        cv2.imwrite(outname,imagen_bgr)\n",
    "    print(\" >>> Negative\")        \n",
    "    for vista in tqdm(lista_negativos):\n",
    "        json_file,view_number,score=vista\n",
    "        npzfilename=json_file.replace(\".json\",\".npz\")\n",
    "        npzfilename=os.path.join(\"..\",npzfilename)\n",
    "        json_file=os.path.join(\"..\",json_file)        \n",
    "        imagenes=pycimg.npzread_torch(npzfilename,json_file,channel_list=['R','G','B'])\n",
    "        imagen=imagenes[view_number].numpy()\n",
    "        imagen=imagen.transpose((1,2,0))\n",
    "        imagen=(255*imagen).astype(np.uint8)\n",
    "        imagen_bgr=imagen[:,:,::-1]\n",
    "        imagen_bgr=cv2.resize(imagen_bgr,(224,224))\n",
    "        #print(f'Vista positiva: {json_file} {view_number} {imagen.shape} {imagen.dtype} {imagen.min()} {imagen.max()}')\n",
    "        \n",
    "        basename=os.path.basename(json_file)\n",
    "        basename=basename.replace(\".json\",\"\")\n",
    "        score_int=int(score*1000)        \n",
    "        basename=f'{basename}_{view_number:02d}_{score_int:02d}.jpg'\n",
    "        #print(f'Vista positiva: {basename} {view_number} {imagen.shape} {imagen.dtype} {imagen.min()} {imagen.max()}')\n",
    "        outname=os.path.join(negative_dir,basename)\n",
    "        #print(outname)\n",
    "        cv2.imwrite(outname,imagen_bgr)        "
   ]
  },
  {
   "cell_type": "code",
   "execution_count": null,
   "metadata": {},
   "outputs": [],
   "source": []
  }
 ],
 "metadata": {
  "kernelspec": {
   "display_name": "mscandvc",
   "language": "python",
   "name": "python3"
  },
  "language_info": {
   "codemirror_mode": {
    "name": "ipython",
    "version": 3
   },
   "file_extension": ".py",
   "mimetype": "text/x-python",
   "name": "python",
   "nbconvert_exporter": "python",
   "pygments_lexer": "ipython3",
   "version": "3.12.0"
  }
 },
 "nbformat": 4,
 "nbformat_minor": 2
}

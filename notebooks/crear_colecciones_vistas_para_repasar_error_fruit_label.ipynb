{
 "cells": [
  {
   "cell_type": "code",
   "execution_count": 1,
   "metadata": {
    "execution": {
     "iopub.execute_input": "2024-12-12T09:13:48.833953Z",
     "iopub.status.busy": "2024-12-12T09:13:48.833356Z",
     "iopub.status.idle": "2024-12-12T09:13:50.384027Z",
     "shell.execute_reply": "2024-12-12T09:13:50.383575Z"
    }
   },
   "outputs": [],
   "source": [
    "#autoreload\n",
    "%load_ext autoreload\n",
    "%autoreload 2\n",
    "\n",
    "import torch\n",
    "from torchmetrics import AUROC\n",
    "import matplotlib.pyplot as plt\n",
    "import numpy as np\n",
    "import pandas as pd\n",
    "import json\n",
    "import os\n",
    "\n",
    "import sys\n",
    "sys.path.append(\"../../src_clasificacion_vistas/common\")\n",
    "\n",
    "import pycimg\n",
    "\n",
    "from pathlib import Path\n",
    "import cv2\n",
    "from tqdm import tqdm"
   ]
  },
  {
   "cell_type": "code",
   "execution_count": 2,
   "metadata": {
    "execution": {
     "iopub.execute_input": "2024-12-12T09:13:50.388456Z",
     "iopub.status.busy": "2024-12-12T09:13:50.388265Z",
     "iopub.status.idle": "2024-12-12T09:13:50.412172Z",
     "shell.execute_reply": "2024-12-12T09:13:50.411655Z"
    }
   },
   "outputs": [],
   "source": [
    "current_file_dir = os.getcwd()\n",
    "train_results_json=\"../out_evaluate_repaso_insect2_gamma_0/train_scores.json\"\n",
    "val_results_json=\"../out_evaluate_repaso_insect2_gamma_0/val_scores.json\"\n",
    "train_results_json=os.path.join(current_file_dir,train_results_json)    \n",
    "val_results_json=os.path.join(current_file_dir,val_results_json)    \n",
    "out_dir=\"/home/aalbiol/Desktop/repasoD\"\n",
    "\n",
    "Path(out_dir).mkdir(parents=True, exist_ok=True)\n",
    "\n",
    "\n",
    "def create_lists(train_data,clases):\n",
    "    listas_positivos={} # Casos po\n",
    "    listas_negativos={}\n",
    "    for defecto in clases:\n",
    "        listas_positivos[defecto]=[]\n",
    "        listas_negativos[defecto]=[]\n",
    "    for d in tqdm(train_data):\n",
    "\n",
    "        filenamejson=d['filename'].replace(\".npz\",\".json\")\n",
    "        scores=d['probs_vistas']\n",
    "        kk=os.path.join(\"..\",filenamejson)\n",
    "        npzfilename=kk.replace(\".json\",\".npz\")\n",
    "#        imagenes=pycimg.npzread_torch(npzfilename,kk,channel_list=['R','G','B'])\n",
    "        if not os.path.exists(kk):\n",
    "            print(\" does not exist: \",kk)\n",
    "            continue\n",
    "        with open(kk, \"r\") as f:\n",
    "            anot_dict = json.load(f)\n",
    "        if 'views_annotations' not in anot_dict:\n",
    "            continue    \n",
    "        truth_vistas=anot_dict['views_annotations']\n",
    "        truth_fruit=anot_dict['annotations']\n",
    "        scores_fruit=d['scores']\n",
    "        \n",
    "        nvistas=len(truth_vistas)\n",
    "        nclases=len(clases)\n",
    "        truths=[]\n",
    "        \n",
    "        for n in range(nvistas):\n",
    "            keyid=\"view_\"+str(n)\n",
    "            truths.append(truth_vistas[keyid])\n",
    "\n",
    "            \n",
    "        gt=torch.zeros((nvistas,nclases))    \n",
    "        \n",
    "        \n",
    "        # truths: lista de vistas. Cada una de ellas es un diccionario con el nombre del defecto como clave\n",
    "        for n in range(nvistas):\n",
    "            for m, defecto in enumerate(clases):\n",
    "                if defecto in truths[n]:\n",
    "                    gt[n,m]=float(truths[n][defecto])\n",
    "                    \n",
    "        preds1=torch.zeros((nvistas,nclases))\n",
    "        \n",
    "        \n",
    "        for n in range(nvistas):\n",
    "            for m, defecto in enumerate(clases):\n",
    "                if defecto in scores:\n",
    "                    fruit_score = scores_fruit[defecto]\n",
    "                    fruit_truth = truth_fruit[defecto]\n",
    "                    preds1[n,m]=float(scores[defecto][n])\n",
    "                    if gt[n,m]==1:\n",
    "                        listas_positivos[defecto].append((filenamejson,n,preds1[n,m].item(),fruit_score,fruit_truth))\n",
    "                    else:\n",
    "                        listas_negativos[defecto].append((filenamejson,n,preds1[n,m].item(),fruit_score,fruit_truth))\n",
    "        \n",
    "                    \n",
    "        # gt de este json\n",
    "        # preds1 de este json                    \n",
    "\n",
    "\n",
    "\n",
    "\n",
    "    return listas_positivos,listas_negativos\n",
    "\n",
    "\n",
    "\n"
   ]
  },
  {
   "cell_type": "code",
   "execution_count": 3,
   "metadata": {},
   "outputs": [
    {
     "name": "stdout",
     "output_type": "stream",
     "text": [
      "1318\n",
      "351\n",
      "1669\n"
     ]
    }
   ],
   "source": [
    "## Leer los archivos\n",
    "\n",
    "with open(train_results_json, \"r\") as f:\n",
    "    train_dict = json.load(f)\n",
    "\n",
    "with open(val_results_json, \"r\") as f:\n",
    "    val_dict = json.load(f)    \n",
    "\n",
    "train_data=train_dict['train_results']\n",
    "val_data = val_dict['val_results']\n",
    "clases=list(train_dict['train_results'][0]['ground_truth'].keys())\n",
    "\n",
    "all_data=train_data+val_data\n",
    "\n",
    "print(len(train_data))\n",
    "print(len(val_data))\n",
    "print(len(all_data))"
   ]
  },
  {
   "cell_type": "code",
   "execution_count": 4,
   "metadata": {
    "execution": {
     "iopub.execute_input": "2024-12-12T09:13:50.429913Z",
     "iopub.status.busy": "2024-12-12T09:13:50.429762Z",
     "iopub.status.idle": "2024-12-12T09:13:50.442593Z",
     "shell.execute_reply": "2024-12-12T09:13:50.442203Z"
    }
   },
   "outputs": [
    {
     "name": "stderr",
     "output_type": "stream",
     "text": [
      "  0%|          | 0/1669 [00:00<?, ?it/s]"
     ]
    },
    {
     "name": "stderr",
     "output_type": "stream",
     "text": [
      " 75%|███████▌  | 1253/1669 [00:02<00:00, 600.52it/s]"
     ]
    },
    {
     "name": "stdout",
     "output_type": "stream",
     "text": [
      " does not exist:  ../data/oranges/navel/manfredi2/deformed_peduncle/20250403_1039_000041.json\n",
      " does not exist:  ../data/oranges/navel/manfredi2/deformed_peduncle/20250403_1040_002039.json\n",
      " does not exist:  ../data/oranges/navel/manfredi2/deformed_peduncle/20250403_1040_002043.json\n",
      " does not exist:  ../data/oranges/navel/manfredi2/deformed_peduncle/20250403_1039_000046.json\n",
      " does not exist:  ../data/oranges/navel/manfredi2/deformed_peduncle/20250403_1036_000030.json\n",
      " does not exist:  ../data/oranges/navel/manfredi2/deformed_peduncle/20250403_1038_000040.json\n",
      " does not exist:  ../data/oranges/navel/manfredi2/deformed_peduncle/20250403_1038_002027.json\n",
      " does not exist:  ../data/oranges/navel/manfredi2/deformed_peduncle/20250403_1036_000026.json\n",
      " does not exist:  ../data/oranges/navel/manfredi2/deformed_peduncle/20250403_1037_002026.json\n",
      " does not exist:  ../data/oranges/navel/manfredi2/deformed_peduncle/20250403_1037_000033.json\n",
      " does not exist:  ../data/oranges/navel/manfredi2/deformed_peduncle/20250403_1037_002023.json\n",
      " does not exist:  ../data/oranges/navel/manfredi2/deformed_peduncle/20250403_1037_000035.json\n",
      " does not exist:  ../data/oranges/navel/manfredi2/deformed_peduncle/20250403_1038_000043.json\n",
      " does not exist:  ../data/oranges/navel/manfredi2/deformed_peduncle/20250403_1039_002033.json\n"
     ]
    },
    {
     "name": "stderr",
     "output_type": "stream",
     "text": [
      " 83%|████████▎ | 1386/1669 [00:02<00:00, 520.26it/s]"
     ]
    },
    {
     "name": "stdout",
     "output_type": "stream",
     "text": [
      " does not exist:  ../data/oranges/navel/manfredi2/skin_creasing2/20250403_1019_002008.json\n",
      " does not exist:  ../data/oranges/navel/manfredi2/skin_creasing2/20250403_1018_002003.json\n",
      " does not exist:  ../data/oranges/navel/manfredi2/skin_creasing2/20250403_1017_000005.json\n",
      " does not exist:  ../data/oranges/navel/manfredi2/skin_creasing2/20250403_1020_000018.json\n",
      " does not exist:  ../data/oranges/navel/manfredi2/skin_creasing2/20250403_1020_002020.json\n",
      " does not exist:  ../data/oranges/navel/manfredi2/skin_creasing2/20250403_1018_000010.json\n",
      " does not exist:  ../data/oranges/navel/manfredi2/skin_creasing2/20250403_1017_000001.json\n",
      " does not exist:  ../data/oranges/navel/manfredi2/skin_creasing2/20250403_1018_000007.json\n",
      " does not exist:  ../data/oranges/navel/manfredi2/skin_creasing2/20250403_1018_000008.json\n",
      " does not exist:  ../data/oranges/navel/manfredi2/skin_creasing2/20250403_1019_002009.json\n",
      " does not exist:  ../data/oranges/navel/manfredi2/skin_creasing2/20250403_1020_002015.json\n",
      " does not exist:  ../data/oranges/navel/manfredi2/skin_creasing2/20250403_1018_002004.json\n",
      " does not exist:  ../data/oranges/navel/manfredi2/skin_creasing2/20250403_1019_000013.json\n",
      " does not exist:  ../data/oranges/navel/manfredi2/skin_creasing2/20250403_1020_002011.json\n",
      " does not exist:  ../data/oranges/navel/manfredi2/skin_creasing2/20250403_1019_002014.json\n",
      " does not exist:  ../data/oranges/navel/manfredi2/skin_creasing2/20250403_1019_000012.json\n",
      " does not exist:  ../data/oranges/navel/manfredi2/skin_creasing2/20250403_1019_002010.json\n",
      " does not exist:  ../data/oranges/navel/manfredi2/skin_creasing2/20250403_1021_002021.json\n",
      " does not exist:  ../data/oranges/navel/manfredi2/skin_creasing2/20250403_1020_002017.json\n",
      " does not exist:  ../data/oranges/navel/manfredi2/skin_creasing2/20250403_1019_002007.json\n",
      " does not exist:  ../data/oranges/navel/manfredi2/skin_creasing2/20250403_1019_000015.json\n",
      " does not exist:  ../data/oranges/navel/manfredi2/skin_creasing2/20250403_1020_000021.json\n"
     ]
    },
    {
     "name": "stderr",
     "output_type": "stream",
     "text": [
      "100%|██████████| 1669/1669 [00:03<00:00, 548.04it/s]"
     ]
    },
    {
     "name": "stdout",
     "output_type": "stream",
     "text": [
      " does not exist:  ../data/oranges/navel/manfredi2/deformed_peduncle/20250403_1039_002040.json\n",
      " does not exist:  ../data/oranges/navel/manfredi2/deformed_peduncle/20250403_1036_000027.json\n",
      " does not exist:  ../data/oranges/navel/manfredi2/deformed_peduncle/20250403_1039_002037.json\n",
      " does not exist:  ../data/oranges/navel/manfredi2/skin_creasing2/20250403_1020_000020.json\n",
      " does not exist:  ../data/oranges/navel/manfredi2/skin_creasing2/20250403_1022_000024.json\n",
      " does not exist:  ../data/oranges/navel/manfredi2/skin_creasing2/20250403_1019_000014.json\n"
     ]
    },
    {
     "name": "stderr",
     "output_type": "stream",
     "text": [
      "\n"
     ]
    }
   ],
   "source": [
    "listas_positivas_all, listas_negativas_all=create_lists(all_data,clases)"
   ]
  },
  {
   "cell_type": "code",
   "execution_count": 5,
   "metadata": {},
   "outputs": [
    {
     "data": {
      "text/plain": [
       "[('data/mandarins/clementine/KDC/20220808_154231_Img_20220808_154156produccionClementina/20250218_1154_000579.json',\n",
       "  0,\n",
       "  0.012000000104308128,\n",
       "  0.016,\n",
       "  '0'),\n",
       " ('data/mandarins/clementine/KDC/20220808_154231_Img_20220808_154156produccionClementina/20250218_1154_000579.json',\n",
       "  1,\n",
       "  0.012000000104308128,\n",
       "  0.016,\n",
       "  '0'),\n",
       " ('data/mandarins/clementine/KDC/20220808_154231_Img_20220808_154156produccionClementina/20250218_1154_000579.json',\n",
       "  2,\n",
       "  0.008999999612569809,\n",
       "  0.016,\n",
       "  '0')]"
      ]
     },
     "execution_count": 5,
     "metadata": {},
     "output_type": "execute_result"
    }
   ],
   "source": [
    "listas_negativas_all['cracks'][:3]"
   ]
  },
  {
   "cell_type": "markdown",
   "metadata": {},
   "source": [
    "# Cantidad de Vistas de con cada defecto"
   ]
  },
  {
   "cell_type": "code",
   "execution_count": 6,
   "metadata": {
    "execution": {
     "iopub.execute_input": "2024-12-12T09:13:50.443887Z",
     "iopub.status.busy": "2024-12-12T09:13:50.443748Z",
     "iopub.status.idle": "2024-12-12T09:13:50.447987Z",
     "shell.execute_reply": "2024-12-12T09:13:50.447585Z"
    }
   },
   "outputs": [
    {
     "name": "stdout",
     "output_type": "stream",
     "text": [
      "cracks\n",
      "positivos:  202\n",
      "negativos:  15323\n",
      "total:  15525\n",
      " \n",
      "damage_by_pliers\n",
      "positivos:  159\n",
      "negativos:  15366\n",
      "total:  15525\n",
      " \n",
      "deformed_peduncle\n",
      "positivos:  503\n",
      "negativos:  15022\n",
      "total:  15525\n",
      " \n",
      "green\n",
      "positivos:  733\n",
      "negativos:  14792\n",
      "total:  15525\n",
      " \n",
      "hollow\n",
      "positivos:  357\n",
      "negativos:  15168\n",
      "total:  15525\n",
      " \n",
      "insect\n",
      "positivos:  115\n",
      "negativos:  15410\n",
      "total:  15525\n",
      " \n",
      "light_scars\n",
      "positivos:  799\n",
      "negativos:  14726\n",
      "total:  15525\n",
      " \n",
      "mechanical_damage\n",
      "positivos:  208\n",
      "negativos:  15317\n",
      "total:  15525\n",
      " \n",
      "oil_spots\n",
      "positivos:  327\n",
      "negativos:  15198\n",
      "total:  15525\n",
      " \n",
      "plu_stickers\n",
      "positivos:  469\n",
      "negativos:  15056\n",
      "total:  15525\n",
      " \n",
      "reddish\n",
      "positivos:  190\n",
      "negativos:  15335\n",
      "total:  15525\n",
      " \n",
      "rotten\n",
      "positivos:  660\n",
      "negativos:  14865\n",
      "total:  15525\n",
      " \n",
      "scars\n",
      "positivos:  725\n",
      "negativos:  14800\n",
      "total:  15525\n",
      " \n",
      "skin_breakdown\n",
      "positivos:  500\n",
      "negativos:  15025\n",
      "total:  15525\n",
      " \n",
      "surface\n",
      "positivos:  1730\n",
      "negativos:  13795\n",
      "total:  15525\n",
      " \n"
     ]
    }
   ],
   "source": [
    "for c in clases:\n",
    "    print(c)\n",
    "    print(\"positivos: \",len(listas_positivas_all[c]))\n",
    "    print(\"negativos: \",len(listas_negativas_all[c]))\n",
    "    print(\"total: \",len(listas_positivas_all[c])+len(listas_negativas_all[c]))\n",
    "    print(\" \")"
   ]
  },
  {
   "cell_type": "markdown",
   "metadata": {},
   "source": [
    "# Ordenar listas de por scores\n",
    "Si hay más de 500\n",
    "\n",
    "* Los positivos seleccionamos los 500 de menos score\n",
    "* Los negativos sleccionamos los 500 de más score"
   ]
  },
  {
   "cell_type": "code",
   "execution_count": 7,
   "metadata": {},
   "outputs": [],
   "source": [
    "seleccion_positivos={}\n",
    "seleccion_negativos={}\n",
    "seleccion_negativos2={}\n",
    "for defecto in clases:\n",
    "    seleccion_positivos[defecto]=[]\n",
    "    seleccion_negativos[defecto]=[]\n",
    "    seleccion_negativos2[defecto]=[]\n",
    "NMAX=200\n",
    "for defecto in clases:\n",
    "    if len(listas_positivas_all[defecto])<NMAX:\n",
    "        \n",
    "        seleccion_positivos[defecto]=listas_positivas_all[defecto]\n",
    "    else:\n",
    "        lp=listas_positivas_all[defecto]\n",
    "\n",
    "        scores=[x[2] for x in lp]\n",
    "        scores=np.array(scores)\n",
    "        scores_frutos=[x[3] for x in lp]\n",
    "        truths_frutos=[x[4] for x in lp]\n",
    "        idx_sorted = np.argsort(scores)\n",
    "        idx_sorted = idx_sorted[:NMAX]\n",
    "        for idx in idx_sorted:\n",
    "            seleccion_positivos[defecto].append(lp[idx])\n",
    "    ln=listas_negativas_all[defecto]            \n",
    "    scores=[x[2] for x in ln]\n",
    "    scores=np.array(scores)\n",
    "    idx_sorted = np.argsort(scores)[::-1]\n",
    "    # idx_sorted = idx_sorted[:NMAX]\n",
    "    for idx in idx_sorted:\n",
    "        caso=ln[idx]\n",
    "        truth_fruto=int(caso[4])\n",
    "        #print(truth_fruto)\n",
    "        if truth_fruto>0.5:\n",
    "            seleccion_negativos2[defecto].append(ln[idx])\n",
    "            if len(seleccion_negativos2[defecto])>NMAX:\n",
    "                break\n",
    "        else:\n",
    "            seleccion_negativos[defecto].append(ln[idx])\n",
    "            if len(seleccion_negativos[defecto])>NMAX:\n",
    "                break\n"
   ]
  },
  {
   "cell_type": "code",
   "execution_count": 8,
   "metadata": {},
   "outputs": [
    {
     "name": "stdout",
     "output_type": "stream",
     "text": [
      "cracks\n",
      "positivos:  200  negativos:  201 62\n",
      " \n",
      "damage_by_pliers\n",
      "positivos:  159  negativos:  201 27\n",
      " \n",
      "deformed_peduncle\n",
      "positivos:  200  negativos:  201 191\n",
      " \n",
      "green\n",
      "positivos:  200  negativos:  201 68\n",
      " \n",
      "hollow\n",
      "positivos:  200  negativos:  201 46\n",
      " \n",
      "insect\n",
      "positivos:  115  negativos:  201 0\n",
      " \n",
      "light_scars\n",
      "positivos:  200  negativos:  188 201\n",
      " \n",
      "mechanical_damage\n",
      "positivos:  200  negativos:  201 26\n",
      " \n",
      "oil_spots\n",
      "positivos:  200  negativos:  201 64\n",
      " \n",
      "plu_stickers\n",
      "positivos:  200  negativos:  201 48\n",
      " \n",
      "reddish\n",
      "positivos:  190  negativos:  201 77\n",
      " \n",
      "rotten\n",
      "positivos:  200  negativos:  201 33\n",
      " \n",
      "scars\n",
      "positivos:  200  negativos:  201 80\n",
      " \n",
      "skin_breakdown\n",
      "positivos:  200  negativos:  201 71\n",
      " \n",
      "surface\n",
      "positivos:  200  negativos:  201 199\n",
      " \n"
     ]
    }
   ],
   "source": [
    "for c in clases:\n",
    "    print(c)\n",
    "    print(\"positivos: \",len(seleccion_positivos[c]), \" negativos: \",len(seleccion_negativos[c]), len(seleccion_negativos2[c]))\n",
    "    #print(\"negativos: \",len(listas_negativas_all[c]))\n",
    "    #print(\"total: \",len(listas_positivas_all[c])+len(listas_negativas_all[c]))\n",
    "    print(\" \")"
   ]
  },
  {
   "cell_type": "markdown",
   "metadata": {},
   "source": [
    "# Crear imágenes de vistas"
   ]
  },
  {
   "cell_type": "code",
   "execution_count": 9,
   "metadata": {},
   "outputs": [
    {
     "name": "stdout",
     "output_type": "stream",
     "text": [
      ">>>>>>>>>>>>>>>>>>>>>>>>>>>>>>>>>>>>>>>>>>>>>>>>>>\n",
      "cracks 200 201\n",
      " >>> Positive\n"
     ]
    },
    {
     "name": "stderr",
     "output_type": "stream",
     "text": [
      "  0%|          | 0/200 [00:00<?, ?it/s]"
     ]
    },
    {
     "name": "stderr",
     "output_type": "stream",
     "text": [
      " 35%|███▌      | 70/200 [00:01<00:02, 55.71it/s]"
     ]
    },
    {
     "name": "stdout",
     "output_type": "stream",
     "text": [
      " does not exist:  ../data/oranges/navel/manfredi2/skin_creasing2/20250403_1021_000023.json\n"
     ]
    },
    {
     "name": "stderr",
     "output_type": "stream",
     "text": [
      "100%|██████████| 200/200 [00:02<00:00, 94.91it/s] \n"
     ]
    },
    {
     "name": "stdout",
     "output_type": "stream",
     "text": [
      " >>> Negative\n"
     ]
    },
    {
     "name": "stderr",
     "output_type": "stream",
     "text": [
      "  6%|▋         | 13/201 [00:00<00:01, 122.91it/s]"
     ]
    },
    {
     "name": "stdout",
     "output_type": "stream",
     "text": [
      " >>> Negative 2\n",
      " >>> Negative 2\n",
      " >>> Negative 2\n",
      " >>> Negative 2\n",
      " >>> Negative 2\n",
      " >>> Negative 2\n",
      " >>> Negative 2\n",
      " >>> Negative 2\n",
      " >>> Negative 2\n",
      " >>> Negative 2\n",
      " >>> Negative 2\n",
      " >>> Negative 2\n",
      " >>> Negative 2\n",
      " >>> Negative 2\n",
      " >>> Negative 2\n",
      " >>> Negative 2\n",
      " >>> Negative 2\n",
      " >>> Negative 2\n",
      " >>> Negative 2\n",
      " >>> Negative 2\n",
      " >>> Negative 2\n",
      " >>> Negative 2\n",
      " >>> Negative 2\n",
      " >>> Negative 2\n"
     ]
    },
    {
     "name": "stderr",
     "output_type": "stream",
     "text": [
      " 13%|█▎        | 26/201 [00:00<00:01, 111.14it/s]"
     ]
    },
    {
     "name": "stdout",
     "output_type": "stream",
     "text": [
      " >>> Negative 2\n",
      " >>> Negative 2\n",
      " >>> Negative 2\n",
      " >>> Negative 2\n",
      " >>> Negative 2\n",
      " >>> Negative 2\n",
      " >>> Negative 2\n",
      " >>> Negative 2\n",
      " >>> Negative 2\n",
      " >>> Negative 2\n",
      " >>> Negative 2\n"
     ]
    },
    {
     "name": "stderr",
     "output_type": "stream",
     "text": [
      " 19%|█▉        | 38/201 [00:00<00:02, 68.40it/s] "
     ]
    },
    {
     "name": "stdout",
     "output_type": "stream",
     "text": [
      " >>> Negative 2\n",
      " >>> Negative 2\n",
      " >>> Negative 2\n",
      " >>> Negative 2\n",
      " >>> Negative 2\n",
      " >>> Negative 2\n",
      " >>> Negative 2\n",
      " >>> Negative 2\n"
     ]
    },
    {
     "name": "stderr",
     "output_type": "stream",
     "text": [
      " 29%|██▉       | 59/201 [00:00<00:02, 69.97it/s]"
     ]
    },
    {
     "name": "stdout",
     "output_type": "stream",
     "text": [
      " >>> Negative 2\n",
      " >>> Negative 2\n",
      " >>> Negative 2\n",
      " >>> Negative 2\n",
      " >>> Negative 2\n",
      " >>> Negative 2\n",
      " >>> Negative 2\n",
      " >>> Negative 2\n",
      " >>> Negative 2\n",
      " >>> Negative 2\n",
      " >>> Negative 2\n",
      " >>> Negative 2\n",
      " >>> Negative 2\n",
      " >>> Negative 2\n",
      " >>> Negative 2\n",
      " >>> Negative 2\n",
      " >>> Negative 2\n",
      " >>> Negative 2\n",
      " >>> Negative 2\n"
     ]
    },
    {
     "name": "stderr",
     "output_type": "stream",
     "text": [
      " 34%|███▍      | 68/201 [00:00<00:01, 71.65it/s]"
     ]
    },
    {
     "name": "stdout",
     "output_type": "stream",
     "text": [
      " >>> Negative 2\n",
      " >>> Negative 2\n",
      " >>> Negative 2\n",
      " >>> Negative 2\n",
      " >>> Negative 2\n",
      " >>> Negative 2\n",
      " >>> Negative 2\n",
      " >>> Negative 2\n",
      " >>> Negative 2\n",
      " >>> Negative 2\n",
      " >>> Negative 2\n",
      " >>> Negative 2\n",
      " >>> Negative 2\n",
      " >>> Negative 2\n"
     ]
    },
    {
     "name": "stderr",
     "output_type": "stream",
     "text": [
      " 45%|████▌     | 91/201 [00:01<00:01, 89.76it/s]"
     ]
    },
    {
     "name": "stdout",
     "output_type": "stream",
     "text": [
      " >>> Negative 2\n",
      " >>> Negative 2\n",
      " >>> Negative 2\n",
      " >>> Negative 2\n",
      " >>> Negative 2\n",
      " >>> Negative 2\n",
      " >>> Negative 2\n",
      " >>> Negative 2\n",
      " >>> Negative 2\n",
      " >>> Negative 2\n",
      " >>> Negative 2\n",
      " >>> Negative 2\n",
      " >>> Negative 2\n",
      " >>> Negative 2\n",
      " >>> Negative 2\n",
      " >>> Negative 2\n",
      " >>> Negative 2\n",
      " >>> Negative 2\n",
      " >>> Negative 2\n",
      " >>> Negative 2\n",
      " >>> Negative 2\n",
      " >>> Negative 2\n",
      " >>> Negative 2\n",
      " >>> Negative 2\n",
      " >>> Negative 2\n",
      " >>> Negative 2\n",
      " >>> Negative 2\n",
      " >>> Negative 2\n",
      " >>> Negative 2\n"
     ]
    },
    {
     "name": "stderr",
     "output_type": "stream",
     "text": [
      " 53%|█████▎    | 106/201 [00:01<00:00, 104.79it/s]"
     ]
    },
    {
     "name": "stdout",
     "output_type": "stream",
     "text": [
      " >>> Negative 2\n",
      " >>> Negative 2\n",
      " >>> Negative 2\n",
      " >>> Negative 2\n",
      " >>> Negative 2\n"
     ]
    },
    {
     "name": "stderr",
     "output_type": "stream",
     "text": [
      " 59%|█████▊    | 118/201 [00:01<00:01, 66.46it/s] "
     ]
    },
    {
     "name": "stdout",
     "output_type": "stream",
     "text": [
      " >>> Negative 2\n",
      " >>> Negative 2\n",
      " >>> Negative 2\n",
      " >>> Negative 2\n",
      " >>> Negative 2\n",
      " >>> Negative 2\n",
      " >>> Negative 2\n",
      " >>> Negative 2\n",
      " >>> Negative 2\n",
      " >>> Negative 2\n",
      " >>> Negative 2\n",
      " >>> Negative 2\n",
      " >>> Negative 2\n",
      " >>> Negative 2\n",
      " >>> Negative 2\n",
      " >>> Negative 2\n",
      " >>> Negative 2\n",
      " >>> Negative 2\n"
     ]
    },
    {
     "name": "stderr",
     "output_type": "stream",
     "text": [
      " 66%|██████▌   | 132/201 [00:01<00:00, 78.73it/s]"
     ]
    },
    {
     "name": "stdout",
     "output_type": "stream",
     "text": [
      " >>> Negative 2\n",
      " >>> Negative 2\n",
      " >>> Negative 2\n",
      " >>> Negative 2\n",
      " >>> Negative 2\n",
      " >>> Negative 2\n",
      " >>> Negative 2\n",
      " >>> Negative 2\n",
      " >>> Negative 2\n",
      " >>> Negative 2\n"
     ]
    },
    {
     "name": "stderr",
     "output_type": "stream",
     "text": [
      " 71%|███████   | 143/201 [00:02<00:01, 57.43it/s]"
     ]
    },
    {
     "name": "stdout",
     "output_type": "stream",
     "text": [
      " >>> Negative 2\n",
      " >>> Negative 2\n",
      " >>> Negative 2\n",
      " >>> Negative 2\n",
      " >>> Negative 2\n",
      " >>> Negative 2\n",
      " >>> Negative 2\n"
     ]
    },
    {
     "name": "stderr",
     "output_type": "stream",
     "text": [
      " 75%|███████▌  | 151/201 [00:02<00:00, 50.23it/s]"
     ]
    },
    {
     "name": "stdout",
     "output_type": "stream",
     "text": [
      " >>> Negative 2\n",
      " >>> Negative 2\n",
      " >>> Negative 2\n",
      " >>> Negative 2\n",
      " >>> Negative 2\n",
      " >>> Negative 2\n",
      " >>> Negative 2\n"
     ]
    },
    {
     "name": "stderr",
     "output_type": "stream",
     "text": [
      " 79%|███████▊  | 158/201 [00:02<00:00, 43.57it/s]"
     ]
    },
    {
     "name": "stdout",
     "output_type": "stream",
     "text": [
      " >>> Negative 2\n",
      " >>> Negative 2\n",
      " >>> Negative 2\n",
      " >>> Negative 2\n",
      " >>> Negative 2\n",
      " >>> Negative 2\n",
      " >>> Negative 2\n",
      " >>> Negative 2\n"
     ]
    },
    {
     "name": "stderr",
     "output_type": "stream",
     "text": [
      " 83%|████████▎ | 167/201 [00:02<00:00, 48.88it/s]"
     ]
    },
    {
     "name": "stdout",
     "output_type": "stream",
     "text": [
      " >>> Negative 2\n",
      " >>> Negative 2\n",
      " >>> Negative 2\n",
      " >>> Negative 2\n",
      " >>> Negative 2\n",
      " >>> Negative 2\n",
      " >>> Negative 2\n",
      " >>> Negative 2\n",
      " >>> Negative 2\n",
      " >>> Negative 2\n",
      " >>> Negative 2\n"
     ]
    },
    {
     "name": "stderr",
     "output_type": "stream",
     "text": [
      " 90%|████████▉ | 180/201 [00:02<00:00, 49.13it/s]"
     ]
    },
    {
     "name": "stdout",
     "output_type": "stream",
     "text": [
      " >>> Negative 2\n",
      " >>> Negative 2\n",
      " >>> Negative 2\n",
      " >>> Negative 2\n",
      " >>> Negative 2\n",
      " >>> Negative 2\n",
      " >>> Negative 2\n",
      " >>> Negative 2\n",
      " >>> Negative 2\n",
      " >>> Negative 2\n"
     ]
    },
    {
     "name": "stderr",
     "output_type": "stream",
     "text": [
      " 93%|█████████▎| 186/201 [00:03<00:00, 44.43it/s]"
     ]
    },
    {
     "name": "stdout",
     "output_type": "stream",
     "text": [
      " >>> Negative 2\n",
      " >>> Negative 2\n",
      " >>> Negative 2\n",
      " >>> Negative 2\n",
      " >>> Negative 2\n",
      " >>> Negative 2\n",
      " >>> Negative 2\n",
      " >>> Negative 2\n",
      " >>> Negative 2\n",
      " >>> Negative 2\n",
      " >>> Negative 2\n",
      " >>> Negative 2\n",
      " >>> Negative 2\n",
      " >>> Negative 2\n",
      " >>> Negative 2\n",
      " >>> Negative 2\n"
     ]
    },
    {
     "name": "stderr",
     "output_type": "stream",
     "text": [
      "100%|██████████| 201/201 [00:03<00:00, 60.73it/s]\n"
     ]
    },
    {
     "name": "stdout",
     "output_type": "stream",
     "text": [
      " >>> Negative 2\n",
      " >>> Negative 2\n",
      " >>> Negative 2\n",
      " >>> Negative 2\n"
     ]
    },
    {
     "name": "stderr",
     "output_type": "stream",
     "text": [
      "100%|██████████| 62/62 [00:00<00:00, 125.74it/s]\n"
     ]
    },
    {
     "name": "stdout",
     "output_type": "stream",
     "text": [
      " does not exist:  ../data/oranges/navel/manfredi2/skin_creasing2/20250403_1021_000023.json\n",
      " does not exist:  ../data/oranges/navel/manfredi2/skin_creasing2/20250403_1021_000023.json\n",
      ">>>>>>>>>>>>>>>>>>>>>>>>>>>>>>>>>>>>>>>>>>>>>>>>>>\n",
      "damage_by_pliers 159 201\n",
      " >>> Positive\n"
     ]
    },
    {
     "name": "stderr",
     "output_type": "stream",
     "text": [
      "100%|██████████| 159/159 [00:01<00:00, 113.81it/s]\n"
     ]
    },
    {
     "name": "stdout",
     "output_type": "stream",
     "text": [
      " >>> Negative\n"
     ]
    },
    {
     "name": "stderr",
     "output_type": "stream",
     "text": [
      "  5%|▌         | 11/201 [00:00<00:02, 87.05it/s]"
     ]
    },
    {
     "name": "stdout",
     "output_type": "stream",
     "text": [
      " >>> Negative 2\n",
      " >>> Negative 2\n",
      " >>> Negative 2\n",
      " >>> Negative 2\n",
      " >>> Negative 2\n",
      " >>> Negative 2\n",
      " >>> Negative 2\n",
      " >>> Negative 2\n",
      " >>> Negative 2\n",
      " >>> Negative 2\n",
      " >>> Negative 2\n",
      " >>> Negative 2\n",
      " >>> Negative 2\n",
      " >>> Negative 2\n",
      " >>> Negative 2\n",
      " >>> Negative 2\n",
      " >>> Negative 2\n",
      " >>> Negative 2\n",
      " >>> Negative 2\n"
     ]
    },
    {
     "name": "stderr",
     "output_type": "stream",
     "text": [
      " 13%|█▎        | 26/201 [00:00<00:03, 44.63it/s]"
     ]
    },
    {
     "name": "stdout",
     "output_type": "stream",
     "text": [
      " >>> Negative 2\n",
      " >>> Negative 2\n",
      " >>> Negative 2\n",
      " >>> Negative 2\n",
      " >>> Negative 2\n",
      " >>> Negative 2\n",
      " >>> Negative 2\n",
      " >>> Negative 2\n",
      " >>> Negative 2\n",
      " >>> Negative 2\n",
      " >>> Negative 2\n",
      " >>> Negative 2\n",
      " >>> Negative 2\n",
      " >>> Negative 2\n",
      " >>> Negative 2\n",
      " >>> Negative 2\n",
      " >>> Negative 2\n"
     ]
    },
    {
     "name": "stderr",
     "output_type": "stream",
     "text": [
      " 25%|██▍       | 50/201 [00:00<00:01, 80.33it/s]"
     ]
    },
    {
     "name": "stdout",
     "output_type": "stream",
     "text": [
      " >>> Negative 2\n",
      " >>> Negative 2\n",
      " >>> Negative 2\n",
      " >>> Negative 2\n",
      " >>> Negative 2\n",
      " >>> Negative 2\n",
      " >>> Negative 2\n",
      " >>> Negative 2\n",
      " >>> Negative 2\n",
      " >>> Negative 2\n",
      " >>> Negative 2\n",
      " >>> Negative 2\n",
      " >>> Negative 2\n",
      " >>> Negative 2\n",
      " >>> Negative 2\n",
      " >>> Negative 2\n",
      " >>> Negative 2\n",
      " >>> Negative 2\n",
      " >>> Negative 2\n",
      " >>> Negative 2\n",
      " >>> Negative 2\n",
      " >>> Negative 2\n",
      " >>> Negative 2\n",
      " >>> Negative 2\n",
      " >>> Negative 2\n",
      " >>> Negative 2\n",
      " >>> Negative 2\n",
      " >>> Negative 2\n",
      " >>> Negative 2\n",
      " >>> Negative 2\n",
      " >>> Negative 2\n"
     ]
    },
    {
     "name": "stderr",
     "output_type": "stream",
     "text": [
      " 34%|███▍      | 68/201 [00:00<00:01, 104.98it/s]"
     ]
    },
    {
     "name": "stdout",
     "output_type": "stream",
     "text": [
      " >>> Negative 2\n",
      " >>> Negative 2\n",
      " >>> Negative 2\n",
      " >>> Negative 2\n",
      " >>> Negative 2\n",
      " >>> Negative 2\n",
      " >>> Negative 2\n",
      " >>> Negative 2\n"
     ]
    },
    {
     "name": "stderr",
     "output_type": "stream",
     "text": [
      " 46%|████▌     | 92/201 [00:01<00:01, 76.86it/s] "
     ]
    },
    {
     "name": "stdout",
     "output_type": "stream",
     "text": [
      " >>> Negative 2\n",
      " >>> Negative 2\n",
      " >>> Negative 2\n",
      " >>> Negative 2\n",
      " >>> Negative 2\n",
      " >>> Negative 2\n",
      " >>> Negative 2\n",
      " >>> Negative 2\n",
      " >>> Negative 2\n",
      " >>> Negative 2\n",
      " >>> Negative 2\n",
      " >>> Negative 2\n",
      " >>> Negative 2\n",
      " >>> Negative 2\n",
      " >>> Negative 2\n",
      " >>> Negative 2\n",
      " >>> Negative 2\n",
      " >>> Negative 2\n",
      " >>> Negative 2\n"
     ]
    },
    {
     "name": "stderr",
     "output_type": "stream",
     "text": [
      " 51%|█████     | 102/201 [00:01<00:01, 62.77it/s]"
     ]
    },
    {
     "name": "stdout",
     "output_type": "stream",
     "text": [
      " >>> Negative 2\n",
      " >>> Negative 2\n",
      " >>> Negative 2\n",
      " >>> Negative 2\n",
      " >>> Negative 2\n",
      " >>> Negative 2\n",
      " >>> Negative 2\n",
      " >>> Negative 2\n"
     ]
    },
    {
     "name": "stderr",
     "output_type": "stream",
     "text": [
      " 56%|█████▌    | 112/201 [00:01<00:01, 69.24it/s]"
     ]
    },
    {
     "name": "stdout",
     "output_type": "stream",
     "text": [
      " >>> Negative 2\n",
      " >>> Negative 2\n",
      " >>> Negative 2\n",
      " >>> Negative 2\n",
      " >>> Negative 2\n",
      " >>> Negative 2\n",
      " >>> Negative 2\n",
      " >>> Negative 2\n",
      " >>> Negative 2\n",
      " >>> Negative 2\n",
      " >>> Negative 2\n",
      " >>> Negative 2\n",
      " >>> Negative 2\n",
      " >>> Negative 2\n",
      " >>> Negative 2\n",
      " >>> Negative 2\n",
      " >>> Negative 2\n"
     ]
    },
    {
     "name": "stderr",
     "output_type": "stream",
     "text": [
      " 65%|██████▍   | 130/201 [00:01<00:01, 70.17it/s]"
     ]
    },
    {
     "name": "stdout",
     "output_type": "stream",
     "text": [
      " >>> Negative 2\n",
      " >>> Negative 2\n",
      " >>> Negative 2\n",
      " >>> Negative 2\n",
      " >>> Negative 2\n",
      " >>> Negative 2\n",
      " >>> Negative 2\n",
      " >>> Negative 2\n",
      " >>> Negative 2\n",
      " >>> Negative 2\n",
      " >>> Negative 2\n",
      " >>> Negative 2\n"
     ]
    },
    {
     "name": "stderr",
     "output_type": "stream",
     "text": [
      " 69%|██████▊   | 138/201 [00:02<00:01, 51.15it/s]"
     ]
    },
    {
     "name": "stdout",
     "output_type": "stream",
     "text": [
      " >>> Negative 2\n",
      " >>> Negative 2\n",
      " >>> Negative 2\n",
      " >>> Negative 2\n",
      " >>> Negative 2\n",
      " >>> Negative 2\n",
      " >>> Negative 2\n",
      " >>> Negative 2\n"
     ]
    },
    {
     "name": "stderr",
     "output_type": "stream",
     "text": [
      " 78%|███████▊  | 156/201 [00:02<00:00, 64.53it/s]"
     ]
    },
    {
     "name": "stdout",
     "output_type": "stream",
     "text": [
      " >>> Negative 2\n",
      " >>> Negative 2\n",
      " >>> Negative 2\n",
      " >>> Negative 2\n",
      " >>> Negative 2\n",
      " >>> Negative 2\n",
      " >>> Negative 2\n",
      " >>> Negative 2\n",
      " >>> Negative 2\n",
      " >>> Negative 2\n",
      " >>> Negative 2\n",
      " >>> Negative 2\n",
      " >>> Negative 2\n",
      " >>> Negative 2\n",
      " >>> Negative 2\n",
      " >>> Negative 2\n",
      " >>> Negative 2\n"
     ]
    },
    {
     "name": "stderr",
     "output_type": "stream",
     "text": [
      " 82%|████████▏ | 164/201 [00:02<00:00, 52.26it/s]"
     ]
    },
    {
     "name": "stdout",
     "output_type": "stream",
     "text": [
      " >>> Negative 2\n",
      " >>> Negative 2\n",
      " >>> Negative 2\n",
      " >>> Negative 2\n",
      " >>> Negative 2\n",
      " >>> Negative 2\n",
      " >>> Negative 2\n",
      " >>> Negative 2\n"
     ]
    },
    {
     "name": "stderr",
     "output_type": "stream",
     "text": [
      " 85%|████████▌ | 171/201 [00:02<00:00, 45.07it/s]"
     ]
    },
    {
     "name": "stdout",
     "output_type": "stream",
     "text": [
      " >>> Negative 2\n",
      " >>> Negative 2\n",
      " >>> Negative 2\n",
      " >>> Negative 2\n",
      " >>> Negative 2\n",
      " >>> Negative 2\n",
      " >>> Negative 2\n",
      " >>> Negative 2\n",
      " >>> Negative 2\n",
      " >>> Negative 2\n",
      " >>> Negative 2\n"
     ]
    },
    {
     "name": "stderr",
     "output_type": "stream",
     "text": [
      " 89%|████████▉ | 179/201 [00:02<00:00, 50.23it/s]"
     ]
    },
    {
     "name": "stdout",
     "output_type": "stream",
     "text": [
      " >>> Negative 2\n",
      " >>> Negative 2\n",
      " >>> Negative 2\n",
      " >>> Negative 2\n",
      " >>> Negative 2\n",
      " >>> Negative 2\n",
      " >>> Negative 2\n",
      " >>> Negative 2\n",
      " >>> Negative 2\n"
     ]
    },
    {
     "name": "stderr",
     "output_type": "stream",
     "text": [
      " 92%|█████████▏| 185/201 [00:03<00:00, 47.01it/s]"
     ]
    },
    {
     "name": "stdout",
     "output_type": "stream",
     "text": [
      " >>> Negative 2\n",
      " >>> Negative 2\n",
      " >>> Negative 2\n",
      " >>> Negative 2\n",
      " >>> Negative 2\n"
     ]
    },
    {
     "name": "stderr",
     "output_type": "stream",
     "text": [
      "100%|██████████| 201/201 [00:03<00:00, 58.38it/s]\n"
     ]
    },
    {
     "name": "stdout",
     "output_type": "stream",
     "text": [
      " >>> Negative 2\n",
      " >>> Negative 2\n",
      " >>> Negative 2\n",
      " >>> Negative 2\n",
      " >>> Negative 2\n",
      " >>> Negative 2\n",
      " >>> Negative 2\n",
      " >>> Negative 2\n",
      " >>> Negative 2\n",
      " >>> Negative 2\n",
      " >>> Negative 2\n",
      " >>> Negative 2\n"
     ]
    },
    {
     "name": "stderr",
     "output_type": "stream",
     "text": [
      "100%|██████████| 27/27 [00:00<00:00, 172.57it/s]\n"
     ]
    },
    {
     "name": "stdout",
     "output_type": "stream",
     "text": [
      ">>>>>>>>>>>>>>>>>>>>>>>>>>>>>>>>>>>>>>>>>>>>>>>>>>\n",
      "deformed_peduncle 200 201\n",
      " >>> Positive\n"
     ]
    },
    {
     "name": "stderr",
     "output_type": "stream",
     "text": [
      " 35%|███▌      | 70/200 [00:00<00:01, 105.65it/s]"
     ]
    },
    {
     "name": "stdout",
     "output_type": "stream",
     "text": [
      " does not exist:  ../data/oranges/navel/manfredi2/skin_creasing2/20250403_1021_000023.json\n"
     ]
    },
    {
     "name": "stderr",
     "output_type": "stream",
     "text": [
      "100%|██████████| 200/200 [00:02<00:00, 85.45it/s] \n"
     ]
    },
    {
     "name": "stdout",
     "output_type": "stream",
     "text": [
      " >>> Negative\n"
     ]
    },
    {
     "name": "stderr",
     "output_type": "stream",
     "text": [
      "  9%|▉         | 18/201 [00:00<00:01, 174.82it/s]"
     ]
    },
    {
     "name": "stdout",
     "output_type": "stream",
     "text": [
      " >>> Negative 2\n",
      " >>> Negative 2\n",
      " >>> Negative 2\n",
      " >>> Negative 2\n",
      " >>> Negative 2\n",
      " >>> Negative 2\n",
      " >>> Negative 2\n",
      " >>> Negative 2\n",
      " >>> Negative 2\n",
      " >>> Negative 2\n",
      " >>> Negative 2\n",
      " >>> Negative 2\n",
      " >>> Negative 2\n",
      " >>> Negative 2\n",
      " >>> Negative 2\n",
      " >>> Negative 2\n",
      " >>> Negative 2\n",
      " >>> Negative 2\n",
      " >>> Negative 2\n",
      " >>> Negative 2\n",
      " >>> Negative 2\n",
      " >>> Negative 2\n",
      " >>> Negative 2\n",
      " >>> Negative 2\n",
      " >>> Negative 2\n",
      " >>> Negative 2\n",
      " >>> Negative 2\n",
      " >>> Negative 2\n",
      " >>> Negative 2\n",
      " >>> Negative 2\n",
      " >>> Negative 2\n",
      " >>> Negative 2\n"
     ]
    },
    {
     "name": "stderr",
     "output_type": "stream",
     "text": [
      " 18%|█▊        | 36/201 [00:00<00:01, 141.24it/s]"
     ]
    },
    {
     "name": "stdout",
     "output_type": "stream",
     "text": [
      " >>> Negative 2\n",
      " >>> Negative 2\n",
      " >>> Negative 2\n",
      " >>> Negative 2\n",
      " >>> Negative 2\n",
      " >>> Negative 2\n",
      " >>> Negative 2\n",
      " >>> Negative 2\n",
      " >>> Negative 2\n",
      " >>> Negative 2\n",
      " >>> Negative 2\n",
      " >>> Negative 2\n",
      " >>> Negative 2\n",
      " >>> Negative 2\n",
      " >>> Negative 2\n",
      " >>> Negative 2\n",
      " >>> Negative 2\n",
      " >>> Negative 2\n"
     ]
    },
    {
     "name": "stderr",
     "output_type": "stream",
     "text": [
      " 25%|██▌       | 51/201 [00:00<00:02, 61.80it/s] "
     ]
    },
    {
     "name": "stdout",
     "output_type": "stream",
     "text": [
      " >>> Negative 2\n",
      " >>> Negative 2\n",
      " >>> Negative 2\n",
      " >>> Negative 2\n",
      " >>> Negative 2\n",
      " >>> Negative 2\n"
     ]
    },
    {
     "name": "stderr",
     "output_type": "stream",
     "text": [
      " 30%|███       | 61/201 [00:00<00:02, 49.13it/s]"
     ]
    },
    {
     "name": "stdout",
     "output_type": "stream",
     "text": [
      " >>> Negative 2\n",
      " >>> Negative 2\n",
      " >>> Negative 2\n",
      " >>> Negative 2\n",
      " >>> Negative 2\n",
      " >>> Negative 2\n",
      " >>> Negative 2\n",
      " >>> Negative 2\n",
      " >>> Negative 2\n",
      " >>> Negative 2\n",
      " >>> Negative 2\n",
      " >>> Negative 2\n",
      " >>> Negative 2\n",
      " >>> Negative 2\n",
      " >>> Negative 2\n",
      " >>> Negative 2\n",
      " >>> Negative 2\n",
      " >>> Negative 2\n"
     ]
    },
    {
     "name": "stderr",
     "output_type": "stream",
     "text": [
      " 44%|████▍     | 89/201 [00:01<00:01, 77.65it/s]"
     ]
    },
    {
     "name": "stdout",
     "output_type": "stream",
     "text": [
      " >>> Negative 2\n",
      " >>> Negative 2\n",
      " >>> Negative 2\n",
      " >>> Negative 2\n",
      " >>> Negative 2\n",
      " >>> Negative 2\n",
      " >>> Negative 2\n",
      " >>> Negative 2\n",
      " >>> Negative 2\n",
      " >>> Negative 2\n",
      " >>> Negative 2\n",
      " >>> Negative 2\n",
      " >>> Negative 2\n",
      " >>> Negative 2\n",
      " >>> Negative 2\n",
      " >>> Negative 2\n",
      " >>> Negative 2\n",
      " >>> Negative 2\n",
      " >>> Negative 2\n"
     ]
    },
    {
     "name": "stderr",
     "output_type": "stream",
     "text": [
      " 50%|████▉     | 100/201 [00:01<00:01, 60.63it/s]"
     ]
    },
    {
     "name": "stdout",
     "output_type": "stream",
     "text": [
      " >>> Negative 2\n",
      " >>> Negative 2\n",
      " >>> Negative 2\n",
      " >>> Negative 2\n",
      " >>> Negative 2\n",
      " >>> Negative 2\n",
      " >>> Negative 2\n",
      " >>> Negative 2\n",
      " >>> Negative 2\n",
      " >>> Negative 2\n"
     ]
    },
    {
     "name": "stderr",
     "output_type": "stream",
     "text": [
      " 57%|█████▋    | 114/201 [00:01<00:01, 74.22it/s]"
     ]
    },
    {
     "name": "stdout",
     "output_type": "stream",
     "text": [
      " >>> Negative 2\n",
      " >>> Negative 2\n",
      " >>> Negative 2\n",
      " >>> Negative 2\n",
      " >>> Negative 2\n",
      " >>> Negative 2\n",
      " >>> Negative 2\n",
      " >>> Negative 2\n",
      " >>> Negative 2\n",
      " >>> Negative 2\n",
      " >>> Negative 2\n",
      " >>> Negative 2\n",
      " >>> Negative 2\n",
      " >>> Negative 2\n",
      " >>> Negative 2\n",
      " >>> Negative 2\n",
      " >>> Negative 2\n",
      " >>> Negative 2\n",
      " >>> Negative 2\n",
      " >>> Negative 2\n",
      " >>> Negative 2\n",
      " >>> Negative 2\n"
     ]
    },
    {
     "name": "stderr",
     "output_type": "stream",
     "text": [
      " 63%|██████▎   | 126/201 [00:01<00:01, 74.65it/s]"
     ]
    },
    {
     "name": "stdout",
     "output_type": "stream",
     "text": [
      " >>> Negative 2\n",
      " >>> Negative 2\n",
      " >>> Negative 2\n",
      " >>> Negative 2\n",
      " >>> Negative 2\n",
      " >>> Negative 2\n",
      " >>> Negative 2\n"
     ]
    },
    {
     "name": "stderr",
     "output_type": "stream",
     "text": [
      " 68%|██████▊   | 136/201 [00:02<00:01, 49.33it/s]"
     ]
    },
    {
     "name": "stdout",
     "output_type": "stream",
     "text": [
      " >>> Negative 2\n",
      " >>> Negative 2\n",
      " >>> Negative 2\n",
      " >>> Negative 2\n",
      " >>> Negative 2\n"
     ]
    },
    {
     "name": "stderr",
     "output_type": "stream",
     "text": [
      " 72%|███████▏  | 144/201 [00:02<00:01, 47.28it/s]"
     ]
    },
    {
     "name": "stdout",
     "output_type": "stream",
     "text": [
      " >>> Negative 2\n",
      " >>> Negative 2\n",
      " >>> Negative 2\n",
      " >>> Negative 2\n",
      " >>> Negative 2\n",
      " >>> Negative 2\n",
      " >>> Negative 2\n",
      " >>> Negative 2\n"
     ]
    },
    {
     "name": "stderr",
     "output_type": "stream",
     "text": [
      " 75%|███████▌  | 151/201 [00:02<00:01, 42.39it/s]"
     ]
    },
    {
     "name": "stdout",
     "output_type": "stream",
     "text": [
      " >>> Negative 2\n",
      " >>> Negative 2\n",
      " >>> Negative 2\n",
      " >>> Negative 2\n",
      " >>> Negative 2\n",
      " >>> Negative 2\n",
      " >>> Negative 2\n",
      " >>> Negative 2\n",
      " >>> Negative 2\n",
      " >>> Negative 2\n",
      " >>> Negative 2\n",
      " >>> Negative 2\n",
      " >>> Negative 2\n",
      " >>> Negative 2\n"
     ]
    },
    {
     "name": "stderr",
     "output_type": "stream",
     "text": [
      " 80%|████████  | 161/201 [00:02<00:00, 50.18it/s]"
     ]
    },
    {
     "name": "stdout",
     "output_type": "stream",
     "text": [
      " >>> Negative 2\n",
      " >>> Negative 2\n",
      " >>> Negative 2\n",
      " >>> Negative 2\n",
      " >>> Negative 2\n",
      " >>> Negative 2\n"
     ]
    },
    {
     "name": "stderr",
     "output_type": "stream",
     "text": [
      " 84%|████████▎ | 168/201 [00:02<00:00, 45.92it/s]"
     ]
    },
    {
     "name": "stdout",
     "output_type": "stream",
     "text": [
      " >>> Negative 2\n",
      " >>> Negative 2\n",
      " >>> Negative 2\n",
      " >>> Negative 2\n",
      " >>> Negative 2\n",
      " >>> Negative 2\n",
      " >>> Negative 2\n",
      " >>> Negative 2\n"
     ]
    },
    {
     "name": "stderr",
     "output_type": "stream",
     "text": [
      " 89%|████████▉ | 179/201 [00:03<00:00, 38.52it/s]"
     ]
    },
    {
     "name": "stdout",
     "output_type": "stream",
     "text": [
      " >>> Negative 2\n",
      " >>> Negative 2\n",
      " >>> Negative 2\n",
      " >>> Negative 2\n",
      " >>> Negative 2\n",
      " >>> Negative 2\n",
      " >>> Negative 2\n",
      " >>> Negative 2\n",
      " >>> Negative 2\n",
      " >>> Negative 2\n",
      " >>> Negative 2\n"
     ]
    },
    {
     "name": "stderr",
     "output_type": "stream",
     "text": [
      " 96%|█████████▌| 193/201 [00:03<00:00, 56.69it/s]"
     ]
    },
    {
     "name": "stdout",
     "output_type": "stream",
     "text": [
      " >>> Negative 2\n",
      " >>> Negative 2\n",
      " >>> Negative 2\n",
      " >>> Negative 2\n",
      " >>> Negative 2\n",
      " >>> Negative 2\n",
      " >>> Negative 2\n",
      " >>> Negative 2\n",
      " >>> Negative 2\n",
      " >>> Negative 2\n",
      " >>> Negative 2\n",
      " >>> Negative 2\n",
      " >>> Negative 2\n"
     ]
    },
    {
     "name": "stderr",
     "output_type": "stream",
     "text": [
      "100%|██████████| 201/201 [00:03<00:00, 56.29it/s]\n"
     ]
    },
    {
     "name": "stdout",
     "output_type": "stream",
     "text": [
      " >>> Negative 2\n",
      " >>> Negative 2\n",
      " >>> Negative 2\n",
      " >>> Negative 2\n"
     ]
    },
    {
     "name": "stderr",
     "output_type": "stream",
     "text": [
      "100%|██████████| 191/191 [00:01<00:00, 123.66it/s]\n"
     ]
    },
    {
     "name": "stdout",
     "output_type": "stream",
     "text": [
      ">>>>>>>>>>>>>>>>>>>>>>>>>>>>>>>>>>>>>>>>>>>>>>>>>>\n",
      "green 200 201\n",
      " >>> Positive\n"
     ]
    },
    {
     "name": "stderr",
     "output_type": "stream",
     "text": [
      "100%|██████████| 200/200 [00:02<00:00, 92.63it/s] \n"
     ]
    },
    {
     "name": "stdout",
     "output_type": "stream",
     "text": [
      " >>> Negative\n"
     ]
    },
    {
     "name": "stderr",
     "output_type": "stream",
     "text": [
      "  9%|▉         | 19/201 [00:00<00:01, 139.81it/s]"
     ]
    },
    {
     "name": "stdout",
     "output_type": "stream",
     "text": [
      " >>> Negative 2\n",
      " >>> Negative 2\n",
      " >>> Negative 2\n",
      " >>> Negative 2\n",
      " >>> Negative 2\n",
      " >>> Negative 2\n",
      " >>> Negative 2\n",
      " >>> Negative 2\n",
      " >>> Negative 2\n",
      " >>> Negative 2\n",
      " >>> Negative 2\n",
      " >>> Negative 2\n",
      " >>> Negative 2\n",
      " >>> Negative 2\n",
      " >>> Negative 2\n",
      " >>> Negative 2\n",
      " >>> Negative 2\n",
      " >>> Negative 2\n",
      " >>> Negative 2\n",
      " >>> Negative 2\n",
      " >>> Negative 2\n",
      " >>> Negative 2\n",
      " >>> Negative 2\n",
      " >>> Negative 2\n",
      " >>> Negative 2\n",
      " >>> Negative 2\n",
      " >>> Negative 2\n",
      " >>> Negative 2\n",
      " >>> Negative 2\n",
      " >>> Negative 2\n",
      " >>> Negative 2\n",
      " >>> Negative 2\n"
     ]
    },
    {
     "name": "stderr",
     "output_type": "stream",
     "text": [
      " 23%|██▎       | 47/201 [00:00<00:01, 88.23it/s] "
     ]
    },
    {
     "name": "stdout",
     "output_type": "stream",
     "text": [
      " >>> Negative 2\n",
      " >>> Negative 2\n",
      " >>> Negative 2\n",
      " >>> Negative 2\n",
      " >>> Negative 2\n",
      " >>> Negative 2\n",
      " >>> Negative 2\n",
      " >>> Negative 2\n",
      " >>> Negative 2\n",
      " >>> Negative 2\n",
      " >>> Negative 2\n",
      " >>> Negative 2\n",
      " >>> Negative 2\n",
      " >>> Negative 2\n",
      " >>> Negative 2\n",
      " >>> Negative 2\n",
      " >>> Negative 2\n",
      " >>> Negative 2\n",
      " >>> Negative 2\n",
      " >>> Negative 2\n",
      " >>> Negative 2\n",
      " >>> Negative 2\n",
      " >>> Negative 2\n",
      " >>> Negative 2\n",
      " >>> Negative 2\n",
      " >>> Negative 2\n",
      " >>> Negative 2\n",
      " >>> Negative 2\n",
      " >>> Negative 2\n"
     ]
    },
    {
     "name": "stderr",
     "output_type": "stream",
     "text": [
      " 31%|███       | 62/201 [00:00<00:01, 104.31it/s]"
     ]
    },
    {
     "name": "stdout",
     "output_type": "stream",
     "text": [
      " >>> Negative 2\n",
      " >>> Negative 2\n",
      " >>> Negative 2\n",
      " >>> Negative 2\n",
      " >>> Negative 2\n",
      " >>> Negative 2\n",
      " >>> Negative 2\n",
      " >>> Negative 2\n"
     ]
    },
    {
     "name": "stderr",
     "output_type": "stream",
     "text": [
      " 37%|███▋      | 75/201 [00:00<00:01, 67.04it/s] "
     ]
    },
    {
     "name": "stdout",
     "output_type": "stream",
     "text": [
      " >>> Negative 2\n",
      " >>> Negative 2\n",
      " >>> Negative 2\n",
      " >>> Negative 2\n",
      " >>> Negative 2\n",
      " >>> Negative 2\n",
      " >>> Negative 2\n"
     ]
    },
    {
     "name": "stderr",
     "output_type": "stream",
     "text": [
      " 42%|████▏     | 85/201 [00:01<00:01, 63.11it/s]"
     ]
    },
    {
     "name": "stdout",
     "output_type": "stream",
     "text": [
      " >>> Negative 2\n",
      " >>> Negative 2\n",
      " >>> Negative 2\n",
      " >>> Negative 2\n",
      " >>> Negative 2\n",
      " >>> Negative 2\n",
      " >>> Negative 2\n",
      " >>> Negative 2\n",
      " >>> Negative 2\n",
      " >>> Negative 2\n",
      " >>> Negative 2\n",
      " >>> Negative 2\n",
      " >>> Negative 2\n",
      " >>> Negative 2\n",
      " >>> Negative 2\n"
     ]
    },
    {
     "name": "stderr",
     "output_type": "stream",
     "text": [
      " 50%|█████     | 101/201 [00:01<00:01, 59.51it/s]"
     ]
    },
    {
     "name": "stdout",
     "output_type": "stream",
     "text": [
      " >>> Negative 2\n",
      " >>> Negative 2\n",
      " >>> Negative 2\n",
      " >>> Negative 2\n",
      " >>> Negative 2\n",
      " >>> Negative 2\n",
      " >>> Negative 2\n",
      " >>> Negative 2\n",
      " >>> Negative 2\n",
      " >>> Negative 2\n",
      " >>> Negative 2\n",
      " >>> Negative 2\n",
      " >>> Negative 2\n"
     ]
    },
    {
     "name": "stderr",
     "output_type": "stream",
     "text": [
      " 67%|██████▋   | 134/201 [00:01<00:00, 100.92it/s]"
     ]
    },
    {
     "name": "stdout",
     "output_type": "stream",
     "text": [
      " >>> Negative 2\n",
      " >>> Negative 2\n",
      " >>> Negative 2\n",
      " >>> Negative 2\n",
      " >>> Negative 2\n",
      " >>> Negative 2\n",
      " >>> Negative 2\n",
      " >>> Negative 2\n",
      " >>> Negative 2\n",
      " >>> Negative 2\n",
      " >>> Negative 2\n",
      " >>> Negative 2\n",
      " >>> Negative 2\n",
      " >>> Negative 2\n",
      " >>> Negative 2\n",
      " >>> Negative 2\n",
      " >>> Negative 2\n",
      " >>> Negative 2\n",
      " >>> Negative 2\n",
      " >>> Negative 2\n",
      " >>> Negative 2\n",
      " >>> Negative 2\n",
      " >>> Negative 2\n",
      " >>> Negative 2\n",
      " >>> Negative 2\n",
      " >>> Negative 2\n",
      " >>> Negative 2\n",
      " >>> Negative 2\n",
      " >>> Negative 2\n",
      " >>> Negative 2\n",
      " >>> Negative 2\n",
      " >>> Negative 2\n",
      " >>> Negative 2\n"
     ]
    },
    {
     "name": "stderr",
     "output_type": "stream",
     "text": [
      " 73%|███████▎  | 146/201 [00:01<00:00, 90.09it/s] "
     ]
    },
    {
     "name": "stdout",
     "output_type": "stream",
     "text": [
      " >>> Negative 2\n",
      " >>> Negative 2\n",
      " >>> Negative 2\n",
      " >>> Negative 2\n",
      " >>> Negative 2\n",
      " >>> Negative 2\n",
      " >>> Negative 2\n",
      " >>> Negative 2\n",
      " >>> Negative 2\n",
      " >>> Negative 2\n",
      " >>> Negative 2\n",
      " >>> Negative 2\n",
      " >>> Negative 2\n",
      " >>> Negative 2\n",
      " >>> Negative 2\n",
      " >>> Negative 2\n"
     ]
    },
    {
     "name": "stderr",
     "output_type": "stream",
     "text": [
      " 78%|███████▊  | 157/201 [00:02<00:00, 78.00it/s]"
     ]
    },
    {
     "name": "stdout",
     "output_type": "stream",
     "text": [
      " >>> Negative 2\n",
      " >>> Negative 2\n",
      " >>> Negative 2\n",
      " >>> Negative 2\n",
      " >>> Negative 2\n",
      " >>> Negative 2\n",
      " >>> Negative 2\n"
     ]
    },
    {
     "name": "stderr",
     "output_type": "stream",
     "text": [
      " 91%|█████████ | 182/201 [00:02<00:00, 83.66it/s]"
     ]
    },
    {
     "name": "stdout",
     "output_type": "stream",
     "text": [
      " >>> Negative 2\n",
      " >>> Negative 2\n",
      " >>> Negative 2\n",
      " >>> Negative 2\n",
      " >>> Negative 2\n",
      " >>> Negative 2\n",
      " >>> Negative 2\n",
      " >>> Negative 2\n",
      " >>> Negative 2\n",
      " >>> Negative 2\n",
      " >>> Negative 2\n",
      " >>> Negative 2\n",
      " >>> Negative 2\n",
      " >>> Negative 2\n",
      " >>> Negative 2\n",
      " >>> Negative 2\n",
      " >>> Negative 2\n",
      " >>> Negative 2\n",
      " >>> Negative 2\n",
      " >>> Negative 2\n",
      " >>> Negative 2\n",
      " >>> Negative 2\n"
     ]
    },
    {
     "name": "stderr",
     "output_type": "stream",
     "text": [
      "100%|██████████| 201/201 [00:02<00:00, 82.51it/s] \n"
     ]
    },
    {
     "name": "stdout",
     "output_type": "stream",
     "text": [
      " >>> Negative 2\n",
      " >>> Negative 2\n",
      " >>> Negative 2\n",
      " >>> Negative 2\n",
      " >>> Negative 2\n",
      " >>> Negative 2\n",
      " >>> Negative 2\n",
      " >>> Negative 2\n",
      " >>> Negative 2\n",
      " >>> Negative 2\n",
      " >>> Negative 2\n",
      " >>> Negative 2\n",
      " >>> Negative 2\n",
      " >>> Negative 2\n",
      " >>> Negative 2\n",
      " >>> Negative 2\n",
      " >>> Negative 2\n",
      " >>> Negative 2\n",
      " >>> Negative 2\n"
     ]
    },
    {
     "name": "stderr",
     "output_type": "stream",
     "text": [
      "100%|██████████| 68/68 [00:00<00:00, 81.12it/s] \n"
     ]
    },
    {
     "name": "stdout",
     "output_type": "stream",
     "text": [
      ">>>>>>>>>>>>>>>>>>>>>>>>>>>>>>>>>>>>>>>>>>>>>>>>>>\n",
      "hollow 200 201\n",
      " >>> Positive\n"
     ]
    },
    {
     "name": "stderr",
     "output_type": "stream",
     "text": [
      "100%|██████████| 200/200 [00:01<00:00, 112.27it/s]\n"
     ]
    },
    {
     "name": "stdout",
     "output_type": "stream",
     "text": [
      " >>> Negative\n"
     ]
    },
    {
     "name": "stderr",
     "output_type": "stream",
     "text": [
      "  8%|▊         | 17/201 [00:00<00:01, 156.23it/s]"
     ]
    },
    {
     "name": "stdout",
     "output_type": "stream",
     "text": [
      " >>> Negative 2\n",
      " >>> Negative 2\n",
      " >>> Negative 2\n",
      " >>> Negative 2\n",
      " >>> Negative 2\n",
      " >>> Negative 2\n",
      " >>> Negative 2\n",
      " >>> Negative 2\n",
      " >>> Negative 2\n",
      " >>> Negative 2\n",
      " >>> Negative 2\n",
      " >>> Negative 2\n",
      " >>> Negative 2\n",
      " >>> Negative 2\n",
      " >>> Negative 2\n",
      " >>> Negative 2\n",
      " >>> Negative 2\n",
      " >>> Negative 2\n",
      " >>> Negative 2\n",
      " >>> Negative 2\n",
      " >>> Negative 2\n",
      " >>> Negative 2\n",
      " >>> Negative 2\n",
      " >>> Negative 2\n",
      " >>> Negative 2\n",
      " >>> Negative 2\n",
      " >>> Negative 2\n",
      " >>> Negative 2\n",
      " >>> Negative 2\n",
      " >>> Negative 2\n"
     ]
    },
    {
     "name": "stderr",
     "output_type": "stream",
     "text": [
      " 24%|██▍       | 48/201 [00:00<00:01, 111.02it/s]"
     ]
    },
    {
     "name": "stdout",
     "output_type": "stream",
     "text": [
      " >>> Negative 2\n",
      " >>> Negative 2\n",
      " >>> Negative 2\n",
      " >>> Negative 2\n",
      " >>> Negative 2\n",
      " >>> Negative 2\n",
      " >>> Negative 2\n",
      " >>> Negative 2\n",
      " >>> Negative 2\n",
      " >>> Negative 2\n",
      " >>> Negative 2\n",
      " >>> Negative 2\n",
      " >>> Negative 2\n",
      " >>> Negative 2\n",
      " >>> Negative 2\n",
      " >>> Negative 2\n",
      " >>> Negative 2\n",
      " >>> Negative 2\n"
     ]
    },
    {
     "name": "stderr",
     "output_type": "stream",
     "text": [
      " 39%|███▉      | 78/201 [00:00<00:00, 132.72it/s]"
     ]
    },
    {
     "name": "stdout",
     "output_type": "stream",
     "text": [
      " >>> Negative 2\n",
      " >>> Negative 2\n",
      " >>> Negative 2\n",
      " >>> Negative 2\n",
      " >>> Negative 2\n",
      " >>> Negative 2\n",
      " >>> Negative 2\n",
      " >>> Negative 2\n",
      " >>> Negative 2\n",
      " >>> Negative 2\n",
      " >>> Negative 2\n",
      " >>> Negative 2\n",
      " >>> Negative 2\n",
      " >>> Negative 2\n",
      " >>> Negative 2\n",
      " >>> Negative 2\n",
      " >>> Negative 2\n",
      " >>> Negative 2\n",
      " >>> Negative 2\n",
      " >>> Negative 2\n",
      " >>> Negative 2\n",
      " >>> Negative 2\n",
      " >>> Negative 2\n",
      " >>> Negative 2\n",
      " >>> Negative 2\n",
      " >>> Negative 2\n",
      " >>> Negative 2\n",
      " >>> Negative 2\n",
      " >>> Negative 2\n",
      " >>> Negative 2\n",
      " >>> Negative 2\n",
      " >>> Negative 2\n"
     ]
    },
    {
     "name": "stderr",
     "output_type": "stream",
     "text": [
      " 47%|████▋     | 95/201 [00:00<00:00, 142.56it/s]"
     ]
    },
    {
     "name": "stdout",
     "output_type": "stream",
     "text": [
      " >>> Negative 2\n",
      " >>> Negative 2\n",
      " >>> Negative 2\n",
      " >>> Negative 2\n",
      " >>> Negative 2\n",
      " >>> Negative 2\n",
      " >>> Negative 2\n",
      " >>> Negative 2\n",
      " >>> Negative 2\n",
      " >>> Negative 2\n",
      " >>> Negative 2\n",
      " >>> Negative 2\n",
      " >>> Negative 2\n",
      " >>> Negative 2\n",
      " >>> Negative 2\n",
      " >>> Negative 2\n",
      " >>> Negative 2\n",
      " >>> Negative 2\n",
      " >>> Negative 2\n",
      " >>> Negative 2\n",
      " >>> Negative 2\n",
      " >>> Negative 2\n",
      " >>> Negative 2\n",
      " >>> Negative 2\n"
     ]
    },
    {
     "name": "stderr",
     "output_type": "stream",
     "text": [
      " 55%|█████▍    | 110/201 [00:00<00:00, 93.34it/s]"
     ]
    },
    {
     "name": "stdout",
     "output_type": "stream",
     "text": [
      " >>> Negative 2\n",
      " >>> Negative 2\n",
      " >>> Negative 2\n",
      " >>> Negative 2\n",
      " >>> Negative 2\n",
      " >>> Negative 2\n",
      " >>> Negative 2\n"
     ]
    },
    {
     "name": "stderr",
     "output_type": "stream",
     "text": [
      " 61%|██████    | 122/201 [00:01<00:00, 80.25it/s]"
     ]
    },
    {
     "name": "stdout",
     "output_type": "stream",
     "text": [
      " >>> Negative 2\n",
      " >>> Negative 2\n",
      " >>> Negative 2\n",
      " >>> Negative 2\n",
      " >>> Negative 2\n",
      " >>> Negative 2\n",
      " >>> Negative 2\n",
      " >>> Negative 2\n",
      " >>> Negative 2\n",
      " >>> Negative 2\n",
      " >>> Negative 2\n",
      " >>> Negative 2\n",
      " >>> Negative 2\n",
      " >>> Negative 2\n",
      " >>> Negative 2\n",
      " >>> Negative 2\n",
      " >>> Negative 2\n",
      " >>> Negative 2\n",
      " >>> Negative 2\n",
      " >>> Negative 2\n",
      " >>> Negative 2\n"
     ]
    },
    {
     "name": "stderr",
     "output_type": "stream",
     "text": [
      " 78%|███████▊  | 157/201 [00:01<00:00, 114.52it/s]"
     ]
    },
    {
     "name": "stdout",
     "output_type": "stream",
     "text": [
      " >>> Negative 2\n",
      " >>> Negative 2\n",
      " >>> Negative 2\n",
      " >>> Negative 2\n",
      " >>> Negative 2\n",
      " >>> Negative 2\n",
      " >>> Negative 2\n",
      " >>> Negative 2\n",
      " >>> Negative 2\n",
      " >>> Negative 2\n",
      " >>> Negative 2\n",
      " >>> Negative 2\n",
      " >>> Negative 2\n",
      " >>> Negative 2\n",
      " >>> Negative 2\n",
      " >>> Negative 2\n",
      " >>> Negative 2\n",
      " >>> Negative 2\n",
      " >>> Negative 2\n",
      " >>> Negative 2\n",
      " >>> Negative 2\n",
      " >>> Negative 2\n",
      " >>> Negative 2\n",
      " >>> Negative 2\n",
      " >>> Negative 2\n",
      " >>> Negative 2\n",
      " >>> Negative 2\n",
      " >>> Negative 2\n",
      " >>> Negative 2\n",
      " >>> Negative 2\n",
      " >>> Negative 2\n",
      " >>> Negative 2\n",
      " >>> Negative 2\n",
      " >>> Negative 2\n",
      " >>> Negative 2\n",
      " >>> Negative 2\n"
     ]
    },
    {
     "name": "stderr",
     "output_type": "stream",
     "text": [
      "100%|██████████| 201/201 [00:01<00:00, 121.15it/s]\n"
     ]
    },
    {
     "name": "stdout",
     "output_type": "stream",
     "text": [
      " >>> Negative 2\n",
      " >>> Negative 2\n",
      " >>> Negative 2\n",
      " >>> Negative 2\n",
      " >>> Negative 2\n",
      " >>> Negative 2\n",
      " >>> Negative 2\n",
      " >>> Negative 2\n",
      " >>> Negative 2\n",
      " >>> Negative 2\n",
      " >>> Negative 2\n",
      " >>> Negative 2\n",
      " >>> Negative 2\n",
      " >>> Negative 2\n",
      " >>> Negative 2\n",
      " >>> Negative 2\n",
      " >>> Negative 2\n",
      " >>> Negative 2\n",
      " >>> Negative 2\n",
      " >>> Negative 2\n",
      " >>> Negative 2\n",
      " >>> Negative 2\n",
      " >>> Negative 2\n",
      " >>> Negative 2\n",
      " >>> Negative 2\n",
      " >>> Negative 2\n",
      " >>> Negative 2\n",
      " >>> Negative 2\n",
      " >>> Negative 2\n",
      " >>> Negative 2\n",
      " >>> Negative 2\n",
      " >>> Negative 2\n",
      " >>> Negative 2\n"
     ]
    },
    {
     "name": "stderr",
     "output_type": "stream",
     "text": [
      "100%|██████████| 46/46 [00:00<00:00, 220.32it/s]\n"
     ]
    },
    {
     "name": "stdout",
     "output_type": "stream",
     "text": [
      ">>>>>>>>>>>>>>>>>>>>>>>>>>>>>>>>>>>>>>>>>>>>>>>>>>\n",
      "insect 115 201\n",
      " >>> Positive\n"
     ]
    },
    {
     "name": "stderr",
     "output_type": "stream",
     "text": [
      "100%|██████████| 115/115 [00:01<00:00, 110.54it/s]\n"
     ]
    },
    {
     "name": "stdout",
     "output_type": "stream",
     "text": [
      " >>> Negative\n"
     ]
    },
    {
     "name": "stderr",
     "output_type": "stream",
     "text": [
      "  2%|▏         | 4/201 [00:00<00:05, 33.44it/s]"
     ]
    },
    {
     "name": "stdout",
     "output_type": "stream",
     "text": [
      " >>> Negative 2\n",
      " >>> Negative 2\n",
      " >>> Negative 2\n",
      " >>> Negative 2\n",
      " >>> Negative 2\n",
      " >>> Negative 2\n",
      " >>> Negative 2\n"
     ]
    },
    {
     "name": "stderr",
     "output_type": "stream",
     "text": [
      " 13%|█▎        | 27/201 [00:00<00:01, 99.72it/s]"
     ]
    },
    {
     "name": "stdout",
     "output_type": "stream",
     "text": [
      " >>> Negative 2\n",
      " >>> Negative 2\n",
      " >>> Negative 2\n",
      " >>> Negative 2\n",
      " >>> Negative 2\n",
      " >>> Negative 2\n",
      " >>> Negative 2\n",
      " >>> Negative 2\n",
      " >>> Negative 2\n",
      " >>> Negative 2\n",
      " >>> Negative 2\n",
      " >>> Negative 2\n",
      " >>> Negative 2\n",
      " >>> Negative 2\n",
      " >>> Negative 2\n",
      " >>> Negative 2\n",
      " >>> Negative 2\n",
      " >>> Negative 2\n",
      " >>> Negative 2\n",
      " >>> Negative 2\n",
      " >>> Negative 2\n",
      " >>> Negative 2\n",
      " >>> Negative 2\n",
      " >>> Negative 2\n",
      " >>> Negative 2\n",
      " >>> Negative 2\n",
      " >>> Negative 2\n"
     ]
    },
    {
     "name": "stderr",
     "output_type": "stream",
     "text": [
      " 24%|██▍       | 49/201 [00:00<00:01, 95.58it/s] "
     ]
    },
    {
     "name": "stdout",
     "output_type": "stream",
     "text": [
      " >>> Negative 2\n",
      " >>> Negative 2\n",
      " >>> Negative 2\n",
      " >>> Negative 2\n",
      " >>> Negative 2\n",
      " >>> Negative 2\n",
      " >>> Negative 2\n",
      " >>> Negative 2\n",
      " >>> Negative 2\n",
      " >>> Negative 2\n",
      " >>> Negative 2\n",
      " >>> Negative 2\n",
      " >>> Negative 2\n",
      " >>> Negative 2\n",
      " >>> Negative 2\n",
      " >>> Negative 2\n",
      " >>> Negative 2\n",
      " >>> Negative 2\n"
     ]
    },
    {
     "name": "stderr",
     "output_type": "stream",
     "text": [
      " 29%|██▉       | 59/201 [00:00<00:01, 74.78it/s]"
     ]
    },
    {
     "name": "stdout",
     "output_type": "stream",
     "text": [
      " >>> Negative 2\n",
      " >>> Negative 2\n",
      " >>> Negative 2\n",
      " >>> Negative 2\n",
      " >>> Negative 2\n",
      " >>> Negative 2\n",
      " >>> Negative 2\n",
      " >>> Negative 2\n",
      " >>> Negative 2\n",
      " >>> Negative 2\n",
      " >>> Negative 2\n",
      " >>> Negative 2\n",
      " >>> Negative 2\n",
      " >>> Negative 2\n",
      " >>> Negative 2\n",
      " >>> Negative 2\n",
      " >>> Negative 2\n",
      " >>> Negative 2\n",
      " >>> Negative 2\n"
     ]
    },
    {
     "name": "stderr",
     "output_type": "stream",
     "text": [
      " 45%|████▍     | 90/201 [00:00<00:01, 103.11it/s]"
     ]
    },
    {
     "name": "stdout",
     "output_type": "stream",
     "text": [
      " >>> Negative 2\n",
      " >>> Negative 2\n",
      " >>> Negative 2\n",
      " >>> Negative 2\n",
      " >>> Negative 2\n",
      " >>> Negative 2\n",
      " >>> Negative 2\n",
      " >>> Negative 2\n",
      " >>> Negative 2\n",
      " >>> Negative 2\n",
      " >>> Negative 2\n",
      " >>> Negative 2\n",
      " >>> Negative 2\n",
      " >>> Negative 2\n",
      " >>> Negative 2\n",
      " >>> Negative 2\n",
      " >>> Negative 2\n",
      " >>> Negative 2\n",
      " >>> Negative 2\n",
      " >>> Negative 2\n",
      " >>> Negative 2\n",
      " >>> Negative 2\n",
      " >>> Negative 2\n",
      " >>> Negative 2\n",
      " >>> Negative 2\n",
      " >>> Negative 2\n"
     ]
    },
    {
     "name": "stderr",
     "output_type": "stream",
     "text": [
      " 60%|█████▉    | 120/201 [00:01<00:00, 121.31it/s]"
     ]
    },
    {
     "name": "stdout",
     "output_type": "stream",
     "text": [
      " >>> Negative 2\n",
      " >>> Negative 2\n",
      " >>> Negative 2\n",
      " >>> Negative 2\n",
      " >>> Negative 2\n",
      " >>> Negative 2\n",
      " >>> Negative 2\n",
      " >>> Negative 2\n",
      " >>> Negative 2\n",
      " >>> Negative 2\n",
      " >>> Negative 2\n",
      " >>> Negative 2\n",
      " >>> Negative 2\n",
      " >>> Negative 2\n",
      " >>> Negative 2\n",
      " >>> Negative 2\n",
      " >>> Negative 2\n",
      " >>> Negative 2\n",
      " >>> Negative 2\n",
      " >>> Negative 2\n",
      " >>> Negative 2\n",
      " >>> Negative 2\n",
      " >>> Negative 2\n",
      " >>> Negative 2\n",
      " >>> Negative 2\n",
      " >>> Negative 2\n",
      " >>> Negative 2\n",
      " >>> Negative 2\n",
      " >>> Negative 2\n",
      " >>> Negative 2\n",
      " >>> Negative 2\n"
     ]
    },
    {
     "name": "stderr",
     "output_type": "stream",
     "text": [
      " 74%|███████▍  | 149/201 [00:01<00:00, 117.53it/s]"
     ]
    },
    {
     "name": "stdout",
     "output_type": "stream",
     "text": [
      " >>> Negative 2\n",
      " >>> Negative 2\n",
      " >>> Negative 2\n",
      " >>> Negative 2\n",
      " >>> Negative 2\n",
      " >>> Negative 2\n",
      " >>> Negative 2\n",
      " >>> Negative 2\n",
      " >>> Negative 2\n",
      " >>> Negative 2\n",
      " >>> Negative 2\n",
      " >>> Negative 2\n",
      " >>> Negative 2\n",
      " >>> Negative 2\n",
      " >>> Negative 2\n",
      " >>> Negative 2\n",
      " >>> Negative 2\n",
      " >>> Negative 2\n",
      " >>> Negative 2\n",
      " >>> Negative 2\n",
      " >>> Negative 2\n"
     ]
    },
    {
     "name": "stderr",
     "output_type": "stream",
     "text": [
      " 90%|█████████ | 181/201 [00:01<00:00, 128.53it/s]"
     ]
    },
    {
     "name": "stdout",
     "output_type": "stream",
     "text": [
      " >>> Negative 2\n",
      " >>> Negative 2\n",
      " >>> Negative 2\n",
      " >>> Negative 2\n",
      " >>> Negative 2\n",
      " >>> Negative 2\n",
      " >>> Negative 2\n",
      " >>> Negative 2\n",
      " >>> Negative 2\n",
      " >>> Negative 2\n",
      " >>> Negative 2\n",
      " >>> Negative 2\n",
      " >>> Negative 2\n",
      " >>> Negative 2\n",
      " >>> Negative 2\n",
      " >>> Negative 2\n",
      " >>> Negative 2\n",
      " >>> Negative 2\n",
      " >>> Negative 2\n",
      " >>> Negative 2\n",
      " >>> Negative 2\n",
      " >>> Negative 2\n",
      " >>> Negative 2\n",
      " >>> Negative 2\n",
      " >>> Negative 2\n",
      " >>> Negative 2\n",
      " >>> Negative 2\n",
      " >>> Negative 2\n",
      " >>> Negative 2\n",
      " >>> Negative 2\n",
      " >>> Negative 2\n",
      " >>> Negative 2\n",
      " >>> Negative 2\n",
      " >>> Negative 2\n",
      " >>> Negative 2\n",
      " >>> Negative 2\n",
      " >>> Negative 2\n",
      " >>> Negative 2\n",
      " >>> Negative 2\n",
      " >>> Negative 2\n",
      " >>> Negative 2\n",
      " >>> Negative 2\n",
      " >>> Negative 2\n"
     ]
    },
    {
     "name": "stderr",
     "output_type": "stream",
     "text": [
      "100%|██████████| 201/201 [00:02<00:00, 98.53it/s] \n"
     ]
    },
    {
     "name": "stdout",
     "output_type": "stream",
     "text": [
      " >>> Negative 2\n",
      " >>> Negative 2\n",
      " >>> Negative 2\n",
      " >>> Negative 2\n",
      " >>> Negative 2\n",
      " >>> Negative 2\n",
      " >>> Negative 2\n",
      " >>> Negative 2\n",
      " >>> Negative 2\n"
     ]
    },
    {
     "name": "stderr",
     "output_type": "stream",
     "text": [
      "0it [00:00, ?it/s]\n"
     ]
    },
    {
     "name": "stdout",
     "output_type": "stream",
     "text": [
      ">>>>>>>>>>>>>>>>>>>>>>>>>>>>>>>>>>>>>>>>>>>>>>>>>>\n",
      "light_scars 200 188\n",
      " >>> Positive\n"
     ]
    },
    {
     "name": "stderr",
     "output_type": "stream",
     "text": [
      "100%|██████████| 200/200 [00:03<00:00, 57.97it/s]\n"
     ]
    },
    {
     "name": "stdout",
     "output_type": "stream",
     "text": [
      " >>> Negative\n"
     ]
    },
    {
     "name": "stderr",
     "output_type": "stream",
     "text": [
      "  8%|▊         | 15/188 [00:00<00:01, 140.23it/s]"
     ]
    },
    {
     "name": "stdout",
     "output_type": "stream",
     "text": [
      " >>> Negative 2\n",
      " >>> Negative 2\n",
      " >>> Negative 2\n",
      " >>> Negative 2\n",
      " >>> Negative 2\n",
      " >>> Negative 2\n",
      " >>> Negative 2\n",
      " >>> Negative 2\n",
      " >>> Negative 2\n",
      " >>> Negative 2\n",
      " >>> Negative 2\n",
      " >>> Negative 2\n",
      " >>> Negative 2\n",
      " >>> Negative 2\n",
      " >>> Negative 2\n",
      " >>> Negative 2\n",
      " >>> Negative 2\n",
      " >>> Negative 2\n",
      " >>> Negative 2\n",
      " >>> Negative 2\n",
      " >>> Negative 2\n",
      " >>> Negative 2\n",
      " >>> Negative 2\n",
      " >>> Negative 2\n",
      " >>> Negative 2\n"
     ]
    },
    {
     "name": "stderr",
     "output_type": "stream",
     "text": [
      " 23%|██▎       | 44/188 [00:00<00:01, 118.00it/s]"
     ]
    },
    {
     "name": "stdout",
     "output_type": "stream",
     "text": [
      " >>> Negative 2\n",
      " >>> Negative 2\n",
      " >>> Negative 2\n",
      " >>> Negative 2\n",
      " >>> Negative 2\n",
      " >>> Negative 2\n",
      " >>> Negative 2\n",
      " >>> Negative 2\n",
      " >>> Negative 2\n",
      " >>> Negative 2\n",
      " >>> Negative 2\n",
      " >>> Negative 2\n",
      " >>> Negative 2\n",
      " >>> Negative 2\n",
      " >>> Negative 2\n",
      " >>> Negative 2\n",
      " >>> Negative 2\n",
      " >>> Negative 2\n",
      " >>> Negative 2\n",
      " >>> Negative 2\n",
      " >>> Negative 2\n",
      " >>> Negative 2\n",
      " >>> Negative 2\n",
      " >>> Negative 2\n",
      " >>> Negative 2\n"
     ]
    },
    {
     "name": "stderr",
     "output_type": "stream",
     "text": [
      " 40%|███▉      | 75/188 [00:00<00:00, 136.82it/s]"
     ]
    },
    {
     "name": "stdout",
     "output_type": "stream",
     "text": [
      " >>> Negative 2\n",
      " >>> Negative 2\n",
      " >>> Negative 2\n",
      " >>> Negative 2\n",
      " >>> Negative 2\n",
      " >>> Negative 2\n",
      " >>> Negative 2\n",
      " >>> Negative 2\n",
      " >>> Negative 2\n",
      " >>> Negative 2\n",
      " >>> Negative 2\n",
      " >>> Negative 2\n",
      " >>> Negative 2\n",
      " >>> Negative 2\n",
      " >>> Negative 2\n",
      " >>> Negative 2\n",
      " >>> Negative 2\n",
      " >>> Negative 2\n",
      " >>> Negative 2\n",
      " >>> Negative 2\n",
      " >>> Negative 2\n",
      " >>> Negative 2\n",
      " >>> Negative 2\n",
      " >>> Negative 2\n",
      " >>> Negative 2\n",
      " >>> Negative 2\n",
      " >>> Negative 2\n",
      " >>> Negative 2\n",
      " >>> Negative 2\n",
      " >>> Negative 2\n"
     ]
    },
    {
     "name": "stderr",
     "output_type": "stream",
     "text": [
      " 47%|████▋     | 89/188 [00:00<00:00, 132.68it/s]"
     ]
    },
    {
     "name": "stdout",
     "output_type": "stream",
     "text": [
      " >>> Negative 2\n",
      " >>> Negative 2\n",
      " >>> Negative 2\n",
      " >>> Negative 2\n",
      " >>> Negative 2\n",
      " >>> Negative 2\n",
      " >>> Negative 2\n",
      " >>> Negative 2\n",
      " >>> Negative 2\n",
      " >>> Negative 2\n",
      " >>> Negative 2\n",
      " >>> Negative 2\n",
      " >>> Negative 2\n",
      " >>> Negative 2\n",
      " >>> Negative 2\n",
      " >>> Negative 2\n",
      " >>> Negative 2\n",
      " >>> Negative 2\n",
      " >>> Negative 2\n",
      " >>> Negative 2\n",
      " >>> Negative 2\n",
      " >>> Negative 2\n"
     ]
    },
    {
     "name": "stderr",
     "output_type": "stream",
     "text": [
      " 62%|██████▏   | 116/188 [00:01<00:00, 97.41it/s] "
     ]
    },
    {
     "name": "stdout",
     "output_type": "stream",
     "text": [
      " >>> Negative 2\n",
      " >>> Negative 2\n",
      " >>> Negative 2\n",
      " >>> Negative 2\n",
      " >>> Negative 2\n",
      " >>> Negative 2\n",
      " >>> Negative 2\n",
      " >>> Negative 2\n",
      " >>> Negative 2\n",
      " >>> Negative 2\n",
      " >>> Negative 2\n",
      " >>> Negative 2\n",
      " >>> Negative 2\n",
      " >>> Negative 2\n"
     ]
    },
    {
     "name": "stderr",
     "output_type": "stream",
     "text": [
      " 68%|██████▊   | 127/188 [00:01<00:00, 93.70it/s]"
     ]
    },
    {
     "name": "stdout",
     "output_type": "stream",
     "text": [
      " >>> Negative 2\n",
      " >>> Negative 2\n",
      " >>> Negative 2\n",
      " >>> Negative 2\n",
      " >>> Negative 2\n",
      " >>> Negative 2\n",
      " >>> Negative 2\n",
      " >>> Negative 2\n",
      " >>> Negative 2\n",
      " >>> Negative 2\n",
      " >>> Negative 2\n",
      " >>> Negative 2\n",
      " >>> Negative 2\n",
      " >>> Negative 2\n",
      " >>> Negative 2\n",
      " >>> Negative 2\n",
      " >>> Negative 2\n"
     ]
    },
    {
     "name": "stderr",
     "output_type": "stream",
     "text": [
      " 73%|███████▎  | 137/188 [00:01<00:00, 75.81it/s]"
     ]
    },
    {
     "name": "stdout",
     "output_type": "stream",
     "text": [
      " >>> Negative 2\n",
      " >>> Negative 2\n",
      " >>> Negative 2\n",
      " >>> Negative 2\n",
      " >>> Negative 2\n"
     ]
    },
    {
     "name": "stderr",
     "output_type": "stream",
     "text": [
      " 78%|███████▊  | 146/188 [00:01<00:00, 63.20it/s]"
     ]
    },
    {
     "name": "stdout",
     "output_type": "stream",
     "text": [
      " >>> Negative 2\n",
      " >>> Negative 2\n",
      " >>> Negative 2\n",
      " >>> Negative 2\n",
      " >>> Negative 2\n",
      " >>> Negative 2\n",
      " >>> Negative 2\n",
      " >>> Negative 2\n",
      " >>> Negative 2\n",
      " >>> Negative 2\n",
      " >>> Negative 2\n",
      " >>> Negative 2\n",
      " >>> Negative 2\n",
      " >>> Negative 2\n",
      " >>> Negative 2\n",
      " >>> Negative 2\n",
      " >>> Negative 2\n",
      " >>> Negative 2\n",
      " >>> Negative 2\n",
      " >>> Negative 2\n"
     ]
    },
    {
     "name": "stderr",
     "output_type": "stream",
     "text": [
      " 90%|████████▉ | 169/188 [00:01<00:00, 70.95it/s]"
     ]
    },
    {
     "name": "stdout",
     "output_type": "stream",
     "text": [
      " >>> Negative 2\n",
      " >>> Negative 2\n",
      " >>> Negative 2\n",
      " >>> Negative 2\n",
      " >>> Negative 2\n",
      " >>> Negative 2\n",
      " >>> Negative 2\n",
      " >>> Negative 2\n",
      " >>> Negative 2\n",
      " >>> Negative 2\n",
      " >>> Negative 2\n",
      " >>> Negative 2\n"
     ]
    },
    {
     "name": "stderr",
     "output_type": "stream",
     "text": [
      " 94%|█████████▍| 177/188 [00:02<00:00, 62.82it/s]"
     ]
    },
    {
     "name": "stdout",
     "output_type": "stream",
     "text": [
      " >>> Negative 2\n",
      " >>> Negative 2\n",
      " >>> Negative 2\n",
      " >>> Negative 2\n",
      " >>> Negative 2\n",
      " >>> Negative 2\n",
      " >>> Negative 2\n",
      " >>> Negative 2\n",
      " >>> Negative 2\n",
      " >>> Negative 2\n"
     ]
    },
    {
     "name": "stderr",
     "output_type": "stream",
     "text": [
      "100%|██████████| 188/188 [00:02<00:00, 85.04it/s]\n"
     ]
    },
    {
     "name": "stdout",
     "output_type": "stream",
     "text": [
      " >>> Negative 2\n",
      " >>> Negative 2\n",
      " >>> Negative 2\n",
      " >>> Negative 2\n",
      " >>> Negative 2\n",
      " >>> Negative 2\n",
      " >>> Negative 2\n",
      " >>> Negative 2\n"
     ]
    },
    {
     "name": "stderr",
     "output_type": "stream",
     "text": [
      "100%|██████████| 201/201 [00:02<00:00, 97.92it/s] \n"
     ]
    },
    {
     "name": "stdout",
     "output_type": "stream",
     "text": [
      ">>>>>>>>>>>>>>>>>>>>>>>>>>>>>>>>>>>>>>>>>>>>>>>>>>\n",
      "mechanical_damage 200 201\n",
      " >>> Positive\n"
     ]
    },
    {
     "name": "stderr",
     "output_type": "stream",
     "text": [
      "100%|██████████| 200/200 [00:02<00:00, 84.54it/s] \n"
     ]
    },
    {
     "name": "stdout",
     "output_type": "stream",
     "text": [
      " >>> Negative\n"
     ]
    },
    {
     "name": "stderr",
     "output_type": "stream",
     "text": [
      "  2%|▏         | 4/201 [00:00<00:05, 38.57it/s]"
     ]
    },
    {
     "name": "stdout",
     "output_type": "stream",
     "text": [
      " >>> Negative 2\n",
      " >>> Negative 2\n",
      " >>> Negative 2\n",
      " >>> Negative 2\n",
      " >>> Negative 2\n",
      " >>> Negative 2\n",
      " >>> Negative 2\n",
      " >>> Negative 2\n",
      " >>> Negative 2\n",
      " >>> Negative 2\n",
      " >>> Negative 2\n",
      " >>> Negative 2\n",
      " >>> Negative 2\n"
     ]
    },
    {
     "name": "stderr",
     "output_type": "stream",
     "text": [
      "  7%|▋         | 14/201 [00:00<00:02, 74.13it/s]"
     ]
    },
    {
     "name": "stdout",
     "output_type": "stream",
     "text": [
      " >>> Negative 2\n",
      " >>> Negative 2\n"
     ]
    },
    {
     "name": "stderr",
     "output_type": "stream",
     "text": [
      " 12%|█▏        | 25/201 [00:00<00:02, 87.21it/s]"
     ]
    },
    {
     "name": "stdout",
     "output_type": "stream",
     "text": [
      " >>> Negative 2\n",
      " >>> Negative 2\n",
      " >>> Negative 2\n",
      " >>> Negative 2\n",
      " >>> Negative 2\n",
      " >>> Negative 2\n",
      " >>> Negative 2\n",
      " >>> Negative 2\n",
      " >>> Negative 2\n",
      " >>> Negative 2\n",
      " >>> Negative 2\n",
      " >>> Negative 2\n",
      " >>> Negative 2\n",
      " >>> Negative 2\n",
      " >>> Negative 2\n",
      " >>> Negative 2\n",
      " >>> Negative 2\n",
      " >>> Negative 2\n",
      " >>> Negative 2\n",
      " >>> Negative 2\n",
      " >>> Negative 2\n"
     ]
    },
    {
     "name": "stderr",
     "output_type": "stream",
     "text": [
      " 19%|█▉        | 38/201 [00:00<00:01, 102.83it/s]"
     ]
    },
    {
     "name": "stdout",
     "output_type": "stream",
     "text": [
      " >>> Negative 2\n",
      " >>> Negative 2\n",
      " >>> Negative 2\n"
     ]
    },
    {
     "name": "stderr",
     "output_type": "stream",
     "text": [
      " 26%|██▌       | 52/201 [00:00<00:01, 111.98it/s]"
     ]
    },
    {
     "name": "stdout",
     "output_type": "stream",
     "text": [
      " >>> Negative 2\n",
      " >>> Negative 2\n",
      " >>> Negative 2\n",
      " >>> Negative 2\n",
      " >>> Negative 2\n",
      " >>> Negative 2\n",
      " >>> Negative 2\n",
      " >>> Negative 2\n",
      " >>> Negative 2\n",
      " >>> Negative 2\n",
      " >>> Negative 2\n",
      " >>> Negative 2\n",
      " >>> Negative 2\n",
      " >>> Negative 2\n",
      " >>> Negative 2\n",
      " >>> Negative 2\n",
      " >>> Negative 2\n",
      " >>> Negative 2\n",
      " >>> Negative 2\n",
      " >>> Negative 2\n",
      " >>> Negative 2\n",
      " >>> Negative 2\n",
      " >>> Negative 2\n",
      " >>> Negative 2\n"
     ]
    },
    {
     "name": "stderr",
     "output_type": "stream",
     "text": [
      " 39%|███▉      | 78/201 [00:00<00:01, 119.29it/s]"
     ]
    },
    {
     "name": "stdout",
     "output_type": "stream",
     "text": [
      " >>> Negative 2\n",
      " >>> Negative 2\n",
      " >>> Negative 2\n",
      " >>> Negative 2\n",
      " >>> Negative 2\n",
      " >>> Negative 2\n",
      " >>> Negative 2\n",
      " >>> Negative 2\n",
      " >>> Negative 2\n",
      " >>> Negative 2\n",
      " >>> Negative 2\n",
      " >>> Negative 2\n",
      " >>> Negative 2\n",
      " >>> Negative 2\n",
      " >>> Negative 2\n",
      " >>> Negative 2\n",
      " >>> Negative 2\n",
      " >>> Negative 2\n",
      " >>> Negative 2\n",
      " >>> Negative 2\n",
      " >>> Negative 2\n",
      " >>> Negative 2\n",
      " >>> Negative 2\n",
      " >>> Negative 2\n",
      " >>> Negative 2\n",
      " >>> Negative 2\n"
     ]
    },
    {
     "name": "stderr",
     "output_type": "stream",
     "text": [
      " 51%|█████     | 103/201 [00:00<00:00, 120.69it/s]"
     ]
    },
    {
     "name": "stdout",
     "output_type": "stream",
     "text": [
      " >>> Negative 2\n",
      " >>> Negative 2\n",
      " >>> Negative 2\n",
      " >>> Negative 2\n",
      " >>> Negative 2\n",
      " >>> Negative 2\n",
      " >>> Negative 2\n",
      " >>> Negative 2\n",
      " >>> Negative 2\n",
      " >>> Negative 2\n",
      " >>> Negative 2\n",
      " >>> Negative 2\n",
      " >>> Negative 2\n",
      " >>> Negative 2\n",
      " >>> Negative 2\n",
      " >>> Negative 2\n",
      " >>> Negative 2\n",
      " >>> Negative 2\n",
      " >>> Negative 2\n",
      " >>> Negative 2\n",
      " >>> Negative 2\n",
      " >>> Negative 2\n",
      " >>> Negative 2\n",
      " >>> Negative 2\n"
     ]
    },
    {
     "name": "stderr",
     "output_type": "stream",
     "text": [
      " 64%|██████▎   | 128/201 [00:01<00:00, 111.58it/s]"
     ]
    },
    {
     "name": "stdout",
     "output_type": "stream",
     "text": [
      " >>> Negative 2\n",
      " >>> Negative 2\n",
      " >>> Negative 2\n",
      " >>> Negative 2\n",
      " >>> Negative 2\n",
      " >>> Negative 2\n",
      " >>> Negative 2\n",
      " >>> Negative 2\n",
      " >>> Negative 2\n",
      " >>> Negative 2\n",
      " >>> Negative 2\n",
      " >>> Negative 2\n",
      " >>> Negative 2\n",
      " >>> Negative 2\n",
      " >>> Negative 2\n",
      " >>> Negative 2\n",
      " >>> Negative 2\n",
      " >>> Negative 2\n",
      " >>> Negative 2\n",
      " >>> Negative 2\n",
      " >>> Negative 2\n",
      " >>> Negative 2\n",
      " >>> Negative 2\n",
      " >>> Negative 2\n"
     ]
    },
    {
     "name": "stderr",
     "output_type": "stream",
     "text": [
      " 71%|███████   | 143/201 [00:01<00:00, 117.42it/s]"
     ]
    },
    {
     "name": "stdout",
     "output_type": "stream",
     "text": [
      " >>> Negative 2\n",
      " >>> Negative 2\n",
      " >>> Negative 2\n",
      " >>> Negative 2\n",
      " >>> Negative 2\n",
      " >>> Negative 2\n",
      " >>> Negative 2\n",
      " >>> Negative 2\n",
      " >>> Negative 2\n",
      " >>> Negative 2\n",
      " >>> Negative 2\n",
      " >>> Negative 2\n",
      " >>> Negative 2\n",
      " >>> Negative 2\n",
      " >>> Negative 2\n",
      " >>> Negative 2\n"
     ]
    },
    {
     "name": "stderr",
     "output_type": "stream",
     "text": [
      " 77%|███████▋  | 155/201 [00:01<00:00, 93.91it/s] "
     ]
    },
    {
     "name": "stdout",
     "output_type": "stream",
     "text": [
      " >>> Negative 2\n",
      " >>> Negative 2\n",
      " >>> Negative 2\n",
      " >>> Negative 2\n",
      " >>> Negative 2\n",
      " >>> Negative 2\n",
      " >>> Negative 2\n",
      " >>> Negative 2\n",
      " >>> Negative 2\n"
     ]
    },
    {
     "name": "stderr",
     "output_type": "stream",
     "text": [
      " 83%|████████▎ | 166/201 [00:01<00:00, 83.60it/s]"
     ]
    },
    {
     "name": "stdout",
     "output_type": "stream",
     "text": [
      " >>> Negative 2\n",
      " >>> Negative 2\n",
      " >>> Negative 2\n",
      " >>> Negative 2\n"
     ]
    },
    {
     "name": "stderr",
     "output_type": "stream",
     "text": [
      " 88%|████████▊ | 177/201 [00:01<00:00, 89.13it/s]"
     ]
    },
    {
     "name": "stdout",
     "output_type": "stream",
     "text": [
      " >>> Negative 2\n",
      " >>> Negative 2\n",
      " >>> Negative 2\n",
      " >>> Negative 2\n",
      " >>> Negative 2\n",
      " >>> Negative 2\n",
      " >>> Negative 2\n",
      " >>> Negative 2\n",
      " >>> Negative 2\n",
      " >>> Negative 2\n",
      " >>> Negative 2\n",
      " >>> Negative 2\n",
      " >>> Negative 2\n",
      " >>> Negative 2\n"
     ]
    },
    {
     "name": "stderr",
     "output_type": "stream",
     "text": [
      " 99%|█████████▉| 199/201 [00:02<00:00, 85.16it/s]"
     ]
    },
    {
     "name": "stdout",
     "output_type": "stream",
     "text": [
      " >>> Negative 2\n",
      " >>> Negative 2\n",
      " >>> Negative 2\n",
      " >>> Negative 2\n",
      " >>> Negative 2\n",
      " >>> Negative 2\n",
      " >>> Negative 2\n",
      " >>> Negative 2\n",
      " >>> Negative 2\n",
      " >>> Negative 2\n",
      " >>> Negative 2\n",
      " >>> Negative 2\n",
      " >>> Negative 2\n",
      " >>> Negative 2\n",
      " >>> Negative 2\n",
      " >>> Negative 2\n",
      " >>> Negative 2\n",
      " >>> Negative 2\n",
      " >>> Negative 2\n"
     ]
    },
    {
     "name": "stderr",
     "output_type": "stream",
     "text": [
      "100%|██████████| 201/201 [00:02<00:00, 97.56it/s]\n"
     ]
    },
    {
     "name": "stdout",
     "output_type": "stream",
     "text": [
      " >>> Negative 2\n",
      " >>> Negative 2\n"
     ]
    },
    {
     "name": "stderr",
     "output_type": "stream",
     "text": [
      "100%|██████████| 26/26 [00:00<00:00, 77.11it/s] \n"
     ]
    },
    {
     "name": "stdout",
     "output_type": "stream",
     "text": [
      ">>>>>>>>>>>>>>>>>>>>>>>>>>>>>>>>>>>>>>>>>>>>>>>>>>\n",
      "oil_spots 200 201\n",
      " >>> Positive\n"
     ]
    },
    {
     "name": "stderr",
     "output_type": "stream",
     "text": [
      "100%|██████████| 200/200 [00:01<00:00, 139.68it/s]\n"
     ]
    },
    {
     "name": "stdout",
     "output_type": "stream",
     "text": [
      " >>> Negative\n"
     ]
    },
    {
     "name": "stderr",
     "output_type": "stream",
     "text": [
      "  5%|▌         | 11/201 [00:00<00:01, 103.19it/s]"
     ]
    },
    {
     "name": "stdout",
     "output_type": "stream",
     "text": [
      " >>> Negative 2\n",
      " >>> Negative 2\n",
      " >>> Negative 2\n",
      " >>> Negative 2\n",
      " >>> Negative 2\n",
      " >>> Negative 2\n",
      " >>> Negative 2\n",
      " >>> Negative 2\n",
      " >>> Negative 2\n",
      " >>> Negative 2\n",
      " >>> Negative 2\n",
      " >>> Negative 2\n",
      " >>> Negative 2\n",
      " >>> Negative 2\n",
      " >>> Negative 2\n",
      " >>> Negative 2\n",
      " >>> Negative 2\n",
      " >>> Negative 2\n",
      " >>> Negative 2\n",
      " >>> Negative 2\n",
      " >>> Negative 2\n",
      " >>> Negative 2\n",
      " >>> Negative 2\n",
      " >>> Negative 2\n",
      " >>> Negative 2\n"
     ]
    },
    {
     "name": "stderr",
     "output_type": "stream",
     "text": [
      " 13%|█▎        | 27/201 [00:00<00:01, 128.69it/s]"
     ]
    },
    {
     "name": "stdout",
     "output_type": "stream",
     "text": [
      " >>> Negative 2\n",
      " >>> Negative 2\n",
      " >>> Negative 2\n",
      " >>> Negative 2\n",
      " >>> Negative 2\n",
      " >>> Negative 2\n",
      " >>> Negative 2\n",
      " >>> Negative 2\n",
      " >>> Negative 2\n",
      " >>> Negative 2\n",
      " >>> Negative 2\n",
      " >>> Negative 2\n",
      " >>> Negative 2\n",
      " >>> Negative 2\n"
     ]
    },
    {
     "name": "stderr",
     "output_type": "stream",
     "text": [
      " 20%|█▉        | 40/201 [00:00<00:01, 92.08it/s] "
     ]
    },
    {
     "name": "stdout",
     "output_type": "stream",
     "text": [
      " >>> Negative 2\n"
     ]
    },
    {
     "name": "stderr",
     "output_type": "stream",
     "text": [
      " 25%|██▌       | 51/201 [00:00<00:01, 80.97it/s]"
     ]
    },
    {
     "name": "stdout",
     "output_type": "stream",
     "text": [
      " >>> Negative 2\n",
      " >>> Negative 2\n",
      " >>> Negative 2\n",
      " >>> Negative 2\n",
      " >>> Negative 2\n",
      " >>> Negative 2\n",
      " >>> Negative 2\n",
      " >>> Negative 2\n",
      " >>> Negative 2\n",
      " >>> Negative 2\n",
      " >>> Negative 2\n",
      " >>> Negative 2\n",
      " >>> Negative 2\n",
      " >>> Negative 2\n",
      " >>> Negative 2\n"
     ]
    },
    {
     "name": "stderr",
     "output_type": "stream",
     "text": [
      " 36%|███▋      | 73/201 [00:00<00:01, 92.85it/s]"
     ]
    },
    {
     "name": "stdout",
     "output_type": "stream",
     "text": [
      " >>> Negative 2\n",
      " >>> Negative 2\n",
      " >>> Negative 2\n",
      " >>> Negative 2\n",
      " >>> Negative 2\n",
      " >>> Negative 2\n",
      " >>> Negative 2\n",
      " >>> Negative 2\n",
      " >>> Negative 2\n",
      " >>> Negative 2\n",
      " >>> Negative 2\n",
      " >>> Negative 2\n",
      " >>> Negative 2\n",
      " >>> Negative 2\n",
      " >>> Negative 2\n",
      " >>> Negative 2\n",
      " >>> Negative 2\n",
      " >>> Negative 2\n",
      " >>> Negative 2\n"
     ]
    },
    {
     "name": "stderr",
     "output_type": "stream",
     "text": [
      " 41%|████▏     | 83/201 [00:00<00:01, 84.00it/s]"
     ]
    },
    {
     "name": "stdout",
     "output_type": "stream",
     "text": [
      " >>> Negative 2\n",
      " >>> Negative 2\n",
      " >>> Negative 2\n",
      " >>> Negative 2\n",
      " >>> Negative 2\n",
      " >>> Negative 2\n",
      " >>> Negative 2\n",
      " >>> Negative 2\n",
      " >>> Negative 2\n",
      " >>> Negative 2\n",
      " >>> Negative 2\n",
      " >>> Negative 2\n",
      " >>> Negative 2\n",
      " >>> Negative 2\n",
      " >>> Negative 2\n",
      " >>> Negative 2\n"
     ]
    },
    {
     "name": "stderr",
     "output_type": "stream",
     "text": [
      " 46%|████▌     | 92/201 [00:01<00:01, 68.23it/s]"
     ]
    },
    {
     "name": "stdout",
     "output_type": "stream",
     "text": [
      " >>> Negative 2\n",
      " >>> Negative 2\n",
      " >>> Negative 2\n",
      " >>> Negative 2\n",
      " >>> Negative 2\n",
      " >>> Negative 2\n"
     ]
    },
    {
     "name": "stderr",
     "output_type": "stream",
     "text": [
      " 50%|████▉     | 100/201 [00:01<00:01, 53.45it/s]"
     ]
    },
    {
     "name": "stdout",
     "output_type": "stream",
     "text": [
      " >>> Negative 2\n",
      " >>> Negative 2\n",
      " >>> Negative 2\n",
      " >>> Negative 2\n",
      " >>> Negative 2\n",
      " >>> Negative 2\n",
      " >>> Negative 2\n",
      " >>> Negative 2\n"
     ]
    },
    {
     "name": "stderr",
     "output_type": "stream",
     "text": [
      " 53%|█████▎    | 107/201 [00:01<00:02, 44.93it/s]"
     ]
    },
    {
     "name": "stdout",
     "output_type": "stream",
     "text": [
      " >>> Negative 2\n",
      " >>> Negative 2\n",
      " >>> Negative 2\n",
      " >>> Negative 2\n",
      " >>> Negative 2\n",
      " >>> Negative 2\n"
     ]
    },
    {
     "name": "stderr",
     "output_type": "stream",
     "text": [
      " 62%|██████▏   | 125/201 [00:01<00:01, 58.13it/s]"
     ]
    },
    {
     "name": "stdout",
     "output_type": "stream",
     "text": [
      " >>> Negative 2\n",
      " >>> Negative 2\n",
      " >>> Negative 2\n",
      " >>> Negative 2\n",
      " >>> Negative 2\n",
      " >>> Negative 2\n",
      " >>> Negative 2\n",
      " >>> Negative 2\n",
      " >>> Negative 2\n",
      " >>> Negative 2\n",
      " >>> Negative 2\n",
      " >>> Negative 2\n",
      " >>> Negative 2\n",
      " >>> Negative 2\n",
      " >>> Negative 2\n",
      " >>> Negative 2\n",
      " >>> Negative 2\n",
      " >>> Negative 2\n",
      " >>> Negative 2\n",
      " >>> Negative 2\n",
      " >>> Negative 2\n"
     ]
    },
    {
     "name": "stderr",
     "output_type": "stream",
     "text": [
      " 76%|███████▌  | 153/201 [00:02<00:00, 89.18it/s]"
     ]
    },
    {
     "name": "stdout",
     "output_type": "stream",
     "text": [
      " >>> Negative 2\n",
      " >>> Negative 2\n",
      " >>> Negative 2\n",
      " >>> Negative 2\n",
      " >>> Negative 2\n",
      " >>> Negative 2\n",
      " >>> Negative 2\n",
      " >>> Negative 2\n",
      " >>> Negative 2\n",
      " >>> Negative 2\n",
      " >>> Negative 2\n",
      " >>> Negative 2\n",
      " >>> Negative 2\n",
      " >>> Negative 2\n",
      " >>> Negative 2\n",
      " >>> Negative 2\n",
      " >>> Negative 2\n",
      " >>> Negative 2\n",
      " >>> Negative 2\n",
      " >>> Negative 2\n",
      " >>> Negative 2\n",
      " >>> Negative 2\n",
      " >>> Negative 2\n",
      " >>> Negative 2\n",
      " >>> Negative 2\n",
      " >>> Negative 2\n",
      " >>> Negative 2\n",
      " >>> Negative 2\n",
      " >>> Negative 2\n",
      " >>> Negative 2\n"
     ]
    },
    {
     "name": "stderr",
     "output_type": "stream",
     "text": [
      " 89%|████████▉ | 179/201 [00:02<00:00, 102.92it/s]"
     ]
    },
    {
     "name": "stdout",
     "output_type": "stream",
     "text": [
      " >>> Negative 2\n",
      " >>> Negative 2\n",
      " >>> Negative 2\n",
      " >>> Negative 2\n",
      " >>> Negative 2\n",
      " >>> Negative 2\n",
      " >>> Negative 2\n",
      " >>> Negative 2\n",
      " >>> Negative 2\n",
      " >>> Negative 2\n",
      " >>> Negative 2\n",
      " >>> Negative 2\n",
      " >>> Negative 2\n",
      " >>> Negative 2\n",
      " >>> Negative 2\n",
      " >>> Negative 2\n",
      " >>> Negative 2\n",
      " >>> Negative 2\n",
      " >>> Negative 2\n"
     ]
    },
    {
     "name": "stderr",
     "output_type": "stream",
     "text": [
      " 95%|█████████▍| 190/201 [00:02<00:00, 72.97it/s] "
     ]
    },
    {
     "name": "stdout",
     "output_type": "stream",
     "text": [
      " >>> Negative 2\n",
      " >>> Negative 2\n",
      " >>> Negative 2\n",
      " >>> Negative 2\n",
      " >>> Negative 2\n",
      " >>> Negative 2\n",
      " >>> Negative 2\n",
      " >>> Negative 2\n",
      " >>> Negative 2\n",
      " >>> Negative 2\n",
      " >>> Negative 2\n"
     ]
    },
    {
     "name": "stderr",
     "output_type": "stream",
     "text": [
      "100%|██████████| 201/201 [00:02<00:00, 76.18it/s]\n"
     ]
    },
    {
     "name": "stdout",
     "output_type": "stream",
     "text": [
      " >>> Negative 2\n",
      " >>> Negative 2\n",
      " >>> Negative 2\n",
      " >>> Negative 2\n",
      " >>> Negative 2\n",
      " >>> Negative 2\n",
      " >>> Negative 2\n",
      " >>> Negative 2\n",
      " >>> Negative 2\n",
      " >>> Negative 2\n"
     ]
    },
    {
     "name": "stderr",
     "output_type": "stream",
     "text": [
      "100%|██████████| 64/64 [00:00<00:00, 142.97it/s]\n"
     ]
    },
    {
     "name": "stdout",
     "output_type": "stream",
     "text": [
      ">>>>>>>>>>>>>>>>>>>>>>>>>>>>>>>>>>>>>>>>>>>>>>>>>>\n",
      "plu_stickers 200 201\n",
      " >>> Positive\n"
     ]
    },
    {
     "name": "stderr",
     "output_type": "stream",
     "text": [
      "100%|██████████| 200/200 [00:03<00:00, 62.24it/s] \n"
     ]
    },
    {
     "name": "stdout",
     "output_type": "stream",
     "text": [
      " >>> Negative\n"
     ]
    },
    {
     "name": "stderr",
     "output_type": "stream",
     "text": [
      "  7%|▋         | 14/201 [00:00<00:01, 131.28it/s]"
     ]
    },
    {
     "name": "stdout",
     "output_type": "stream",
     "text": [
      " >>> Negative 2\n",
      " >>> Negative 2\n",
      " >>> Negative 2\n",
      " >>> Negative 2\n",
      " >>> Negative 2\n",
      " >>> Negative 2\n",
      " >>> Negative 2\n",
      " >>> Negative 2\n",
      " >>> Negative 2\n",
      " >>> Negative 2\n",
      " >>> Negative 2\n",
      " >>> Negative 2\n",
      " >>> Negative 2\n",
      " >>> Negative 2\n",
      " >>> Negative 2\n",
      " >>> Negative 2\n",
      " >>> Negative 2\n",
      " >>> Negative 2\n",
      " >>> Negative 2\n",
      " >>> Negative 2\n",
      " >>> Negative 2\n",
      " >>> Negative 2\n",
      " >>> Negative 2\n",
      " >>> Negative 2\n"
     ]
    },
    {
     "name": "stderr",
     "output_type": "stream",
     "text": [
      " 21%|██▏       | 43/201 [00:00<00:01, 127.42it/s]"
     ]
    },
    {
     "name": "stdout",
     "output_type": "stream",
     "text": [
      " >>> Negative 2\n",
      " >>> Negative 2\n",
      " >>> Negative 2\n",
      " >>> Negative 2\n",
      " >>> Negative 2\n",
      " >>> Negative 2\n",
      " >>> Negative 2\n",
      " >>> Negative 2\n",
      " >>> Negative 2\n",
      " >>> Negative 2\n",
      " >>> Negative 2\n",
      " >>> Negative 2\n",
      " >>> Negative 2\n",
      " >>> Negative 2\n",
      " >>> Negative 2\n",
      " >>> Negative 2\n",
      " >>> Negative 2\n",
      " >>> Negative 2\n",
      " >>> Negative 2\n",
      " >>> Negative 2\n",
      " >>> Negative 2\n",
      " >>> Negative 2\n",
      " >>> Negative 2\n",
      " >>> Negative 2\n",
      " >>> Negative 2\n",
      " >>> Negative 2\n"
     ]
    },
    {
     "name": "stderr",
     "output_type": "stream",
     "text": [
      " 34%|███▍      | 69/201 [00:00<00:01, 122.80it/s]"
     ]
    },
    {
     "name": "stdout",
     "output_type": "stream",
     "text": [
      " >>> Negative 2\n",
      " >>> Negative 2\n",
      " >>> Negative 2\n",
      " >>> Negative 2\n",
      " >>> Negative 2\n",
      " >>> Negative 2\n",
      " >>> Negative 2\n",
      " >>> Negative 2\n",
      " >>> Negative 2\n",
      " >>> Negative 2\n",
      " >>> Negative 2\n",
      " >>> Negative 2\n",
      " >>> Negative 2\n",
      " >>> Negative 2\n",
      " >>> Negative 2\n",
      " >>> Negative 2\n",
      " >>> Negative 2\n",
      " >>> Negative 2\n",
      " >>> Negative 2\n",
      " >>> Negative 2\n",
      " >>> Negative 2\n",
      " >>> Negative 2\n",
      " >>> Negative 2\n",
      " >>> Negative 2\n",
      " >>> Negative 2\n",
      " >>> Negative 2\n",
      " >>> Negative 2\n",
      " >>> Negative 2\n",
      " >>> Negative 2\n"
     ]
    },
    {
     "name": "stderr",
     "output_type": "stream",
     "text": [
      " 41%|████      | 82/201 [00:00<00:01, 114.35it/s]"
     ]
    },
    {
     "name": "stdout",
     "output_type": "stream",
     "text": [
      " >>> Negative 2\n",
      " >>> Negative 2\n",
      " >>> Negative 2\n",
      " >>> Negative 2\n",
      " >>> Negative 2\n"
     ]
    },
    {
     "name": "stderr",
     "output_type": "stream",
     "text": [
      " 47%|████▋     | 94/201 [00:01<00:01, 69.22it/s] "
     ]
    },
    {
     "name": "stdout",
     "output_type": "stream",
     "text": [
      " >>> Negative 2\n",
      " >>> Negative 2\n",
      " >>> Negative 2\n",
      " >>> Negative 2\n",
      " >>> Negative 2\n",
      " >>> Negative 2\n",
      " >>> Negative 2\n",
      " >>> Negative 2\n",
      " >>> Negative 2\n",
      " >>> Negative 2\n",
      " >>> Negative 2\n"
     ]
    },
    {
     "name": "stderr",
     "output_type": "stream",
     "text": [
      " 54%|█████▍    | 109/201 [00:01<00:01, 85.37it/s]"
     ]
    },
    {
     "name": "stdout",
     "output_type": "stream",
     "text": [
      " >>> Negative 2\n",
      " >>> Negative 2\n",
      " >>> Negative 2\n",
      " >>> Negative 2\n",
      " >>> Negative 2\n",
      " >>> Negative 2\n",
      " >>> Negative 2\n",
      " >>> Negative 2\n",
      " >>> Negative 2\n",
      " >>> Negative 2\n",
      " >>> Negative 2\n",
      " >>> Negative 2\n",
      " >>> Negative 2\n",
      " >>> Negative 2\n",
      " >>> Negative 2\n",
      " >>> Negative 2\n",
      " >>> Negative 2\n",
      " >>> Negative 2\n",
      " >>> Negative 2\n",
      " >>> Negative 2\n"
     ]
    },
    {
     "name": "stderr",
     "output_type": "stream",
     "text": [
      " 60%|█████▉    | 120/201 [00:01<00:01, 65.87it/s]"
     ]
    },
    {
     "name": "stdout",
     "output_type": "stream",
     "text": [
      " >>> Negative 2\n",
      " >>> Negative 2\n",
      " >>> Negative 2\n",
      " >>> Negative 2\n",
      " >>> Negative 2\n",
      " >>> Negative 2\n",
      " >>> Negative 2\n",
      " >>> Negative 2\n",
      " >>> Negative 2\n",
      " >>> Negative 2\n",
      " >>> Negative 2\n",
      " >>> Negative 2\n",
      " >>> Negative 2\n",
      " >>> Negative 2\n",
      " >>> Negative 2\n",
      " >>> Negative 2\n",
      " >>> Negative 2\n",
      " >>> Negative 2\n",
      " >>> Negative 2\n"
     ]
    },
    {
     "name": "stderr",
     "output_type": "stream",
     "text": [
      " 67%|██████▋   | 135/201 [00:01<00:00, 80.81it/s]"
     ]
    },
    {
     "name": "stdout",
     "output_type": "stream",
     "text": [
      " >>> Negative 2\n",
      " >>> Negative 2\n",
      " >>> Negative 2\n",
      " >>> Negative 2\n",
      " >>> Negative 2\n",
      " >>> Negative 2\n",
      " >>> Negative 2\n",
      " >>> Negative 2\n",
      " >>> Negative 2\n",
      " >>> Negative 2\n"
     ]
    },
    {
     "name": "stderr",
     "output_type": "stream",
     "text": [
      " 77%|███████▋  | 155/201 [00:01<00:00, 63.81it/s]"
     ]
    },
    {
     "name": "stdout",
     "output_type": "stream",
     "text": [
      " >>> Negative 2\n",
      " >>> Negative 2\n",
      " >>> Negative 2\n",
      " >>> Negative 2\n",
      " >>> Negative 2\n",
      " >>> Negative 2\n",
      " >>> Negative 2\n",
      " >>> Negative 2\n",
      " >>> Negative 2\n",
      " >>> Negative 2\n",
      " >>> Negative 2\n",
      " >>> Negative 2\n"
     ]
    },
    {
     "name": "stderr",
     "output_type": "stream",
     "text": [
      " 81%|████████  | 163/201 [00:02<00:00, 59.38it/s]"
     ]
    },
    {
     "name": "stdout",
     "output_type": "stream",
     "text": [
      " >>> Negative 2\n",
      " >>> Negative 2\n",
      " >>> Negative 2\n",
      " >>> Negative 2\n",
      " >>> Negative 2\n",
      " >>> Negative 2\n",
      " >>> Negative 2\n",
      " >>> Negative 2\n"
     ]
    },
    {
     "name": "stderr",
     "output_type": "stream",
     "text": [
      " 85%|████████▍ | 170/201 [00:02<00:00, 47.49it/s]"
     ]
    },
    {
     "name": "stdout",
     "output_type": "stream",
     "text": [
      " >>> Negative 2\n",
      " >>> Negative 2\n",
      " >>> Negative 2\n",
      " >>> Negative 2\n",
      " >>> Negative 2\n",
      " >>> Negative 2\n",
      " >>> Negative 2\n",
      " >>> Negative 2\n",
      " >>> Negative 2\n",
      " >>> Negative 2\n",
      " >>> Negative 2\n",
      " >>> Negative 2\n"
     ]
    },
    {
     "name": "stderr",
     "output_type": "stream",
     "text": [
      "100%|██████████| 201/201 [00:02<00:00, 79.80it/s]\n"
     ]
    },
    {
     "name": "stdout",
     "output_type": "stream",
     "text": [
      " >>> Negative 2\n",
      " >>> Negative 2\n",
      " >>> Negative 2\n",
      " >>> Negative 2\n",
      " >>> Negative 2\n",
      " >>> Negative 2\n",
      " >>> Negative 2\n",
      " >>> Negative 2\n",
      " >>> Negative 2\n",
      " >>> Negative 2\n",
      " >>> Negative 2\n",
      " >>> Negative 2\n",
      " >>> Negative 2\n",
      " >>> Negative 2\n",
      " >>> Negative 2\n",
      " >>> Negative 2\n",
      " >>> Negative 2\n",
      " >>> Negative 2\n",
      " >>> Negative 2\n",
      " >>> Negative 2\n",
      " >>> Negative 2\n",
      " >>> Negative 2\n",
      " >>> Negative 2\n",
      " >>> Negative 2\n",
      " >>> Negative 2\n"
     ]
    },
    {
     "name": "stderr",
     "output_type": "stream",
     "text": [
      "100%|██████████| 48/48 [00:00<00:00, 113.38it/s]\n"
     ]
    },
    {
     "name": "stdout",
     "output_type": "stream",
     "text": [
      ">>>>>>>>>>>>>>>>>>>>>>>>>>>>>>>>>>>>>>>>>>>>>>>>>>\n",
      "reddish 190 201\n",
      " >>> Positive\n"
     ]
    },
    {
     "name": "stderr",
     "output_type": "stream",
     "text": [
      "100%|██████████| 190/190 [00:01<00:00, 98.16it/s] \n"
     ]
    },
    {
     "name": "stdout",
     "output_type": "stream",
     "text": [
      " >>> Negative\n"
     ]
    },
    {
     "name": "stderr",
     "output_type": "stream",
     "text": [
      "  3%|▎         | 7/201 [00:00<00:03, 60.37it/s]"
     ]
    },
    {
     "name": "stdout",
     "output_type": "stream",
     "text": [
      " >>> Negative 2\n",
      " >>> Negative 2\n",
      " >>> Negative 2\n",
      " >>> Negative 2\n",
      " >>> Negative 2\n",
      " >>> Negative 2\n",
      " >>> Negative 2\n",
      " >>> Negative 2\n",
      " >>> Negative 2\n"
     ]
    },
    {
     "name": "stderr",
     "output_type": "stream",
     "text": [
      "  7%|▋         | 14/201 [00:00<00:04, 41.41it/s]"
     ]
    },
    {
     "name": "stdout",
     "output_type": "stream",
     "text": [
      " >>> Negative 2\n",
      " >>> Negative 2\n",
      " >>> Negative 2\n",
      " >>> Negative 2\n",
      " >>> Negative 2\n",
      " >>> Negative 2\n",
      " >>> Negative 2\n",
      " >>> Negative 2\n",
      " >>> Negative 2\n",
      " >>> Negative 2\n",
      " >>> Negative 2\n"
     ]
    },
    {
     "name": "stderr",
     "output_type": "stream",
     "text": [
      " 10%|█         | 21/201 [00:00<00:03, 50.18it/s]"
     ]
    },
    {
     "name": "stdout",
     "output_type": "stream",
     "text": [
      " >>> Negative 2\n",
      " >>> Negative 2\n"
     ]
    },
    {
     "name": "stderr",
     "output_type": "stream",
     "text": [
      " 13%|█▎        | 27/201 [00:00<00:03, 46.50it/s]"
     ]
    },
    {
     "name": "stdout",
     "output_type": "stream",
     "text": [
      " >>> Negative 2\n",
      " >>> Negative 2\n",
      " >>> Negative 2\n",
      " >>> Negative 2\n",
      " >>> Negative 2\n",
      " >>> Negative 2\n",
      " >>> Negative 2\n"
     ]
    },
    {
     "name": "stderr",
     "output_type": "stream",
     "text": [
      " 16%|█▌        | 32/201 [00:00<00:04, 36.77it/s]"
     ]
    },
    {
     "name": "stdout",
     "output_type": "stream",
     "text": [
      " >>> Negative 2\n",
      " >>> Negative 2\n",
      " >>> Negative 2\n",
      " >>> Negative 2\n",
      " >>> Negative 2\n",
      " >>> Negative 2\n",
      " >>> Negative 2\n",
      " >>> Negative 2\n"
     ]
    },
    {
     "name": "stderr",
     "output_type": "stream",
     "text": [
      " 24%|██▍       | 49/201 [00:00<00:02, 57.12it/s]"
     ]
    },
    {
     "name": "stdout",
     "output_type": "stream",
     "text": [
      " >>> Negative 2\n",
      " >>> Negative 2\n",
      " >>> Negative 2\n",
      " >>> Negative 2\n",
      " >>> Negative 2\n",
      " >>> Negative 2\n",
      " >>> Negative 2\n",
      " >>> Negative 2\n",
      " >>> Negative 2\n",
      " >>> Negative 2\n",
      " >>> Negative 2\n",
      " >>> Negative 2\n",
      " >>> Negative 2\n",
      " >>> Negative 2\n",
      " >>> Negative 2\n",
      " >>> Negative 2\n",
      " >>> Negative 2\n",
      " >>> Negative 2\n",
      " >>> Negative 2\n",
      " >>> Negative 2\n",
      " >>> Negative 2\n",
      " >>> Negative 2\n"
     ]
    },
    {
     "name": "stderr",
     "output_type": "stream",
     "text": [
      " 30%|███       | 61/201 [00:01<00:01, 73.03it/s]"
     ]
    },
    {
     "name": "stdout",
     "output_type": "stream",
     "text": [
      " >>> Negative 2\n",
      " >>> Negative 2\n",
      " >>> Negative 2\n",
      " >>> Negative 2\n",
      " >>> Negative 2\n",
      " >>> Negative 2\n",
      " >>> Negative 2\n",
      " >>> Negative 2\n",
      " >>> Negative 2\n"
     ]
    },
    {
     "name": "stderr",
     "output_type": "stream",
     "text": [
      " 39%|███▉      | 78/201 [00:01<00:02, 60.40it/s]"
     ]
    },
    {
     "name": "stdout",
     "output_type": "stream",
     "text": [
      " >>> Negative 2\n",
      " >>> Negative 2\n",
      " >>> Negative 2\n",
      " >>> Negative 2\n",
      " >>> Negative 2\n",
      " >>> Negative 2\n",
      " >>> Negative 2\n",
      " >>> Negative 2\n",
      " >>> Negative 2\n",
      " >>> Negative 2\n",
      " >>> Negative 2\n",
      " >>> Negative 2\n",
      " >>> Negative 2\n"
     ]
    },
    {
     "name": "stderr",
     "output_type": "stream",
     "text": [
      " 49%|████▉     | 98/201 [00:01<00:01, 75.28it/s]"
     ]
    },
    {
     "name": "stdout",
     "output_type": "stream",
     "text": [
      " >>> Negative 2\n",
      " >>> Negative 2\n",
      " >>> Negative 2\n",
      " >>> Negative 2\n",
      " >>> Negative 2\n",
      " >>> Negative 2\n",
      " >>> Negative 2\n",
      " >>> Negative 2\n",
      " >>> Negative 2\n",
      " >>> Negative 2\n",
      " >>> Negative 2\n",
      " >>> Negative 2\n",
      " >>> Negative 2\n",
      " >>> Negative 2\n",
      " >>> Negative 2\n",
      " >>> Negative 2\n",
      " >>> Negative 2\n",
      " >>> Negative 2\n",
      " >>> Negative 2\n",
      " >>> Negative 2\n",
      " >>> Negative 2\n",
      " >>> Negative 2\n",
      " >>> Negative 2\n",
      " >>> Negative 2\n"
     ]
    },
    {
     "name": "stderr",
     "output_type": "stream",
     "text": [
      " 63%|██████▎   | 126/201 [00:01<00:00, 103.53it/s]"
     ]
    },
    {
     "name": "stdout",
     "output_type": "stream",
     "text": [
      " >>> Negative 2\n",
      " >>> Negative 2\n",
      " >>> Negative 2\n",
      " >>> Negative 2\n",
      " >>> Negative 2\n",
      " >>> Negative 2\n",
      " >>> Negative 2\n",
      " >>> Negative 2\n",
      " >>> Negative 2\n",
      " >>> Negative 2\n",
      " >>> Negative 2\n",
      " >>> Negative 2\n",
      " >>> Negative 2\n",
      " >>> Negative 2\n",
      " >>> Negative 2\n",
      " >>> Negative 2\n",
      " >>> Negative 2\n",
      " >>> Negative 2\n",
      " >>> Negative 2\n",
      " >>> Negative 2\n",
      " >>> Negative 2\n",
      " >>> Negative 2\n",
      " >>> Negative 2\n",
      " >>> Negative 2\n",
      " >>> Negative 2\n",
      " >>> Negative 2\n",
      " >>> Negative 2\n"
     ]
    },
    {
     "name": "stderr",
     "output_type": "stream",
     "text": [
      " 76%|███████▌  | 153/201 [00:02<00:00, 115.24it/s]"
     ]
    },
    {
     "name": "stdout",
     "output_type": "stream",
     "text": [
      " >>> Negative 2\n",
      " >>> Negative 2\n",
      " >>> Negative 2\n",
      " >>> Negative 2\n",
      " >>> Negative 2\n",
      " >>> Negative 2\n",
      " >>> Negative 2\n",
      " >>> Negative 2\n",
      " >>> Negative 2\n",
      " >>> Negative 2\n",
      " >>> Negative 2\n",
      " >>> Negative 2\n",
      " >>> Negative 2\n",
      " >>> Negative 2\n",
      " >>> Negative 2\n",
      " >>> Negative 2\n",
      " >>> Negative 2\n",
      " >>> Negative 2\n",
      " >>> Negative 2\n",
      " >>> Negative 2\n",
      " >>> Negative 2\n",
      " >>> Negative 2\n",
      " >>> Negative 2\n",
      " >>> Negative 2\n"
     ]
    },
    {
     "name": "stderr",
     "output_type": "stream",
     "text": [
      " 89%|████████▉ | 179/201 [00:02<00:00, 123.00it/s]"
     ]
    },
    {
     "name": "stdout",
     "output_type": "stream",
     "text": [
      " >>> Negative 2\n",
      " >>> Negative 2\n",
      " >>> Negative 2\n",
      " >>> Negative 2\n",
      " >>> Negative 2\n",
      " >>> Negative 2\n",
      " >>> Negative 2\n",
      " >>> Negative 2\n",
      " >>> Negative 2\n",
      " >>> Negative 2\n",
      " >>> Negative 2\n",
      " >>> Negative 2\n",
      " >>> Negative 2\n",
      " >>> Negative 2\n",
      " >>> Negative 2\n",
      " >>> Negative 2\n",
      " >>> Negative 2\n",
      " >>> Negative 2\n",
      " >>> Negative 2\n",
      " >>> Negative 2\n",
      " >>> Negative 2\n",
      " >>> Negative 2\n",
      " >>> Negative 2\n",
      " >>> Negative 2\n",
      " >>> Negative 2\n",
      " >>> Negative 2\n",
      " >>> Negative 2\n",
      " >>> Negative 2\n"
     ]
    },
    {
     "name": "stderr",
     "output_type": "stream",
     "text": [
      "100%|██████████| 201/201 [00:02<00:00, 81.30it/s] \n"
     ]
    },
    {
     "name": "stdout",
     "output_type": "stream",
     "text": [
      " >>> Negative 2\n",
      " >>> Negative 2\n",
      " >>> Negative 2\n",
      " >>> Negative 2\n",
      " >>> Negative 2\n",
      " >>> Negative 2\n",
      " >>> Negative 2\n",
      " >>> Negative 2\n",
      " >>> Negative 2\n",
      " >>> Negative 2\n",
      " >>> Negative 2\n",
      " >>> Negative 2\n",
      " >>> Negative 2\n",
      " >>> Negative 2\n",
      " >>> Negative 2\n",
      " >>> Negative 2\n",
      " >>> Negative 2\n"
     ]
    },
    {
     "name": "stderr",
     "output_type": "stream",
     "text": [
      "100%|██████████| 77/77 [00:00<00:00, 92.10it/s] \n"
     ]
    },
    {
     "name": "stdout",
     "output_type": "stream",
     "text": [
      ">>>>>>>>>>>>>>>>>>>>>>>>>>>>>>>>>>>>>>>>>>>>>>>>>>\n",
      "rotten 200 201\n",
      " >>> Positive\n"
     ]
    },
    {
     "name": "stderr",
     "output_type": "stream",
     "text": [
      "100%|██████████| 200/200 [00:01<00:00, 145.16it/s]\n"
     ]
    },
    {
     "name": "stdout",
     "output_type": "stream",
     "text": [
      " does not exist:  ../data/oranges/navel/manfredi2/skin_creasing2/20250403_1021_000023.json\n",
      " >>> Negative\n"
     ]
    },
    {
     "name": "stderr",
     "output_type": "stream",
     "text": [
      "  3%|▎         | 6/201 [00:00<00:03, 56.90it/s]"
     ]
    },
    {
     "name": "stdout",
     "output_type": "stream",
     "text": [
      " >>> Negative 2\n",
      " >>> Negative 2\n",
      " >>> Negative 2\n",
      " >>> Negative 2\n",
      " >>> Negative 2\n",
      " >>> Negative 2\n"
     ]
    },
    {
     "name": "stderr",
     "output_type": "stream",
     "text": [
      "  7%|▋         | 14/201 [00:00<00:02, 69.45it/s]"
     ]
    },
    {
     "name": "stdout",
     "output_type": "stream",
     "text": [
      " >>> Negative 2\n",
      " >>> Negative 2\n",
      " >>> Negative 2\n",
      " >>> Negative 2\n",
      " >>> Negative 2\n",
      " >>> Negative 2\n",
      " >>> Negative 2\n",
      " >>> Negative 2\n"
     ]
    },
    {
     "name": "stderr",
     "output_type": "stream",
     "text": [
      " 15%|█▌        | 31/201 [00:00<00:01, 114.46it/s]"
     ]
    },
    {
     "name": "stdout",
     "output_type": "stream",
     "text": [
      " >>> Negative 2\n",
      " >>> Negative 2\n",
      " >>> Negative 2\n",
      " >>> Negative 2\n",
      " >>> Negative 2\n",
      " >>> Negative 2\n",
      " >>> Negative 2\n",
      " >>> Negative 2\n",
      " >>> Negative 2\n",
      " >>> Negative 2\n",
      " >>> Negative 2\n",
      " >>> Negative 2\n",
      " >>> Negative 2\n",
      " >>> Negative 2\n",
      " >>> Negative 2\n",
      " >>> Negative 2\n",
      " >>> Negative 2\n",
      " >>> Negative 2\n",
      " >>> Negative 2\n",
      " >>> Negative 2\n",
      " >>> Negative 2\n",
      " >>> Negative 2\n",
      " >>> Negative 2\n",
      " >>> Negative 2\n",
      " >>> Negative 2\n",
      " >>> Negative 2\n",
      " >>> Negative 2\n",
      " >>> Negative 2\n",
      " >>> Negative 2\n"
     ]
    },
    {
     "name": "stderr",
     "output_type": "stream",
     "text": [
      " 21%|██▏       | 43/201 [00:00<00:02, 59.59it/s] "
     ]
    },
    {
     "name": "stdout",
     "output_type": "stream",
     "text": [
      " >>> Negative 2\n",
      " >>> Negative 2\n",
      " >>> Negative 2\n",
      " >>> Negative 2\n",
      " >>> Negative 2\n",
      " >>> Negative 2\n",
      " >>> Negative 2\n"
     ]
    },
    {
     "name": "stderr",
     "output_type": "stream",
     "text": [
      " 26%|██▌       | 52/201 [00:00<00:02, 56.04it/s]"
     ]
    },
    {
     "name": "stdout",
     "output_type": "stream",
     "text": [
      " >>> Negative 2\n",
      " >>> Negative 2\n",
      " >>> Negative 2\n",
      " >>> Negative 2\n",
      " >>> Negative 2\n",
      " >>> Negative 2\n",
      " >>> Negative 2\n",
      " >>> Negative 2\n",
      " >>> Negative 2\n"
     ]
    },
    {
     "name": "stderr",
     "output_type": "stream",
     "text": [
      " 30%|██▉       | 60/201 [00:01<00:02, 51.09it/s]"
     ]
    },
    {
     "name": "stdout",
     "output_type": "stream",
     "text": [
      " >>> Negative 2\n",
      " >>> Negative 2\n",
      " >>> Negative 2\n"
     ]
    },
    {
     "name": "stderr",
     "output_type": "stream",
     "text": [
      " 33%|███▎      | 67/201 [00:01<00:02, 45.88it/s]"
     ]
    },
    {
     "name": "stdout",
     "output_type": "stream",
     "text": [
      " >>> Negative 2\n",
      " >>> Negative 2\n",
      " >>> Negative 2\n",
      " >>> Negative 2\n",
      " >>> Negative 2\n",
      " >>> Negative 2\n",
      " >>> Negative 2\n",
      " >>> Negative 2\n",
      " >>> Negative 2\n",
      " >>> Negative 2\n",
      " >>> Negative 2\n",
      " >>> Negative 2\n",
      " >>> Negative 2\n"
     ]
    },
    {
     "name": "stderr",
     "output_type": "stream",
     "text": [
      " 46%|████▋     | 93/201 [00:01<00:01, 78.40it/s]"
     ]
    },
    {
     "name": "stdout",
     "output_type": "stream",
     "text": [
      " >>> Negative 2\n",
      " >>> Negative 2\n",
      " >>> Negative 2\n",
      " >>> Negative 2\n",
      " >>> Negative 2\n",
      " >>> Negative 2\n",
      " >>> Negative 2\n",
      " >>> Negative 2\n",
      " >>> Negative 2\n",
      " >>> Negative 2\n",
      " >>> Negative 2\n",
      " >>> Negative 2\n",
      " >>> Negative 2\n",
      " >>> Negative 2\n",
      " >>> Negative 2\n",
      " >>> Negative 2\n",
      " >>> Negative 2\n",
      " >>> Negative 2\n",
      " >>> Negative 2\n",
      " >>> Negative 2\n",
      " >>> Negative 2\n",
      " >>> Negative 2\n",
      " >>> Negative 2\n",
      " >>> Negative 2\n",
      " >>> Negative 2\n",
      " >>> Negative 2\n",
      " >>> Negative 2\n",
      " >>> Negative 2\n",
      " >>> Negative 2\n",
      " >>> Negative 2\n",
      " >>> Negative 2\n",
      " >>> Negative 2\n",
      " >>> Negative 2\n",
      " >>> Negative 2\n",
      " >>> Negative 2\n",
      " >>> Negative 2\n"
     ]
    },
    {
     "name": "stderr",
     "output_type": "stream",
     "text": [
      " 64%|██████▍   | 129/201 [00:01<00:00, 119.97it/s]"
     ]
    },
    {
     "name": "stdout",
     "output_type": "stream",
     "text": [
      " >>> Negative 2\n",
      " >>> Negative 2\n",
      " >>> Negative 2\n",
      " >>> Negative 2\n",
      " >>> Negative 2\n",
      " >>> Negative 2\n",
      " >>> Negative 2\n",
      " >>> Negative 2\n",
      " >>> Negative 2\n",
      " >>> Negative 2\n",
      " >>> Negative 2\n",
      " >>> Negative 2\n",
      " >>> Negative 2\n",
      " >>> Negative 2\n",
      " >>> Negative 2\n",
      " >>> Negative 2\n",
      " >>> Negative 2\n",
      " >>> Negative 2\n",
      " >>> Negative 2\n",
      " >>> Negative 2\n",
      " >>> Negative 2\n",
      " >>> Negative 2\n",
      " >>> Negative 2\n",
      " >>> Negative 2\n",
      " >>> Negative 2\n",
      " >>> Negative 2\n",
      " >>> Negative 2\n",
      " >>> Negative 2\n",
      " >>> Negative 2\n",
      " >>> Negative 2\n",
      " >>> Negative 2\n",
      " >>> Negative 2\n",
      " >>> Negative 2\n"
     ]
    },
    {
     "name": "stderr",
     "output_type": "stream",
     "text": [
      " 82%|████████▏ | 165/201 [00:01<00:00, 147.30it/s]"
     ]
    },
    {
     "name": "stdout",
     "output_type": "stream",
     "text": [
      " >>> Negative 2\n",
      " >>> Negative 2\n",
      " >>> Negative 2\n",
      " >>> Negative 2\n",
      " >>> Negative 2\n",
      " >>> Negative 2\n",
      " >>> Negative 2\n",
      " >>> Negative 2\n",
      " >>> Negative 2\n",
      " >>> Negative 2\n",
      " >>> Negative 2\n",
      " >>> Negative 2\n",
      " >>> Negative 2\n",
      " >>> Negative 2\n",
      " >>> Negative 2\n",
      " >>> Negative 2\n",
      " >>> Negative 2\n",
      " >>> Negative 2\n",
      " >>> Negative 2\n",
      " >>> Negative 2\n",
      " >>> Negative 2\n",
      " >>> Negative 2\n",
      " >>> Negative 2\n",
      " >>> Negative 2\n",
      " >>> Negative 2\n",
      " >>> Negative 2\n",
      " >>> Negative 2\n",
      " >>> Negative 2\n",
      " >>> Negative 2\n",
      " >>> Negative 2\n",
      " >>> Negative 2\n",
      " >>> Negative 2\n",
      " >>> Negative 2\n",
      " >>> Negative 2\n",
      " >>> Negative 2\n",
      " >>> Negative 2\n",
      " >>> Negative 2\n",
      " >>> Negative 2\n",
      " >>> Negative 2\n"
     ]
    },
    {
     "name": "stderr",
     "output_type": "stream",
     "text": [
      " 92%|█████████▏| 184/201 [00:01<00:00, 158.33it/s]"
     ]
    },
    {
     "name": "stdout",
     "output_type": "stream",
     "text": [
      " >>> Negative 2\n",
      " >>> Negative 2\n",
      " >>> Negative 2\n",
      " >>> Negative 2\n",
      " >>> Negative 2\n",
      " >>> Negative 2\n",
      " >>> Negative 2\n",
      " >>> Negative 2\n",
      " >>> Negative 2\n",
      " >>> Negative 2\n",
      " >>> Negative 2\n",
      " >>> Negative 2\n",
      " >>> Negative 2\n",
      " >>> Negative 2\n",
      " >>> Negative 2\n"
     ]
    },
    {
     "name": "stderr",
     "output_type": "stream",
     "text": [
      "100%|██████████| 201/201 [00:02<00:00, 86.04it/s] \n"
     ]
    },
    {
     "name": "stdout",
     "output_type": "stream",
     "text": [
      " >>> Negative 2\n",
      " >>> Negative 2\n",
      " >>> Negative 2\n"
     ]
    },
    {
     "name": "stderr",
     "output_type": "stream",
     "text": [
      "100%|██████████| 33/33 [00:00<00:00, 198.02it/s]\n"
     ]
    },
    {
     "name": "stdout",
     "output_type": "stream",
     "text": [
      ">>>>>>>>>>>>>>>>>>>>>>>>>>>>>>>>>>>>>>>>>>>>>>>>>>\n",
      "scars 200 201\n",
      " >>> Positive\n"
     ]
    },
    {
     "name": "stderr",
     "output_type": "stream",
     "text": [
      "100%|██████████| 200/200 [00:01<00:00, 115.69it/s]\n"
     ]
    },
    {
     "name": "stdout",
     "output_type": "stream",
     "text": [
      " >>> Negative\n"
     ]
    },
    {
     "name": "stderr",
     "output_type": "stream",
     "text": [
      "  5%|▍         | 10/201 [00:00<00:01, 97.81it/s]"
     ]
    },
    {
     "name": "stdout",
     "output_type": "stream",
     "text": [
      " >>> Negative 2\n",
      " >>> Negative 2\n",
      " >>> Negative 2\n",
      " >>> Negative 2\n",
      " >>> Negative 2\n",
      " >>> Negative 2\n",
      " >>> Negative 2\n",
      " >>> Negative 2\n",
      " >>> Negative 2\n",
      " >>> Negative 2\n",
      " >>> Negative 2\n",
      " >>> Negative 2\n",
      " >>> Negative 2\n"
     ]
    },
    {
     "name": "stderr",
     "output_type": "stream",
     "text": [
      " 14%|█▍        | 29/201 [00:00<00:02, 68.28it/s]"
     ]
    },
    {
     "name": "stdout",
     "output_type": "stream",
     "text": [
      " >>> Negative 2\n",
      " >>> Negative 2\n",
      " >>> Negative 2\n",
      " >>> Negative 2\n",
      " >>> Negative 2\n",
      " >>> Negative 2\n",
      " >>> Negative 2\n",
      " >>> Negative 2\n",
      " >>> Negative 2\n",
      " >>> Negative 2\n",
      " >>> Negative 2\n",
      " >>> Negative 2\n",
      " >>> Negative 2\n",
      " >>> Negative 2\n",
      " >>> Negative 2\n",
      " >>> Negative 2\n"
     ]
    },
    {
     "name": "stderr",
     "output_type": "stream",
     "text": [
      " 19%|█▉        | 39/201 [00:00<00:02, 77.24it/s]"
     ]
    },
    {
     "name": "stdout",
     "output_type": "stream",
     "text": [
      " >>> Negative 2\n",
      " >>> Negative 2\n",
      " >>> Negative 2\n",
      " >>> Negative 2\n",
      " >>> Negative 2\n",
      " >>> Negative 2\n",
      " >>> Negative 2\n",
      " >>> Negative 2\n",
      " >>> Negative 2\n",
      " >>> Negative 2\n",
      " >>> Negative 2\n",
      " >>> Negative 2\n",
      " >>> Negative 2\n",
      " >>> Negative 2\n",
      " >>> Negative 2\n",
      " >>> Negative 2\n"
     ]
    },
    {
     "name": "stderr",
     "output_type": "stream",
     "text": [
      " 31%|███▏      | 63/201 [00:00<00:01, 93.17it/s]"
     ]
    },
    {
     "name": "stdout",
     "output_type": "stream",
     "text": [
      " >>> Negative 2\n",
      " >>> Negative 2\n",
      " >>> Negative 2\n",
      " >>> Negative 2\n",
      " >>> Negative 2\n",
      " >>> Negative 2\n",
      " >>> Negative 2\n",
      " >>> Negative 2\n",
      " >>> Negative 2\n",
      " >>> Negative 2\n",
      " >>> Negative 2\n",
      " >>> Negative 2\n",
      " >>> Negative 2\n",
      " >>> Negative 2\n",
      " >>> Negative 2\n",
      " >>> Negative 2\n",
      " >>> Negative 2\n",
      " >>> Negative 2\n",
      " >>> Negative 2\n",
      " >>> Negative 2\n",
      " >>> Negative 2\n",
      " >>> Negative 2\n",
      " >>> Negative 2\n",
      " >>> Negative 2\n",
      " >>> Negative 2\n",
      " >>> Negative 2\n",
      " >>> Negative 2\n",
      " >>> Negative 2\n",
      " >>> Negative 2\n"
     ]
    },
    {
     "name": "stderr",
     "output_type": "stream",
     "text": [
      " 39%|███▉      | 78/201 [00:00<00:01, 103.86it/s]"
     ]
    },
    {
     "name": "stdout",
     "output_type": "stream",
     "text": [
      " >>> Negative 2\n",
      " >>> Negative 2\n",
      " >>> Negative 2\n",
      " >>> Negative 2\n",
      " >>> Negative 2\n",
      " >>> Negative 2\n",
      " >>> Negative 2\n",
      " >>> Negative 2\n"
     ]
    },
    {
     "name": "stderr",
     "output_type": "stream",
     "text": [
      " 44%|████▍     | 89/201 [00:01<00:01, 69.03it/s] "
     ]
    },
    {
     "name": "stdout",
     "output_type": "stream",
     "text": [
      " >>> Negative 2\n",
      " >>> Negative 2\n",
      " >>> Negative 2\n",
      " >>> Negative 2\n",
      " >>> Negative 2\n",
      " >>> Negative 2\n",
      " >>> Negative 2\n",
      " >>> Negative 2\n",
      " >>> Negative 2\n",
      " >>> Negative 2\n",
      " >>> Negative 2\n"
     ]
    },
    {
     "name": "stderr",
     "output_type": "stream",
     "text": [
      " 56%|█████▌    | 112/201 [00:01<00:01, 79.17it/s]"
     ]
    },
    {
     "name": "stdout",
     "output_type": "stream",
     "text": [
      " >>> Negative 2\n",
      " >>> Negative 2\n",
      " >>> Negative 2\n",
      " >>> Negative 2\n",
      " >>> Negative 2\n",
      " >>> Negative 2\n",
      " >>> Negative 2\n",
      " >>> Negative 2\n",
      " >>> Negative 2\n",
      " >>> Negative 2\n",
      " >>> Negative 2\n",
      " >>> Negative 2\n",
      " >>> Negative 2\n",
      " >>> Negative 2\n",
      " >>> Negative 2\n",
      " >>> Negative 2\n",
      " >>> Negative 2\n",
      " >>> Negative 2\n",
      " >>> Negative 2\n",
      " >>> Negative 2\n",
      " >>> Negative 2\n",
      " >>> Negative 2\n",
      " >>> Negative 2\n",
      " >>> Negative 2\n",
      " >>> Negative 2\n",
      " >>> Negative 2\n",
      " >>> Negative 2\n"
     ]
    },
    {
     "name": "stderr",
     "output_type": "stream",
     "text": [
      " 71%|███████   | 142/201 [00:01<00:00, 102.51it/s]"
     ]
    },
    {
     "name": "stdout",
     "output_type": "stream",
     "text": [
      " >>> Negative 2\n",
      " >>> Negative 2\n",
      " >>> Negative 2\n",
      " >>> Negative 2\n",
      " >>> Negative 2\n",
      " >>> Negative 2\n",
      " >>> Negative 2\n",
      " >>> Negative 2\n",
      " >>> Negative 2\n",
      " >>> Negative 2\n",
      " >>> Negative 2\n",
      " >>> Negative 2\n",
      " >>> Negative 2\n",
      " >>> Negative 2\n",
      " >>> Negative 2\n",
      " >>> Negative 2\n",
      " >>> Negative 2\n",
      " >>> Negative 2\n",
      " >>> Negative 2\n",
      " >>> Negative 2\n",
      " >>> Negative 2\n",
      " >>> Negative 2\n",
      " >>> Negative 2\n",
      " >>> Negative 2\n"
     ]
    },
    {
     "name": "stderr",
     "output_type": "stream",
     "text": [
      " 84%|████████▎ | 168/201 [00:01<00:00, 108.24it/s]"
     ]
    },
    {
     "name": "stdout",
     "output_type": "stream",
     "text": [
      " >>> Negative 2\n",
      " >>> Negative 2\n",
      " >>> Negative 2\n",
      " >>> Negative 2\n",
      " >>> Negative 2\n",
      " >>> Negative 2\n",
      " >>> Negative 2\n",
      " >>> Negative 2\n",
      " >>> Negative 2\n",
      " >>> Negative 2\n",
      " >>> Negative 2\n",
      " >>> Negative 2\n",
      " >>> Negative 2\n",
      " >>> Negative 2\n",
      " >>> Negative 2\n",
      " >>> Negative 2\n",
      " >>> Negative 2\n",
      " >>> Negative 2\n",
      " >>> Negative 2\n",
      " >>> Negative 2\n",
      " >>> Negative 2\n",
      " >>> Negative 2\n",
      " >>> Negative 2\n",
      " >>> Negative 2\n",
      " >>> Negative 2\n",
      " >>> Negative 2\n",
      " >>> Negative 2\n",
      " >>> Negative 2\n",
      " >>> Negative 2\n",
      " >>> Negative 2\n"
     ]
    },
    {
     "name": "stderr",
     "output_type": "stream",
     "text": [
      " 90%|████████▉ | 180/201 [00:02<00:00, 62.93it/s] "
     ]
    },
    {
     "name": "stdout",
     "output_type": "stream",
     "text": [
      " >>> Negative 2\n",
      " >>> Negative 2\n",
      " >>> Negative 2\n",
      " >>> Negative 2\n",
      " >>> Negative 2\n",
      " >>> Negative 2\n",
      " >>> Negative 2\n"
     ]
    },
    {
     "name": "stderr",
     "output_type": "stream",
     "text": [
      " 94%|█████████▍| 189/201 [00:02<00:00, 57.92it/s]"
     ]
    },
    {
     "name": "stdout",
     "output_type": "stream",
     "text": [
      " >>> Negative 2\n",
      " >>> Negative 2\n",
      " >>> Negative 2\n",
      " >>> Negative 2\n",
      " >>> Negative 2\n",
      " >>> Negative 2\n",
      " >>> Negative 2\n",
      " >>> Negative 2\n",
      " >>> Negative 2\n",
      " >>> Negative 2\n"
     ]
    },
    {
     "name": "stderr",
     "output_type": "stream",
     "text": [
      "100%|██████████| 201/201 [00:02<00:00, 72.27it/s]\n"
     ]
    },
    {
     "name": "stdout",
     "output_type": "stream",
     "text": [
      " >>> Negative 2\n",
      " >>> Negative 2\n",
      " >>> Negative 2\n",
      " >>> Negative 2\n",
      " >>> Negative 2\n",
      " >>> Negative 2\n",
      " >>> Negative 2\n",
      " >>> Negative 2\n",
      " >>> Negative 2\n",
      " >>> Negative 2\n"
     ]
    },
    {
     "name": "stderr",
     "output_type": "stream",
     "text": [
      "100%|██████████| 80/80 [00:00<00:00, 100.10it/s]\n"
     ]
    },
    {
     "name": "stdout",
     "output_type": "stream",
     "text": [
      ">>>>>>>>>>>>>>>>>>>>>>>>>>>>>>>>>>>>>>>>>>>>>>>>>>\n",
      "skin_breakdown 200 201\n",
      " >>> Positive\n"
     ]
    },
    {
     "name": "stderr",
     "output_type": "stream",
     "text": [
      "100%|██████████| 200/200 [00:01<00:00, 108.58it/s]\n"
     ]
    },
    {
     "name": "stdout",
     "output_type": "stream",
     "text": [
      " >>> Negative\n"
     ]
    },
    {
     "name": "stderr",
     "output_type": "stream",
     "text": [
      "  3%|▎         | 6/201 [00:00<00:03, 51.46it/s]"
     ]
    },
    {
     "name": "stdout",
     "output_type": "stream",
     "text": [
      " >>> Negative 2\n",
      " >>> Negative 2\n",
      " >>> Negative 2\n",
      " >>> Negative 2\n",
      " >>> Negative 2\n",
      " >>> Negative 2\n",
      " >>> Negative 2\n",
      " >>> Negative 2\n",
      " >>> Negative 2\n",
      " >>> Negative 2\n",
      " >>> Negative 2\n",
      " >>> Negative 2\n",
      " >>> Negative 2\n",
      " >>> Negative 2\n"
     ]
    },
    {
     "name": "stderr",
     "output_type": "stream",
     "text": [
      " 18%|█▊        | 37/201 [00:00<00:01, 128.86it/s]"
     ]
    },
    {
     "name": "stdout",
     "output_type": "stream",
     "text": [
      " >>> Negative 2\n",
      " >>> Negative 2\n",
      " >>> Negative 2\n",
      " >>> Negative 2\n",
      " >>> Negative 2\n",
      " >>> Negative 2\n",
      " >>> Negative 2\n",
      " >>> Negative 2\n",
      " >>> Negative 2\n",
      " >>> Negative 2\n",
      " >>> Negative 2\n",
      " >>> Negative 2\n",
      " >>> Negative 2\n",
      " >>> Negative 2\n",
      " >>> Negative 2\n",
      " >>> Negative 2\n",
      " >>> Negative 2\n",
      " >>> Negative 2\n",
      " >>> Negative 2\n",
      " >>> Negative 2\n",
      " >>> Negative 2\n",
      " >>> Negative 2\n",
      " >>> Negative 2\n",
      " >>> Negative 2\n",
      " >>> Negative 2\n",
      " >>> Negative 2\n",
      " >>> Negative 2\n",
      " >>> Negative 2\n",
      " >>> Negative 2\n",
      " >>> Negative 2\n",
      " >>> Negative 2\n",
      " >>> Negative 2\n",
      " >>> Negative 2\n",
      " >>> Negative 2\n",
      " >>> Negative 2\n",
      " >>> Negative 2\n",
      " >>> Negative 2\n"
     ]
    },
    {
     "name": "stderr",
     "output_type": "stream",
     "text": [
      " 36%|███▋      | 73/201 [00:00<00:00, 156.26it/s]"
     ]
    },
    {
     "name": "stdout",
     "output_type": "stream",
     "text": [
      " >>> Negative 2\n",
      " >>> Negative 2\n",
      " >>> Negative 2\n",
      " >>> Negative 2\n",
      " >>> Negative 2\n",
      " >>> Negative 2\n",
      " >>> Negative 2\n",
      " >>> Negative 2\n",
      " >>> Negative 2\n",
      " >>> Negative 2\n",
      " >>> Negative 2\n",
      " >>> Negative 2\n",
      " >>> Negative 2\n",
      " >>> Negative 2\n",
      " >>> Negative 2\n",
      " >>> Negative 2\n",
      " >>> Negative 2\n",
      " >>> Negative 2\n",
      " >>> Negative 2\n",
      " >>> Negative 2\n",
      " >>> Negative 2\n",
      " >>> Negative 2\n",
      " >>> Negative 2\n",
      " >>> Negative 2\n",
      " >>> Negative 2\n",
      " >>> Negative 2\n",
      " >>> Negative 2\n",
      " >>> Negative 2\n"
     ]
    },
    {
     "name": "stderr",
     "output_type": "stream",
     "text": [
      " 44%|████▍     | 89/201 [00:00<00:01, 110.06it/s]"
     ]
    },
    {
     "name": "stdout",
     "output_type": "stream",
     "text": [
      " >>> Negative 2\n",
      " >>> Negative 2\n",
      " >>> Negative 2\n",
      " >>> Negative 2\n",
      " >>> Negative 2\n",
      " >>> Negative 2\n",
      " >>> Negative 2\n",
      " >>> Negative 2\n",
      " >>> Negative 2\n",
      " >>> Negative 2\n",
      " >>> Negative 2\n",
      " >>> Negative 2\n",
      " >>> Negative 2\n",
      " >>> Negative 2\n",
      " >>> Negative 2\n",
      " >>> Negative 2\n",
      " >>> Negative 2\n",
      " >>> Negative 2\n",
      " >>> Negative 2\n",
      " >>> Negative 2\n",
      " >>> Negative 2\n",
      " >>> Negative 2\n",
      " >>> Negative 2\n",
      " >>> Negative 2\n"
     ]
    },
    {
     "name": "stderr",
     "output_type": "stream",
     "text": [
      " 62%|██████▏   | 125/201 [00:00<00:00, 138.45it/s]"
     ]
    },
    {
     "name": "stdout",
     "output_type": "stream",
     "text": [
      " >>> Negative 2\n",
      " >>> Negative 2\n",
      " >>> Negative 2\n",
      " >>> Negative 2\n",
      " >>> Negative 2\n",
      " >>> Negative 2\n",
      " >>> Negative 2\n",
      " >>> Negative 2\n",
      " >>> Negative 2\n",
      " >>> Negative 2\n",
      " >>> Negative 2\n",
      " >>> Negative 2\n",
      " >>> Negative 2\n",
      " >>> Negative 2\n",
      " >>> Negative 2\n",
      " >>> Negative 2\n",
      " >>> Negative 2\n",
      " >>> Negative 2\n",
      " >>> Negative 2\n",
      " >>> Negative 2\n",
      " >>> Negative 2\n",
      " >>> Negative 2\n",
      " >>> Negative 2\n",
      " >>> Negative 2\n",
      " >>> Negative 2\n",
      " >>> Negative 2\n",
      " >>> Negative 2\n",
      " >>> Negative 2\n",
      " >>> Negative 2\n",
      " >>> Negative 2\n",
      " >>> Negative 2\n",
      " >>> Negative 2\n"
     ]
    },
    {
     "name": "stderr",
     "output_type": "stream",
     "text": [
      " 70%|███████   | 141/201 [00:01<00:00, 123.93it/s]"
     ]
    },
    {
     "name": "stdout",
     "output_type": "stream",
     "text": [
      " >>> Negative 2\n",
      " >>> Negative 2\n",
      " >>> Negative 2\n",
      " >>> Negative 2\n",
      " >>> Negative 2\n",
      " >>> Negative 2\n",
      " >>> Negative 2\n",
      " >>> Negative 2\n",
      " >>> Negative 2\n",
      " >>> Negative 2\n",
      " >>> Negative 2\n",
      " >>> Negative 2\n",
      " >>> Negative 2\n",
      " >>> Negative 2\n"
     ]
    },
    {
     "name": "stderr",
     "output_type": "stream",
     "text": [
      " 86%|████████▌ | 172/201 [00:01<00:00, 120.77it/s]"
     ]
    },
    {
     "name": "stdout",
     "output_type": "stream",
     "text": [
      " >>> Negative 2\n",
      " >>> Negative 2\n",
      " >>> Negative 2\n",
      " >>> Negative 2\n",
      " >>> Negative 2\n",
      " >>> Negative 2\n",
      " >>> Negative 2\n",
      " >>> Negative 2\n",
      " >>> Negative 2\n",
      " >>> Negative 2\n",
      " >>> Negative 2\n",
      " >>> Negative 2\n",
      " >>> Negative 2\n",
      " >>> Negative 2\n",
      " >>> Negative 2\n",
      " >>> Negative 2\n",
      " >>> Negative 2\n",
      " >>> Negative 2\n",
      " >>> Negative 2\n",
      " >>> Negative 2\n",
      " >>> Negative 2\n",
      " >>> Negative 2\n",
      " >>> Negative 2\n",
      " >>> Negative 2\n",
      " >>> Negative 2\n",
      " >>> Negative 2\n",
      " >>> Negative 2\n",
      " >>> Negative 2\n",
      " >>> Negative 2\n",
      " >>> Negative 2\n",
      " >>> Negative 2\n"
     ]
    },
    {
     "name": "stderr",
     "output_type": "stream",
     "text": [
      "100%|██████████| 201/201 [00:01<00:00, 127.07it/s]\n"
     ]
    },
    {
     "name": "stdout",
     "output_type": "stream",
     "text": [
      " >>> Negative 2\n",
      " >>> Negative 2\n",
      " >>> Negative 2\n",
      " >>> Negative 2\n",
      " >>> Negative 2\n",
      " >>> Negative 2\n",
      " >>> Negative 2\n",
      " >>> Negative 2\n",
      " >>> Negative 2\n",
      " >>> Negative 2\n",
      " >>> Negative 2\n",
      " >>> Negative 2\n",
      " >>> Negative 2\n",
      " >>> Negative 2\n",
      " >>> Negative 2\n",
      " >>> Negative 2\n",
      " >>> Negative 2\n",
      " >>> Negative 2\n",
      " >>> Negative 2\n",
      " >>> Negative 2\n",
      " >>> Negative 2\n"
     ]
    },
    {
     "name": "stderr",
     "output_type": "stream",
     "text": [
      "100%|██████████| 71/71 [00:00<00:00, 165.75it/s]\n"
     ]
    },
    {
     "name": "stdout",
     "output_type": "stream",
     "text": [
      ">>>>>>>>>>>>>>>>>>>>>>>>>>>>>>>>>>>>>>>>>>>>>>>>>>\n",
      "surface 200 201\n",
      " >>> Positive\n"
     ]
    },
    {
     "name": "stderr",
     "output_type": "stream",
     "text": [
      "100%|██████████| 200/200 [00:01<00:00, 133.08it/s]\n"
     ]
    },
    {
     "name": "stdout",
     "output_type": "stream",
     "text": [
      " >>> Negative\n"
     ]
    },
    {
     "name": "stderr",
     "output_type": "stream",
     "text": [
      "  8%|▊         | 17/201 [00:00<00:01, 165.06it/s]"
     ]
    },
    {
     "name": "stdout",
     "output_type": "stream",
     "text": [
      " >>> Negative 2\n",
      " >>> Negative 2\n",
      " >>> Negative 2\n",
      " >>> Negative 2\n",
      " >>> Negative 2\n",
      " >>> Negative 2\n",
      " >>> Negative 2\n",
      " >>> Negative 2\n",
      " >>> Negative 2\n",
      " >>> Negative 2\n",
      " >>> Negative 2\n",
      " >>> Negative 2\n",
      " >>> Negative 2\n",
      " >>> Negative 2\n",
      " >>> Negative 2\n",
      " >>> Negative 2\n",
      " >>> Negative 2\n",
      " >>> Negative 2\n",
      " >>> Negative 2\n",
      " >>> Negative 2\n",
      " >>> Negative 2\n",
      " >>> Negative 2\n",
      " >>> Negative 2\n",
      " >>> Negative 2\n",
      " >>> Negative 2\n"
     ]
    },
    {
     "name": "stderr",
     "output_type": "stream",
     "text": [
      " 17%|█▋        | 34/201 [00:00<00:01, 110.66it/s]"
     ]
    },
    {
     "name": "stdout",
     "output_type": "stream",
     "text": [
      " >>> Negative 2\n",
      " >>> Negative 2\n",
      " >>> Negative 2\n",
      " >>> Negative 2\n",
      " >>> Negative 2\n",
      " >>> Negative 2\n",
      " >>> Negative 2\n",
      " >>> Negative 2\n",
      " >>> Negative 2\n",
      " >>> Negative 2\n",
      " >>> Negative 2\n",
      " >>> Negative 2\n",
      " >>> Negative 2\n",
      " >>> Negative 2\n",
      " >>> Negative 2\n",
      " >>> Negative 2\n",
      " >>> Negative 2\n",
      " >>> Negative 2\n",
      " >>> Negative 2\n",
      " >>> Negative 2\n",
      " >>> Negative 2\n"
     ]
    },
    {
     "name": "stderr",
     "output_type": "stream",
     "text": [
      " 23%|██▎       | 47/201 [00:00<00:01, 109.34it/s]"
     ]
    },
    {
     "name": "stdout",
     "output_type": "stream",
     "text": [
      " >>> Negative 2\n",
      " >>> Negative 2\n",
      " >>> Negative 2\n",
      " >>> Negative 2\n",
      " >>> Negative 2\n",
      " >>> Negative 2\n"
     ]
    },
    {
     "name": "stderr",
     "output_type": "stream",
     "text": [
      " 37%|███▋      | 75/201 [00:00<00:01, 92.94it/s] "
     ]
    },
    {
     "name": "stdout",
     "output_type": "stream",
     "text": [
      " >>> Negative 2\n",
      " >>> Negative 2\n",
      " >>> Negative 2\n",
      " >>> Negative 2\n",
      " >>> Negative 2\n",
      " >>> Negative 2\n",
      " >>> Negative 2\n",
      " >>> Negative 2\n",
      " >>> Negative 2\n",
      " >>> Negative 2\n",
      " >>> Negative 2\n",
      " >>> Negative 2\n",
      " >>> Negative 2\n",
      " >>> Negative 2\n",
      " >>> Negative 2\n",
      " >>> Negative 2\n",
      " >>> Negative 2\n",
      " >>> Negative 2\n",
      " >>> Negative 2\n",
      " >>> Negative 2\n",
      " >>> Negative 2\n",
      " >>> Negative 2\n",
      " >>> Negative 2\n",
      " >>> Negative 2\n",
      " >>> Negative 2\n",
      " >>> Negative 2\n",
      " >>> Negative 2\n",
      " >>> Negative 2\n",
      " >>> Negative 2\n",
      " >>> Negative 2\n",
      " >>> Negative 2\n"
     ]
    },
    {
     "name": "stderr",
     "output_type": "stream",
     "text": [
      " 58%|█████▊    | 116/201 [00:00<00:00, 141.06it/s]"
     ]
    },
    {
     "name": "stdout",
     "output_type": "stream",
     "text": [
      " >>> Negative 2\n",
      " >>> Negative 2\n",
      " >>> Negative 2\n",
      " >>> Negative 2\n",
      " >>> Negative 2\n",
      " >>> Negative 2\n",
      " >>> Negative 2\n",
      " >>> Negative 2\n",
      " >>> Negative 2\n",
      " >>> Negative 2\n",
      " >>> Negative 2\n",
      " >>> Negative 2\n",
      " >>> Negative 2\n",
      " >>> Negative 2\n",
      " >>> Negative 2\n",
      " >>> Negative 2\n",
      " >>> Negative 2\n",
      " >>> Negative 2\n",
      " >>> Negative 2\n",
      " >>> Negative 2\n",
      " >>> Negative 2\n",
      " >>> Negative 2\n",
      " >>> Negative 2\n",
      " >>> Negative 2\n",
      " >>> Negative 2\n",
      " >>> Negative 2\n",
      " >>> Negative 2\n",
      " >>> Negative 2\n",
      " >>> Negative 2\n",
      " >>> Negative 2\n",
      " >>> Negative 2\n",
      " >>> Negative 2\n",
      " >>> Negative 2\n",
      " >>> Negative 2\n",
      " >>> Negative 2\n",
      " >>> Negative 2\n",
      " >>> Negative 2\n"
     ]
    },
    {
     "name": "stderr",
     "output_type": "stream",
     "text": [
      " 66%|██████▌   | 133/201 [00:01<00:00, 113.11it/s]"
     ]
    },
    {
     "name": "stdout",
     "output_type": "stream",
     "text": [
      " >>> Negative 2\n",
      " >>> Negative 2\n",
      " >>> Negative 2\n",
      " >>> Negative 2\n",
      " >>> Negative 2\n",
      " >>> Negative 2\n",
      " >>> Negative 2\n",
      " >>> Negative 2\n",
      " >>> Negative 2\n",
      " >>> Negative 2\n",
      " >>> Negative 2\n",
      " >>> Negative 2\n",
      " >>> Negative 2\n",
      " >>> Negative 2\n",
      " >>> Negative 2\n",
      " >>> Negative 2\n",
      " >>> Negative 2\n",
      " >>> Negative 2\n"
     ]
    },
    {
     "name": "stderr",
     "output_type": "stream",
     "text": [
      " 85%|████████▌ | 171/201 [00:01<00:00, 143.92it/s]"
     ]
    },
    {
     "name": "stdout",
     "output_type": "stream",
     "text": [
      " >>> Negative 2\n",
      " >>> Negative 2\n",
      " >>> Negative 2\n",
      " >>> Negative 2\n",
      " >>> Negative 2\n",
      " >>> Negative 2\n",
      " >>> Negative 2\n",
      " >>> Negative 2\n",
      " >>> Negative 2\n",
      " >>> Negative 2\n",
      " >>> Negative 2\n",
      " >>> Negative 2\n",
      " >>> Negative 2\n",
      " >>> Negative 2\n",
      " >>> Negative 2\n",
      " >>> Negative 2\n",
      " >>> Negative 2\n",
      " >>> Negative 2\n",
      " >>> Negative 2\n",
      " >>> Negative 2\n",
      " >>> Negative 2\n",
      " >>> Negative 2\n",
      " >>> Negative 2\n",
      " >>> Negative 2\n",
      " >>> Negative 2\n",
      " >>> Negative 2\n",
      " >>> Negative 2\n",
      " >>> Negative 2\n",
      " >>> Negative 2\n",
      " >>> Negative 2\n",
      " >>> Negative 2\n",
      " >>> Negative 2\n",
      " >>> Negative 2\n",
      " >>> Negative 2\n",
      " >>> Negative 2\n",
      " >>> Negative 2\n",
      " >>> Negative 2\n"
     ]
    },
    {
     "name": "stderr",
     "output_type": "stream",
     "text": [
      "100%|██████████| 201/201 [00:01<00:00, 124.88it/s]\n"
     ]
    },
    {
     "name": "stdout",
     "output_type": "stream",
     "text": [
      " >>> Negative 2\n",
      " >>> Negative 2\n",
      " >>> Negative 2\n",
      " >>> Negative 2\n",
      " >>> Negative 2\n",
      " >>> Negative 2\n",
      " >>> Negative 2\n",
      " >>> Negative 2\n",
      " >>> Negative 2\n",
      " >>> Negative 2\n",
      " >>> Negative 2\n",
      " >>> Negative 2\n",
      " >>> Negative 2\n",
      " >>> Negative 2\n",
      " >>> Negative 2\n",
      " >>> Negative 2\n",
      " >>> Negative 2\n",
      " >>> Negative 2\n",
      " >>> Negative 2\n",
      " >>> Negative 2\n",
      " >>> Negative 2\n",
      " >>> Negative 2\n",
      " >>> Negative 2\n",
      " >>> Negative 2\n",
      " >>> Negative 2\n",
      " >>> Negative 2\n"
     ]
    },
    {
     "name": "stderr",
     "output_type": "stream",
     "text": [
      "100%|██████████| 199/199 [00:01<00:00, 141.46it/s]\n"
     ]
    }
   ],
   "source": [
    "from tqdm import tqdm\n",
    "for defecto in clases:\n",
    "    print(\">>>>>>>>>>>>>>>>>>>>>>>>>>>>>>>>>>>>>>>>>>>>>>>>>>\")\n",
    "    print(defecto,len(seleccion_positivos[defecto]),len(seleccion_negativos[defecto]))\n",
    "    lista_positivos=seleccion_positivos[defecto]\n",
    "    lista_negativos=seleccion_negativos[defecto]\n",
    "    lista_negativos2=seleccion_negativos2[defecto]\n",
    "    \n",
    "    # Crear un directorio para cada defecto\n",
    "    \n",
    "    positive_dir=out_dir+\"/positive/\"+defecto\n",
    "    negative_dir=out_dir+\"/negative/\"+defecto\n",
    "    negative2_dir=out_dir+\"/negative2/\"+defecto\n",
    "    Path(positive_dir).mkdir(parents=True, exist_ok=True)\n",
    "    Path(negative_dir).mkdir(parents=True, exist_ok=True)\n",
    "    Path(negative2_dir).mkdir(parents=True, exist_ok=True)\n",
    "    print(\" >>> Positive\")\n",
    "    for vista in tqdm(lista_positivos):\n",
    "        json_file,view_number,score,score_fruto,truth_fruto=vista\n",
    "        npzfilename=json_file.replace(\".json\",\".npz\")\n",
    "        npzfilename=os.path.join(\"..\",npzfilename)\n",
    "        json_file=os.path.join(\"..\",json_file)\n",
    "        if os.path.exists(json_file)==False or os.path.exists(npzfilename)==False:\n",
    "            print(\" does not exist: \",json_file)\n",
    "            continue\n",
    "        imagenes=pycimg.npzread_torch(npzfilename,json_file,channel_list=['R','G','B'])\n",
    "        imagen=imagenes[view_number].numpy()\n",
    "        imagen=imagen.transpose((1,2,0))\n",
    "        imagen=(255*imagen).astype(np.uint8)\n",
    "        imagen_bgr=imagen[:,:,::-1]\n",
    "        imagen_bgr=cv2.resize(imagen_bgr,(224,224))\n",
    "        #print(f'Vista positiva: {json_file} {view_number} {imagen.shape} {imagen.dtype} {imagen.min()} {imagen.max()}')\n",
    "        \n",
    "        basename=os.path.basename(json_file)\n",
    "        basename=basename.replace(\".json\",\"\")\n",
    "        score_int=int(score*1000)\n",
    "        basename=f'{basename}_{view_number:02d}_{score_int:02d}.jpg'\n",
    "        #print(f'Vista positiva: {basename} {view_number} {imagen.shape} {imagen.dtype} {imagen.min()} {imagen.max()}')\n",
    "        outname=os.path.join(positive_dir,basename)\n",
    "        cv2.imwrite(outname,imagen_bgr)\n",
    "    print(\" >>> Negative\")        \n",
    "    for vista in tqdm(lista_negativos):\n",
    "        json_file,view_number,score,score_fruto,truth_fruto=vista\n",
    "        npzfilename=json_file.replace(\".json\",\".npz\")\n",
    "        npzfilename=os.path.join(\"..\",npzfilename)\n",
    "        json_file=os.path.join(\"..\",json_file)    \n",
    "        if os.path.exists(json_file)==False or os.path.exists(npzfilename)==False:\n",
    "            print(\" does not exist: \",json_file)\n",
    "            continue\n",
    "        imagenes=pycimg.npzread_torch(npzfilename,json_file,channel_list=['R','G','B'])\n",
    "        imagen=imagenes[view_number].numpy()\n",
    "        imagen=imagen.transpose((1,2,0))\n",
    "        imagen=(255*imagen).astype(np.uint8)\n",
    "        imagen_bgr=imagen[:,:,::-1]\n",
    "        imagen_bgr=cv2.resize(imagen_bgr,(224,224))\n",
    "        #print(f'Vista positiva: {json_file} {view_number} {imagen.shape} {imagen.dtype} {imagen.min()} {imagen.max()}')\n",
    "        \n",
    "        basename=os.path.basename(json_file)\n",
    "        basename=basename.replace(\".json\",\"\")\n",
    "        score_int=int(score*1000)        \n",
    "        basename=f'{basename}_{view_number:02d}_{score_int:02d}.jpg'\n",
    "        #print(f'Vista positiva: {basename} {view_number} {imagen.shape} {imagen.dtype} {imagen.min()} {imagen.max()}')\n",
    "        outname=os.path.join(negative_dir,basename)\n",
    "        #print(outname)\n",
    "        cv2.imwrite(outname,imagen_bgr)\n",
    "        \n",
    "        print(\" >>> Negative 2\")     \n",
    "    for vista in tqdm(lista_negativos2):\n",
    "        json_file,view_number,score,score_fruto,truth_fruto=vista\n",
    "        npzfilename=json_file.replace(\".json\",\".npz\")\n",
    "        npzfilename=os.path.join(\"..\",npzfilename)\n",
    "        json_file=os.path.join(\"..\",json_file)    \n",
    "        if os.path.exists(json_file)==False or os.path.exists(npzfilename)==False:\n",
    "            print(\" does not exist: \",json_file)\n",
    "            continue\n",
    "        imagenes=pycimg.npzread_torch(npzfilename,json_file,channel_list=['R','G','B'])\n",
    "        imagen=imagenes[view_number].numpy()\n",
    "        imagen=imagen.transpose((1,2,0))\n",
    "        imagen=(255*imagen).astype(np.uint8)\n",
    "        imagen_bgr=imagen[:,:,::-1]\n",
    "        imagen_bgr=cv2.resize(imagen_bgr,(224,224))\n",
    "        #print(f'Vista positiva: {json_file} {view_number} {imagen.shape} {imagen.dtype} {imagen.min()} {imagen.max()}')\n",
    "        \n",
    "        basename=os.path.basename(json_file)\n",
    "        basename=basename.replace(\".json\",\"\")\n",
    "        score_int=int(score*1000)        \n",
    "        basename=f'{basename}_{view_number:02d}_{score_int:02d}.jpg'\n",
    "        #print(f'Vista positiva: {basename} {view_number} {imagen.shape} {imagen.dtype} {imagen.min()} {imagen.max()}')\n",
    "        outname=os.path.join(negative2_dir,basename)\n",
    "        #print(outname)\n",
    "        cv2.imwrite(outname,imagen_bgr)        "
   ]
  },
  {
   "cell_type": "code",
   "execution_count": null,
   "metadata": {},
   "outputs": [],
   "source": []
  }
 ],
 "metadata": {
  "kernelspec": {
   "display_name": "mscandvc",
   "language": "python",
   "name": "python3"
  },
  "language_info": {
   "codemirror_mode": {
    "name": "ipython",
    "version": 3
   },
   "file_extension": ".py",
   "mimetype": "text/x-python",
   "name": "python",
   "nbconvert_exporter": "python",
   "pygments_lexer": "ipython3",
   "version": "3.12.0"
  }
 },
 "nbformat": 4,
 "nbformat_minor": 2
}

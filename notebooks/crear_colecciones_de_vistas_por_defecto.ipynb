{
 "cells": [
  {
   "cell_type": "code",
   "execution_count": 1,
   "metadata": {},
   "outputs": [],
   "source": [
    "# Autoreload\n",
    "%load_ext autoreload\n",
    "%autoreload 2\n",
    "from glob import glob\n",
    "import json\n",
    "import sys\n",
    "import os\n",
    "import numpy as np\n",
    "np.printoptions(decimals=1)\n",
    "sys.path.append(\"../../src_clasificacion_vistas/common\")\n",
    "\n",
    "import pycimg\n",
    "\n",
    "from pathlib import Path\n",
    "\n",
    "import cv2"
   ]
  },
  {
   "cell_type": "code",
   "execution_count": 2,
   "metadata": {},
   "outputs": [
    {
     "name": "stdout",
     "output_type": "stream",
     "text": [
      "Found 1669 json files\n"
     ]
    }
   ],
   "source": [
    "base='../data'\n",
    "# Find all the json files recursively\n",
    "json_files = glob(base + '/**/*.json', recursive=True)\n",
    "\n",
    "print(f'Found {len(json_files)} json files')\n",
    "\n",
    "out_dir=\"/home/aalbiol/Desktop/orange_views\"\n",
    "\n",
    "Path(out_dir).mkdir(parents=True, exist_ok=True)"
   ]
  },
  {
   "cell_type": "code",
   "execution_count": 3,
   "metadata": {},
   "outputs": [],
   "source": [
    "def getViewId(id):\n",
    "    partes=id.split(\"_\")\n",
    "    return int(partes[1])"
   ]
  },
  {
   "cell_type": "code",
   "execution_count": 4,
   "metadata": {},
   "outputs": [],
   "source": [
    "defectos=[\"cracks\",\n",
    "  \"damage_by_pliers\",\n",
    "  \"deformed_peduncle\",\n",
    "  \"green\",\n",
    "  \"hollow\",\n",
    "  \"light_scars\",\n",
    "   \"oil_spots\",\n",
    "  \"plu_stickers\",\n",
    "  \"reddish\",\n",
    "  \"rotten\",\n",
    "  \"scars\",\n",
    "  \"skin_breakdown\",\n",
    "  \"surface\",\n",
    "]\n",
    "\n",
    "defectos=[\"insect\",\n",
    "        \"mechanical_damage\"]"
   ]
  },
  {
   "cell_type": "code",
   "execution_count": 7,
   "metadata": {},
   "outputs": [],
   "source": [
    "np.set_printoptions(precision=1)\n",
    "json_files = glob(base + '/**/*.json', recursive=True)\n",
    "\n",
    "\n",
    "\n",
    "listas_positivos={} # Casos po\n",
    "listas_negativos={}\n",
    "for defecto in defectos:\n",
    "    listas_positivos[defecto]=[]\n",
    "    listas_negativos[defecto]=[]\n",
    "    \n",
    "for json_file in json_files:\n",
    "\n",
    "    with open(json_file, 'r') as f:\n",
    "        data = json.load(f)\n",
    "        if \"views_annotations\" not in data: # Ignoro los pocos que no tienen vistas\n",
    "            continue\n",
    "            \n",
    "        anotaciones_vistas=data[\"views_annotations\"]\n",
    "        #print(anotaciones_vistas)\n",
    "        anots_array=[]\n",
    "        for nombre_vista,anotaciones_vista in anotaciones_vistas.items():\n",
    "            view_number=getViewId(nombre_vista)\n",
    "            for defecto,valor in anotaciones_vista.items():\n",
    "                if defecto not in defectos:\n",
    "                    continue\n",
    "                label=int(valor)\n",
    "                if label==1:\n",
    "                    listas_positivos[defecto].append((json_file,view_number))\n",
    "                else:\n",
    "                    listas_negativos[defecto].append((json_file,view_number))\n",
    "\n"
   ]
  },
  {
   "cell_type": "code",
   "execution_count": 8,
   "metadata": {},
   "outputs": [
    {
     "name": "stdout",
     "output_type": "stream",
     "text": [
      "insect: 126 positivos\n",
      "mechanical_damage: 226 positivos\n",
      ">>>>>>>>>>>>>>>>>>>>>>>>>>>>>>>>>>>>>>>>>>>>>>>>>\n",
      "insect: 15857 negativos\n",
      "mechanical_damage: 15757 negativos\n"
     ]
    }
   ],
   "source": [
    "for defecto,lista in listas_positivos.items():\n",
    "    print(f'{defecto}: {len(lista)} positivos')\n",
    "\n",
    "print(\">>>>>>>>>>>>>>>>>>>>>>>>>>>>>>>>>>>>>>>>>>>>>>>>>\")    \n",
    "for defecto,lista in listas_negativos.items():\n",
    "    print(f'{defecto}: {len(lista)} negativos')\n",
    "    "
   ]
  },
  {
   "cell_type": "code",
   "execution_count": null,
   "metadata": {},
   "outputs": [
    {
     "name": "stdout",
     "output_type": "stream",
     "text": [
      "insect: 126 positivos\n",
      "mechanical_damage: 226 positivos\n"
     ]
    }
   ],
   "source": [
    "for defecto,lista in listas_positivos.items():\n",
    "    print(f'{defecto}: {len(lista)} positivos')\n",
    "\n"
   ]
  },
  {
   "cell_type": "code",
   "execution_count": 10,
   "metadata": {},
   "outputs": [
    {
     "name": "stdout",
     "output_type": "stream",
     "text": [
      ">>>>>>>>>>>>>>>>>>>>>>>>>>>>>>>>>>>>>>>>>>>>>>>>>>\n",
      "insect 126\n",
      " >>> Positive\n"
     ]
    },
    {
     "name": "stderr",
     "output_type": "stream",
     "text": [
      "  0%|          | 0/126 [00:00<?, ?it/s]"
     ]
    },
    {
     "name": "stderr",
     "output_type": "stream",
     "text": [
      "100%|██████████| 126/126 [00:01<00:00, 76.18it/s]\n"
     ]
    },
    {
     "name": "stdout",
     "output_type": "stream",
     "text": [
      ">>>>>>>>>>>>>>>>>>>>>>>>>>>>>>>>>>>>>>>>>>>>>>>>>>\n",
      "mechanical_damage 226\n",
      " >>> Positive\n"
     ]
    },
    {
     "name": "stderr",
     "output_type": "stream",
     "text": [
      "100%|██████████| 226/226 [00:05<00:00, 40.05it/s]\n"
     ]
    }
   ],
   "source": [
    "from tqdm import tqdm\n",
    "for defecto in defectos:\n",
    "    print(\">>>>>>>>>>>>>>>>>>>>>>>>>>>>>>>>>>>>>>>>>>>>>>>>>>\")\n",
    "    print(defecto,len(listas_positivos[defecto]))\n",
    "    lista_positivos=listas_positivos[defecto]\n",
    "    #lista_negativos=listas_negativos_seleccionados[defecto]\n",
    "    \n",
    "    # Crear un directorio para cada defecto\n",
    "    \n",
    "    positive_dir=out_dir+\"/positive/\"+defecto\n",
    "    #negative_dir=out_dir+\"/negative/\"+defecto\n",
    "    Path(positive_dir).mkdir(parents=True, exist_ok=True)\n",
    "    #Path(negative_dir).mkdir(parents=True, exist_ok=True)\n",
    "    print(\" >>> Positive\")\n",
    "    for vista in tqdm(lista_positivos):\n",
    "        json_file,view_number=vista\n",
    "        npzfilename=json_file.replace(\".json\",\".npz\")\n",
    "        imagenes=pycimg.npzread_torch(npzfilename,json_file,channel_list=['R','G','B'])\n",
    "        imagen=imagenes[view_number].numpy()\n",
    "        imagen=imagen.transpose((1,2,0))\n",
    "        imagen=(255*imagen).astype(np.uint8)\n",
    "        imagen_bgr=imagen[:,:,::-1]\n",
    "        imagen_bgr=cv2.resize(imagen_bgr,(224,224))\n",
    "        #print(f'Vista positiva: {json_file} {view_number} {imagen.shape} {imagen.dtype} {imagen.min()} {imagen.max()}')\n",
    "        \n",
    "        basename=os.path.basename(json_file)\n",
    "        basename=basename.replace(\".json\",\"\")\n",
    "        basename=f'{basename}_{view_number:02d}.jpg'\n",
    "        #print(f'Vista positiva: {basename} {view_number} {imagen.shape} {imagen.dtype} {imagen.min()} {imagen.max()}')\n",
    "        outname=os.path.join(positive_dir,basename)\n",
    "        cv2.imwrite(outname,imagen_bgr)\n",
    " \n",
    "        \n",
    "\n",
    "\n",
    "    "
   ]
  },
  {
   "cell_type": "code",
   "execution_count": null,
   "metadata": {},
   "outputs": [],
   "source": []
  }
 ],
 "metadata": {
  "kernelspec": {
   "display_name": "mscandvc",
   "language": "python",
   "name": "python3"
  },
  "language_info": {
   "codemirror_mode": {
    "name": "ipython",
    "version": 3
   },
   "file_extension": ".py",
   "mimetype": "text/x-python",
   "name": "python",
   "nbconvert_exporter": "python",
   "pygments_lexer": "ipython3",
   "version": "3.12.0"
  }
 },
 "nbformat": 4,
 "nbformat_minor": 2
}

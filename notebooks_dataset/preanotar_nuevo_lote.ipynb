{
 "cells": [
  {
   "cell_type": "code",
   "execution_count": 1,
   "metadata": {
    "execution": {
     "iopub.execute_input": "2024-12-12T09:13:48.833953Z",
     "iopub.status.busy": "2024-12-12T09:13:48.833356Z",
     "iopub.status.idle": "2024-12-12T09:13:50.384027Z",
     "shell.execute_reply": "2024-12-12T09:13:50.383575Z"
    }
   },
   "outputs": [],
   "source": [
    "#autoreload\n",
    "%load_ext autoreload\n",
    "%autoreload 2\n",
    "\n",
    "import torch\n",
    "from torchmetrics import AUROC\n",
    "import matplotlib.pyplot as plt\n",
    "import numpy as np\n",
    "import pandas as pd\n",
    "import json\n",
    "import os\n",
    "\n",
    "import sys\n",
    "sys.path.append(\"../../src_clasificacion_vistas/common\")\n",
    "\n",
    "import pycimg\n",
    "\n",
    "from pathlib import Path\n",
    "import cv2\n",
    "from tqdm import tqdm\n",
    "import numpy as np\n",
    "import gc\n",
    "import shutil\n",
    "from matplotlib.backends.backend_pdf import PdfPages\n",
    "np.set_printoptions(precision=3, suppress=True)"
   ]
  },
  {
   "cell_type": "code",
   "execution_count": 2,
   "metadata": {
    "execution": {
     "iopub.execute_input": "2024-12-12T09:13:50.388456Z",
     "iopub.status.busy": "2024-12-12T09:13:50.388265Z",
     "iopub.status.idle": "2024-12-12T09:13:50.412172Z",
     "shell.execute_reply": "2024-12-12T09:13:50.411655Z"
    }
   },
   "outputs": [],
   "source": [
    "\n",
    "def guess_labels(data,clases,out_dir):\n",
    "    '''\n",
    "    Para crear JSONS empleando las predicciones como anotaciones\n",
    "    '''\n",
    "\n",
    "    fig, axes=plt.subplots(1,2,figsize=(10,5),gridspec_kw={'width_ratios': [1, 2]})\n",
    "    for d in tqdm(data):\n",
    "\n",
    "        filenamenpz=d['filename']\n",
    "        filenamejson=filenamenpz.replace(\".npz\",\".json\")\n",
    "        filenamepng=filenamenpz.replace(\".npz\",\".png\")\n",
    "        \n",
    "        scores=d['scores']\n",
    "\n",
    "        preds=[v for k,v in scores.items() if k in clases]\n",
    "        gts=[int(p>0.5) for p in preds] ## IMPPRTANTE: Las etiquetas son las predicciones\n",
    "        \n",
    "        defectoss=[k for k,v in scores.items() if k in clases]\n",
    "        \n",
    "\n",
    "        npzfilename=filenamejson.replace(\".json\",\".npz\")\n",
    "        npzfilename=os.path.join(\"..\",npzfilename)\n",
    "        filenamejson=os.path.join(\"..\",filenamejson)\n",
    "        print(f\"filenamejson: {filenamejson}\")\n",
    "        with open(filenamejson, 'r') as f:\n",
    "            json_data= json.load(f)\n",
    "\n",
    "                \n",
    "        bn=os.path.basename(filenamejson)\n",
    "        bn=bn.replace(\".json\",\"\")        \n",
    " \n",
    "        # Copy png npz and json to out_dir\n",
    "        \n",
    "        target_json=os.path.join(out_dir,f\"{os.path.basename(filenamejson)}\")\n",
    "        pngname=os.path.join(\"..\",filenamepng)\n",
    "\n",
    "        for k,clase in enumerate(clases):\n",
    "            json_data['annotations'][clase]=str(int(gts[k]))\n",
    "        with open(target_json, 'w') as f:\n",
    "            json.dump(json_data, f, indent=4)\n",
    "        axes[0].clear()\n",
    "        axes[1].clear()\n",
    "    plt.close(fig)\n"
   ]
  },
  {
   "cell_type": "code",
   "execution_count": 3,
   "metadata": {},
   "outputs": [],
   "source": [
    "## Leer los archivos\n",
    "test_results_json=\"../out_imagsSara/test_scores.json\"\n",
    "\n",
    "\n",
    "with open(test_results_json, \"r\") as f:\n",
    "    test_dict = json.load(f)    \n",
    "\n",
    "clases=list(test_dict['test_results'][0]['ground_truth'].keys())\n",
    "test_data = test_dict['test_results']\n",
    "\n",
    "\n",
    "\n"
   ]
  },
  {
   "cell_type": "code",
   "execution_count": 4,
   "metadata": {},
   "outputs": [
    {
     "name": "stdout",
     "output_type": "stream",
     "text": [
      "548\n"
     ]
    },
    {
     "name": "stderr",
     "output_type": "stream",
     "text": [
      "  1%|▏         | 8/548 [00:00<00:06, 78.61it/s]"
     ]
    },
    {
     "name": "stdout",
     "output_type": "stream",
     "text": [
      "filenamejson: ../data/imgsSara/20250422decay/20250508_1658_000149.json\n",
      "filenamejson: ../data/imgsSara/20250422decay/20250508_1657_000142.json\n",
      "filenamejson: ../data/imgsSara/20250422decay/20250508_1658_000150.json\n",
      "filenamejson: ../data/imgsSara/20250422decay/20250508_1658_002134.json\n",
      "filenamejson: ../data/imgsSara/20250422decay/20250508_1658_000152.json\n",
      "filenamejson: ../data/imgsSara/20250422decay/20250508_1658_000146.json\n",
      "filenamejson: ../data/imgsSara/20250422decay/20250508_1658_000145.json\n",
      "filenamejson: ../data/imgsSara/20250422decay/20250508_1658_000147.json\n",
      "filenamejson: ../data/imgsSara/20250422decay/20250508_1658_000151.json\n",
      "filenamejson: ../data/imgsSara/20250422decay/20250508_1659_000153.json\n",
      "filenamejson: ../data/imgsSara/20250422decay/20250508_1657_002133.json\n",
      "filenamejson: ../data/imgsSara/20250422decay/20250508_1657_000143.json\n",
      "filenamejson: ../data/imgsSara/20250422decay/20250508_1657_000144.json\n",
      "filenamejson: ../data/imgsSara/20250422decay/20250508_1658_000148.json\n",
      "filenamejson: ../data/imgsSara/20250422lightscars/20250508_1723_000204.json\n"
     ]
    },
    {
     "name": "stderr",
     "output_type": "stream",
     "text": [
      "  5%|▍         | 27/548 [00:00<00:06, 83.75it/s]"
     ]
    },
    {
     "name": "stdout",
     "output_type": "stream",
     "text": [
      "filenamejson: ../data/imgsSara/20250422lightscars/20250508_1722_002160.json\n",
      "filenamejson: ../data/imgsSara/20250422lightscars/20250508_1722_002156.json\n",
      "filenamejson: ../data/imgsSara/20250422lightscars/20250508_1721_002149.json\n",
      "filenamejson: ../data/imgsSara/20250422lightscars/20250508_1722_000199.json\n",
      "filenamejson: ../data/imgsSara/20250422lightscars/20250508_1722_000195.json\n",
      "filenamejson: ../data/imgsSara/20250422lightscars/20250508_1722_002155.json\n",
      "filenamejson: ../data/imgsSara/20250422lightscars/20250508_1722_000202.json\n",
      "filenamejson: ../data/imgsSara/20250422lightscars/20250508_1722_000191.json\n",
      "filenamejson: ../data/imgsSara/20250422lightscars/20250508_1722_002154.json\n",
      "filenamejson: ../data/imgsSara/20250422lightscars/20250508_1723_002162.json\n",
      "filenamejson: ../data/imgsSara/20250422lightscars/20250508_1721_000189.json\n",
      "filenamejson: ../data/imgsSara/20250422lightscars/20250508_1721_002150.json\n",
      "filenamejson: ../data/imgsSara/20250422lightscars/20250508_1723_000207.json\n",
      "filenamejson: ../data/imgsSara/20250422lightscars/20250508_1722_000196.json\n",
      "filenamejson: ../data/imgsSara/20250422lightscars/20250508_1721_002147.json\n",
      "filenamejson: ../data/imgsSara/20250422lightscars/20250508_1721_002148.json\n",
      "filenamejson: ../data/imgsSara/20250422lightscars/20250508_1721_002151.json\n",
      "filenamejson: ../data/imgsSara/20250422lightscars/20250508_1722_002157.json\n",
      "filenamejson: ../data/imgsSara/20250422lightscars/20250508_1722_002161.json\n",
      "filenamejson: ../data/imgsSara/20250422lightscars/20250508_1722_000198.json\n",
      "filenamejson: ../data/imgsSara/20250422lightscars/20250508_1721_000188.json\n"
     ]
    },
    {
     "name": "stderr",
     "output_type": "stream",
     "text": [
      "  7%|▋         | 39/548 [00:00<00:06, 74.65it/s]\n"
     ]
    },
    {
     "name": "stdout",
     "output_type": "stream",
     "text": [
      "filenamejson: ../data/imgsSara/20250422lightscars/20250508_1722_002159.json\n",
      "filenamejson: ../data/imgsSara/20250422lightscars/20250508_1722_000197.json\n",
      "filenamejson: ../data/imgsSara/20250422lightscars/20250508_1722_000203.json\n",
      "filenamejson: ../data/imgsSara/20250422lightscars/20250508_1722_000193.json\n"
     ]
    },
    {
     "ename": "FileNotFoundError",
     "evalue": "[Errno 2] No such file or directory: '../data/imgsSara/20250422lightscars/20250508_1722_000193.json'",
     "output_type": "error",
     "traceback": [
      "\u001b[0;31m---------------------------------------------------------------------------\u001b[0m",
      "\u001b[0;31mFileNotFoundError\u001b[0m                         Traceback (most recent call last)",
      "Cell \u001b[0;32mIn[4], line 4\u001b[0m\n\u001b[1;32m      2\u001b[0m out_dir\u001b[38;5;241m=\u001b[39m\u001b[38;5;124m\"\u001b[39m\u001b[38;5;124m/home/aalbiol/Desktop/imgs_Sara_guess\u001b[39m\u001b[38;5;124m\"\u001b[39m\n\u001b[1;32m      3\u001b[0m Path(out_dir)\u001b[38;5;241m.\u001b[39mmkdir(parents\u001b[38;5;241m=\u001b[39m\u001b[38;5;28;01mTrue\u001b[39;00m, exist_ok\u001b[38;5;241m=\u001b[39m\u001b[38;5;28;01mTrue\u001b[39;00m)\n\u001b[0;32m----> 4\u001b[0m \u001b[43mguess_labels\u001b[49m\u001b[43m(\u001b[49m\u001b[43mtest_data\u001b[49m\u001b[43m,\u001b[49m\u001b[43mclases\u001b[49m\u001b[43m,\u001b[49m\u001b[43mout_dir\u001b[49m\u001b[43m)\u001b[49m\n",
      "Cell \u001b[0;32mIn[2], line 25\u001b[0m, in \u001b[0;36mguess_labels\u001b[0;34m(data, clases, out_dir)\u001b[0m\n\u001b[1;32m     23\u001b[0m filenamejson\u001b[38;5;241m=\u001b[39mos\u001b[38;5;241m.\u001b[39mpath\u001b[38;5;241m.\u001b[39mjoin(\u001b[38;5;124m\"\u001b[39m\u001b[38;5;124m..\u001b[39m\u001b[38;5;124m\"\u001b[39m,filenamejson)\n\u001b[1;32m     24\u001b[0m \u001b[38;5;28mprint\u001b[39m(\u001b[38;5;124mf\u001b[39m\u001b[38;5;124m\"\u001b[39m\u001b[38;5;124mfilenamejson: \u001b[39m\u001b[38;5;132;01m{\u001b[39;00mfilenamejson\u001b[38;5;132;01m}\u001b[39;00m\u001b[38;5;124m\"\u001b[39m)\n\u001b[0;32m---> 25\u001b[0m \u001b[38;5;28;01mwith\u001b[39;00m \u001b[38;5;28;43mopen\u001b[39;49m\u001b[43m(\u001b[49m\u001b[43mfilenamejson\u001b[49m\u001b[43m,\u001b[49m\u001b[43m \u001b[49m\u001b[38;5;124;43m'\u001b[39;49m\u001b[38;5;124;43mr\u001b[39;49m\u001b[38;5;124;43m'\u001b[39;49m\u001b[43m)\u001b[49m \u001b[38;5;28;01mas\u001b[39;00m f:\n\u001b[1;32m     26\u001b[0m     json_data\u001b[38;5;241m=\u001b[39m json\u001b[38;5;241m.\u001b[39mload(f)\n\u001b[1;32m     29\u001b[0m bn\u001b[38;5;241m=\u001b[39mos\u001b[38;5;241m.\u001b[39mpath\u001b[38;5;241m.\u001b[39mbasename(filenamejson)\n",
      "File \u001b[0;32m~/miniconda3/envs/mscandvc/lib/python3.12/site-packages/IPython/core/interactiveshell.py:324\u001b[0m, in \u001b[0;36m_modified_open\u001b[0;34m(file, *args, **kwargs)\u001b[0m\n\u001b[1;32m    317\u001b[0m \u001b[38;5;28;01mif\u001b[39;00m file \u001b[38;5;129;01min\u001b[39;00m {\u001b[38;5;241m0\u001b[39m, \u001b[38;5;241m1\u001b[39m, \u001b[38;5;241m2\u001b[39m}:\n\u001b[1;32m    318\u001b[0m     \u001b[38;5;28;01mraise\u001b[39;00m \u001b[38;5;167;01mValueError\u001b[39;00m(\n\u001b[1;32m    319\u001b[0m         \u001b[38;5;124mf\u001b[39m\u001b[38;5;124m\"\u001b[39m\u001b[38;5;124mIPython won\u001b[39m\u001b[38;5;124m'\u001b[39m\u001b[38;5;124mt let you open fd=\u001b[39m\u001b[38;5;132;01m{\u001b[39;00mfile\u001b[38;5;132;01m}\u001b[39;00m\u001b[38;5;124m by default \u001b[39m\u001b[38;5;124m\"\u001b[39m\n\u001b[1;32m    320\u001b[0m         \u001b[38;5;124m\"\u001b[39m\u001b[38;5;124mas it is likely to crash IPython. If you know what you are doing, \u001b[39m\u001b[38;5;124m\"\u001b[39m\n\u001b[1;32m    321\u001b[0m         \u001b[38;5;124m\"\u001b[39m\u001b[38;5;124myou can use builtins\u001b[39m\u001b[38;5;124m'\u001b[39m\u001b[38;5;124m open.\u001b[39m\u001b[38;5;124m\"\u001b[39m\n\u001b[1;32m    322\u001b[0m     )\n\u001b[0;32m--> 324\u001b[0m \u001b[38;5;28;01mreturn\u001b[39;00m \u001b[43mio_open\u001b[49m\u001b[43m(\u001b[49m\u001b[43mfile\u001b[49m\u001b[43m,\u001b[49m\u001b[43m \u001b[49m\u001b[38;5;241;43m*\u001b[39;49m\u001b[43margs\u001b[49m\u001b[43m,\u001b[49m\u001b[43m \u001b[49m\u001b[38;5;241;43m*\u001b[39;49m\u001b[38;5;241;43m*\u001b[39;49m\u001b[43mkwargs\u001b[49m\u001b[43m)\u001b[49m\n",
      "\u001b[0;31mFileNotFoundError\u001b[0m: [Errno 2] No such file or directory: '../data/imgsSara/20250422lightscars/20250508_1722_000193.json'"
     ]
    },
    {
     "data": {
      "image/png": "[encoded data removed]",
      "text/plain": [
       "<Figure size 1000x500 with 2 Axes>"
      ]
     },
     "metadata": {},
     "output_type": "display_data"
    }
   ],
   "source": [
    "print(len(test_data))\n",
    "out_dir=\"/home/aalbiol/Desktop/imgs_Sara_guess\"\n",
    "Path(out_dir).mkdir(parents=True, exist_ok=True)\n",
    "guess_labels(test_data,clases,out_dir)"
   ]
  },
  {
   "cell_type": "code",
   "execution_count": null,
   "metadata": {},
   "outputs": [],
   "source": []
  }
 ],
 "metadata": {
  "kernelspec": {
   "display_name": "mscandvc",
   "language": "python",
   "name": "python3"
  },
  "language_info": {
   "codemirror_mode": {
    "name": "ipython",
    "version": 3
   },
   "file_extension": ".py",
   "mimetype": "text/x-python",
   "name": "python",
   "nbconvert_exporter": "python",
   "pygments_lexer": "ipython3",
   "version": "3.12.0"
  }
 },
 "nbformat": 4,
 "nbformat_minor": 2
}

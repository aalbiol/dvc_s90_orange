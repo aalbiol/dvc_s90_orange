{
 "cells": [
  {
   "cell_type": "code",
   "execution_count": 2,
   "metadata": {
    "execution": {
     "iopub.execute_input": "2024-12-12T09:13:48.833953Z",
     "iopub.status.busy": "2024-12-12T09:13:48.833356Z",
     "iopub.status.idle": "2024-12-12T09:13:50.384027Z",
     "shell.execute_reply": "2024-12-12T09:13:50.383575Z"
    }
   },
   "outputs": [],
   "source": [
    "import torch\n",
    "from torchmetrics import AUROC\n",
    "import matplotlib.pyplot as plt\n",
    "import numpy as np\n",
    "import pandas as pd\n",
    "import json\n",
    "import os"
   ]
  },
  {
   "cell_type": "code",
   "execution_count": 4,
   "metadata": {
    "execution": {
     "iopub.execute_input": "2024-12-12T09:13:50.388456Z",
     "iopub.status.busy": "2024-12-12T09:13:50.388265Z",
     "iopub.status.idle": "2024-12-12T09:13:50.412172Z",
     "shell.execute_reply": "2024-12-12T09:13:50.411655Z"
    }
   },
   "outputs": [
    {
     "name": "stdout",
     "output_type": "stream",
     "text": [
      "1138\n",
      "326\n",
      "162\n"
     ]
    }
   ],
   "source": [
    "current_file_dir = os.getcwd()\n",
    "train_results_json=\"../out_evaluate_patch_repasoD/train_scores.json\"\n",
    "val_results_json=\"../out_evaluate_patch_repasoD/val_scores.json\"\n",
    "test_results_json=\"../out_evaluate_patch_repasoD/test_scores.json\"\n",
    "\n",
    "train_results_json=os.path.join(current_file_dir,train_results_json)    \n",
    "val_results_json=os.path.join(current_file_dir,val_results_json)    \n",
    "test_results_json=os.path.join(current_file_dir,test_results_json)    \n",
    "\n",
    "\n",
    "\n",
    "\n",
    "def create_tables(train_data,clases):\n",
    "    labels=[]\n",
    "    preds=[]\n",
    "    filenames=[]\n",
    "    for d in train_data:\n",
    "        truth=[]\n",
    "        pred=[]\n",
    "        gt=d['ground_truth']\n",
    "        scores=d['scores']\n",
    "        d['filename']\n",
    "        for defecto in clases:\n",
    "            truth.append(gt[defecto])\n",
    "            pred.append(scores[defecto])\n",
    "        labels.append(truth)\n",
    "        preds.append(pred)\n",
    "        filenames.append(d['filename'])\n",
    "            \n",
    "    labels=torch.tensor(labels)\n",
    "    preds=torch.tensor(preds)\n",
    "\n",
    "    return preds,labels,filenames\n",
    "\n",
    "\n",
    "with open(train_results_json, \"r\") as f:\n",
    "    train_dict = json.load(f)\n",
    "\n",
    "with open(val_results_json, \"r\") as f:\n",
    "    val_dict = json.load(f) \n",
    "\n",
    "with open(test_results_json, \"r\") as f:\n",
    "    test_dict = json.load(f)           \n",
    "\n",
    "train_data=train_dict['train_results']\n",
    "val_data = val_dict['val_results']\n",
    "test_data = test_dict['test_results']\n",
    "clases=list(train_dict['train_results'][0]['ground_truth'].keys())\n",
    "\n",
    "print(len(train_data))\n",
    "print(len(val_data))\n",
    "print(len(test_data))"
   ]
  },
  {
   "cell_type": "code",
   "execution_count": 6,
   "metadata": {
    "execution": {
     "iopub.execute_input": "2024-12-12T09:13:50.429913Z",
     "iopub.status.busy": "2024-12-12T09:13:50.429762Z",
     "iopub.status.idle": "2024-12-12T09:13:50.442593Z",
     "shell.execute_reply": "2024-12-12T09:13:50.442203Z"
    }
   },
   "outputs": [
    {
     "name": "stdout",
     "output_type": "stream",
     "text": [
      "1138\n",
      "326\n",
      "162\n"
     ]
    }
   ],
   "source": [
    "preds_train,labels_train,filenames_train=create_tables(train_data,clases)\n",
    "preds_val,labels_val,filenames_val=create_tables(val_data,clases)\n",
    "preds_test,labels_test,filenames_test=create_tables(test_data,clases)\n",
    "print(len(filenames_train))\n",
    "print(len(filenames_val))\n",
    "print(len(filenames_test))"
   ]
  },
  {
   "cell_type": "markdown",
   "metadata": {},
   "source": [
    "# Cantidad de muestras de con cada defecto"
   ]
  },
  {
   "cell_type": "code",
   "execution_count": 13,
   "metadata": {
    "execution": {
     "iopub.execute_input": "2024-12-12T09:13:50.443887Z",
     "iopub.status.busy": "2024-12-12T09:13:50.443748Z",
     "iopub.status.idle": "2024-12-12T09:13:50.447987Z",
     "shell.execute_reply": "2024-12-12T09:13:50.447585Z"
    }
   },
   "outputs": [
    {
     "name": "stdout",
     "output_type": "stream",
     "text": [
      "==========================================\n",
      "  ** TEST **\n",
      "==========================================\n",
      "cracks : 3\n",
      "damage_by_pliers : 0\n",
      "deformed_peduncle : 17\n",
      "green : 20\n",
      "hollow : 12\n",
      "insect : 2\n",
      "light_scars : 38\n",
      "mechanical_damage : 7\n",
      "oil_spots : 14\n",
      "plu_stickers : 10\n",
      "reddish : 7\n",
      "rotten : 18\n",
      "scars : 25\n",
      "skin_breakdown : 21\n",
      "surface : 39\n",
      "N sin defectos: 28\n",
      "N total: 162\n",
      "==========================================\n",
      "  ** VAL **\n",
      "==========================================\n",
      "cracks : 13\n",
      "damage_by_pliers : 15\n",
      "deformed_peduncle : 27\n",
      "green : 30\n",
      "hollow : 14\n",
      "insect : 5\n",
      "light_scars : 49\n",
      "mechanical_damage : 14\n",
      "oil_spots : 25\n",
      "plu_stickers : 20\n",
      "reddish : 10\n",
      "rotten : 26\n",
      "scars : 52\n",
      "skin_breakdown : 30\n",
      "surface : 78\n",
      "N sin defectos: 80\n",
      "N total: 326\n",
      "\n",
      "==========================================\n",
      "  ** TRAIN **\n",
      "==========================================\n",
      "cracks : 40\n",
      "damage_by_pliers : 64\n",
      "deformed_peduncle : 122\n",
      "green : 98\n",
      "hollow : 36\n",
      "insect : 13\n",
      "light_scars : 189\n",
      "mechanical_damage : 50\n",
      "oil_spots : 62\n",
      "plu_stickers : 77\n",
      "reddish : 33\n",
      "rotten : 101\n",
      "scars : 147\n",
      "skin_breakdown : 137\n",
      "surface : 234\n",
      "N sin defectos: 263\n",
      "N total: 1138\n"
     ]
    }
   ],
   "source": [
    "print(\"==========================================\")\n",
    "print(\"  ** TEST **\")\n",
    "print(\"==========================================\")\n",
    "\n",
    "n_por_defecto=labels_test.sum(dim=0)\n",
    "for k in range(len(clases)):\n",
    "    print(f'{clases[k]} : {int(n_por_defecto[k].item())}')\n",
    "\n",
    "k=labels_test.sum(dim=1)\n",
    "\n",
    "nbuenos=torch.sum(k==0)\n",
    "print(\"N sin defectos:\",nbuenos.item())\n",
    "print(\"N total:\",labels_test.shape[0])\n",
    "\n",
    "\n",
    "print(\"==========================================\")\n",
    "print(\"  ** VAL **\")\n",
    "print(\"==========================================\")\n",
    "\n",
    "n_por_defecto=labels_val.sum(dim=0)\n",
    "for k in range(len(clases)):\n",
    "    print(f'{clases[k]} : {int(n_por_defecto[k].item())}')\n",
    "\n",
    "k=labels_val.sum(dim=1)\n",
    "\n",
    "nbuenos=torch.sum(k==0)\n",
    "print(\"N sin defectos:\",nbuenos.item())\n",
    "print(\"N total:\",labels_val.shape[0])\n",
    "\n",
    "print(\"\\n==========================================\")\n",
    "print(\"  ** TRAIN **\")\n",
    "print(\"==========================================\")\n",
    "\n",
    "n_por_defecto=labels_train.sum(dim=0)\n",
    "for k in range(len(clases)):\n",
    "    print(f'{clases[k]} : {int(n_por_defecto[k].item())}')\n",
    "\n",
    "k=labels_train.sum(dim=1)\n",
    "\n",
    "nbuenos=torch.sum(k==0)\n",
    "print(\"N sin defectos:\",nbuenos.item())\n",
    "print(\"N total:\",labels_train.shape[0])"
   ]
  },
  {
   "cell_type": "markdown",
   "metadata": {},
   "source": [
    "# Análisis AUROC por categorías"
   ]
  },
  {
   "cell_type": "code",
   "execution_count": 10,
   "metadata": {
    "execution": {
     "iopub.execute_input": "2024-12-12T09:13:50.449349Z",
     "iopub.status.busy": "2024-12-12T09:13:50.449249Z",
     "iopub.status.idle": "2024-12-12T09:13:50.454883Z",
     "shell.execute_reply": "2024-12-12T09:13:50.454650Z"
    }
   },
   "outputs": [
    {
     "name": "stdout",
     "output_type": "stream",
     "text": [
      "AUC-val(cracks) : 0.974\n",
      "AUC-val(damage_by_pliers) : 0.960\n",
      "AUC-val(deformed_peduncle) : 0.995\n",
      "AUC-val(green) : 0.968\n",
      "AUC-val(hollow) : 0.954\n",
      "AUC-val(insect) : 0.985\n",
      "AUC-val(light_scars) : 0.964\n",
      "AUC-val(mechanical_damage) : 0.981\n",
      "AUC-val(oil_spots) : 0.892\n",
      "AUC-val(plu_stickers) : 1.000\n",
      "AUC-val(reddish) : 0.899\n",
      "AUC-val(rotten) : 0.976\n",
      "AUC-val(scars) : 0.959\n",
      "AUC-val(skin_breakdown) : 0.943\n",
      "AUC-val(surface) : 0.972\n"
     ]
    }
   ],
   "source": [
    "f_auroc=AUROC(task='multilabel',num_labels=len(clases),average='none')\n",
    "res=f_auroc(preds_val,labels_val.int())\n",
    "res=res.tolist()\n",
    "\n",
    "aucs={}\n",
    "for c,auc in zip(clases,res):\n",
    "    aucs[c]=auc\n",
    "    print(f'AUC-val({c}) : {auc:.3f}')\n"
   ]
  },
  {
   "cell_type": "code",
   "execution_count": 12,
   "metadata": {},
   "outputs": [
    {
     "name": "stdout",
     "output_type": "stream",
     "text": [
      "AUC-val**test(cracks) : 0.972  ** 0.978\n",
      "AUC-val**test(damage_by_pliers) : 0.972  ** 0.000\n",
      "AUC-val**test(deformed_peduncle) : 0.972  ** 1.000\n",
      "AUC-val**test(green) : 0.972  ** 0.985\n",
      "AUC-val**test(hollow) : 0.972  ** 0.919\n",
      "AUC-val**test(insect) : 0.972  ** 0.963\n",
      "AUC-val**test(light_scars) : 0.972  ** 0.921\n",
      "AUC-val**test(mechanical_damage) : 0.972  ** 0.901\n",
      "AUC-val**test(oil_spots) : 0.972  ** 0.917\n",
      "AUC-val**test(plu_stickers) : 0.972  ** 1.000\n",
      "AUC-val**test(reddish) : 0.972  ** 1.000\n",
      "AUC-val**test(rotten) : 0.972  ** 0.990\n",
      "AUC-val**test(scars) : 0.972  ** 0.942\n",
      "AUC-val**test(skin_breakdown) : 0.972  ** 0.932\n",
      "AUC-val**test(surface) : 0.972  ** 0.973\n"
     ]
    }
   ],
   "source": [
    "f_auroc=AUROC(task='multilabel',num_labels=len(clases),average='none')\n",
    "res_test=f_auroc(preds_test,labels_test.int())\n",
    "res_test=res_test.tolist()\n",
    "\n",
    "aucs={}\n",
    "for c,auc_val, auc_test in zip(clases,res,res_test):\n",
    "    aucs[c]=auc\n",
    "    print(f'AUC-val**test({c}) : {auc:.3f}  ** {auc_test:.3f}')\n"
   ]
  },
  {
   "cell_type": "code",
   "execution_count": null,
   "metadata": {},
   "outputs": [],
   "source": []
  }
 ],
 "metadata": {
  "kernelspec": {
   "display_name": "mscandvc",
   "language": "python",
   "name": "python3"
  },
  "language_info": {
   "codemirror_mode": {
    "name": "ipython",
    "version": 3
   },
   "file_extension": ".py",
   "mimetype": "text/x-python",
   "name": "python",
   "nbconvert_exporter": "python",
   "pygments_lexer": "ipython3",
   "version": "3.12.0"
  }
 },
 "nbformat": 4,
 "nbformat_minor": 2
}

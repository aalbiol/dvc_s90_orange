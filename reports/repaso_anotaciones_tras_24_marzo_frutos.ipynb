{
 "cells": [
  {
   "cell_type": "code",
   "execution_count": 1,
   "metadata": {
    "execution": {
     "iopub.execute_input": "2024-12-12T09:13:48.833953Z",
     "iopub.status.busy": "2024-12-12T09:13:48.833356Z",
     "iopub.status.idle": "2024-12-12T09:13:50.384027Z",
     "shell.execute_reply": "2024-12-12T09:13:50.383575Z"
    }
   },
   "outputs": [],
   "source": [
    "#autoreload\n",
    "%load_ext autoreload\n",
    "%autoreload 2\n",
    "\n",
    "import torch\n",
    "from torchmetrics import AUROC\n",
    "import matplotlib.pyplot as plt\n",
    "import numpy as np\n",
    "import pandas as pd\n",
    "import json\n",
    "import os\n",
    "\n",
    "import sys\n",
    "sys.path.append(\"../../src_clasificacion_vistas/common\")\n",
    "\n",
    "import pycimg"
   ]
  },
  {
   "cell_type": "code",
   "execution_count": null,
   "metadata": {
    "execution": {
     "iopub.execute_input": "2024-12-12T09:13:50.388456Z",
     "iopub.status.busy": "2024-12-12T09:13:50.388265Z",
     "iopub.status.idle": "2024-12-12T09:13:50.412172Z",
     "shell.execute_reply": "2024-12-12T09:13:50.411655Z"
    }
   },
   "outputs": [
    {
     "name": "stdout",
     "output_type": "stream",
     "text": [
      "1050\n",
      "277\n"
     ]
    }
   ],
   "source": [
    "current_file_dir = os.getcwd()\n",
    "train_results_json=\"../out_evaluate_patch_224_reanot2/train_scores.json\"\n",
    "val_results_json=\"../out_evaluate_patch_224_reanot2/val_scores.json\"\n",
    "train_results_json=os.path.join(current_file_dir,train_results_json)    \n",
    "val_results_json=os.path.join(current_file_dir,val_results_json)    \n",
    "\n",
    "\n",
    "def create_tables(train_data,clases):\n",
    "    labels=[]\n",
    "    preds=[]\n",
    "    filenames=[]\n",
    "    imags=[]\n",
    "    for d in train_data:\n",
    "        truth=[]\n",
    "        pred=[]\n",
    "        gt=d['ground_truth']\n",
    "        scores=d['scores']\n",
    "        d['filename']\n",
    "        for defecto in clases:\n",
    "            truth.append(gt[defecto])\n",
    "            pred.append(scores[defecto])\n",
    "        labels.append(truth)\n",
    "        preds.append(pred)\n",
    "        filenames.append(d['filename'])\n",
    "            \n",
    "    labels=torch.tensor(labels)\n",
    "    preds=torch.tensor(preds)\n",
    "\n",
    "    return preds,labels,filenames\n",
    "\n",
    "\n",
    "with open(train_results_json, \"r\") as f:\n",
    "    train_dict = json.load(f)\n",
    "\n",
    "with open(val_results_json, \"r\") as f:\n",
    "    val_dict = json.load(f)    \n",
    "\n",
    "train_data=train_dict['train_results']\n",
    "val_data = val_dict['val_results']\n",
    "clases=list(train_dict['train_results'][0]['ground_truth'].keys())\n",
    "\n",
    "print(len(train_data))\n",
    "print(len(val_data))"
   ]
  },
  {
   "cell_type": "code",
   "execution_count": 3,
   "metadata": {
    "execution": {
     "iopub.execute_input": "2024-12-12T09:13:50.429913Z",
     "iopub.status.busy": "2024-12-12T09:13:50.429762Z",
     "iopub.status.idle": "2024-12-12T09:13:50.442593Z",
     "shell.execute_reply": "2024-12-12T09:13:50.442203Z"
    }
   },
   "outputs": [
    {
     "name": "stdout",
     "output_type": "stream",
     "text": [
      "1050\n"
     ]
    }
   ],
   "source": [
    "preds_train,labels_train,filenames_train=create_tables(train_data,clases)\n",
    "preds_val,labels_val,filenames_val=create_tables(val_data,clases)\n",
    "print(len(filenames_train))"
   ]
  },
  {
   "cell_type": "markdown",
   "metadata": {},
   "source": [
    "# Cantidad de Vistas de con cada defecto"
   ]
  },
  {
   "cell_type": "code",
   "execution_count": 4,
   "metadata": {
    "execution": {
     "iopub.execute_input": "2024-12-12T09:13:50.443887Z",
     "iopub.status.busy": "2024-12-12T09:13:50.443748Z",
     "iopub.status.idle": "2024-12-12T09:13:50.447987Z",
     "shell.execute_reply": "2024-12-12T09:13:50.447585Z"
    }
   },
   "outputs": [
    {
     "name": "stdout",
     "output_type": "stream",
     "text": [
      "==========================================\n",
      "  ** VAL **\n",
      "==========================================\n",
      "green : 20\n",
      "hollow : 11\n",
      "light_scars : 30\n",
      "oil_spots : 17\n",
      "plu_stickers : 10\n",
      "rotten : 17\n",
      "scars : 19\n",
      "skin_breakdown : 18\n",
      "surface : 82\n",
      "N sin defectos: 104\n",
      "N total: 277\n",
      "\n",
      "==========================================\n",
      "  ** TRAIN **\n",
      "==========================================\n",
      "green : 104\n",
      "hollow : 33\n",
      "light_scars : 119\n",
      "oil_spots : 75\n",
      "plu_stickers : 32\n",
      "rotten : 109\n",
      "scars : 100\n",
      "skin_breakdown : 97\n",
      "surface : 287\n",
      "N sin defectos: 331\n",
      "N total: 1050\n"
     ]
    }
   ],
   "source": [
    "print(\"==========================================\")\n",
    "print(\"  ** VAL **\")\n",
    "print(\"==========================================\")\n",
    "\n",
    "n_por_defecto=labels_val.sum(dim=0)\n",
    "for k in range(len(clases)):\n",
    "    print(f'{clases[k]} : {int(n_por_defecto[k].item())}')\n",
    "\n",
    "k=labels_val.sum(dim=1)\n",
    "\n",
    "nbuenos=torch.sum(k==0)\n",
    "print(\"N sin defectos:\",nbuenos.item())\n",
    "print(\"N total:\",labels_val.shape[0])\n",
    "\n",
    "print(\"\\n==========================================\")\n",
    "print(\"  ** TRAIN **\")\n",
    "print(\"==========================================\")\n",
    "\n",
    "n_por_defecto=labels_train.sum(dim=0)\n",
    "for k in range(len(clases)):\n",
    "    print(f'{clases[k]} : {int(n_por_defecto[k].item())}')\n",
    "\n",
    "k=labels_train.sum(dim=1)\n",
    "\n",
    "nbuenos=torch.sum(k==0)\n",
    "print(\"N sin defectos:\",nbuenos.item())\n",
    "print(\"N total:\",labels_train.shape[0])"
   ]
  },
  {
   "cell_type": "markdown",
   "metadata": {},
   "source": [
    "# Análisis AUROC por categorías por vistas"
   ]
  },
  {
   "cell_type": "code",
   "execution_count": 5,
   "metadata": {
    "execution": {
     "iopub.execute_input": "2024-12-12T09:13:50.449349Z",
     "iopub.status.busy": "2024-12-12T09:13:50.449249Z",
     "iopub.status.idle": "2024-12-12T09:13:50.454883Z",
     "shell.execute_reply": "2024-12-12T09:13:50.454650Z"
    }
   },
   "outputs": [
    {
     "name": "stdout",
     "output_type": "stream",
     "text": [
      "AUC-val(green) : 0.996\n",
      "AUC-val(hollow) : 0.992\n",
      "AUC-val(light_scars) : 0.972\n",
      "AUC-val(oil_spots) : 0.982\n",
      "AUC-val(plu_stickers) : 1.000\n",
      "AUC-val(rotten) : 0.955\n",
      "AUC-val(scars) : 0.977\n",
      "AUC-val(skin_breakdown) : 0.946\n",
      "AUC-val(surface) : 0.966\n"
     ]
    }
   ],
   "source": [
    "f_auroc=AUROC(task='multilabel',num_labels=len(clases),average='none')\n",
    "res=f_auroc(preds_val,labels_val.int())\n",
    "res=res.tolist()\n",
    "\n",
    "aucs={}\n",
    "for c,auc in zip(clases,res):\n",
    "    aucs[c]=auc\n",
    "    print(f'AUC-val({c}) : {auc:.3f}')\n"
   ]
  },
  {
   "cell_type": "code",
   "execution_count": 7,
   "metadata": {},
   "outputs": [
    {
     "data": {
      "text/plain": [
       "['data/mandarins/clementine/KDC/20220808_154231_Img_20220808_154156produccionClementina/20250218_1153_002399.npz',\n",
       " 'data/mandarins/clementine/KDC/20220808_154231_Img_20220808_154156produccionClementina/20250218_1153_000569.npz',\n",
       " 'data/mandarins/clementine/KDC/20220808_154231_Img_20220808_154156produccionClementina/20250218_1154_000577.npz']"
      ]
     },
     "execution_count": 7,
     "metadata": {},
     "output_type": "execute_result"
    }
   ],
   "source": [
    "# Juntarlo todo\n",
    "# preds_train,labels_train,filenames_train,imags_train\n",
    "# preds_val,labels_val,filenames_val,imags_val\n",
    "\n",
    "preds_all=np.concatenate((preds_train,preds_val),axis=0)\n",
    "labels_all=np.concatenate((labels_train,labels_val),axis=0)\n",
    "filenames_all=filenames_train+filenames_val\n",
    "filenames_all[:3]"
   ]
  },
  {
   "cell_type": "code",
   "execution_count": 15,
   "metadata": {},
   "outputs": [
    {
     "name": "stdout",
     "output_type": "stream",
     "text": [
      "(1327, 9) (1327, 9)\n",
      "torch.Size([1327, 9]) torch.Size([1327, 9])\n",
      "torch.Size([1327, 9])\n",
      "Defectuosidad minima=  0.36539194\n",
      "Numpages= 151\n",
      "(2035, 190, 3)\n",
      "(3025, 270, 3)\n",
      "(2233, 202, 3)\n",
      "(2057, 190, 3)\n",
      "(1145, 220, 3)\n",
      "(1768, 228, 3)\n",
      "(2167, 210, 3)\n",
      "(668, 176, 3)\n",
      "(1115, 218, 3)\n",
      "(2739, 252, 3)\n",
      "(3091, 282, 3)\n",
      "(2233, 212, 3)\n",
      "(2783, 246, 3)\n",
      "(1969, 180, 3)\n",
      "(2981, 274, 3)\n",
      "(2101, 192, 3)\n",
      "(2365, 212, 3)\n",
      "(555, 186, 3)\n",
      "(2255, 204, 3)\n",
      "(2387, 216, 3)\n",
      "(2321, 204, 3)\n",
      "(2343, 212, 3)\n",
      "(2255, 202, 3)\n",
      "(2475, 216, 3)\n",
      "(2717, 260, 3)\n",
      "(1384, 178, 3)\n",
      "(1012, 254, 3)\n",
      "(2079, 192, 3)\n",
      "(2079, 180, 3)\n",
      "(2255, 186, 3)\n",
      "(2233, 206, 3)\n",
      "(2343, 222, 3)\n",
      "(2145, 168, 3)\n",
      "(1784, 230, 3)\n",
      "(2145, 188, 3)\n",
      "(1930, 192, 3)\n",
      "(2043, 224, 3)\n",
      "(1384, 180, 3)\n",
      "(2321, 210, 3)\n",
      "(2101, 194, 3)\n",
      "(3267, 272, 3)\n",
      "(2321, 210, 3)\n",
      "(804, 200, 3)\n",
      "(1969, 206, 3)\n",
      "(2123, 200, 3)\n",
      "(2607, 234, 3)\n",
      "(955, 188, 3)\n",
      "(2761, 240, 3)\n",
      "(1837, 164, 3)\n",
      "(3223, 266, 3)\n",
      "(2167, 200, 3)\n",
      "(2145, 198, 3)\n",
      "(2057, 188, 3)\n",
      "(2255, 212, 3)\n",
      "(1115, 230, 3)\n",
      "(2299, 208, 3)\n",
      "(2321, 210, 3)\n",
      "(3091, 274, 3)\n",
      "(1393, 198, 3)\n",
      "(2662, 252, 3)\n",
      "(2277, 214, 3)\n",
      "(2299, 208, 3)\n",
      "(2321, 204, 3)\n",
      "(3091, 274, 3)\n",
      "(2497, 272, 3)\n",
      "(2893, 260, 3)\n",
      "(1267, 186, 3)\n",
      "(1025, 200, 3)\n",
      "(2101, 194, 3)\n",
      "(2145, 204, 3)\n",
      "(789, 288, 3)\n",
      "(2409, 226, 3)\n",
      "(2123, 184, 3)\n",
      "(2519, 242, 3)\n",
      "(2189, 204, 3)\n",
      "(1480, 194, 3)\n",
      "(2255, 202, 3)\n",
      "(2123, 192, 3)\n",
      "(2893, 272, 3)\n",
      "(2365, 210, 3)\n",
      "(1845, 216, 3)\n",
      "(2070, 202, 3)\n",
      "(2145, 194, 3)\n",
      "(2189, 198, 3)\n",
      "(2299, 212, 3)\n",
      "(639, 224, 3)\n",
      "(1464, 194, 3)\n",
      "(2849, 268, 3)\n",
      "(2233, 200, 3)\n",
      "(2409, 224, 3)\n",
      "(2295, 252, 3)\n",
      "(2365, 218, 3)\n",
      "(2013, 184, 3)\n",
      "(2299, 208, 3)\n",
      "(1477, 198, 3)\n",
      "(2090, 198, 3)\n",
      "(1449, 204, 3)\n",
      "(2211, 204, 3)\n",
      "(1870, 186, 3)\n",
      "(3003, 280, 3)\n",
      "(318, 190, 3)\n",
      "(2123, 200, 3)\n",
      "(2101, 194, 3)\n",
      "(1400, 168, 3)\n",
      "(2959, 284, 3)\n",
      "(2365, 218, 3)\n",
      "(2079, 186, 3)\n",
      "(2310, 230, 3)\n",
      "(2299, 204, 3)\n",
      "(2057, 194, 3)\n",
      "(2035, 192, 3)\n",
      "(3047, 268, 3)\n",
      "(2959, 282, 3)\n",
      "(2211, 204, 3)\n",
      "(1911, 280, 3)\n",
      "(2101, 202, 3)\n",
      "(1304, 158, 3)\n",
      "(2321, 208, 3)\n",
      "(2431, 218, 3)\n",
      "(2145, 192, 3)\n",
      "(1950, 196, 3)\n",
      "(1991, 174, 3)\n",
      "(2981, 286, 3)\n",
      "(3179, 276, 3)\n",
      "(2937, 292, 3)\n",
      "(2189, 206, 3)\n",
      "(2123, 202, 3)\n",
      "(2519, 226, 3)\n",
      "(2101, 196, 3)\n",
      "(1991, 178, 3)\n",
      "(3003, 276, 3)\n",
      "(2079, 192, 3)\n",
      "(2403, 282, 3)\n",
      "(2717, 234, 3)\n",
      "(2232, 270, 3)\n",
      "(1859, 178, 3)\n",
      "(2150, 202, 3)\n",
      "(2010, 194, 3)\n",
      "(1755, 196, 3)\n",
      "(2189, 198, 3)\n",
      "(2189, 204, 3)\n",
      "(724, 190, 3)\n",
      "(1969, 190, 3)\n",
      "(1815, 170, 3)\n",
      "(2475, 226, 3)\n",
      "(2189, 202, 3)\n",
      "(2893, 234, 3)\n",
      "(2475, 218, 3)\n",
      "(1925, 178, 3)\n",
      "(1398, 254, 3)\n",
      "(1727, 162, 3)\n"
     ]
    }
   ],
   "source": [
    "import cv2\n",
    "from matplotlib.backends.backend_pdf import PdfPages\n",
    "\n",
    "bce=torch.nn.BCELoss(reduction='none')\n",
    "print(preds_all.shape,labels_all.shape)\n",
    "\n",
    "pred_tensor=torch.tensor(preds_all)\n",
    "label_tensor=torch.tensor(labels_all)\n",
    "print(pred_tensor.shape,label_tensor.shape)\n",
    "\n",
    "loss=bce(torch.tensor(preds_all[:,:]),torch.tensor(labels_all[:,:]).float())\n",
    "print(loss.shape)\n",
    "loss=loss.mean(axis=1).numpy()\n",
    "\n",
    "idx_sort=np.argsort(loss)[::-1]\n",
    "\n",
    "\n",
    "\n",
    "nombres_cortos=[c[:6] for c in clases]\n",
    "\n",
    "numpaginas=150\n",
    "umbral_defectuosidad = 0.1\n",
    "defectuosidad=loss\n",
    "\n",
    "\n",
    "selected_files=[]\n",
    "selected_preds=[]\n",
    "selected_labels=[]\n",
    "selected_imags=[]\n",
    "\n",
    "selected_basenames=[]\n",
    "selected_defectuosidad=[]\n",
    "\n",
    "\n",
    "\n",
    "for i in range(len(idx_sort)):\n",
    "    \n",
    "        idx=idx_sort[i]\n",
    "        if i > numpaginas or defectuosidad[idx] < umbral_defectuosidad:\n",
    "            break     \n",
    "        filename=filenames_all[idx]\n",
    "        pred=preds_all[idx]\n",
    "        lab=labels_all[idx]\n",
    "        \n",
    "        selected_files.append(filename)\n",
    "        selected_preds.append(pred)\n",
    "        selected_labels.append(lab)\n",
    "        \n",
    "        basename=os.path.basename(filename)\n",
    "        selected_basenames.append(basename)\n",
    "        selected_defectuosidad.append(defectuosidad[idx])\n",
    "        \n",
    "print(\"Defectuosidad minima= \",min(selected_defectuosidad))\n",
    "print(\"Numpages=\",len(selected_files))        \n",
    "        \n",
    "with PdfPages('bce_fruit_sort_defect.pdf') as pdf :\n",
    "    for idx in range(len(selected_defectuosidad)): # Estos están ordenados por defectuosidad\n",
    "        \n",
    "        filename=selected_files[idx]\n",
    "        pred=selected_preds[idx]\n",
    "        lab=selected_labels[idx]\n",
    "        fig, axes=plt.subplots(1,2,gridspec_kw={'width_ratios': [1, 2]})\n",
    "        pos = axes[0].get_position()\n",
    "        axes[0].set_position([pos.x0, pos.y0, pos.width, pos.height * 0.6])\n",
    "        axes[0].bar(nombres_cortos,lab)\n",
    "        axes[0].bar(nombres_cortos,pred)\n",
    "\n",
    "        \n",
    "        axes[0].tick_params(axis='x',rotation=90)\n",
    "        axes[0].set_ylim([0,1])\n",
    "\n",
    "        imagen_name=filename.replace(\"npz\",\"png\")\n",
    "        imagen_name=os.path.join(\"..\",imagen_name)\n",
    "        imagen=cv2.imread(imagen_name)\n",
    "        imagen=cv2.cvtColor(imagen, cv2.COLOR_BGR2RGB)\n",
    "        width=imagen.shape[1]\n",
    "        imagen=imagen[:,:width//10,:]\n",
    "        print(imagen.shape)\n",
    "        axes[1].imshow(imagen)\n",
    "        #axes[1].imshow(selected_imags[idx])\n",
    "        axes[1].axis('off')\n",
    "        axes[1].set_title(f'{selected_basenames[idx]} - {selected_defectuosidad[idx]:.3f}')\n",
    "        \n",
    "        \n",
    "        pdf.savefig(fig)\n",
    "        plt.close(fig)\n",
    "   \n",
    "        \n",
    "idx_sort2=np.argsort(selected_basenames)\n",
    "        \n",
    "\n",
    "with PdfPages('bce_fruit_alph.pdf') as pdf :\n",
    "    for i in range(len(idx_sort2)):\n",
    "        idx=idx_sort2[i]\n",
    "        filename=selected_files[idx]\n",
    "        pred=selected_preds[idx]\n",
    "        lab=selected_labels[idx]\n",
    "        fig, axes=plt.subplots(1,2,gridspec_kw={'width_ratios': [1, 2]})\n",
    "        pos = axes[0].get_position()\n",
    "        axes[0].set_position([pos.x0, pos.y0, pos.width, pos.height * 0.6])\n",
    "        axes[0].bar(nombres_cortos,lab)\n",
    "        axes[0].bar(nombres_cortos,pred)\n",
    "\n",
    "        \n",
    "        axes[0].tick_params(axis='x',rotation=90)\n",
    "        axes[0].set_ylim([0,1])\n",
    "        imagen_name=filename.replace(\"npz\",\"png\")\n",
    "        imagen_name=os.path.join(\"..\",imagen_name)\n",
    "        imagen=cv2.imread(imagen_name)\n",
    "        imagen=cv2.cvtColor(imagen, cv2.COLOR_BGR2RGB)\n",
    "        width=imagen.shape[1]\n",
    "        imagen=imagen[:,:width//10,:]\n",
    "        axes[1].imshow(imagen)\n",
    "\n",
    "        #axes[1].imshow(selected_imags[idx])\n",
    "        axes[1].axis('off')\n",
    "        axes[1].set_title(f'{selected_basenames[idx]} - {selected_defectuosidad[idx]:.3f}')\n",
    "        \n",
    "        \n",
    "        pdf.savefig(fig)\n",
    "        plt.close(fig)\n"
   ]
  },
  {
   "cell_type": "code",
   "execution_count": 21,
   "metadata": {},
   "outputs": [
    {
     "name": "stdout",
     "output_type": "stream",
     "text": [
      "151\n",
      "['data/mandarins/nardocot/manfredi/20250220_1244_000149.npz', 'data/oranges/navel/manfredi/20250224_1413_000281.npz', 'data/mandarins/nardocot/manfredi/20250220_1200_000049.npz', 'data/mandarins/nardocot/manfredi/20250220_1321_002228.npz', 'data/mandarins/nardocot/manfredi/20250220_1325_002277.npz']\n",
      "151\n",
      "['data/mandarins/clementine/KDC/20220803_230703_CLEMENTINE_Encoder_rot/20250217_1641_000002.npz', 'data/mandarins/clementine/KDC/20220803_230703_CLEMENTINE_Encoder_rot/20250217_1641_000008.npz', 'data/mandarins/clementine/KDC/20220803_230825_CLEMENTINE_Encoder_Geens/20250217_1651_002014.npz', 'data/mandarins/clementine/KDC/20220803_230825_CLEMENTINE_Encoder_Geens/20250217_1651_002016.npz', 'data/mandarins/clementine/KDC/20220803_230921_CLEMENTINE_Encoder_OilSpots/20250217_1706_000028.npz']\n",
      "['data/mandarins/clementine/KDC/20220803_230703_CLEMENTINE_Encoder_rot/20250217_1641_000002.png', 'data/mandarins/clementine/KDC/20220803_230703_CLEMENTINE_Encoder_rot/20250217_1641_000008.png', 'data/mandarins/clementine/KDC/20220803_230825_CLEMENTINE_Encoder_Geens/20250217_1651_002014.png', 'data/mandarins/clementine/KDC/20220803_230825_CLEMENTINE_Encoder_Geens/20250217_1651_002016.png', 'data/mandarins/clementine/KDC/20220803_230921_CLEMENTINE_Encoder_OilSpots/20250217_1706_000028.png']\n"
     ]
    }
   ],
   "source": [
    "print(len(selected_basenames))\n",
    "\n",
    "print(selected_files[:5])\n",
    "lista_selected_jsons=list(set(selected_files))\n",
    "lista_selected_jsons.sort()\n",
    "print(len(lista_selected_jsons))\n",
    "print(lista_selected_jsons[:5])\n",
    "\n",
    "lista_pngs=[f.replace(\".npz\",\".png\") for f in lista_selected_jsons]\n",
    "\n",
    "print(lista_pngs[:5])\n"
   ]
  },
  {
   "cell_type": "code",
   "execution_count": 19,
   "metadata": {},
   "outputs": [
    {
     "name": "stdout",
     "output_type": "stream",
     "text": [
      "[0.32931084 0.37355088 0.40855338 0.44022139 0.48834316]\n"
     ]
    },
    {
     "data": {
      "image/png": "[encoded data removed]",
      "text/plain": [
       "<Figure size 640x480 with 1 Axes>"
      ]
     },
     "metadata": {},
     "output_type": "display_data"
    }
   ],
   "source": [
    "sorted_defectuosidad=np.sort(defectuosidad)[::-1]\n",
    "\n",
    "\n",
    "_=plt.plot(sorted_defectuosidad)\n",
    "#_=plt.xlim([0,2000])\n",
    "_=plt.grid()\n",
    "_=plt.title(\"Cross-entropy pred-gt de vistas\")\n",
    "_=plt.plot(150,sorted_defectuosidad[150],'ro')\n",
    "\n",
    "print(np.percentile(sorted_defectuosidad,[80, 90,95,97,99]))"
   ]
  },
  {
   "cell_type": "code",
   "execution_count": 22,
   "metadata": {},
   "outputs": [],
   "source": [
    "# Copiar los pngs a un directorio\n",
    "import shutil\n",
    "\n",
    "target_dir='/home/aalbiol/Desktop/reanot2_results/imags_f'\n",
    "\n",
    "for png in lista_pngs:\n",
    "    pngrel=os.path.join(\"../\",png)\n",
    "    jsonrel=pngrel.replace(\".png\",\".json\")\n",
    "    shutil.copy(pngrel,target_dir)\n",
    "    shutil.copy(jsonrel,target_dir)"
   ]
  },
  {
   "cell_type": "code",
   "execution_count": null,
   "metadata": {},
   "outputs": [],
   "source": []
  }
 ],
 "metadata": {
  "kernelspec": {
   "display_name": "mscandvc",
   "language": "python",
   "name": "python3"
  },
  "language_info": {
   "codemirror_mode": {
    "name": "ipython",
    "version": 3
   },
   "file_extension": ".py",
   "mimetype": "text/x-python",
   "name": "python",
   "nbconvert_exporter": "python",
   "pygments_lexer": "ipython3",
   "version": "3.12.0"
  }
 },
 "nbformat": 4,
 "nbformat_minor": 2
}
